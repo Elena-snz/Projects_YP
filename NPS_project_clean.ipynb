{
 "cells": [
  {
   "cell_type": "markdown",
   "id": "3c20401c",
   "metadata": {},
   "source": [
    "### Описание проекта\n",
    "\n",
    "**Тема:** Исследование уровня NPS для телекоммуникационной компании\n",
    "\n",
    "**Описание:**\n",
    "\n",
    "NPS - это индекс потребительской лояльности. Он показывает, насколько клиенты довольны услугами компании. Чем индекс выше, тем больше повторных покупок и обращений по рекомендациям.\n",
    "\n",
    "Чтобы определить уровень лояльности, клиентам задают классический вопрос: «Оцените по шкале от 1 до 10 вероятность того, что вы порекомендуете компанию друзьям и знакомым». \n",
    "\n",
    "В зависимости от оценки респонденты распределяются по трём категориям:\n",
    "\n",
    "    9-10 баллов — «cторонники» (англ. promoters);\n",
    "    7-8 баллов — «нейтралы» (англ. passives);\n",
    "    0-6 баллов — «критики» (англ. detractors).\n",
    "    \n",
    "Итоговое значение NPS рассчитывается по формуле: % «сторонников» - % «критиков».\n",
    "\n",
    "**Данные:** \n",
    "\n",
    "    * таблица user - содержит основную информацию о клиентах\n",
    "    * таблица location - справочник территорий, в которых телеком-компания оказывает услуги\n",
    "    * таблица age_segment - данные о возрастных сегментах клиентов\n",
    "    * таблица traffic_segment - данные о выделяемых сегментах по объему потребляемого трафика\n",
    "    * таблица lifetime_segment - данные о выделяемых сегментах по количеству месяцев \"жизни\" клиента\n",
    "   \n",
    "**Ход работы:**\n",
    "\n",
    "Создам csv-файл со следующей информацией:\n",
    "\n",
    "    - идетификатор клеинта\n",
    "    - количество дней \"жизни\" клиента\n",
    "    - новый/старый клиент\n",
    "    - возраст\n",
    "    - пол\n",
    "    - тип операционной системы\n",
    "    - тип устройства\n",
    "    - страна проживания\n",
    "    - город проживания\n",
    "    - возрастной сегмент\n",
    "    - сегмент по объему потребляемого трафика\n",
    "    - сегмент по количеству месяцев \"жизни\"\n",
    "    - оценка клиента в NPS-опросе\n",
    "    - группа клиента (сторонники, нейтралы, критики)\n",
    "\n",
    "В программе Tableau создам дашборд с информацией о текущем уровне NPS среди клиентов в зависимости от пользовательских признаков.\n",
    "\n",
    "Подготовлю презентацию с выводами.\n",
    "\n",
    "Опишу типичного клиента среди сторонников."
   ]
  },
  {
   "cell_type": "code",
   "execution_count": 1,
   "id": "fc7efa54",
   "metadata": {},
   "outputs": [],
   "source": [
    "import os\n",
    "import pandas as pd\n",
    "import numpy as np\n",
    "\n",
    "from sqlalchemy import create_engine"
   ]
  },
  {
   "cell_type": "code",
   "execution_count": 2,
   "id": "0017f8e7",
   "metadata": {},
   "outputs": [],
   "source": [
    "path_to_db_local = 'telecomm_csi.db'\n",
    "path_to_db_platform = '/datasets/telecomm_csi.db'\n",
    "path_to_db = None\n",
    "\n",
    "if os.path.exists(path_to_db_local):\n",
    "    path_to_db = path_to_db_local\n",
    "elif os.path.exists(path_to_db_platform):\n",
    "    path_to_db = path_to_db_platform\n",
    "else:\n",
    "    raise Exception('Файл с базой данных SQLite не найден!')\n",
    "\n",
    "if path_to_db:\n",
    "    engine = create_engine(f'sqlite:///{path_to_db}', echo=False)"
   ]
  },
  {
   "cell_type": "code",
   "execution_count": 3,
   "id": "84ebad43",
   "metadata": {},
   "outputs": [],
   "source": [
    "query = \"\"\"\n",
    "SELECT u.user_id, \n",
    "       u.lt_day,\n",
    "       CASE\n",
    "           WHEN u.lt_day <= 365 THEN 'new'\n",
    "           ELSE 'old'\n",
    "       END AS is_new,\n",
    "       u.age,\n",
    "       CASE \n",
    "           WHEN u.gender_segment = 1 THEN 'женщина'\n",
    "           WHEN u.gender_segment = 0 THEN 'мужчина'\n",
    "       END AS gender_segment,\n",
    "       u.os_name,\n",
    "       u.cpe_type_name,\n",
    "       l.country,\n",
    "       l.city,\n",
    "       SUBSTRING(a_s.title,3) AS age_segment,\n",
    "       SUBSTRING(t_s.title,3) AS traffic_segment,\n",
    "       SUBSTRING(l_s.title,3) AS lifetime_segment,\n",
    "       u.nps_score,\n",
    "       CASE\n",
    "           WHEN u.nps_score BETWEEN 9 AND 10 THEN 'Сторонники'\n",
    "           WHEN u.nps_score BETWEEN 7 AND 8 THEN 'Нейтралы'\n",
    "           WHEN u.nps_score BETWEEN 0 AND 6 THEN 'Критики'\n",
    "       END AS nps_group\n",
    "FROM user AS u\n",
    "INNER JOIN location AS l ON u.location_id=l.location_id \n",
    "INNER JOIN age_segment AS a_s ON u.age_gr_id=a_s.age_gr_id\n",
    "INNER JOIN traffic_segment AS t_s ON u.tr_gr_id=t_s.tr_gr_id\n",
    "INNER JOIN lifetime_segment AS l_s ON u.lt_gr_id=l_s.lt_gr_id\n",
    "\"\"\""
   ]
  },
  {
   "cell_type": "code",
   "execution_count": 4,
   "id": "3965faf2",
   "metadata": {},
   "outputs": [
    {
     "data": {
      "text/html": [
       "<div>\n",
       "<style scoped>\n",
       "    .dataframe tbody tr th:only-of-type {\n",
       "        vertical-align: middle;\n",
       "    }\n",
       "\n",
       "    .dataframe tbody tr th {\n",
       "        vertical-align: top;\n",
       "    }\n",
       "\n",
       "    .dataframe thead th {\n",
       "        text-align: right;\n",
       "    }\n",
       "</style>\n",
       "<table border=\"1\" class=\"dataframe\">\n",
       "  <thead>\n",
       "    <tr style=\"text-align: right;\">\n",
       "      <th></th>\n",
       "      <th>user_id</th>\n",
       "      <th>lt_day</th>\n",
       "      <th>is_new</th>\n",
       "      <th>age</th>\n",
       "      <th>gender_segment</th>\n",
       "      <th>os_name</th>\n",
       "      <th>cpe_type_name</th>\n",
       "      <th>country</th>\n",
       "      <th>city</th>\n",
       "      <th>age_segment</th>\n",
       "      <th>traffic_segment</th>\n",
       "      <th>lifetime_segment</th>\n",
       "      <th>nps_score</th>\n",
       "      <th>nps_group</th>\n",
       "    </tr>\n",
       "  </thead>\n",
       "  <tbody>\n",
       "    <tr>\n",
       "      <th>0</th>\n",
       "      <td>A001A2</td>\n",
       "      <td>2320</td>\n",
       "      <td>old</td>\n",
       "      <td>45.0</td>\n",
       "      <td>женщина</td>\n",
       "      <td>ANDROID</td>\n",
       "      <td>SMARTPHONE</td>\n",
       "      <td>Россия</td>\n",
       "      <td>Уфа</td>\n",
       "      <td>45-54</td>\n",
       "      <td>1-5</td>\n",
       "      <td>36+</td>\n",
       "      <td>10</td>\n",
       "      <td>Сторонники</td>\n",
       "    </tr>\n",
       "    <tr>\n",
       "      <th>1</th>\n",
       "      <td>A001WF</td>\n",
       "      <td>2344</td>\n",
       "      <td>old</td>\n",
       "      <td>53.0</td>\n",
       "      <td>мужчина</td>\n",
       "      <td>ANDROID</td>\n",
       "      <td>SMARTPHONE</td>\n",
       "      <td>Россия</td>\n",
       "      <td>Киров</td>\n",
       "      <td>45-54</td>\n",
       "      <td>1-5</td>\n",
       "      <td>36+</td>\n",
       "      <td>10</td>\n",
       "      <td>Сторонники</td>\n",
       "    </tr>\n",
       "    <tr>\n",
       "      <th>2</th>\n",
       "      <td>A003Q7</td>\n",
       "      <td>467</td>\n",
       "      <td>old</td>\n",
       "      <td>57.0</td>\n",
       "      <td>мужчина</td>\n",
       "      <td>ANDROID</td>\n",
       "      <td>SMARTPHONE</td>\n",
       "      <td>Россия</td>\n",
       "      <td>Москва</td>\n",
       "      <td>55-64</td>\n",
       "      <td>20-25</td>\n",
       "      <td>13-24</td>\n",
       "      <td>10</td>\n",
       "      <td>Сторонники</td>\n",
       "    </tr>\n",
       "    <tr>\n",
       "      <th>3</th>\n",
       "      <td>A004TB</td>\n",
       "      <td>4190</td>\n",
       "      <td>old</td>\n",
       "      <td>44.0</td>\n",
       "      <td>женщина</td>\n",
       "      <td>IOS</td>\n",
       "      <td>SMARTPHONE</td>\n",
       "      <td>Россия</td>\n",
       "      <td>РостовнаДону</td>\n",
       "      <td>35-44</td>\n",
       "      <td>0.1-1</td>\n",
       "      <td>36+</td>\n",
       "      <td>10</td>\n",
       "      <td>Сторонники</td>\n",
       "    </tr>\n",
       "    <tr>\n",
       "      <th>4</th>\n",
       "      <td>A004XT</td>\n",
       "      <td>1163</td>\n",
       "      <td>old</td>\n",
       "      <td>24.0</td>\n",
       "      <td>мужчина</td>\n",
       "      <td>ANDROID</td>\n",
       "      <td>SMARTPHONE</td>\n",
       "      <td>Россия</td>\n",
       "      <td>Рязань</td>\n",
       "      <td>16-24</td>\n",
       "      <td>5-10</td>\n",
       "      <td>36+</td>\n",
       "      <td>10</td>\n",
       "      <td>Сторонники</td>\n",
       "    </tr>\n",
       "    <tr>\n",
       "      <th>5</th>\n",
       "      <td>A005O0</td>\n",
       "      <td>5501</td>\n",
       "      <td>old</td>\n",
       "      <td>42.0</td>\n",
       "      <td>женщина</td>\n",
       "      <td>ANDROID</td>\n",
       "      <td>SMARTPHONE</td>\n",
       "      <td>Россия</td>\n",
       "      <td>Омск</td>\n",
       "      <td>35-44</td>\n",
       "      <td>5-10</td>\n",
       "      <td>36+</td>\n",
       "      <td>6</td>\n",
       "      <td>Критики</td>\n",
       "    </tr>\n",
       "    <tr>\n",
       "      <th>6</th>\n",
       "      <td>A0061R</td>\n",
       "      <td>1236</td>\n",
       "      <td>old</td>\n",
       "      <td>45.0</td>\n",
       "      <td>мужчина</td>\n",
       "      <td>ANDROID</td>\n",
       "      <td>SMARTPHONE</td>\n",
       "      <td>Россия</td>\n",
       "      <td>Уфа</td>\n",
       "      <td>45-54</td>\n",
       "      <td>10-15</td>\n",
       "      <td>36+</td>\n",
       "      <td>10</td>\n",
       "      <td>Сторонники</td>\n",
       "    </tr>\n",
       "    <tr>\n",
       "      <th>7</th>\n",
       "      <td>A009KS</td>\n",
       "      <td>313</td>\n",
       "      <td>new</td>\n",
       "      <td>35.0</td>\n",
       "      <td>мужчина</td>\n",
       "      <td>ANDROID</td>\n",
       "      <td>SMARTPHONE</td>\n",
       "      <td>Россия</td>\n",
       "      <td>Москва</td>\n",
       "      <td>35-44</td>\n",
       "      <td>45-50</td>\n",
       "      <td>7-12</td>\n",
       "      <td>10</td>\n",
       "      <td>Сторонники</td>\n",
       "    </tr>\n",
       "    <tr>\n",
       "      <th>8</th>\n",
       "      <td>A00AES</td>\n",
       "      <td>3238</td>\n",
       "      <td>old</td>\n",
       "      <td>36.0</td>\n",
       "      <td>женщина</td>\n",
       "      <td>ANDROID</td>\n",
       "      <td>SMARTPHONE</td>\n",
       "      <td>Россия</td>\n",
       "      <td>СанктПетербург</td>\n",
       "      <td>35-44</td>\n",
       "      <td>1-5</td>\n",
       "      <td>36+</td>\n",
       "      <td>10</td>\n",
       "      <td>Сторонники</td>\n",
       "    </tr>\n",
       "    <tr>\n",
       "      <th>9</th>\n",
       "      <td>A00F70</td>\n",
       "      <td>4479</td>\n",
       "      <td>old</td>\n",
       "      <td>54.0</td>\n",
       "      <td>женщина</td>\n",
       "      <td>ANDROID</td>\n",
       "      <td>SMARTPHONE</td>\n",
       "      <td>Россия</td>\n",
       "      <td>Волгоград</td>\n",
       "      <td>45-54</td>\n",
       "      <td>15-20</td>\n",
       "      <td>36+</td>\n",
       "      <td>9</td>\n",
       "      <td>Сторонники</td>\n",
       "    </tr>\n",
       "  </tbody>\n",
       "</table>\n",
       "</div>"
      ],
      "text/plain": [
       "  user_id  lt_day is_new   age gender_segment  os_name cpe_type_name country  \\\n",
       "0  A001A2    2320    old  45.0        женщина  ANDROID    SMARTPHONE  Россия   \n",
       "1  A001WF    2344    old  53.0        мужчина  ANDROID    SMARTPHONE  Россия   \n",
       "2  A003Q7     467    old  57.0        мужчина  ANDROID    SMARTPHONE  Россия   \n",
       "3  A004TB    4190    old  44.0        женщина      IOS    SMARTPHONE  Россия   \n",
       "4  A004XT    1163    old  24.0        мужчина  ANDROID    SMARTPHONE  Россия   \n",
       "5  A005O0    5501    old  42.0        женщина  ANDROID    SMARTPHONE  Россия   \n",
       "6  A0061R    1236    old  45.0        мужчина  ANDROID    SMARTPHONE  Россия   \n",
       "7  A009KS     313    new  35.0        мужчина  ANDROID    SMARTPHONE  Россия   \n",
       "8  A00AES    3238    old  36.0        женщина  ANDROID    SMARTPHONE  Россия   \n",
       "9  A00F70    4479    old  54.0        женщина  ANDROID    SMARTPHONE  Россия   \n",
       "\n",
       "             city age_segment traffic_segment lifetime_segment  nps_score  \\\n",
       "0             Уфа       45-54             1-5              36+         10   \n",
       "1           Киров       45-54             1-5              36+         10   \n",
       "2          Москва       55-64           20-25            13-24         10   \n",
       "3    РостовнаДону       35-44           0.1-1              36+         10   \n",
       "4          Рязань       16-24            5-10              36+         10   \n",
       "5            Омск       35-44            5-10              36+          6   \n",
       "6             Уфа       45-54           10-15              36+         10   \n",
       "7          Москва       35-44           45-50             7-12         10   \n",
       "8  СанктПетербург       35-44             1-5              36+         10   \n",
       "9       Волгоград       45-54           15-20              36+          9   \n",
       "\n",
       "    nps_group  \n",
       "0  Сторонники  \n",
       "1  Сторонники  \n",
       "2  Сторонники  \n",
       "3  Сторонники  \n",
       "4  Сторонники  \n",
       "5     Критики  \n",
       "6  Сторонники  \n",
       "7  Сторонники  \n",
       "8  Сторонники  \n",
       "9  Сторонники  "
      ]
     },
     "execution_count": 4,
     "metadata": {},
     "output_type": "execute_result"
    }
   ],
   "source": [
    "df = pd.read_sql(query, engine)\n",
    "df.head(10)"
   ]
  },
  {
   "cell_type": "code",
   "execution_count": null,
   "id": "9db04858",
   "metadata": {},
   "outputs": [],
   "source": [
    "df.to_csv('telecomm_csi_tableau.csv', index=False) # создание файла с датафреймом"
   ]
  },
  {
   "cell_type": "markdown",
   "id": "7ce6ca36",
   "metadata": {},
   "source": [
    "### ссылка на дашборд\n",
    "Ниже ссылка на дашборд \"Текущий уровень NPS\", ссылка на презентацию: \"Исследование уровня NPS\""
   ]
  },
  {
   "cell_type": "markdown",
   "id": "5a55a948",
   "metadata": {},
   "source": [
    "ССЫЛКА на дашборд: https://public.tableau.com/views/Project2_dashboard_04_07/NPS_6?:language=en-US&publish=yes&:sid=&:redirect=auth&:display_count=n&:origin=viz_share_link"
   ]
  },
  {
   "cell_type": "markdown",
   "id": "d2290f25",
   "metadata": {},
   "source": [
    "ОТДЕЛЬНАЯ ССЫЛКА на презентацию: https://public.tableau.com/views/Project2_story_04_07/NPS_7?:language=en-US&publish=yes&:sid=&:redirect=auth&:display_count=n&:origin=viz_share_link"
   ]
  },
  {
   "cell_type": "markdown",
   "id": "aaa9d4a2",
   "metadata": {},
   "source": [
    "### Общий вывод по исследованию:\n",
    "\n",
    "* общий уровень NPS равен 21,9%\n",
    "\n",
    "\n",
    "* всего опрошено чуть более 500 тысяч человек\n",
    "* к группе сторонников относится 52,5% респондентов\n",
    "* к группе критиков - 30,7% респондентов\n",
    "* \"старых\" пользователей подавляющее большинство - 83%, а \"новых\" - всего 17%\n",
    "* больше всего опрошеннных в Москве - 66160 человек. Более чем в два раза меньше опрошено в Санкт-Петербурге, Новосибирске, Екатеринбурге и Казани\n",
    "* женщин опрашивали чаще, чем мужчин, особенно это заметно в категории 45+.\n",
    "\n",
    "\n",
    "* Уровень NPS выше среди женщин (25,55%), чем среди мужчин (17.7%)\n",
    "* Среди женщин число сторонников - 55%, а критиков  - 30%\n",
    "* Среди мужчин число сторонников - 50%, а критиков - 32%\n",
    "* Среди сторонников женщин - 57%, а мужчин - 43%\n",
    "* Среди критиков женщин - 52%, а мужчин - 48%\n",
    "\n",
    "\n",
    "* Уровень NPS имеет отрицательное значение только в возрастной категории \"до 16 лет\", т.е. тут уровень критиков выше, чем сторонников\n",
    "* Во всех остальных возрастных категориях наблюдается рост уровня NPS с увеличением возраста респондентов\n",
    "* Наибольшее число сторонников в возрастной категории \"66+\" - 70% среди всех респондентов этого возраста\n",
    "* Наибольшее число критиков в возрастной категории \"до 16 лет\" - почти 41,2% критиков среди всех респондентов этого возраста\n",
    "* Среди всех опрошенных наибольшее число сторонников в возрастной категории \"35-44\" - 17,41%, наибольшее число критиков в категории \"25-34\" - почти 11%\n",
    "* Почти 36% всех критиков из возрастной категории \"25-34\"\n",
    "* 33% сторонников относятся к категории \"35-44\" \n",
    "\n",
    "\n",
    "* Уровень NPS выше среди новых клиентов (35,6% против 19%)\n",
    "* Среди сторонников старых клиентов 80,37%, новых клиентов - 19,63%\n",
    "* Среди критиков старых клиентов 86,25%, новых клиентов - 13,75%\n",
    "* Среди старых клиентов число сторонников почти 51%, а критиков - почти 32%\n",
    "* Среди новых клиентов число сторонников 60,22%, а критиков - 24,6%\n",
    "* Уровень NPS самый высокий среди клиентов, которые пользуются услугами компании всего 1 месяц - 56,5%. С каждым последующим месяцем пользования уровень NPS  неуклонно падает, достигая значения 15,75% среди тех, кто пользуется услугами более 36 месяцев.\n",
    "\n",
    "\n",
    "* Самый высокий уровень NPS в Москве.\n",
    "* В каждом конкретном городе число сторонников в районе 50%, а число критиков в районе 30%\n",
    "* Наибольшее число сторонников в Москве (56%) из всех опрошенных москвичей\n",
    "* Наибольшее число критиков в Челябинске (35%) из всех опрошенных челябинцев\n",
    "\n",
    "\n",
    "На основе проведенного опроса и представленных данных можно составить портрет типичного клиента, относящегося к группе сторонников компании:\n",
    "* это женщина\n",
    "* в возрасте от 35 лет\n",
    "* пользуется услугами первый месяц (но не более 1 года)\n",
    "* живет в Москве (или возможно в Ростове-на-Дону, Казани, Омске, Самаре или Санкт-Петербурге)"
   ]
  }
 ],
 "metadata": {
  "ExecuteTimeLog": [
   {
    "duration": 451,
    "start_time": "2024-07-01T03:41:43.465Z"
   },
   {
    "duration": 69,
    "start_time": "2024-07-01T03:41:45.255Z"
   },
   {
    "duration": 2,
    "start_time": "2024-07-01T03:41:50.488Z"
   },
   {
    "duration": 500,
    "start_time": "2024-07-01T03:41:53.721Z"
   },
   {
    "duration": 2,
    "start_time": "2024-07-01T03:42:47.768Z"
   },
   {
    "duration": 350,
    "start_time": "2024-07-01T03:42:48.751Z"
   },
   {
    "duration": 2,
    "start_time": "2024-07-01T03:44:16.317Z"
   },
   {
    "duration": 546,
    "start_time": "2024-07-01T03:44:22.294Z"
   },
   {
    "duration": 130,
    "start_time": "2024-07-01T03:44:34.277Z"
   },
   {
    "duration": 40,
    "start_time": "2024-07-01T03:46:47.379Z"
   },
   {
    "duration": 10,
    "start_time": "2024-07-01T03:46:56.818Z"
   },
   {
    "duration": 91,
    "start_time": "2024-07-01T03:47:13.108Z"
   },
   {
    "duration": 92,
    "start_time": "2024-07-01T03:53:48.225Z"
   },
   {
    "duration": 160,
    "start_time": "2024-07-01T03:54:45.845Z"
   },
   {
    "duration": 2,
    "start_time": "2024-07-01T03:56:09.677Z"
   },
   {
    "duration": 48,
    "start_time": "2024-07-01T03:56:10.519Z"
   },
   {
    "duration": 2,
    "start_time": "2024-07-01T03:56:11.614Z"
   },
   {
    "duration": 522,
    "start_time": "2024-07-01T03:56:13.138Z"
   },
   {
    "duration": 43,
    "start_time": "2024-07-01T03:56:16.106Z"
   },
   {
    "duration": 153,
    "start_time": "2024-07-01T03:56:49.835Z"
   },
   {
    "duration": 97,
    "start_time": "2024-07-01T03:58:45.631Z"
   },
   {
    "duration": 161,
    "start_time": "2024-07-01T03:59:31.140Z"
   },
   {
    "duration": 33,
    "start_time": "2024-07-01T04:01:45.257Z"
   },
   {
    "duration": 49,
    "start_time": "2024-07-01T04:02:12.769Z"
   },
   {
    "duration": 94,
    "start_time": "2024-07-01T04:03:09.106Z"
   },
   {
    "duration": 55,
    "start_time": "2024-07-01T04:15:26.761Z"
   },
   {
    "duration": 2,
    "start_time": "2024-07-01T04:15:30.158Z"
   },
   {
    "duration": 522,
    "start_time": "2024-07-01T04:15:31.884Z"
   },
   {
    "duration": 57,
    "start_time": "2024-07-01T04:15:45.219Z"
   },
   {
    "duration": 131,
    "start_time": "2024-07-01T04:16:17.115Z"
   },
   {
    "duration": 35,
    "start_time": "2024-07-01T04:17:16.757Z"
   },
   {
    "duration": 49,
    "start_time": "2024-07-01T04:18:49.006Z"
   },
   {
    "duration": 34,
    "start_time": "2024-07-01T04:19:15.142Z"
   },
   {
    "duration": 38,
    "start_time": "2024-07-01T04:19:59.269Z"
   },
   {
    "duration": 33,
    "start_time": "2024-07-01T04:21:18.991Z"
   },
   {
    "duration": 37,
    "start_time": "2024-07-01T04:21:38.222Z"
   },
   {
    "duration": 32,
    "start_time": "2024-07-01T04:21:48.038Z"
   },
   {
    "duration": 35,
    "start_time": "2024-07-01T04:21:57.084Z"
   },
   {
    "duration": 32,
    "start_time": "2024-07-01T04:22:09.382Z"
   },
   {
    "duration": 34,
    "start_time": "2024-07-01T04:22:27.136Z"
   },
   {
    "duration": 33,
    "start_time": "2024-07-01T04:22:46.263Z"
   },
   {
    "duration": 2,
    "start_time": "2024-07-01T04:24:00.373Z"
   },
   {
    "duration": 64,
    "start_time": "2024-07-01T04:25:58.937Z"
   },
   {
    "duration": 2,
    "start_time": "2024-07-01T04:26:02.592Z"
   },
   {
    "duration": 525,
    "start_time": "2024-07-01T04:26:05.833Z"
   },
   {
    "duration": 58,
    "start_time": "2024-07-01T04:26:14.051Z"
   },
   {
    "duration": 71,
    "start_time": "2024-07-01T04:27:23.336Z"
   },
   {
    "duration": 45,
    "start_time": "2024-07-01T04:36:23.082Z"
   },
   {
    "duration": 537,
    "start_time": "2024-07-01T04:39:19.675Z"
   },
   {
    "duration": 594,
    "start_time": "2024-07-01T04:39:52.380Z"
   },
   {
    "duration": 13,
    "start_time": "2024-07-01T04:40:16.778Z"
   },
   {
    "duration": 646,
    "start_time": "2024-07-01T04:40:28.572Z"
   },
   {
    "duration": 125,
    "start_time": "2024-07-01T04:41:52.232Z"
   },
   {
    "duration": 44,
    "start_time": "2024-07-01T04:42:20.491Z"
   },
   {
    "duration": 533,
    "start_time": "2024-07-01T06:54:59.501Z"
   },
   {
    "duration": 74,
    "start_time": "2024-07-01T06:55:00.768Z"
   },
   {
    "duration": 3,
    "start_time": "2024-07-01T06:55:02.898Z"
   },
   {
    "duration": 556,
    "start_time": "2024-07-01T06:55:03.868Z"
   },
   {
    "duration": 2,
    "start_time": "2024-07-01T06:55:06.883Z"
   },
   {
    "duration": 108,
    "start_time": "2024-07-01T06:55:48.804Z"
   },
   {
    "duration": 36,
    "start_time": "2024-07-01T06:55:59.400Z"
   },
   {
    "duration": 43,
    "start_time": "2024-07-01T06:56:11.057Z"
   },
   {
    "duration": 123,
    "start_time": "2024-07-01T06:57:00.844Z"
   },
   {
    "duration": 109,
    "start_time": "2024-07-01T06:57:37.618Z"
   },
   {
    "duration": 57,
    "start_time": "2024-07-01T07:01:16.037Z"
   },
   {
    "duration": 151,
    "start_time": "2024-07-01T07:04:27.526Z"
   },
   {
    "duration": 127,
    "start_time": "2024-07-01T07:04:56.931Z"
   },
   {
    "duration": 110,
    "start_time": "2024-07-01T07:05:20.216Z"
   },
   {
    "duration": 103,
    "start_time": "2024-07-01T07:05:38.246Z"
   },
   {
    "duration": 137,
    "start_time": "2024-07-01T07:06:01.205Z"
   },
   {
    "duration": 104,
    "start_time": "2024-07-01T07:06:12.088Z"
   },
   {
    "duration": 121,
    "start_time": "2024-07-01T07:06:31.263Z"
   },
   {
    "duration": 8,
    "start_time": "2024-07-01T07:09:19.992Z"
   },
   {
    "duration": 70,
    "start_time": "2024-07-01T07:09:43.595Z"
   },
   {
    "duration": 40,
    "start_time": "2024-07-01T07:10:05.612Z"
   },
   {
    "duration": 961,
    "start_time": "2024-07-01T07:10:20.778Z"
   },
   {
    "duration": 47,
    "start_time": "2024-07-01T07:10:37.128Z"
   },
   {
    "duration": 44,
    "start_time": "2024-07-01T07:10:58.413Z"
   },
   {
    "duration": 39,
    "start_time": "2024-07-01T07:11:28.094Z"
   },
   {
    "duration": 45,
    "start_time": "2024-07-01T07:11:39.730Z"
   },
   {
    "duration": 8,
    "start_time": "2024-07-01T07:13:44.480Z"
   },
   {
    "duration": 53,
    "start_time": "2024-07-01T07:13:54.797Z"
   },
   {
    "duration": 47,
    "start_time": "2024-07-01T07:14:55.273Z"
   },
   {
    "duration": 42,
    "start_time": "2024-07-01T07:15:27.853Z"
   },
   {
    "duration": 57,
    "start_time": "2024-07-01T07:29:52.300Z"
   },
   {
    "duration": 51,
    "start_time": "2024-07-01T07:31:53.979Z"
   },
   {
    "duration": 65,
    "start_time": "2024-07-01T07:40:58.731Z"
   },
   {
    "duration": 102,
    "start_time": "2024-07-01T07:56:29.220Z"
   },
   {
    "duration": 15,
    "start_time": "2024-07-01T07:56:39.309Z"
   },
   {
    "duration": 72,
    "start_time": "2024-07-01T07:56:54.879Z"
   },
   {
    "duration": 4,
    "start_time": "2024-07-01T08:09:51.823Z"
   },
   {
    "duration": 66,
    "start_time": "2024-07-01T08:09:53.221Z"
   },
   {
    "duration": 3,
    "start_time": "2024-07-01T08:09:55.451Z"
   },
   {
    "duration": 501,
    "start_time": "2024-07-01T08:10:02.068Z"
   },
   {
    "duration": 267,
    "start_time": "2024-07-01T08:10:09.113Z"
   },
   {
    "duration": 445,
    "start_time": "2024-07-01T11:20:39.120Z"
   },
   {
    "duration": 72,
    "start_time": "2024-07-01T11:20:40.410Z"
   },
   {
    "duration": 3,
    "start_time": "2024-07-01T11:20:42.063Z"
   },
   {
    "duration": 541,
    "start_time": "2024-07-01T11:20:43.323Z"
   },
   {
    "duration": 2,
    "start_time": "2024-07-01T11:23:16.627Z"
   },
   {
    "duration": 508,
    "start_time": "2024-07-01T11:23:17.303Z"
   },
   {
    "duration": 492,
    "start_time": "2024-07-01T11:23:24.312Z"
   },
   {
    "duration": 2,
    "start_time": "2024-07-01T11:41:11.545Z"
   },
   {
    "duration": 3496,
    "start_time": "2024-07-01T11:41:15.927Z"
   },
   {
    "duration": 3,
    "start_time": "2024-07-01T11:42:21.050Z"
   },
   {
    "duration": 3147,
    "start_time": "2024-07-01T11:42:22.511Z"
   },
   {
    "duration": 3,
    "start_time": "2024-07-01T11:43:12.514Z"
   },
   {
    "duration": 3245,
    "start_time": "2024-07-01T11:43:14.986Z"
   },
   {
    "duration": 3,
    "start_time": "2024-07-01T11:44:50.424Z"
   },
   {
    "duration": 3228,
    "start_time": "2024-07-01T11:44:53.330Z"
   },
   {
    "duration": 2,
    "start_time": "2024-07-01T11:47:40.458Z"
   },
   {
    "duration": 3407,
    "start_time": "2024-07-01T11:47:41.900Z"
   },
   {
    "duration": 2,
    "start_time": "2024-07-01T11:53:40.009Z"
   },
   {
    "duration": 3932,
    "start_time": "2024-07-01T11:53:42.312Z"
   },
   {
    "duration": 2,
    "start_time": "2024-07-01T11:59:43.271Z"
   },
   {
    "duration": 4189,
    "start_time": "2024-07-01T11:59:44.241Z"
   },
   {
    "duration": 2,
    "start_time": "2024-07-01T12:00:21.614Z"
   },
   {
    "duration": 4072,
    "start_time": "2024-07-01T12:00:23.024Z"
   },
   {
    "duration": 3,
    "start_time": "2024-07-01T12:04:01.616Z"
   },
   {
    "duration": 4486,
    "start_time": "2024-07-01T12:04:02.675Z"
   },
   {
    "duration": 3,
    "start_time": "2024-07-01T12:06:09.271Z"
   },
   {
    "duration": 4969,
    "start_time": "2024-07-01T12:06:10.154Z"
   },
   {
    "duration": 591,
    "start_time": "2024-07-01T13:41:14.279Z"
   },
   {
    "duration": 64,
    "start_time": "2024-07-01T13:41:15.796Z"
   },
   {
    "duration": 3,
    "start_time": "2024-07-01T13:41:18.399Z"
   },
   {
    "duration": 708,
    "start_time": "2024-07-01T13:41:19.812Z"
   },
   {
    "duration": 4,
    "start_time": "2024-07-01T13:44:13.557Z"
   },
   {
    "duration": 5791,
    "start_time": "2024-07-01T13:44:14.960Z"
   },
   {
    "duration": 4,
    "start_time": "2024-07-01T13:44:58.706Z"
   },
   {
    "duration": 603,
    "start_time": "2024-07-01T13:45:01.574Z"
   },
   {
    "duration": 3,
    "start_time": "2024-07-01T13:49:42.967Z"
   },
   {
    "duration": 5194,
    "start_time": "2024-07-01T13:49:45.053Z"
   },
   {
    "duration": 3,
    "start_time": "2024-07-01T13:51:23.071Z"
   },
   {
    "duration": 5557,
    "start_time": "2024-07-01T13:51:25.038Z"
   },
   {
    "duration": 3,
    "start_time": "2024-07-01T13:56:21.921Z"
   },
   {
    "duration": 3,
    "start_time": "2024-07-01T13:56:25.000Z"
   },
   {
    "duration": 54,
    "start_time": "2024-07-01T13:56:26.730Z"
   },
   {
    "duration": 4,
    "start_time": "2024-07-01T13:56:28.214Z"
   },
   {
    "duration": 5627,
    "start_time": "2024-07-01T13:56:30.090Z"
   },
   {
    "duration": 4728,
    "start_time": "2024-07-01T13:57:43.927Z"
   },
   {
    "duration": 527,
    "start_time": "2024-07-03T14:22:55.783Z"
   },
   {
    "duration": 11,
    "start_time": "2024-07-03T14:22:56.313Z"
   },
   {
    "duration": 22,
    "start_time": "2024-07-03T14:22:56.325Z"
   },
   {
    "duration": 6077,
    "start_time": "2024-07-03T14:22:56.348Z"
   },
   {
    "duration": 4389,
    "start_time": "2024-07-03T14:23:02.427Z"
   },
   {
    "duration": 691,
    "start_time": "2024-07-03T14:25:03.196Z"
   },
   {
    "duration": 536,
    "start_time": "2024-07-03T14:41:41.424Z"
   },
   {
    "duration": 10,
    "start_time": "2024-07-03T14:41:41.962Z"
   },
   {
    "duration": 20,
    "start_time": "2024-07-03T14:41:41.973Z"
   },
   {
    "duration": 5915,
    "start_time": "2024-07-03T14:41:41.995Z"
   },
   {
    "duration": 4770,
    "start_time": "2024-07-03T14:41:47.913Z"
   },
   {
    "duration": 485,
    "start_time": "2024-07-04T14:42:05.094Z"
   },
   {
    "duration": 10,
    "start_time": "2024-07-04T14:42:05.581Z"
   },
   {
    "duration": 42,
    "start_time": "2024-07-04T14:42:05.594Z"
   },
   {
    "duration": 5850,
    "start_time": "2024-07-04T14:42:05.639Z"
   },
   {
    "duration": 4504,
    "start_time": "2024-07-04T14:42:11.491Z"
   },
   {
    "duration": 484,
    "start_time": "2024-07-04T14:58:56.188Z"
   },
   {
    "duration": 10,
    "start_time": "2024-07-04T14:58:56.674Z"
   },
   {
    "duration": 22,
    "start_time": "2024-07-04T14:58:56.685Z"
   },
   {
    "duration": 5885,
    "start_time": "2024-07-04T14:58:56.709Z"
   }
  ],
  "kernelspec": {
   "display_name": "Python 3 (ipykernel)",
   "language": "python",
   "name": "python3"
  },
  "language_info": {
   "codemirror_mode": {
    "name": "ipython",
    "version": 3
   },
   "file_extension": ".py",
   "mimetype": "text/x-python",
   "name": "python",
   "nbconvert_exporter": "python",
   "pygments_lexer": "ipython3",
   "version": "3.11.7"
  },
  "toc": {
   "base_numbering": 1,
   "nav_menu": {},
   "number_sections": true,
   "sideBar": true,
   "skip_h1_title": true,
   "title_cell": "Table of Contents",
   "title_sidebar": "Contents",
   "toc_cell": false,
   "toc_position": {},
   "toc_section_display": true,
   "toc_window_display": false
  }
 },
 "nbformat": 4,
 "nbformat_minor": 5
}
