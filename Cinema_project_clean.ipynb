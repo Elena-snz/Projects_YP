{
 "cells": [
  {
   "cell_type": "markdown",
   "metadata": {
    "id": "sIfNaMOxgFyK"
   },
   "source": [
    "## Исследование данных о российском кинопрокате\n",
    "\n"
   ]
  },
  {
   "cell_type": "markdown",
   "metadata": {},
   "source": [
    "**Исследование проводится по заказу Министерства культуры Российской Федерации**"
   ]
  },
  {
   "cell_type": "markdown",
   "metadata": {
    "id": "dw87FlzMgFyM"
   },
   "source": [
    "\n",
    "**Цель:** \n",
    " - изучить рынок российского кинопроката и выявить текущие тренды\n",
    " \n",
    "**Задачи:**\n",
    "\n",
    "* проанализировать динамику проката по годам\n",
    "* рассмотреть зависимость кассовых сборов в кинотеатрах от возрастных ограничений\n",
    "* выявить особенности кинопроката фильмов, получивших гос.поддержку"
   ]
  },
  {
   "cell_type": "markdown",
   "metadata": {
    "id": "3bSlkCsbgFyL"
   },
   "source": [
    "### Шаг 1. Откройте файлы с данными и объедините их в один датафрейм. \n",
    "\n",
    "Объедините данные таким образом, чтобы все объекты из датасета `mkrf_movies` обязательно вошли в получившийся датафрейм. \n",
    "\n",
    "<div id=\"accordion\">\n",
    "    <div class=\"card\">\n",
    "        <div class=\"card-header\" id=\"headingThree\">\n",
    "            <button class=\"btn btn-link collapsed\" data-toggle=\"collapse\" data-target=\"#collapseHint_0\" aria-expanded=\"false\" aria-controls=\"collapseHint_0\">Подсказка</button>\n",
    "        </div>\n",
    "        <div id=\"collapseHint_0\" class=\"collapse\" aria-labelledby=\"headingThree\" data-parent=\"#accordion\">\n",
    "            <div class=\"card-body\">\n",
    "Обратите внимание на тип данных столбца, по которому будете соединять датафреймы. Тип данных этих столбцов должен быть одинаковым в обоих датафреймах.\n",
    "            </div>\n",
    "        </div>\n",
    "    </div>\n",
    "</div>"
   ]
  },
  {
   "cell_type": "code",
   "execution_count": 24,
   "metadata": {},
   "outputs": [],
   "source": [
    "#загрузка необходимых библиотек\n",
    "import pandas as pd\n",
    "import matplotlib.pyplot as plt "
   ]
  },
  {
   "cell_type": "code",
   "execution_count": 3,
   "metadata": {},
   "outputs": [],
   "source": [
    "movies = pd.read_csv('/datasets/mkrf_movies.csv')\n",
    "shows = pd.read_csv('/datasets/mkrf_shows.csv')"
   ]
  },
  {
   "cell_type": "code",
   "execution_count": 4,
   "metadata": {},
   "outputs": [
    {
     "name": "stdout",
     "output_type": "stream",
     "text": [
      "<class 'pandas.core.frame.DataFrame'>\n",
      "RangeIndex: 7486 entries, 0 to 7485\n",
      "Data columns (total 15 columns):\n",
      " #   Column                 Non-Null Count  Dtype  \n",
      "---  ------                 --------------  -----  \n",
      " 0   title                  7486 non-null   object \n",
      " 1   puNumber               7486 non-null   object \n",
      " 2   show_start_date        7486 non-null   object \n",
      " 3   type                   7486 non-null   object \n",
      " 4   film_studio            7468 non-null   object \n",
      " 5   production_country     7484 non-null   object \n",
      " 6   director               7477 non-null   object \n",
      " 7   producer               6918 non-null   object \n",
      " 8   age_restriction        7486 non-null   object \n",
      " 9   refundable_support     332 non-null    float64\n",
      " 10  nonrefundable_support  332 non-null    float64\n",
      " 11  budget                 332 non-null    float64\n",
      " 12  financing_source       332 non-null    object \n",
      " 13  ratings                6519 non-null   object \n",
      " 14  genres                 6510 non-null   object \n",
      "dtypes: float64(3), object(12)\n",
      "memory usage: 877.4+ KB\n"
     ]
    }
   ],
   "source": [
    "movies.info()"
   ]
  },
  {
   "cell_type": "code",
   "execution_count": 5,
   "metadata": {},
   "outputs": [
    {
     "name": "stdout",
     "output_type": "stream",
     "text": [
      "<class 'pandas.core.frame.DataFrame'>\n",
      "RangeIndex: 3158 entries, 0 to 3157\n",
      "Data columns (total 2 columns):\n",
      " #   Column      Non-Null Count  Dtype  \n",
      "---  ------      --------------  -----  \n",
      " 0   puNumber    3158 non-null   int64  \n",
      " 1   box_office  3158 non-null   float64\n",
      "dtypes: float64(1), int64(1)\n",
      "memory usage: 49.5 KB\n"
     ]
    }
   ],
   "source": [
    "shows.info()"
   ]
  },
  {
   "cell_type": "markdown",
   "metadata": {},
   "source": [
    "*Изучила общую информацию о двух данных датасетах.*\n",
    "\n",
    "По столбцу 'puNumber' (номер прокатного удостоверения) соединю два датасета.\n",
    "\n",
    "Т.к. эти столбцы имеют разный тип данных, то для начала приведу к одному типу (str).\n",
    "\n",
    "После этого объединю данные."
   ]
  },
  {
   "cell_type": "code",
   "execution_count": 6,
   "metadata": {},
   "outputs": [],
   "source": [
    "shows['puNumber'] = shows['puNumber'].astype('str')"
   ]
  },
  {
   "cell_type": "code",
   "execution_count": 7,
   "metadata": {},
   "outputs": [
    {
     "data": {
      "text/html": [
       "<div>\n",
       "<style scoped>\n",
       "    .dataframe tbody tr th:only-of-type {\n",
       "        vertical-align: middle;\n",
       "    }\n",
       "\n",
       "    .dataframe tbody tr th {\n",
       "        vertical-align: top;\n",
       "    }\n",
       "\n",
       "    .dataframe thead th {\n",
       "        text-align: right;\n",
       "    }\n",
       "</style>\n",
       "<table border=\"1\" class=\"dataframe\">\n",
       "  <thead>\n",
       "    <tr style=\"text-align: right;\">\n",
       "      <th></th>\n",
       "      <th>title</th>\n",
       "      <th>puNumber</th>\n",
       "      <th>show_start_date</th>\n",
       "      <th>type</th>\n",
       "      <th>film_studio</th>\n",
       "      <th>production_country</th>\n",
       "      <th>director</th>\n",
       "      <th>producer</th>\n",
       "      <th>age_restriction</th>\n",
       "      <th>refundable_support</th>\n",
       "      <th>nonrefundable_support</th>\n",
       "      <th>budget</th>\n",
       "      <th>financing_source</th>\n",
       "      <th>ratings</th>\n",
       "      <th>genres</th>\n",
       "      <th>box_office</th>\n",
       "    </tr>\n",
       "  </thead>\n",
       "  <tbody>\n",
       "    <tr>\n",
       "      <th>0</th>\n",
       "      <td>Открытый простор</td>\n",
       "      <td>221048915</td>\n",
       "      <td>2015-11-27T12:00:00.000Z</td>\n",
       "      <td>Художественный</td>\n",
       "      <td>Тачстоун Пикчерз, Кобальт Пикчерз, Бикон Пикче...</td>\n",
       "      <td>США</td>\n",
       "      <td>Кевин Костнер</td>\n",
       "      <td>Дэвид Валдес, Кевин Костнер, Джейк Эбертс</td>\n",
       "      <td>«18+» - запрещено для детей</td>\n",
       "      <td>NaN</td>\n",
       "      <td>NaN</td>\n",
       "      <td>NaN</td>\n",
       "      <td>NaN</td>\n",
       "      <td>7.2</td>\n",
       "      <td>боевик,драма,мелодрама</td>\n",
       "      <td>NaN</td>\n",
       "    </tr>\n",
       "    <tr>\n",
       "      <th>1</th>\n",
       "      <td>Особо важное задание</td>\n",
       "      <td>111013716</td>\n",
       "      <td>2016-09-13T12:00:00.000Z</td>\n",
       "      <td>Художественный</td>\n",
       "      <td>Киностудия \"Мосфильм\"</td>\n",
       "      <td>СССР</td>\n",
       "      <td>Е.Матвеев</td>\n",
       "      <td>NaN</td>\n",
       "      <td>«6+» - для детей старше 6 лет</td>\n",
       "      <td>NaN</td>\n",
       "      <td>NaN</td>\n",
       "      <td>NaN</td>\n",
       "      <td>NaN</td>\n",
       "      <td>6.6</td>\n",
       "      <td>драма,военный</td>\n",
       "      <td>NaN</td>\n",
       "    </tr>\n",
       "    <tr>\n",
       "      <th>2</th>\n",
       "      <td>Особо опасен</td>\n",
       "      <td>221038416</td>\n",
       "      <td>2016-10-10T12:00:00.000Z</td>\n",
       "      <td>Художественный</td>\n",
       "      <td>Юниверсал Пикчерз, Кикстарт Продакшнз, Марк Пл...</td>\n",
       "      <td>США</td>\n",
       "      <td>Тимур Бекмамбетов</td>\n",
       "      <td>Джим Лемли, Джейсон Нетер, Марк Е.Платт, Яйн Смит</td>\n",
       "      <td>«18+» - запрещено для детей</td>\n",
       "      <td>NaN</td>\n",
       "      <td>NaN</td>\n",
       "      <td>NaN</td>\n",
       "      <td>NaN</td>\n",
       "      <td>6.8</td>\n",
       "      <td>фантастика,боевик,триллер</td>\n",
       "      <td>NaN</td>\n",
       "    </tr>\n",
       "    <tr>\n",
       "      <th>3</th>\n",
       "      <td>Особо опасен</td>\n",
       "      <td>221026916</td>\n",
       "      <td>2016-06-10T12:00:00.000Z</td>\n",
       "      <td>Художественный</td>\n",
       "      <td>Юниверсал Пикчерз, Кикстарт Продакшнз, Марк Пл...</td>\n",
       "      <td>США</td>\n",
       "      <td>Тимур Бекмамбетов</td>\n",
       "      <td>Джим Лемли, Джейсон Нетер, Марк Е.Платт, Яйн Смит</td>\n",
       "      <td>«18+» - запрещено для детей</td>\n",
       "      <td>NaN</td>\n",
       "      <td>NaN</td>\n",
       "      <td>NaN</td>\n",
       "      <td>NaN</td>\n",
       "      <td>6.8</td>\n",
       "      <td>фантастика,боевик,триллер</td>\n",
       "      <td>NaN</td>\n",
       "    </tr>\n",
       "    <tr>\n",
       "      <th>4</th>\n",
       "      <td>Особо опасен</td>\n",
       "      <td>221030815</td>\n",
       "      <td>2015-07-29T12:00:00.000Z</td>\n",
       "      <td>Художественный</td>\n",
       "      <td>Юниверсал Пикчерз, Кикстарт Продакшнз, Марк Пл...</td>\n",
       "      <td>США</td>\n",
       "      <td>Тимур Бекмамбетов</td>\n",
       "      <td>Джим Лемли, Джейсон Нетер, Марк Е.Платт, Яйн Смит</td>\n",
       "      <td>«18+» - запрещено для детей</td>\n",
       "      <td>NaN</td>\n",
       "      <td>NaN</td>\n",
       "      <td>NaN</td>\n",
       "      <td>NaN</td>\n",
       "      <td>6.8</td>\n",
       "      <td>фантастика,боевик,триллер</td>\n",
       "      <td>NaN</td>\n",
       "    </tr>\n",
       "  </tbody>\n",
       "</table>\n",
       "</div>"
      ],
      "text/plain": [
       "                  title   puNumber           show_start_date            type  \\\n",
       "0      Открытый простор  221048915  2015-11-27T12:00:00.000Z  Художественный   \n",
       "1  Особо важное задание  111013716  2016-09-13T12:00:00.000Z  Художественный   \n",
       "2          Особо опасен  221038416  2016-10-10T12:00:00.000Z  Художественный   \n",
       "3          Особо опасен  221026916  2016-06-10T12:00:00.000Z  Художественный   \n",
       "4          Особо опасен  221030815  2015-07-29T12:00:00.000Z  Художественный   \n",
       "\n",
       "                                         film_studio production_country  \\\n",
       "0  Тачстоун Пикчерз, Кобальт Пикчерз, Бикон Пикче...                США   \n",
       "1                              Киностудия \"Мосфильм\"               СССР   \n",
       "2  Юниверсал Пикчерз, Кикстарт Продакшнз, Марк Пл...                США   \n",
       "3  Юниверсал Пикчерз, Кикстарт Продакшнз, Марк Пл...                США   \n",
       "4  Юниверсал Пикчерз, Кикстарт Продакшнз, Марк Пл...                США   \n",
       "\n",
       "            director                                           producer  \\\n",
       "0      Кевин Костнер          Дэвид Валдес, Кевин Костнер, Джейк Эбертс   \n",
       "1          Е.Матвеев                                                NaN   \n",
       "2  Тимур Бекмамбетов  Джим Лемли, Джейсон Нетер, Марк Е.Платт, Яйн Смит   \n",
       "3  Тимур Бекмамбетов  Джим Лемли, Джейсон Нетер, Марк Е.Платт, Яйн Смит   \n",
       "4  Тимур Бекмамбетов  Джим Лемли, Джейсон Нетер, Марк Е.Платт, Яйн Смит   \n",
       "\n",
       "                 age_restriction  refundable_support  nonrefundable_support  \\\n",
       "0    «18+» - запрещено для детей                 NaN                    NaN   \n",
       "1  «6+» - для детей старше 6 лет                 NaN                    NaN   \n",
       "2    «18+» - запрещено для детей                 NaN                    NaN   \n",
       "3    «18+» - запрещено для детей                 NaN                    NaN   \n",
       "4    «18+» - запрещено для детей                 NaN                    NaN   \n",
       "\n",
       "   budget financing_source ratings                     genres  box_office  \n",
       "0     NaN              NaN     7.2     боевик,драма,мелодрама         NaN  \n",
       "1     NaN              NaN     6.6              драма,военный         NaN  \n",
       "2     NaN              NaN     6.8  фантастика,боевик,триллер         NaN  \n",
       "3     NaN              NaN     6.8  фантастика,боевик,триллер         NaN  \n",
       "4     NaN              NaN     6.8  фантастика,боевик,триллер         NaN  "
      ]
     },
     "execution_count": 7,
     "metadata": {},
     "output_type": "execute_result"
    }
   ],
   "source": [
    "movies = movies.merge(shows, on = 'puNumber', how = 'left')\n",
    "movies.head()"
   ]
  },
  {
   "cell_type": "markdown",
   "metadata": {},
   "source": [
    "<div class=\"alert alert-block alert-info\">\n",
    "Посмотрим на датасет после объединения.\n",
    "</div>"
   ]
  },
  {
   "cell_type": "code",
   "execution_count": 10,
   "metadata": {},
   "outputs": [
    {
     "name": "stdout",
     "output_type": "stream",
     "text": [
      "<class 'pandas.core.frame.DataFrame'>\n",
      "Int64Index: 7486 entries, 0 to 7485\n",
      "Data columns (total 16 columns):\n",
      " #   Column                 Non-Null Count  Dtype  \n",
      "---  ------                 --------------  -----  \n",
      " 0   title                  7486 non-null   object \n",
      " 1   puNumber               7486 non-null   object \n",
      " 2   show_start_date        7486 non-null   object \n",
      " 3   type                   7486 non-null   object \n",
      " 4   film_studio            7468 non-null   object \n",
      " 5   production_country     7484 non-null   object \n",
      " 6   director               7477 non-null   object \n",
      " 7   producer               6918 non-null   object \n",
      " 8   age_restriction        7486 non-null   object \n",
      " 9   refundable_support     332 non-null    float64\n",
      " 10  nonrefundable_support  332 non-null    float64\n",
      " 11  budget                 332 non-null    float64\n",
      " 12  financing_source       332 non-null    object \n",
      " 13  ratings                6519 non-null   object \n",
      " 14  genres                 6510 non-null   object \n",
      " 15  box_office             3158 non-null   float64\n",
      "dtypes: float64(4), object(12)\n",
      "memory usage: 994.2+ KB\n"
     ]
    }
   ],
   "source": [
    "movies.info()"
   ]
  },
  {
   "cell_type": "markdown",
   "metadata": {},
   "source": [
    "*Теперь в одном датасете есть вся необходимая для исследования информация.*"
   ]
  },
  {
   "cell_type": "markdown",
   "metadata": {
    "id": "KLDGpPG0gFyM"
   },
   "source": [
    "### Шаг 2. Предобработка данных"
   ]
  },
  {
   "cell_type": "markdown",
   "metadata": {
    "id": "ssWwKXsxgFyO"
   },
   "source": [
    "#### Шаг 2.1. Проверьте типы данных\n",
    "\n",
    "- Проверьте типы данных в датафрейме и преобразуйте их там, где это необходимо."
   ]
  },
  {
   "cell_type": "code",
   "execution_count": 11,
   "metadata": {
    "id": "kVGSplJOgFyO",
    "scrolled": true
   },
   "outputs": [
    {
     "name": "stdout",
     "output_type": "stream",
     "text": [
      "<class 'pandas.core.frame.DataFrame'>\n",
      "Int64Index: 7486 entries, 0 to 7485\n",
      "Data columns (total 16 columns):\n",
      " #   Column                 Non-Null Count  Dtype  \n",
      "---  ------                 --------------  -----  \n",
      " 0   title                  7486 non-null   object \n",
      " 1   puNumber               7486 non-null   object \n",
      " 2   show_start_date        7486 non-null   object \n",
      " 3   type                   7486 non-null   object \n",
      " 4   film_studio            7468 non-null   object \n",
      " 5   production_country     7484 non-null   object \n",
      " 6   director               7477 non-null   object \n",
      " 7   producer               6918 non-null   object \n",
      " 8   age_restriction        7486 non-null   object \n",
      " 9   refundable_support     332 non-null    float64\n",
      " 10  nonrefundable_support  332 non-null    float64\n",
      " 11  budget                 332 non-null    float64\n",
      " 12  financing_source       332 non-null    object \n",
      " 13  ratings                6519 non-null   object \n",
      " 14  genres                 6510 non-null   object \n",
      " 15  box_office             3158 non-null   float64\n",
      "dtypes: float64(4), object(12)\n",
      "memory usage: 994.2+ KB\n"
     ]
    }
   ],
   "source": [
    "movies.info()"
   ]
  },
  {
   "cell_type": "markdown",
   "metadata": {},
   "source": [
    "В столбце \"show_start_date\" тип данных должен быть datetime. Приведем к этому типу."
   ]
  },
  {
   "cell_type": "code",
   "execution_count": 12,
   "metadata": {},
   "outputs": [],
   "source": [
    "movies['show_start_date'] = pd.to_datetime(movies['show_start_date'], format = '%Y-%m-%dT%H:%M:%S.000Z')"
   ]
  },
  {
   "cell_type": "markdown",
   "metadata": {},
   "source": [
    "В столбце \"ratings\" тип данных должен быть float. Приведем к этому типу.\n",
    "\n",
    "Для этого посмотрим на уникальные значения в этом столбце."
   ]
  },
  {
   "cell_type": "code",
   "execution_count": 13,
   "metadata": {
    "scrolled": true
   },
   "outputs": [
    {
     "data": {
      "text/plain": [
       "array(['7.2', '6.6', '6.8', '7.7', '8.3', '8.0', '7.8', '8.1', '7.1',\n",
       "       '6.0', '7.4', '5.8', '8.7', '6.3', '6.9', '5.0', '4.3', '7.3',\n",
       "       '7.0', '6.4', nan, '8.2', '7.5', '6.7', '7.9', '5.9', '6.2', '5.6',\n",
       "       '6.5', '2.4', '7.6', '6.1', '8.6', '8.5', '8.8', '5.5', '5.1',\n",
       "       '5.7', '5.4', '99%', '4.4', '4.5', '5.3', '4.1', '8.4', '2.6',\n",
       "       '3.8', '4.6', '4.8', '4.0', '3.0', '1.6', '4.2', '5.2', '4.7',\n",
       "       '4.9', '3.9', '2.7', '3.3', '2.9', '28%', '3.7', '1.4', '3.1',\n",
       "       '97%', '3.5', '3.2', '2.8', '1.5', '2.1', '2.5', '9.2', '3.4',\n",
       "       '1.1', '3.6', '83%', '64%', '91%', '94%', '62%', '79%', '90%',\n",
       "       '19%', '88%', '1.0', '89%', '1.3', '1.9', '1.8', '1.2', '1.7',\n",
       "       '9.0', '98%', '8.9', '9.1'], dtype=object)"
      ]
     },
     "execution_count": 13,
     "metadata": {},
     "output_type": "execute_result"
    }
   ],
   "source": [
    "movies['ratings'].unique()"
   ]
  },
  {
   "cell_type": "markdown",
   "metadata": {},
   "source": [
    "Видно, что просто так тип данных не преобразовать, т.к. есть значения со знаком %. Эти значения по сути не ошибочны, просто записаны в формате процентов. Поэтому мы их преобразуем в такие же значения, но по десятибальной шкале.\n",
    "\n",
    "Сделаем следующие действия:\n",
    "\n",
    "* очистим данные от знака %\n",
    "* полученные значения переведем в тип float\n",
    "* значения, которые больше 10, разделим на 10\n",
    "\n"
   ]
  },
  {
   "cell_type": "code",
   "execution_count": 14,
   "metadata": {},
   "outputs": [],
   "source": [
    "movies['ratings'] = movies['ratings'].str.replace('%','')\n",
    "i=0\n",
    "for r in movies['ratings']:\n",
    "    r_new = float(r) \n",
    "    if r_new > 10:\n",
    "        movies.loc[i,'ratings'] = r_new/10\n",
    "    else:    \n",
    "        movies.loc[i,'ratings'] = r_new\n",
    "    i+=1    \n",
    "movies['ratings'] = movies['ratings'].astype('float')        "
   ]
  },
  {
   "cell_type": "markdown",
   "metadata": {},
   "source": [
    "В столбце \"age_restriction\" данные представляют собой категории, а не числа, обозначающие возраст. Поэтому тип данных у этого столбца оставим str. \n",
    "\n",
    "Но для удобства работы запишем их по другому."
   ]
  },
  {
   "cell_type": "code",
   "execution_count": 15,
   "metadata": {},
   "outputs": [
    {
     "data": {
      "text/plain": [
       "array(['«18+» - запрещено для детей', '«6+» - для детей старше 6 лет',\n",
       "       '«12+» - для детей старше 12 лет',\n",
       "       '«16+» - для детей старше 16 лет',\n",
       "       '«0+» - для любой зрительской аудитории'], dtype=object)"
      ]
     },
     "execution_count": 15,
     "metadata": {},
     "output_type": "execute_result"
    }
   ],
   "source": [
    "movies['age_restriction'].unique()"
   ]
  },
  {
   "cell_type": "code",
   "execution_count": 16,
   "metadata": {
    "id": "8MJD_lkngFyP"
   },
   "outputs": [
    {
     "data": {
      "text/plain": [
       "array(['18+', '6+', '12+', '16+', '0+'], dtype=object)"
      ]
     },
     "execution_count": 16,
     "metadata": {},
     "output_type": "execute_result"
    }
   ],
   "source": [
    "i=0\n",
    "for age in movies['age_restriction']:\n",
    "    if age == '«0+» - для любой зрительской аудитории':    \n",
    "        movies.loc[i,'age_restriction'] = '0+'\n",
    "    elif age == '«6+» - для детей старше 6 лет':    \n",
    "        movies.loc[i,'age_restriction'] = '6+'\n",
    "    elif age == '«12+» - для детей старше 12 лет':    \n",
    "        movies.loc[i,'age_restriction'] = '12+'    \n",
    "    elif age == '«16+» - для детей старше 16 лет':    \n",
    "        movies.loc[i,'age_restriction'] = '16+'\n",
    "    elif age == '«18+» - запрещено для детей':\n",
    "        movies.loc[i,'age_restriction'] = '18+'\n",
    "    i+=1  \n",
    "movies['age_restriction'].unique()    "
   ]
  },
  {
   "cell_type": "code",
   "execution_count": 17,
   "metadata": {
    "scrolled": true
   },
   "outputs": [
    {
     "name": "stdout",
     "output_type": "stream",
     "text": [
      "<class 'pandas.core.frame.DataFrame'>\n",
      "Int64Index: 7486 entries, 0 to 7485\n",
      "Data columns (total 16 columns):\n",
      " #   Column                 Non-Null Count  Dtype         \n",
      "---  ------                 --------------  -----         \n",
      " 0   title                  7486 non-null   object        \n",
      " 1   puNumber               7486 non-null   object        \n",
      " 2   show_start_date        7486 non-null   datetime64[ns]\n",
      " 3   type                   7486 non-null   object        \n",
      " 4   film_studio            7468 non-null   object        \n",
      " 5   production_country     7484 non-null   object        \n",
      " 6   director               7477 non-null   object        \n",
      " 7   producer               6918 non-null   object        \n",
      " 8   age_restriction        7486 non-null   object        \n",
      " 9   refundable_support     332 non-null    float64       \n",
      " 10  nonrefundable_support  332 non-null    float64       \n",
      " 11  budget                 332 non-null    float64       \n",
      " 12  financing_source       332 non-null    object        \n",
      " 13  ratings                6519 non-null   float64       \n",
      " 14  genres                 6510 non-null   object        \n",
      " 15  box_office             3158 non-null   float64       \n",
      "dtypes: datetime64[ns](1), float64(5), object(10)\n",
      "memory usage: 1.2+ MB\n"
     ]
    }
   ],
   "source": [
    "movies.info()"
   ]
  },
  {
   "cell_type": "markdown",
   "metadata": {},
   "source": [
    "Видно, что все столбцы приведены к нужному типу данных."
   ]
  },
  {
   "cell_type": "markdown",
   "metadata": {
    "id": "i0MOLbF-gFyP"
   },
   "source": [
    "#### Шаг 2.2. Изучите пропуски в датафрейме\n",
    "\n",
    "- Объясните, почему заполнили пропуски определённым образом или почему не стали этого делать."
   ]
  },
  {
   "cell_type": "markdown",
   "metadata": {},
   "source": [
    "По информации выше видно, что пропуски есть в столбцах:\n",
    "* film_studio\n",
    "* production_country\n",
    "* director\n",
    "* producer   \n",
    "* refundable_support       \n",
    "* nonrefundable_support    \n",
    "* budget  \n",
    "* financing_source      \n",
    "* ratings      \n",
    "* genres      \n",
    "* box_office "
   ]
  },
  {
   "cell_type": "markdown",
   "metadata": {},
   "source": [
    "В столбцах \"film_studio\", \"production_country\", \"director\", \"producer\", \"genres\" пропуски заполним значением \"unknown\", т.к. никак логически эти пропуски не заполнить. \n",
    "\n",
    "В столбцах \"refundable_support\", \"nonrefundable_support\", \"budget\" пропуски заполним 0, потому что данные заполнены только там, где фильм получил гос.поддержку. Значит в остальных случаях нет гос.поддержки, т.е. она равно 0.\n",
    "\n",
    "В столбце \"financing_source\" указана организация, которая оказала гос.поддержку. Если значение пропущено, значит нет гос.поддержки, нет организации, поэтому заполним пропуски значением 'No' "
   ]
  },
  {
   "cell_type": "code",
   "execution_count": 25,
   "metadata": {},
   "outputs": [],
   "source": [
    "s1 = ['director','producer','genres','production_country','film_studio']\n",
    "s2 = ['refundable_support','nonrefundable_support','budget']\n",
    "\n",
    "for skip in s1:\n",
    "    movies[skip] = movies[skip].fillna('unknown')\n",
    "    \n",
    "for skip in s2:\n",
    "    movies[skip] = movies[skip].fillna(0.0)\n",
    "    \n",
    "movies['financing_source'] = movies['financing_source'].fillna('No')"
   ]
  },
  {
   "cell_type": "markdown",
   "metadata": {},
   "source": [
    "Остались пропущенные значения в столбцах \"ratings\" и \"box_office\". Их заполнить можно только вручную, осуществив поиск в интернете, а логически никак нельзя заполнить, поэтому оставим пропуски в этих столбцах."
   ]
  },
  {
   "cell_type": "code",
   "execution_count": 26,
   "metadata": {
    "scrolled": true
   },
   "outputs": [
    {
     "name": "stdout",
     "output_type": "stream",
     "text": [
      "<class 'pandas.core.frame.DataFrame'>\n",
      "Int64Index: 7486 entries, 0 to 7485\n",
      "Data columns (total 16 columns):\n",
      " #   Column                 Non-Null Count  Dtype         \n",
      "---  ------                 --------------  -----         \n",
      " 0   title                  7486 non-null   object        \n",
      " 1   puNumber               7486 non-null   object        \n",
      " 2   show_start_date        7486 non-null   datetime64[ns]\n",
      " 3   type                   7486 non-null   object        \n",
      " 4   film_studio            7486 non-null   object        \n",
      " 5   production_country     7486 non-null   object        \n",
      " 6   director               7486 non-null   object        \n",
      " 7   producer               7486 non-null   object        \n",
      " 8   age_restriction        7486 non-null   object        \n",
      " 9   refundable_support     7486 non-null   float64       \n",
      " 10  nonrefundable_support  7486 non-null   float64       \n",
      " 11  budget                 7486 non-null   float64       \n",
      " 12  financing_source       7486 non-null   object        \n",
      " 13  ratings                6519 non-null   float64       \n",
      " 14  genres                 7486 non-null   object        \n",
      " 15  box_office             3158 non-null   float64       \n",
      "dtypes: datetime64[ns](1), float64(5), object(10)\n",
      "memory usage: 1.2+ MB\n"
     ]
    }
   ],
   "source": [
    "movies.info() "
   ]
  },
  {
   "cell_type": "markdown",
   "metadata": {},
   "source": [
    "На этом этапе я заполнила пропуски в данных логически вытекающими значениями. \n",
    "\n",
    "В двух столбцах пропуски остались."
   ]
  },
  {
   "cell_type": "markdown",
   "metadata": {
    "id": "4c6k1t9ygFyQ"
   },
   "source": [
    "#### Шаг 2.3. Изучите дубликаты в датафрейме\n",
    "- Проверьте, есть ли в данных дубликаты. Опишите причины, которые могли повлиять на появление дублей."
   ]
  },
  {
   "cell_type": "markdown",
   "metadata": {},
   "source": [
    "Для начала я приведу значения в столбце \"title\" к нижнему регистру. Это позволит выявить явные дубликаты, если они есть."
   ]
  },
  {
   "cell_type": "code",
   "execution_count": 27,
   "metadata": {},
   "outputs": [],
   "source": [
    "movies['title'] = movies['title'].str.lower()"
   ]
  },
  {
   "cell_type": "markdown",
   "metadata": {
    "id": "52fOPrEBgFyQ"
   },
   "source": [
    "#### Шаг 2.4. Изучите категориальные значения\n",
    "\n",
    "- Посмотрите, какая общая проблема встречается почти во всех категориальных столбцах;\n",
    "- Исправьте проблемные значения в поле `type`.\n",
    "\n",
    "<div id=\"accordion\">\n",
    "    <div class=\"card\">\n",
    "        <div class=\"card-header\" id=\"headingThree\">\n",
    "            <button class=\"btn btn-link collapsed\" data-toggle=\"collapse\" data-target=\"#collapseHint_1\" aria-expanded=\"false\" aria-controls=\"collapseHint_1\">Подсказка</button>\n",
    "        </div>\n",
    "        <div id=\"collapseHint_1\" class=\"collapse\" aria-labelledby=\"headingThree\" data-parent=\"#accordion\">\n",
    "            <div class=\"card-body\">\n",
    "В поле <code>type</code> есть несколько значений, у которых появился пробел в начале строки. Самый простой способ их «починить» -- использовать метод <a href=\"https://pandas.pydata.org/docs/reference/api/pandas.Series.str.strip.html#pandas.Series.str.strip\">.str.strip</a>. Этот метод удаляет все пробелы, которые встречаются в начале и в конце строки. Применяют его таким образом:<br>\n",
    "<code>df['type'].str.strip()</code>\n",
    "            </div>\n",
    "        </div>\n",
    "    </div>\n",
    "</div>"
   ]
  },
  {
   "cell_type": "markdown",
   "metadata": {},
   "source": [
    "Изучу следующие категориальные столбцы:\n",
    "* type\n",
    "* film_studio\n",
    "* financing_source\n",
    "* genres\n",
    "\n",
    "Для этого посмотрю уникальные значения в столбцах."
   ]
  },
  {
   "cell_type": "code",
   "execution_count": 28,
   "metadata": {},
   "outputs": [
    {
     "data": {
      "text/plain": [
       "array(['Художественный', 'Анимационный', 'Прочие', 'Документальный',\n",
       "       'Научно-популярный', ' Художественный', ' Анимационный',\n",
       "       'Музыкально-развлекательный'], dtype=object)"
      ]
     },
     "execution_count": 28,
     "metadata": {},
     "output_type": "execute_result"
    }
   ],
   "source": [
    "movies['type'].unique()"
   ]
  },
  {
   "cell_type": "code",
   "execution_count": 29,
   "metadata": {},
   "outputs": [
    {
     "data": {
      "text/plain": [
       "array(['Художественный', 'Анимационный', 'Прочие', 'Документальный',\n",
       "       'Научно-популярный', 'Музыкально-развлекательный'], dtype=object)"
      ]
     },
     "execution_count": 29,
     "metadata": {},
     "output_type": "execute_result"
    }
   ],
   "source": [
    "movies['type'] = movies['type'].str.strip()\n",
    "movies['type'].unique()"
   ]
  },
  {
   "cell_type": "code",
   "execution_count": 30,
   "metadata": {},
   "outputs": [
    {
     "data": {
      "text/plain": [
       "5491"
      ]
     },
     "execution_count": 30,
     "metadata": {},
     "output_type": "execute_result"
    }
   ],
   "source": [
    "len(movies['film_studio'].unique())"
   ]
  },
  {
   "cell_type": "code",
   "execution_count": 31,
   "metadata": {},
   "outputs": [
    {
     "data": {
      "text/plain": [
       "5463"
      ]
     },
     "execution_count": 31,
     "metadata": {},
     "output_type": "execute_result"
    }
   ],
   "source": [
    "movies['film_studio'] = movies['film_studio'].str.strip()\n",
    "len(movies['film_studio'].unique())"
   ]
  },
  {
   "cell_type": "code",
   "execution_count": 32,
   "metadata": {},
   "outputs": [
    {
     "data": {
      "text/plain": [
       "array(['No', 'Министерство культуры', 'Фонд кино',\n",
       "       'Министерство культуры, Фонд кино'], dtype=object)"
      ]
     },
     "execution_count": 32,
     "metadata": {},
     "output_type": "execute_result"
    }
   ],
   "source": [
    "movies['financing_source'].unique()"
   ]
  },
  {
   "cell_type": "code",
   "execution_count": 33,
   "metadata": {},
   "outputs": [
    {
     "data": {
      "text/plain": [
       "743"
      ]
     },
     "execution_count": 33,
     "metadata": {},
     "output_type": "execute_result"
    }
   ],
   "source": [
    "len(movies['genres'].unique())"
   ]
  },
  {
   "cell_type": "code",
   "execution_count": 34,
   "metadata": {
    "scrolled": true
   },
   "outputs": [
    {
     "data": {
      "text/plain": [
       "743"
      ]
     },
     "execution_count": 34,
     "metadata": {},
     "output_type": "execute_result"
    }
   ],
   "source": [
    "movies['genres'] = movies['genres'].str.strip()\n",
    "len(movies['genres'].unique())"
   ]
  },
  {
   "cell_type": "markdown",
   "metadata": {},
   "source": [
    "В столбце \"type\" я увидела, что из-за пробела в начале или в конце возникают дубликаты. Поэтому я удалила пробелы в этом столбце.\n",
    "\n",
    "В других вышеперечисленных столбцах такая проблема тоже могла бы быть и привести к возникновению дубликатов. Поэтому и в этих столбцах я провела удаление пробелов."
   ]
  },
  {
   "cell_type": "markdown",
   "metadata": {},
   "source": [
    "Теперь удалю явные дубликаты, которые могли возникнуть после проведенных манипуляций."
   ]
  },
  {
   "cell_type": "code",
   "execution_count": 35,
   "metadata": {
    "id": "aKck8RIdgFyQ"
   },
   "outputs": [
    {
     "data": {
      "text/html": [
       "<div>\n",
       "<style scoped>\n",
       "    .dataframe tbody tr th:only-of-type {\n",
       "        vertical-align: middle;\n",
       "    }\n",
       "\n",
       "    .dataframe tbody tr th {\n",
       "        vertical-align: top;\n",
       "    }\n",
       "\n",
       "    .dataframe thead th {\n",
       "        text-align: right;\n",
       "    }\n",
       "</style>\n",
       "<table border=\"1\" class=\"dataframe\">\n",
       "  <thead>\n",
       "    <tr style=\"text-align: right;\">\n",
       "      <th></th>\n",
       "      <th>title</th>\n",
       "      <th>puNumber</th>\n",
       "      <th>show_start_date</th>\n",
       "      <th>type</th>\n",
       "      <th>film_studio</th>\n",
       "      <th>production_country</th>\n",
       "      <th>director</th>\n",
       "      <th>producer</th>\n",
       "      <th>age_restriction</th>\n",
       "      <th>refundable_support</th>\n",
       "      <th>nonrefundable_support</th>\n",
       "      <th>budget</th>\n",
       "      <th>financing_source</th>\n",
       "      <th>ratings</th>\n",
       "      <th>genres</th>\n",
       "      <th>box_office</th>\n",
       "    </tr>\n",
       "  </thead>\n",
       "  <tbody>\n",
       "    <tr>\n",
       "      <th>0</th>\n",
       "      <td>открытый простор</td>\n",
       "      <td>221048915</td>\n",
       "      <td>2015-11-27 12:00:00</td>\n",
       "      <td>Художественный</td>\n",
       "      <td>Тачстоун Пикчерз, Кобальт Пикчерз, Бикон Пикче...</td>\n",
       "      <td>США</td>\n",
       "      <td>Кевин Костнер</td>\n",
       "      <td>Дэвид Валдес, Кевин Костнер, Джейк Эбертс</td>\n",
       "      <td>18+</td>\n",
       "      <td>0.0</td>\n",
       "      <td>0.0</td>\n",
       "      <td>0.0</td>\n",
       "      <td>No</td>\n",
       "      <td>7.2</td>\n",
       "      <td>боевик,драма,мелодрама</td>\n",
       "      <td>NaN</td>\n",
       "    </tr>\n",
       "    <tr>\n",
       "      <th>1</th>\n",
       "      <td>особо важное задание</td>\n",
       "      <td>111013716</td>\n",
       "      <td>2016-09-13 12:00:00</td>\n",
       "      <td>Художественный</td>\n",
       "      <td>Киностудия \"Мосфильм\"</td>\n",
       "      <td>СССР</td>\n",
       "      <td>Е.Матвеев</td>\n",
       "      <td>unknown</td>\n",
       "      <td>6+</td>\n",
       "      <td>0.0</td>\n",
       "      <td>0.0</td>\n",
       "      <td>0.0</td>\n",
       "      <td>No</td>\n",
       "      <td>6.6</td>\n",
       "      <td>драма,военный</td>\n",
       "      <td>NaN</td>\n",
       "    </tr>\n",
       "    <tr>\n",
       "      <th>2</th>\n",
       "      <td>особо опасен</td>\n",
       "      <td>221038416</td>\n",
       "      <td>2016-10-10 12:00:00</td>\n",
       "      <td>Художественный</td>\n",
       "      <td>Юниверсал Пикчерз, Кикстарт Продакшнз, Марк Пл...</td>\n",
       "      <td>США</td>\n",
       "      <td>Тимур Бекмамбетов</td>\n",
       "      <td>Джим Лемли, Джейсон Нетер, Марк Е.Платт, Яйн Смит</td>\n",
       "      <td>18+</td>\n",
       "      <td>0.0</td>\n",
       "      <td>0.0</td>\n",
       "      <td>0.0</td>\n",
       "      <td>No</td>\n",
       "      <td>6.8</td>\n",
       "      <td>фантастика,боевик,триллер</td>\n",
       "      <td>NaN</td>\n",
       "    </tr>\n",
       "    <tr>\n",
       "      <th>3</th>\n",
       "      <td>особо опасен</td>\n",
       "      <td>221026916</td>\n",
       "      <td>2016-06-10 12:00:00</td>\n",
       "      <td>Художественный</td>\n",
       "      <td>Юниверсал Пикчерз, Кикстарт Продакшнз, Марк Пл...</td>\n",
       "      <td>США</td>\n",
       "      <td>Тимур Бекмамбетов</td>\n",
       "      <td>Джим Лемли, Джейсон Нетер, Марк Е.Платт, Яйн Смит</td>\n",
       "      <td>18+</td>\n",
       "      <td>0.0</td>\n",
       "      <td>0.0</td>\n",
       "      <td>0.0</td>\n",
       "      <td>No</td>\n",
       "      <td>6.8</td>\n",
       "      <td>фантастика,боевик,триллер</td>\n",
       "      <td>NaN</td>\n",
       "    </tr>\n",
       "    <tr>\n",
       "      <th>4</th>\n",
       "      <td>особо опасен</td>\n",
       "      <td>221030815</td>\n",
       "      <td>2015-07-29 12:00:00</td>\n",
       "      <td>Художественный</td>\n",
       "      <td>Юниверсал Пикчерз, Кикстарт Продакшнз, Марк Пл...</td>\n",
       "      <td>США</td>\n",
       "      <td>Тимур Бекмамбетов</td>\n",
       "      <td>Джим Лемли, Джейсон Нетер, Марк Е.Платт, Яйн Смит</td>\n",
       "      <td>18+</td>\n",
       "      <td>0.0</td>\n",
       "      <td>0.0</td>\n",
       "      <td>0.0</td>\n",
       "      <td>No</td>\n",
       "      <td>6.8</td>\n",
       "      <td>фантастика,боевик,триллер</td>\n",
       "      <td>NaN</td>\n",
       "    </tr>\n",
       "    <tr>\n",
       "      <th>...</th>\n",
       "      <td>...</td>\n",
       "      <td>...</td>\n",
       "      <td>...</td>\n",
       "      <td>...</td>\n",
       "      <td>...</td>\n",
       "      <td>...</td>\n",
       "      <td>...</td>\n",
       "      <td>...</td>\n",
       "      <td>...</td>\n",
       "      <td>...</td>\n",
       "      <td>...</td>\n",
       "      <td>...</td>\n",
       "      <td>...</td>\n",
       "      <td>...</td>\n",
       "      <td>...</td>\n",
       "      <td>...</td>\n",
       "    </tr>\n",
       "    <tr>\n",
       "      <th>7481</th>\n",
       "      <td>сад художника: американский импрессионизм</td>\n",
       "      <td>126008019</td>\n",
       "      <td>2019-12-23 12:00:00</td>\n",
       "      <td>Прочие</td>\n",
       "      <td>Севен Артс Продакшнз</td>\n",
       "      <td>Великобритания</td>\n",
       "      <td>Фил Грабски</td>\n",
       "      <td>Фил Грабски</td>\n",
       "      <td>12+</td>\n",
       "      <td>0.0</td>\n",
       "      <td>0.0</td>\n",
       "      <td>0.0</td>\n",
       "      <td>No</td>\n",
       "      <td>NaN</td>\n",
       "      <td>unknown</td>\n",
       "      <td>NaN</td>\n",
       "    </tr>\n",
       "    <tr>\n",
       "      <th>7482</th>\n",
       "      <td>звериная ярость</td>\n",
       "      <td>121037819</td>\n",
       "      <td>2019-12-24 12:00:00</td>\n",
       "      <td>Художественный</td>\n",
       "      <td>Дэниел Гродник Продакшнз, Вандерфилм Медиа Кор...</td>\n",
       "      <td>США</td>\n",
       "      <td>Ник Пауэлл</td>\n",
       "      <td>Джефф Боулер, Дэниэл Гродник, Луильо Руис, Брэ...</td>\n",
       "      <td>16+</td>\n",
       "      <td>0.0</td>\n",
       "      <td>0.0</td>\n",
       "      <td>0.0</td>\n",
       "      <td>No</td>\n",
       "      <td>5.4</td>\n",
       "      <td>боевик,триллер</td>\n",
       "      <td>NaN</td>\n",
       "    </tr>\n",
       "    <tr>\n",
       "      <th>7483</th>\n",
       "      <td>щенячий патруль: скорей спешим на помощь!</td>\n",
       "      <td>124010819</td>\n",
       "      <td>2019-12-28 12:00:00</td>\n",
       "      <td>Художественный</td>\n",
       "      <td>Никелодеон Анимейшн Студиос, Спин Мастер</td>\n",
       "      <td>США - Канада</td>\n",
       "      <td>Чарльз Е.Бастьен</td>\n",
       "      <td>Дженнифер Додж</td>\n",
       "      <td>0+</td>\n",
       "      <td>0.0</td>\n",
       "      <td>0.0</td>\n",
       "      <td>0.0</td>\n",
       "      <td>No</td>\n",
       "      <td>NaN</td>\n",
       "      <td>unknown</td>\n",
       "      <td>NaN</td>\n",
       "    </tr>\n",
       "    <tr>\n",
       "      <th>7484</th>\n",
       "      <td>машины песенки. серия \"испанские мотивы\"</td>\n",
       "      <td>124010619</td>\n",
       "      <td>2019-12-30 12:00:00</td>\n",
       "      <td>Анимационный</td>\n",
       "      <td>Анимаккорд Лтд., ООО Студия \"АНИМАККОРД\"</td>\n",
       "      <td>Республика Кипр, Россия</td>\n",
       "      <td>А.Беляев</td>\n",
       "      <td>Д.Ловейко</td>\n",
       "      <td>0+</td>\n",
       "      <td>0.0</td>\n",
       "      <td>0.0</td>\n",
       "      <td>0.0</td>\n",
       "      <td>No</td>\n",
       "      <td>NaN</td>\n",
       "      <td>unknown</td>\n",
       "      <td>NaN</td>\n",
       "    </tr>\n",
       "    <tr>\n",
       "      <th>7485</th>\n",
       "      <td>машины песенки. серия \"когда цветут кактусы\"</td>\n",
       "      <td>124010719</td>\n",
       "      <td>2019-12-30 12:00:00</td>\n",
       "      <td>Анимационный</td>\n",
       "      <td>Анимаккорд Лтд., ООО Студия \"АНИМАККОРД\"</td>\n",
       "      <td>Республика Кипр, Россия</td>\n",
       "      <td>И.Трусов</td>\n",
       "      <td>Д.Ловейко</td>\n",
       "      <td>0+</td>\n",
       "      <td>0.0</td>\n",
       "      <td>0.0</td>\n",
       "      <td>0.0</td>\n",
       "      <td>No</td>\n",
       "      <td>6.3</td>\n",
       "      <td>комедия,вестерн</td>\n",
       "      <td>NaN</td>\n",
       "    </tr>\n",
       "  </tbody>\n",
       "</table>\n",
       "<p>7486 rows × 16 columns</p>\n",
       "</div>"
      ],
      "text/plain": [
       "                                             title   puNumber  \\\n",
       "0                                 открытый простор  221048915   \n",
       "1                             особо важное задание  111013716   \n",
       "2                                     особо опасен  221038416   \n",
       "3                                     особо опасен  221026916   \n",
       "4                                     особо опасен  221030815   \n",
       "...                                            ...        ...   \n",
       "7481     сад художника: американский импрессионизм  126008019   \n",
       "7482                               звериная ярость  121037819   \n",
       "7483     щенячий патруль: скорей спешим на помощь!  124010819   \n",
       "7484      машины песенки. серия \"испанские мотивы\"  124010619   \n",
       "7485  машины песенки. серия \"когда цветут кактусы\"  124010719   \n",
       "\n",
       "         show_start_date            type  \\\n",
       "0    2015-11-27 12:00:00  Художественный   \n",
       "1    2016-09-13 12:00:00  Художественный   \n",
       "2    2016-10-10 12:00:00  Художественный   \n",
       "3    2016-06-10 12:00:00  Художественный   \n",
       "4    2015-07-29 12:00:00  Художественный   \n",
       "...                  ...             ...   \n",
       "7481 2019-12-23 12:00:00          Прочие   \n",
       "7482 2019-12-24 12:00:00  Художественный   \n",
       "7483 2019-12-28 12:00:00  Художественный   \n",
       "7484 2019-12-30 12:00:00    Анимационный   \n",
       "7485 2019-12-30 12:00:00    Анимационный   \n",
       "\n",
       "                                            film_studio  \\\n",
       "0     Тачстоун Пикчерз, Кобальт Пикчерз, Бикон Пикче...   \n",
       "1                                 Киностудия \"Мосфильм\"   \n",
       "2     Юниверсал Пикчерз, Кикстарт Продакшнз, Марк Пл...   \n",
       "3     Юниверсал Пикчерз, Кикстарт Продакшнз, Марк Пл...   \n",
       "4     Юниверсал Пикчерз, Кикстарт Продакшнз, Марк Пл...   \n",
       "...                                                 ...   \n",
       "7481                               Севен Артс Продакшнз   \n",
       "7482  Дэниел Гродник Продакшнз, Вандерфилм Медиа Кор...   \n",
       "7483           Никелодеон Анимейшн Студиос, Спин Мастер   \n",
       "7484           Анимаккорд Лтд., ООО Студия \"АНИМАККОРД\"   \n",
       "7485           Анимаккорд Лтд., ООО Студия \"АНИМАККОРД\"   \n",
       "\n",
       "           production_country           director  \\\n",
       "0                         США      Кевин Костнер   \n",
       "1                        СССР          Е.Матвеев   \n",
       "2                         США  Тимур Бекмамбетов   \n",
       "3                         США  Тимур Бекмамбетов   \n",
       "4                         США  Тимур Бекмамбетов   \n",
       "...                       ...                ...   \n",
       "7481           Великобритания        Фил Грабски   \n",
       "7482                      США         Ник Пауэлл   \n",
       "7483             США - Канада   Чарльз Е.Бастьен   \n",
       "7484  Республика Кипр, Россия           А.Беляев   \n",
       "7485  Республика Кипр, Россия           И.Трусов   \n",
       "\n",
       "                                               producer age_restriction  \\\n",
       "0             Дэвид Валдес, Кевин Костнер, Джейк Эбертс             18+   \n",
       "1                                               unknown              6+   \n",
       "2     Джим Лемли, Джейсон Нетер, Марк Е.Платт, Яйн Смит             18+   \n",
       "3     Джим Лемли, Джейсон Нетер, Марк Е.Платт, Яйн Смит             18+   \n",
       "4     Джим Лемли, Джейсон Нетер, Марк Е.Платт, Яйн Смит             18+   \n",
       "...                                                 ...             ...   \n",
       "7481                                        Фил Грабски             12+   \n",
       "7482  Джефф Боулер, Дэниэл Гродник, Луильо Руис, Брэ...             16+   \n",
       "7483                                     Дженнифер Додж              0+   \n",
       "7484                                          Д.Ловейко              0+   \n",
       "7485                                          Д.Ловейко              0+   \n",
       "\n",
       "      refundable_support  nonrefundable_support  budget financing_source  \\\n",
       "0                    0.0                    0.0     0.0               No   \n",
       "1                    0.0                    0.0     0.0               No   \n",
       "2                    0.0                    0.0     0.0               No   \n",
       "3                    0.0                    0.0     0.0               No   \n",
       "4                    0.0                    0.0     0.0               No   \n",
       "...                  ...                    ...     ...              ...   \n",
       "7481                 0.0                    0.0     0.0               No   \n",
       "7482                 0.0                    0.0     0.0               No   \n",
       "7483                 0.0                    0.0     0.0               No   \n",
       "7484                 0.0                    0.0     0.0               No   \n",
       "7485                 0.0                    0.0     0.0               No   \n",
       "\n",
       "      ratings                     genres  box_office  \n",
       "0         7.2     боевик,драма,мелодрама         NaN  \n",
       "1         6.6              драма,военный         NaN  \n",
       "2         6.8  фантастика,боевик,триллер         NaN  \n",
       "3         6.8  фантастика,боевик,триллер         NaN  \n",
       "4         6.8  фантастика,боевик,триллер         NaN  \n",
       "...       ...                        ...         ...  \n",
       "7481      NaN                    unknown         NaN  \n",
       "7482      5.4             боевик,триллер         NaN  \n",
       "7483      NaN                    unknown         NaN  \n",
       "7484      NaN                    unknown         NaN  \n",
       "7485      6.3            комедия,вестерн         NaN  \n",
       "\n",
       "[7486 rows x 16 columns]"
      ]
     },
     "execution_count": 35,
     "metadata": {},
     "output_type": "execute_result"
    }
   ],
   "source": [
    "movies.drop_duplicates().reset_index(drop = True)"
   ]
  },
  {
   "cell_type": "markdown",
   "metadata": {},
   "source": [
    "Я проверила на дубликаты категориальные столбцы. Для этого я привела к нижнему регистру столбец \"title\", а так же удалила пробелы в столбцах \"type\", \"film_studio\", \"financing_source\", \"genres\".\n",
    "\n",
    "Дубликатов не обнаружилось. Количество строк в датасете осталось таким же."
   ]
  },
  {
   "cell_type": "markdown",
   "metadata": {
    "id": "XFSN5lrEgFyR"
   },
   "source": [
    "#### Шаг 2.5. Проверьте количественные значения\n",
    "\n",
    "- Проверьте, обнаружились ли в таких столбцах подозрительные данные. Как с такими данными лучше поступить?\n",
    "\n",
    "<div id=\"accordion\">\n",
    "    <div class=\"card\">\n",
    "        <div class=\"card-header\" id=\"headingThree\">\n",
    "            <button class=\"btn btn-link collapsed\" data-toggle=\"collapse\" data-target=\"#collapseHint_budget\" aria-expanded=\"false\" aria-controls=\"collapseHint_budget\">Подсказка</button>\n",
    "        </div>\n",
    "        <div id=\"collapseHint_budget\" class=\"collapse\" aria-labelledby=\"headingThree\" data-parent=\"#accordion\">\n",
    "            <div class=\"card-body\">\n",
    "Обратите внимание на описание столбца <code>budget</code>. Как этот столбец соотносится с двумя другими: <code>refundable_support</code> и <code>nonrefundable_support</code>?\n",
    "            </div>\n",
    "        </div>\n",
    "    </div>\n",
    "</div>"
   ]
  },
  {
   "cell_type": "markdown",
   "metadata": {},
   "source": [
    "Известно, что в столбце \"budget\" указана полная стоимость производства фильма. \n",
    "\n",
    "В столбцах \"refundable_support\", \"nonrefundable_support\" указана государственная субсидия, которая выделяется государством на съемки фильма. \n",
    "\n",
    "Сумма этих двух столбцов не может превышать сумму бюджета фильма, но может быть меньше, чем бюджет, т.к. продюсеры фильма могли найти деньги на производство в частных (негосударственных) компаниях.\n",
    "\n",
    "Проверим, есть ли строки, где сумма гос.поддержки превышает бюджет фильма."
   ]
  },
  {
   "cell_type": "code",
   "execution_count": 36,
   "metadata": {},
   "outputs": [
    {
     "data": {
      "text/html": [
       "<div>\n",
       "<style scoped>\n",
       "    .dataframe tbody tr th:only-of-type {\n",
       "        vertical-align: middle;\n",
       "    }\n",
       "\n",
       "    .dataframe tbody tr th {\n",
       "        vertical-align: top;\n",
       "    }\n",
       "\n",
       "    .dataframe thead th {\n",
       "        text-align: right;\n",
       "    }\n",
       "</style>\n",
       "<table border=\"1\" class=\"dataframe\">\n",
       "  <thead>\n",
       "    <tr style=\"text-align: right;\">\n",
       "      <th></th>\n",
       "      <th>title</th>\n",
       "      <th>puNumber</th>\n",
       "      <th>show_start_date</th>\n",
       "      <th>type</th>\n",
       "      <th>film_studio</th>\n",
       "      <th>production_country</th>\n",
       "      <th>director</th>\n",
       "      <th>producer</th>\n",
       "      <th>age_restriction</th>\n",
       "      <th>refundable_support</th>\n",
       "      <th>nonrefundable_support</th>\n",
       "      <th>budget</th>\n",
       "      <th>financing_source</th>\n",
       "      <th>ratings</th>\n",
       "      <th>genres</th>\n",
       "      <th>box_office</th>\n",
       "    </tr>\n",
       "  </thead>\n",
       "  <tbody>\n",
       "    <tr>\n",
       "      <th>2053</th>\n",
       "      <td>14+</td>\n",
       "      <td>111023614</td>\n",
       "      <td>2014-12-19 12:00:00</td>\n",
       "      <td>Художественный</td>\n",
       "      <td>ООО Киностудия  \"Сентябрь\"</td>\n",
       "      <td>Россия</td>\n",
       "      <td>А.Зайцев</td>\n",
       "      <td>О.Гранина, А.Зайцев</td>\n",
       "      <td>16+</td>\n",
       "      <td>0.0</td>\n",
       "      <td>23000000.0</td>\n",
       "      <td>0.0</td>\n",
       "      <td>Министерство культуры, Фонд кино</td>\n",
       "      <td>6.6</td>\n",
       "      <td>мелодрама</td>\n",
       "      <td>1.023402e+07</td>\n",
       "    </tr>\n",
       "    <tr>\n",
       "      <th>2058</th>\n",
       "      <td>дуxless 2</td>\n",
       "      <td>111000415</td>\n",
       "      <td>2015-01-26 12:00:00</td>\n",
       "      <td>Художественный</td>\n",
       "      <td>ООО \"Киностудия \"Слово\", ООО \"Арт Пикчерс Студия\"</td>\n",
       "      <td>Россия</td>\n",
       "      <td>Р.Прыгунов</td>\n",
       "      <td>П.Ануров, Ф.Бондарчук, Д.Рудовский</td>\n",
       "      <td>16+</td>\n",
       "      <td>0.0</td>\n",
       "      <td>75000000.0</td>\n",
       "      <td>0.0</td>\n",
       "      <td>Фонд кино</td>\n",
       "      <td>6.6</td>\n",
       "      <td>драма</td>\n",
       "      <td>4.461635e+08</td>\n",
       "    </tr>\n",
       "    <tr>\n",
       "      <th>2472</th>\n",
       "      <td>воин (2015)</td>\n",
       "      <td>111017315</td>\n",
       "      <td>2015-09-28 12:00:00</td>\n",
       "      <td>Художественный</td>\n",
       "      <td>ООО \"Форпост Продакшн\", ООО \"Арт Пикчерс Студия\"</td>\n",
       "      <td>Россия</td>\n",
       "      <td>А.Андрианов</td>\n",
       "      <td>ООО \"Арт Пикчерс Студия\"</td>\n",
       "      <td>12+</td>\n",
       "      <td>10000000.0</td>\n",
       "      <td>70000000.0</td>\n",
       "      <td>0.0</td>\n",
       "      <td>Фонд кино</td>\n",
       "      <td>7.8</td>\n",
       "      <td>боевик,драма,криминал</td>\n",
       "      <td>1.965724e+08</td>\n",
       "    </tr>\n",
       "    <tr>\n",
       "      <th>2532</th>\n",
       "      <td>бармен.</td>\n",
       "      <td>111009615</td>\n",
       "      <td>2015-05-26 12:00:00</td>\n",
       "      <td>Художественный</td>\n",
       "      <td>АО \"ВайТ Медиа\", ООО \"Арт Пикчерс Студия\"</td>\n",
       "      <td>Россия</td>\n",
       "      <td>Д.Штурманова</td>\n",
       "      <td>Т.Вайнштейн</td>\n",
       "      <td>16+</td>\n",
       "      <td>20000000.0</td>\n",
       "      <td>0.0</td>\n",
       "      <td>0.0</td>\n",
       "      <td>Фонд кино</td>\n",
       "      <td>6.2</td>\n",
       "      <td>комедия,фэнтези</td>\n",
       "      <td>6.741897e+07</td>\n",
       "    </tr>\n",
       "    <tr>\n",
       "      <th>2615</th>\n",
       "      <td>савва. сердце воина</td>\n",
       "      <td>114001715</td>\n",
       "      <td>2015-07-21 12:00:00</td>\n",
       "      <td>Анимационный</td>\n",
       "      <td>ООО \"Глюкоза Продакшн\", ООО \"Арт Пикчерс Студия\"</td>\n",
       "      <td>Россия</td>\n",
       "      <td>М.Фадеев</td>\n",
       "      <td>А.Чистяков</td>\n",
       "      <td>6+</td>\n",
       "      <td>60000000.0</td>\n",
       "      <td>100000000.0</td>\n",
       "      <td>0.0</td>\n",
       "      <td>Фонд кино</td>\n",
       "      <td>4.6</td>\n",
       "      <td>мультфильм,приключения,фэнтези</td>\n",
       "      <td>1.844876e+08</td>\n",
       "    </tr>\n",
       "    <tr>\n",
       "      <th>2684</th>\n",
       "      <td>тряпичный союз</td>\n",
       "      <td>111010215</td>\n",
       "      <td>2015-06-08 12:00:00</td>\n",
       "      <td>Художественный</td>\n",
       "      <td>ООО \"Кинокомпания \"КОКТЕБЕЛЬ\"</td>\n",
       "      <td>Россия</td>\n",
       "      <td>М.Местецкий</td>\n",
       "      <td>Р.Борисевич, А.Кушаев</td>\n",
       "      <td>18+</td>\n",
       "      <td>0.0</td>\n",
       "      <td>59000000.0</td>\n",
       "      <td>0.0</td>\n",
       "      <td>Фонд кино</td>\n",
       "      <td>6.3</td>\n",
       "      <td>комедия,драма</td>\n",
       "      <td>1.957739e+06</td>\n",
       "    </tr>\n",
       "    <tr>\n",
       "      <th>2788</th>\n",
       "      <td>срочно выйду замуж</td>\n",
       "      <td>111017115</td>\n",
       "      <td>2015-09-30 12:00:00</td>\n",
       "      <td>Художественный</td>\n",
       "      <td>АО \"ВайТ Медиа\", ООО \"Арт Пикчерс Студия\"</td>\n",
       "      <td>Россия</td>\n",
       "      <td>С Чекалов</td>\n",
       "      <td>Ф.Бондарчук, Т.Вайнштейн, Д.Рудовский</td>\n",
       "      <td>16+</td>\n",
       "      <td>0.0</td>\n",
       "      <td>35000000.0</td>\n",
       "      <td>0.0</td>\n",
       "      <td>Фонд кино</td>\n",
       "      <td>5.1</td>\n",
       "      <td>комедия,мелодрама</td>\n",
       "      <td>7.293778e+07</td>\n",
       "    </tr>\n",
       "    <tr>\n",
       "      <th>2874</th>\n",
       "      <td>помню - не помню!</td>\n",
       "      <td>111004916</td>\n",
       "      <td>2016-03-01 12:00:00</td>\n",
       "      <td>Художественный</td>\n",
       "      <td>ООО \"КиноФирма\"</td>\n",
       "      <td>Россия</td>\n",
       "      <td>В.Ровенский</td>\n",
       "      <td>ООО \"КиноФирма\"</td>\n",
       "      <td>12+</td>\n",
       "      <td>0.0</td>\n",
       "      <td>6000000.0</td>\n",
       "      <td>0.0</td>\n",
       "      <td>Министерство культуры</td>\n",
       "      <td>4.3</td>\n",
       "      <td>комедия</td>\n",
       "      <td>1.536293e+07</td>\n",
       "    </tr>\n",
       "    <tr>\n",
       "      <th>3047</th>\n",
       "      <td>любовь с ограничениями</td>\n",
       "      <td>111008216</td>\n",
       "      <td>2016-04-29 12:00:00</td>\n",
       "      <td>Художественный</td>\n",
       "      <td>АО \"ВайТ Медиа\", ООО \"Арт Пикчерс Студия\"</td>\n",
       "      <td>Россия</td>\n",
       "      <td>Д.Тюрин</td>\n",
       "      <td>Ф.Бондарчук, Т.Вайнштейн, Д.Рудовский</td>\n",
       "      <td>16+</td>\n",
       "      <td>19000000.0</td>\n",
       "      <td>51000000.0</td>\n",
       "      <td>0.0</td>\n",
       "      <td>Фонд кино</td>\n",
       "      <td>6.3</td>\n",
       "      <td>комедия,мелодрама</td>\n",
       "      <td>7.029905e+07</td>\n",
       "    </tr>\n",
       "    <tr>\n",
       "      <th>3565</th>\n",
       "      <td>притяжение (2016)</td>\n",
       "      <td>111018116</td>\n",
       "      <td>2016-12-16 12:00:00</td>\n",
       "      <td>Художественный</td>\n",
       "      <td>ООО \"Водород 2011\",  ООО \"Арт Пикчерс Студия\"</td>\n",
       "      <td>Россия</td>\n",
       "      <td>Ф.Бондарчук</td>\n",
       "      <td>ООО \"Арт Пикчерс Студия\"</td>\n",
       "      <td>12+</td>\n",
       "      <td>0.0</td>\n",
       "      <td>250000000.0</td>\n",
       "      <td>0.0</td>\n",
       "      <td>Фонд кино</td>\n",
       "      <td>5.6</td>\n",
       "      <td>фантастика</td>\n",
       "      <td>1.038321e+09</td>\n",
       "    </tr>\n",
       "    <tr>\n",
       "      <th>3675</th>\n",
       "      <td>чудо-юдо</td>\n",
       "      <td>114001817</td>\n",
       "      <td>2017-06-27 12:00:00</td>\n",
       "      <td>Анимационный</td>\n",
       "      <td>ООО \"КиноФирма\"</td>\n",
       "      <td>Россия</td>\n",
       "      <td>А.Лукичев</td>\n",
       "      <td>ООО \"КиноФирма\"</td>\n",
       "      <td>6+</td>\n",
       "      <td>20000000.0</td>\n",
       "      <td>20000000.0</td>\n",
       "      <td>0.0</td>\n",
       "      <td>Фонд кино</td>\n",
       "      <td>5.2</td>\n",
       "      <td>мультфильм,фэнтези,семейный</td>\n",
       "      <td>5.510801e+07</td>\n",
       "    </tr>\n",
       "    <tr>\n",
       "      <th>3739</th>\n",
       "      <td>мифы</td>\n",
       "      <td>111004317</td>\n",
       "      <td>2017-06-07 12:00:00</td>\n",
       "      <td>Художественный</td>\n",
       "      <td>ООО \"ХАЙПФИЛМ\", ООО \"Арт Пикчерс Студия\"</td>\n",
       "      <td>Россия</td>\n",
       "      <td>А.Молочников</td>\n",
       "      <td>Ф.Бондарчук, Д.Рудовский, И.Стюарт, М.Османн, ...</td>\n",
       "      <td>16+</td>\n",
       "      <td>25000000.0</td>\n",
       "      <td>20000000.0</td>\n",
       "      <td>0.0</td>\n",
       "      <td>Фонд кино</td>\n",
       "      <td>4.8</td>\n",
       "      <td>комедия</td>\n",
       "      <td>5.045195e+07</td>\n",
       "    </tr>\n",
       "    <tr>\n",
       "      <th>5673</th>\n",
       "      <td>селфи</td>\n",
       "      <td>111012117</td>\n",
       "      <td>2018-02-01 12:00:00</td>\n",
       "      <td>Художественный</td>\n",
       "      <td>ООО \"Киностудия \"Слово\", ООО \"Арт Пикчерс Студия\"</td>\n",
       "      <td>Россия</td>\n",
       "      <td>Н.Хомерики</td>\n",
       "      <td>П.Ануров, Ф.Бондарчук, Д.Рудовский</td>\n",
       "      <td>16+</td>\n",
       "      <td>20000000.0</td>\n",
       "      <td>40000000.0</td>\n",
       "      <td>0.0</td>\n",
       "      <td>Фонд кино</td>\n",
       "      <td>5.8</td>\n",
       "      <td>триллер,драма</td>\n",
       "      <td>2.251964e+08</td>\n",
       "    </tr>\n",
       "    <tr>\n",
       "      <th>5806</th>\n",
       "      <td>два хвоста</td>\n",
       "      <td>114001018</td>\n",
       "      <td>2018-05-31 12:00:00</td>\n",
       "      <td>Анимационный</td>\n",
       "      <td>ООО \"ЛИЦЕНЗИОННЫЕ БРЕНДЫ\"</td>\n",
       "      <td>Россия</td>\n",
       "      <td>В.Ровенский, Н.Лопато, В.Азеев</td>\n",
       "      <td>ООО \"ЛИЦЕНЗИОННЫЕ БРЕНДЫ\"</td>\n",
       "      <td>6+</td>\n",
       "      <td>10000000.0</td>\n",
       "      <td>60000000.0</td>\n",
       "      <td>0.0</td>\n",
       "      <td>Фонд кино</td>\n",
       "      <td>5.0</td>\n",
       "      <td>мультфильм,детский</td>\n",
       "      <td>1.065143e+08</td>\n",
       "    </tr>\n",
       "    <tr>\n",
       "      <th>6008</th>\n",
       "      <td>принцесса и дракон</td>\n",
       "      <td>114003018</td>\n",
       "      <td>2018-08-23 12:00:00</td>\n",
       "      <td>Анимационный</td>\n",
       "      <td>ООО \"ЛИЦЕНЗИОННЫЕ БРЕНДЫ\"</td>\n",
       "      <td>Россия</td>\n",
       "      <td>М.Нефедова</td>\n",
       "      <td>ООО \"ЛИЦЕНЗИОННЫЕ БРЕНДЫ\"</td>\n",
       "      <td>6+</td>\n",
       "      <td>40000000.0</td>\n",
       "      <td>40000000.0</td>\n",
       "      <td>0.0</td>\n",
       "      <td>Фонд кино</td>\n",
       "      <td>5.2</td>\n",
       "      <td>мультфильм,фэнтези,детский</td>\n",
       "      <td>8.336633e+07</td>\n",
       "    </tr>\n",
       "    <tr>\n",
       "      <th>6323</th>\n",
       "      <td>баба яга</td>\n",
       "      <td>114006518</td>\n",
       "      <td>2018-11-08 12:00:00</td>\n",
       "      <td>Анимационный</td>\n",
       "      <td>ООО \"Арт Пикчерс Студия\"</td>\n",
       "      <td>Россия</td>\n",
       "      <td>В.Саков</td>\n",
       "      <td>ООО \"Арт Пикчерс Студия\", ООО \"КРИЭЙТИВ АНИМЭЙ...</td>\n",
       "      <td>6+</td>\n",
       "      <td>0.0</td>\n",
       "      <td>138969465.0</td>\n",
       "      <td>0.0</td>\n",
       "      <td>Фонд кино</td>\n",
       "      <td>NaN</td>\n",
       "      <td>unknown</td>\n",
       "      <td>1.334699e+06</td>\n",
       "    </tr>\n",
       "    <tr>\n",
       "      <th>6823</th>\n",
       "      <td>большое путешествие</td>\n",
       "      <td>114002419</td>\n",
       "      <td>2019-04-20 12:00:00</td>\n",
       "      <td>Анимационный</td>\n",
       "      <td>ООО \"ЛИЦЕНЗИОННЫЕ БРЕНДЫ\"</td>\n",
       "      <td>Россия</td>\n",
       "      <td>Н.Лопато, В.Ровенский</td>\n",
       "      <td>ООО \"ЛИЦЕНЗИОННЫЕ БРЕНДЫ\"</td>\n",
       "      <td>6+</td>\n",
       "      <td>60000000.0</td>\n",
       "      <td>120000000.0</td>\n",
       "      <td>0.0</td>\n",
       "      <td>Фонд кино</td>\n",
       "      <td>6.2</td>\n",
       "      <td>мультфильм,комедия,приключения</td>\n",
       "      <td>1.476068e+08</td>\n",
       "    </tr>\n",
       "  </tbody>\n",
       "</table>\n",
       "</div>"
      ],
      "text/plain": [
       "                       title   puNumber     show_start_date            type  \\\n",
       "2053                     14+  111023614 2014-12-19 12:00:00  Художественный   \n",
       "2058               дуxless 2  111000415 2015-01-26 12:00:00  Художественный   \n",
       "2472             воин (2015)  111017315 2015-09-28 12:00:00  Художественный   \n",
       "2532                 бармен.  111009615 2015-05-26 12:00:00  Художественный   \n",
       "2615     савва. сердце воина  114001715 2015-07-21 12:00:00    Анимационный   \n",
       "2684          тряпичный союз  111010215 2015-06-08 12:00:00  Художественный   \n",
       "2788      срочно выйду замуж  111017115 2015-09-30 12:00:00  Художественный   \n",
       "2874       помню - не помню!  111004916 2016-03-01 12:00:00  Художественный   \n",
       "3047  любовь с ограничениями  111008216 2016-04-29 12:00:00  Художественный   \n",
       "3565       притяжение (2016)  111018116 2016-12-16 12:00:00  Художественный   \n",
       "3675                чудо-юдо  114001817 2017-06-27 12:00:00    Анимационный   \n",
       "3739                    мифы  111004317 2017-06-07 12:00:00  Художественный   \n",
       "5673                   селфи  111012117 2018-02-01 12:00:00  Художественный   \n",
       "5806              два хвоста  114001018 2018-05-31 12:00:00    Анимационный   \n",
       "6008      принцесса и дракон  114003018 2018-08-23 12:00:00    Анимационный   \n",
       "6323                баба яга  114006518 2018-11-08 12:00:00    Анимационный   \n",
       "6823     большое путешествие  114002419 2019-04-20 12:00:00    Анимационный   \n",
       "\n",
       "                                            film_studio production_country  \\\n",
       "2053                         ООО Киностудия  \"Сентябрь\"             Россия   \n",
       "2058  ООО \"Киностудия \"Слово\", ООО \"Арт Пикчерс Студия\"             Россия   \n",
       "2472   ООО \"Форпост Продакшн\", ООО \"Арт Пикчерс Студия\"             Россия   \n",
       "2532          АО \"ВайТ Медиа\", ООО \"Арт Пикчерс Студия\"             Россия   \n",
       "2615   ООО \"Глюкоза Продакшн\", ООО \"Арт Пикчерс Студия\"             Россия   \n",
       "2684                      ООО \"Кинокомпания \"КОКТЕБЕЛЬ\"             Россия   \n",
       "2788          АО \"ВайТ Медиа\", ООО \"Арт Пикчерс Студия\"             Россия   \n",
       "2874                                    ООО \"КиноФирма\"             Россия   \n",
       "3047          АО \"ВайТ Медиа\", ООО \"Арт Пикчерс Студия\"             Россия   \n",
       "3565      ООО \"Водород 2011\",  ООО \"Арт Пикчерс Студия\"             Россия   \n",
       "3675                                    ООО \"КиноФирма\"             Россия   \n",
       "3739           ООО \"ХАЙПФИЛМ\", ООО \"Арт Пикчерс Студия\"             Россия   \n",
       "5673  ООО \"Киностудия \"Слово\", ООО \"Арт Пикчерс Студия\"             Россия   \n",
       "5806                          ООО \"ЛИЦЕНЗИОННЫЕ БРЕНДЫ\"             Россия   \n",
       "6008                          ООО \"ЛИЦЕНЗИОННЫЕ БРЕНДЫ\"             Россия   \n",
       "6323                           ООО \"Арт Пикчерс Студия\"             Россия   \n",
       "6823                          ООО \"ЛИЦЕНЗИОННЫЕ БРЕНДЫ\"             Россия   \n",
       "\n",
       "                            director  \\\n",
       "2053                        А.Зайцев   \n",
       "2058                      Р.Прыгунов   \n",
       "2472                     А.Андрианов   \n",
       "2532                    Д.Штурманова   \n",
       "2615                        М.Фадеев   \n",
       "2684                     М.Местецкий   \n",
       "2788                       С Чекалов   \n",
       "2874                     В.Ровенский   \n",
       "3047                         Д.Тюрин   \n",
       "3565                     Ф.Бондарчук   \n",
       "3675                       А.Лукичев   \n",
       "3739                    А.Молочников   \n",
       "5673                      Н.Хомерики   \n",
       "5806  В.Ровенский, Н.Лопато, В.Азеев   \n",
       "6008                      М.Нефедова   \n",
       "6323                         В.Саков   \n",
       "6823           Н.Лопато, В.Ровенский   \n",
       "\n",
       "                                               producer age_restriction  \\\n",
       "2053                                О.Гранина, А.Зайцев             16+   \n",
       "2058                 П.Ануров, Ф.Бондарчук, Д.Рудовский             16+   \n",
       "2472                           ООО \"Арт Пикчерс Студия\"             12+   \n",
       "2532                                        Т.Вайнштейн             16+   \n",
       "2615                                         А.Чистяков              6+   \n",
       "2684                              Р.Борисевич, А.Кушаев             18+   \n",
       "2788              Ф.Бондарчук, Т.Вайнштейн, Д.Рудовский             16+   \n",
       "2874                                    ООО \"КиноФирма\"             12+   \n",
       "3047              Ф.Бондарчук, Т.Вайнштейн, Д.Рудовский             16+   \n",
       "3565                           ООО \"Арт Пикчерс Студия\"             12+   \n",
       "3675                                    ООО \"КиноФирма\"              6+   \n",
       "3739  Ф.Бондарчук, Д.Рудовский, И.Стюарт, М.Османн, ...             16+   \n",
       "5673                 П.Ануров, Ф.Бондарчук, Д.Рудовский             16+   \n",
       "5806                          ООО \"ЛИЦЕНЗИОННЫЕ БРЕНДЫ\"              6+   \n",
       "6008                          ООО \"ЛИЦЕНЗИОННЫЕ БРЕНДЫ\"              6+   \n",
       "6323  ООО \"Арт Пикчерс Студия\", ООО \"КРИЭЙТИВ АНИМЭЙ...              6+   \n",
       "6823                          ООО \"ЛИЦЕНЗИОННЫЕ БРЕНДЫ\"              6+   \n",
       "\n",
       "      refundable_support  nonrefundable_support  budget  \\\n",
       "2053                 0.0             23000000.0     0.0   \n",
       "2058                 0.0             75000000.0     0.0   \n",
       "2472          10000000.0             70000000.0     0.0   \n",
       "2532          20000000.0                    0.0     0.0   \n",
       "2615          60000000.0            100000000.0     0.0   \n",
       "2684                 0.0             59000000.0     0.0   \n",
       "2788                 0.0             35000000.0     0.0   \n",
       "2874                 0.0              6000000.0     0.0   \n",
       "3047          19000000.0             51000000.0     0.0   \n",
       "3565                 0.0            250000000.0     0.0   \n",
       "3675          20000000.0             20000000.0     0.0   \n",
       "3739          25000000.0             20000000.0     0.0   \n",
       "5673          20000000.0             40000000.0     0.0   \n",
       "5806          10000000.0             60000000.0     0.0   \n",
       "6008          40000000.0             40000000.0     0.0   \n",
       "6323                 0.0            138969465.0     0.0   \n",
       "6823          60000000.0            120000000.0     0.0   \n",
       "\n",
       "                      financing_source  ratings  \\\n",
       "2053  Министерство культуры, Фонд кино      6.6   \n",
       "2058                         Фонд кино      6.6   \n",
       "2472                         Фонд кино      7.8   \n",
       "2532                         Фонд кино      6.2   \n",
       "2615                         Фонд кино      4.6   \n",
       "2684                         Фонд кино      6.3   \n",
       "2788                         Фонд кино      5.1   \n",
       "2874             Министерство культуры      4.3   \n",
       "3047                         Фонд кино      6.3   \n",
       "3565                         Фонд кино      5.6   \n",
       "3675                         Фонд кино      5.2   \n",
       "3739                         Фонд кино      4.8   \n",
       "5673                         Фонд кино      5.8   \n",
       "5806                         Фонд кино      5.0   \n",
       "6008                         Фонд кино      5.2   \n",
       "6323                         Фонд кино      NaN   \n",
       "6823                         Фонд кино      6.2   \n",
       "\n",
       "                              genres    box_office  \n",
       "2053                       мелодрама  1.023402e+07  \n",
       "2058                           драма  4.461635e+08  \n",
       "2472           боевик,драма,криминал  1.965724e+08  \n",
       "2532                 комедия,фэнтези  6.741897e+07  \n",
       "2615  мультфильм,приключения,фэнтези  1.844876e+08  \n",
       "2684                   комедия,драма  1.957739e+06  \n",
       "2788               комедия,мелодрама  7.293778e+07  \n",
       "2874                         комедия  1.536293e+07  \n",
       "3047               комедия,мелодрама  7.029905e+07  \n",
       "3565                      фантастика  1.038321e+09  \n",
       "3675     мультфильм,фэнтези,семейный  5.510801e+07  \n",
       "3739                         комедия  5.045195e+07  \n",
       "5673                   триллер,драма  2.251964e+08  \n",
       "5806              мультфильм,детский  1.065143e+08  \n",
       "6008      мультфильм,фэнтези,детский  8.336633e+07  \n",
       "6323                         unknown  1.334699e+06  \n",
       "6823  мультфильм,комедия,приключения  1.476068e+08  "
      ]
     },
     "execution_count": 36,
     "metadata": {},
     "output_type": "execute_result"
    }
   ],
   "source": [
    "movies.loc[movies['refundable_support'] + movies['nonrefundable_support'] > movies['budget']]"
   ]
  },
  {
   "cell_type": "markdown",
   "metadata": {},
   "source": [
    "Да, такие данные нашлись. Видно, что бюджет таких фильмов указан 0. Такого не может быть. Здесь явная ошибка в данных.\n",
    "\n",
    "Чтобы ее исправить, я в такие ячейки столбца \"budget\" запишу сумму столбцов \"refundable_support\" и \"nonrefundable_support\". Будем считать, что эти фильмы сняты только засчет гос.поддержки. "
   ]
  },
  {
   "cell_type": "code",
   "execution_count": 37,
   "metadata": {},
   "outputs": [],
   "source": [
    "i=0\n",
    "for fin in movies['budget']:\n",
    "    ref = movies.loc[i,'refundable_support']\n",
    "    nonref = movies.loc[i,'nonrefundable_support']\n",
    "    if ref + nonref > movies.loc[i,'budget']:\n",
    "        movies.loc[i,'budget'] = ref + nonref\n",
    "    i+=1\n",
    "  "
   ]
  },
  {
   "cell_type": "markdown",
   "metadata": {},
   "source": [
    "Посмотрим, есть ли фильмы, где бюджет ненулевой (т.е. в данном случае это фильмы, снятые с гос.поддержкой), но в то же время подозрительно маленький. \n",
    "\n",
    "Посмотрю, сколько фильмов потратили на производство менее 10 млн. рублей"
   ]
  },
  {
   "cell_type": "code",
   "execution_count": 43,
   "metadata": {
    "scrolled": true
   },
   "outputs": [
    {
     "data": {
      "text/html": [
       "<div>\n",
       "<style scoped>\n",
       "    .dataframe tbody tr th:only-of-type {\n",
       "        vertical-align: middle;\n",
       "    }\n",
       "\n",
       "    .dataframe tbody tr th {\n",
       "        vertical-align: top;\n",
       "    }\n",
       "\n",
       "    .dataframe thead th {\n",
       "        text-align: right;\n",
       "    }\n",
       "</style>\n",
       "<table border=\"1\" class=\"dataframe\">\n",
       "  <thead>\n",
       "    <tr style=\"text-align: right;\">\n",
       "      <th></th>\n",
       "      <th>title</th>\n",
       "      <th>puNumber</th>\n",
       "      <th>show_start_date</th>\n",
       "      <th>type</th>\n",
       "      <th>film_studio</th>\n",
       "      <th>production_country</th>\n",
       "      <th>director</th>\n",
       "      <th>producer</th>\n",
       "      <th>age_restriction</th>\n",
       "      <th>refundable_support</th>\n",
       "      <th>nonrefundable_support</th>\n",
       "      <th>budget</th>\n",
       "      <th>financing_source</th>\n",
       "      <th>ratings</th>\n",
       "      <th>genres</th>\n",
       "      <th>box_office</th>\n",
       "      <th>year</th>\n",
       "      <th>main_director</th>\n",
       "      <th>main_genre</th>\n",
       "    </tr>\n",
       "  </thead>\n",
       "  <tbody>\n",
       "    <tr>\n",
       "      <th>2874</th>\n",
       "      <td>помню - не помню!</td>\n",
       "      <td>111004916</td>\n",
       "      <td>2016-03-01 12:00:00</td>\n",
       "      <td>Художественный</td>\n",
       "      <td>ООО \"КиноФирма\"</td>\n",
       "      <td>Россия</td>\n",
       "      <td>В.Ровенский</td>\n",
       "      <td>ООО \"КиноФирма\"</td>\n",
       "      <td>12+</td>\n",
       "      <td>0.0</td>\n",
       "      <td>6000000.0</td>\n",
       "      <td>6000000.0</td>\n",
       "      <td>Министерство культуры</td>\n",
       "      <td>4.3</td>\n",
       "      <td>комедия</td>\n",
       "      <td>15362931.43</td>\n",
       "      <td>2016</td>\n",
       "      <td>В.Ровенский</td>\n",
       "      <td>комедия</td>\n",
       "    </tr>\n",
       "  </tbody>\n",
       "</table>\n",
       "</div>"
      ],
      "text/plain": [
       "                  title   puNumber     show_start_date            type  \\\n",
       "2874  помню - не помню!  111004916 2016-03-01 12:00:00  Художественный   \n",
       "\n",
       "          film_studio production_country     director          producer  \\\n",
       "2874  ООО \"КиноФирма\"             Россия  В.Ровенский   ООО \"КиноФирма\"   \n",
       "\n",
       "     age_restriction  refundable_support  nonrefundable_support     budget  \\\n",
       "2874             12+                 0.0              6000000.0  6000000.0   \n",
       "\n",
       "           financing_source  ratings   genres   box_office  year  \\\n",
       "2874  Министерство культуры      4.3  комедия  15362931.43  2016   \n",
       "\n",
       "     main_director main_genre  \n",
       "2874   В.Ровенский    комедия  "
      ]
     },
     "execution_count": 43,
     "metadata": {},
     "output_type": "execute_result"
    }
   ],
   "source": [
    "movies.loc[(movies['budget'] < 10**7) & (movies['budget'] > 0.0)]"
   ]
  },
  {
   "cell_type": "markdown",
   "metadata": {},
   "source": [
    "Такой фильм всего один. Остальные тратят на производство более 10 млн.рублей - это адекватно."
   ]
  },
  {
   "cell_type": "markdown",
   "metadata": {},
   "source": [
    "Посмотрю, есть ли фильмы с аномально низкими кассовыми сборами в кинотеатрах, допустим менее 10 тыс.рублей"
   ]
  },
  {
   "cell_type": "code",
   "execution_count": 44,
   "metadata": {},
   "outputs": [
    {
     "data": {
      "text/html": [
       "<div>\n",
       "<style scoped>\n",
       "    .dataframe tbody tr th:only-of-type {\n",
       "        vertical-align: middle;\n",
       "    }\n",
       "\n",
       "    .dataframe tbody tr th {\n",
       "        vertical-align: top;\n",
       "    }\n",
       "\n",
       "    .dataframe thead th {\n",
       "        text-align: right;\n",
       "    }\n",
       "</style>\n",
       "<table border=\"1\" class=\"dataframe\">\n",
       "  <thead>\n",
       "    <tr style=\"text-align: right;\">\n",
       "      <th></th>\n",
       "      <th>title</th>\n",
       "      <th>puNumber</th>\n",
       "      <th>show_start_date</th>\n",
       "      <th>type</th>\n",
       "      <th>film_studio</th>\n",
       "      <th>production_country</th>\n",
       "      <th>director</th>\n",
       "      <th>producer</th>\n",
       "      <th>age_restriction</th>\n",
       "      <th>refundable_support</th>\n",
       "      <th>nonrefundable_support</th>\n",
       "      <th>budget</th>\n",
       "      <th>financing_source</th>\n",
       "      <th>ratings</th>\n",
       "      <th>genres</th>\n",
       "      <th>box_office</th>\n",
       "      <th>year</th>\n",
       "      <th>main_director</th>\n",
       "      <th>main_genre</th>\n",
       "    </tr>\n",
       "  </thead>\n",
       "  <tbody>\n",
       "    <tr>\n",
       "      <th>6</th>\n",
       "      <td>любовь и голуби</td>\n",
       "      <td>111007013</td>\n",
       "      <td>2013-10-18 12:00:00</td>\n",
       "      <td>Художественный</td>\n",
       "      <td>Киностудия \"Мосфильм\"</td>\n",
       "      <td>СССР</td>\n",
       "      <td>В.Меньшов</td>\n",
       "      <td>unknown</td>\n",
       "      <td>12+</td>\n",
       "      <td>0.0</td>\n",
       "      <td>0.0</td>\n",
       "      <td>0.0</td>\n",
       "      <td>No</td>\n",
       "      <td>8.3</td>\n",
       "      <td>мелодрама,комедия</td>\n",
       "      <td>2700.0</td>\n",
       "      <td>2013</td>\n",
       "      <td>В.Меньшов</td>\n",
       "      <td>мелодрама</td>\n",
       "    </tr>\n",
       "    <tr>\n",
       "      <th>18</th>\n",
       "      <td>неподдающиеся</td>\n",
       "      <td>111003616</td>\n",
       "      <td>2016-02-12 12:00:00</td>\n",
       "      <td>Художественный</td>\n",
       "      <td>Киностудия \"Мосфильм\"</td>\n",
       "      <td>СССР</td>\n",
       "      <td>Ю.Чулюкин</td>\n",
       "      <td>unknown</td>\n",
       "      <td>6+</td>\n",
       "      <td>0.0</td>\n",
       "      <td>0.0</td>\n",
       "      <td>0.0</td>\n",
       "      <td>No</td>\n",
       "      <td>8.0</td>\n",
       "      <td>мелодрама,комедия</td>\n",
       "      <td>360.0</td>\n",
       "      <td>2016</td>\n",
       "      <td>Ю.Чулюкин</td>\n",
       "      <td>мелодрама</td>\n",
       "    </tr>\n",
       "    <tr>\n",
       "      <th>19</th>\n",
       "      <td>неподсуден</td>\n",
       "      <td>111003716</td>\n",
       "      <td>2016-02-12 12:00:00</td>\n",
       "      <td>Художественный</td>\n",
       "      <td>Киностудия \"Мосфильм\"</td>\n",
       "      <td>СССР</td>\n",
       "      <td>В.Краснопольский, В.Усков</td>\n",
       "      <td>unknown</td>\n",
       "      <td>6+</td>\n",
       "      <td>0.0</td>\n",
       "      <td>0.0</td>\n",
       "      <td>0.0</td>\n",
       "      <td>No</td>\n",
       "      <td>7.7</td>\n",
       "      <td>драма</td>\n",
       "      <td>420.0</td>\n",
       "      <td>2016</td>\n",
       "      <td>В.Краснопольский</td>\n",
       "      <td>драма</td>\n",
       "    </tr>\n",
       "    <tr>\n",
       "      <th>22</th>\n",
       "      <td>операция \"ы\" и другие приключения шурика</td>\n",
       "      <td>111007413</td>\n",
       "      <td>2013-10-18 12:00:00</td>\n",
       "      <td>Художественный</td>\n",
       "      <td>Киностудия \"Мосфильм\"</td>\n",
       "      <td>СССР</td>\n",
       "      <td>Л.Гайдай</td>\n",
       "      <td>unknown</td>\n",
       "      <td>6+</td>\n",
       "      <td>0.0</td>\n",
       "      <td>0.0</td>\n",
       "      <td>0.0</td>\n",
       "      <td>No</td>\n",
       "      <td>8.7</td>\n",
       "      <td>комедия,мелодрама,криминал</td>\n",
       "      <td>380.0</td>\n",
       "      <td>2013</td>\n",
       "      <td>Л.Гайдай</td>\n",
       "      <td>комедия</td>\n",
       "    </tr>\n",
       "    <tr>\n",
       "      <th>38</th>\n",
       "      <td>мужики!..</td>\n",
       "      <td>111007213</td>\n",
       "      <td>2013-10-18 12:00:00</td>\n",
       "      <td>Художественный</td>\n",
       "      <td>Киностудия \"Мосфильм\"</td>\n",
       "      <td>СССР</td>\n",
       "      <td>И.Бабич</td>\n",
       "      <td>unknown</td>\n",
       "      <td>6+</td>\n",
       "      <td>0.0</td>\n",
       "      <td>0.0</td>\n",
       "      <td>0.0</td>\n",
       "      <td>No</td>\n",
       "      <td>8.1</td>\n",
       "      <td>драма</td>\n",
       "      <td>1165.0</td>\n",
       "      <td>2013</td>\n",
       "      <td>И.Бабич</td>\n",
       "      <td>драма</td>\n",
       "    </tr>\n",
       "    <tr>\n",
       "      <th>...</th>\n",
       "      <td>...</td>\n",
       "      <td>...</td>\n",
       "      <td>...</td>\n",
       "      <td>...</td>\n",
       "      <td>...</td>\n",
       "      <td>...</td>\n",
       "      <td>...</td>\n",
       "      <td>...</td>\n",
       "      <td>...</td>\n",
       "      <td>...</td>\n",
       "      <td>...</td>\n",
       "      <td>...</td>\n",
       "      <td>...</td>\n",
       "      <td>...</td>\n",
       "      <td>...</td>\n",
       "      <td>...</td>\n",
       "      <td>...</td>\n",
       "      <td>...</td>\n",
       "      <td>...</td>\n",
       "    </tr>\n",
       "    <tr>\n",
       "      <th>5380</th>\n",
       "      <td>шпион</td>\n",
       "      <td>111009411</td>\n",
       "      <td>2011-12-09 12:00:00</td>\n",
       "      <td>Художественный</td>\n",
       "      <td>ООО \"Студия \"ТРИТЭ\" Никиты Михалкова</td>\n",
       "      <td>Россия</td>\n",
       "      <td>А.Андрианов</td>\n",
       "      <td>С.Шумаков, Л.Верещагин</td>\n",
       "      <td>16+</td>\n",
       "      <td>0.0</td>\n",
       "      <td>0.0</td>\n",
       "      <td>0.0</td>\n",
       "      <td>No</td>\n",
       "      <td>7.1</td>\n",
       "      <td>боевик,комедия,криминал</td>\n",
       "      <td>5405.0</td>\n",
       "      <td>2011</td>\n",
       "      <td>А.Андрианов</td>\n",
       "      <td>боевик</td>\n",
       "    </tr>\n",
       "    <tr>\n",
       "      <th>5388</th>\n",
       "      <td>воин.com</td>\n",
       "      <td>111004411</td>\n",
       "      <td>2011-07-04 12:00:00</td>\n",
       "      <td>Художественный</td>\n",
       "      <td>ООО \"Культурные инициативы\"</td>\n",
       "      <td>Россия</td>\n",
       "      <td>Е.Бычкова</td>\n",
       "      <td>В.Малышев, А.Малышев</td>\n",
       "      <td>12+</td>\n",
       "      <td>0.0</td>\n",
       "      <td>0.0</td>\n",
       "      <td>0.0</td>\n",
       "      <td>No</td>\n",
       "      <td>4.7</td>\n",
       "      <td>комедия</td>\n",
       "      <td>465.0</td>\n",
       "      <td>2011</td>\n",
       "      <td>Е.Бычкова</td>\n",
       "      <td>комедия</td>\n",
       "    </tr>\n",
       "    <tr>\n",
       "      <th>5389</th>\n",
       "      <td>кунг-фу панда 2.</td>\n",
       "      <td>224021411</td>\n",
       "      <td>2011-11-15 12:00:00</td>\n",
       "      <td>Анимационный</td>\n",
       "      <td>ДримУоркс Анимэйшн</td>\n",
       "      <td>США</td>\n",
       "      <td>Дженнифер Ю</td>\n",
       "      <td>Мелисса Кобб, Джонатан Айбел, Гленн Бергер</td>\n",
       "      <td>0+</td>\n",
       "      <td>0.0</td>\n",
       "      <td>0.0</td>\n",
       "      <td>0.0</td>\n",
       "      <td>No</td>\n",
       "      <td>7.4</td>\n",
       "      <td>мультфильм,фэнтези,боевик</td>\n",
       "      <td>9270.0</td>\n",
       "      <td>2011</td>\n",
       "      <td>Дженнифер Ю</td>\n",
       "      <td>мультфильм</td>\n",
       "    </tr>\n",
       "    <tr>\n",
       "      <th>6581</th>\n",
       "      <td>время собирать цветы</td>\n",
       "      <td>112025118</td>\n",
       "      <td>2019-01-01 12:00:00</td>\n",
       "      <td>Документальный</td>\n",
       "      <td>ООО \"Краеведофф\"</td>\n",
       "      <td>Россия</td>\n",
       "      <td>Г.Щерба</td>\n",
       "      <td>О.Ракшин</td>\n",
       "      <td>12+</td>\n",
       "      <td>0.0</td>\n",
       "      <td>0.0</td>\n",
       "      <td>0.0</td>\n",
       "      <td>No</td>\n",
       "      <td>NaN</td>\n",
       "      <td>unknown</td>\n",
       "      <td>7175.0</td>\n",
       "      <td>2019</td>\n",
       "      <td>Г.Щерба</td>\n",
       "      <td>unknown</td>\n",
       "    </tr>\n",
       "    <tr>\n",
       "      <th>6804</th>\n",
       "      <td>счастье - это...часть 2</td>\n",
       "      <td>111005319</td>\n",
       "      <td>2019-03-20 12:00:00</td>\n",
       "      <td>Художественный</td>\n",
       "      <td>ООО \"Компания Парк Синема\", ООО \"ФильмФест\"</td>\n",
       "      <td>Россия</td>\n",
       "      <td>А.Боровикова, Е.Войтович, З.Джиджилава, А.Тимо...</td>\n",
       "      <td>ООО \"Уолт Дисней Компани СНГ\"</td>\n",
       "      <td>6+</td>\n",
       "      <td>0.0</td>\n",
       "      <td>0.0</td>\n",
       "      <td>0.0</td>\n",
       "      <td>No</td>\n",
       "      <td>6.0</td>\n",
       "      <td>семейный,мелодрама</td>\n",
       "      <td>4398.4</td>\n",
       "      <td>2019</td>\n",
       "      <td>А.Боровикова</td>\n",
       "      <td>семейный</td>\n",
       "    </tr>\n",
       "  </tbody>\n",
       "</table>\n",
       "<p>539 rows × 19 columns</p>\n",
       "</div>"
      ],
      "text/plain": [
       "                                         title   puNumber     show_start_date  \\\n",
       "6                              любовь и голуби  111007013 2013-10-18 12:00:00   \n",
       "18                               неподдающиеся  111003616 2016-02-12 12:00:00   \n",
       "19                                  неподсуден  111003716 2016-02-12 12:00:00   \n",
       "22    операция \"ы\" и другие приключения шурика  111007413 2013-10-18 12:00:00   \n",
       "38                                   мужики!..  111007213 2013-10-18 12:00:00   \n",
       "...                                        ...        ...                 ...   \n",
       "5380                                     шпион  111009411 2011-12-09 12:00:00   \n",
       "5388                                  воин.com  111004411 2011-07-04 12:00:00   \n",
       "5389                          кунг-фу панда 2.  224021411 2011-11-15 12:00:00   \n",
       "6581                      время собирать цветы  112025118 2019-01-01 12:00:00   \n",
       "6804                   счастье - это...часть 2  111005319 2019-03-20 12:00:00   \n",
       "\n",
       "                type                                  film_studio  \\\n",
       "6     Художественный                        Киностудия \"Мосфильм\"   \n",
       "18    Художественный                        Киностудия \"Мосфильм\"   \n",
       "19    Художественный                        Киностудия \"Мосфильм\"   \n",
       "22    Художественный                        Киностудия \"Мосфильм\"   \n",
       "38    Художественный                        Киностудия \"Мосфильм\"   \n",
       "...              ...                                          ...   \n",
       "5380  Художественный         ООО \"Студия \"ТРИТЭ\" Никиты Михалкова   \n",
       "5388  Художественный                  ООО \"Культурные инициативы\"   \n",
       "5389    Анимационный                           ДримУоркс Анимэйшн   \n",
       "6581  Документальный                             ООО \"Краеведофф\"   \n",
       "6804  Художественный  ООО \"Компания Парк Синема\", ООО \"ФильмФест\"   \n",
       "\n",
       "     production_country                                           director  \\\n",
       "6                  СССР                                          В.Меньшов   \n",
       "18                 СССР                                          Ю.Чулюкин   \n",
       "19                 СССР                          В.Краснопольский, В.Усков   \n",
       "22                 СССР                                           Л.Гайдай   \n",
       "38                 СССР                                            И.Бабич   \n",
       "...                 ...                                                ...   \n",
       "5380             Россия                                        А.Андрианов   \n",
       "5388             Россия                                          Е.Бычкова   \n",
       "5389                США                                        Дженнифер Ю   \n",
       "6581             Россия                                            Г.Щерба   \n",
       "6804             Россия  А.Боровикова, Е.Войтович, З.Джиджилава, А.Тимо...   \n",
       "\n",
       "                                        producer age_restriction  \\\n",
       "6                                        unknown             12+   \n",
       "18                                       unknown              6+   \n",
       "19                                       unknown              6+   \n",
       "22                                       unknown              6+   \n",
       "38                                       unknown              6+   \n",
       "...                                          ...             ...   \n",
       "5380                      С.Шумаков, Л.Верещагин             16+   \n",
       "5388                        В.Малышев, А.Малышев             12+   \n",
       "5389  Мелисса Кобб, Джонатан Айбел, Гленн Бергер              0+   \n",
       "6581                                    О.Ракшин             12+   \n",
       "6804               ООО \"Уолт Дисней Компани СНГ\"              6+   \n",
       "\n",
       "      refundable_support  nonrefundable_support  budget financing_source  \\\n",
       "6                    0.0                    0.0     0.0               No   \n",
       "18                   0.0                    0.0     0.0               No   \n",
       "19                   0.0                    0.0     0.0               No   \n",
       "22                   0.0                    0.0     0.0               No   \n",
       "38                   0.0                    0.0     0.0               No   \n",
       "...                  ...                    ...     ...              ...   \n",
       "5380                 0.0                    0.0     0.0               No   \n",
       "5388                 0.0                    0.0     0.0               No   \n",
       "5389                 0.0                    0.0     0.0               No   \n",
       "6581                 0.0                    0.0     0.0               No   \n",
       "6804                 0.0                    0.0     0.0               No   \n",
       "\n",
       "      ratings                      genres  box_office  year     main_director  \\\n",
       "6         8.3           мелодрама,комедия      2700.0  2013         В.Меньшов   \n",
       "18        8.0           мелодрама,комедия       360.0  2016         Ю.Чулюкин   \n",
       "19        7.7                       драма       420.0  2016  В.Краснопольский   \n",
       "22        8.7  комедия,мелодрама,криминал       380.0  2013          Л.Гайдай   \n",
       "38        8.1                       драма      1165.0  2013           И.Бабич   \n",
       "...       ...                         ...         ...   ...               ...   \n",
       "5380      7.1     боевик,комедия,криминал      5405.0  2011       А.Андрианов   \n",
       "5388      4.7                     комедия       465.0  2011         Е.Бычкова   \n",
       "5389      7.4   мультфильм,фэнтези,боевик      9270.0  2011       Дженнифер Ю   \n",
       "6581      NaN                     unknown      7175.0  2019           Г.Щерба   \n",
       "6804      6.0          семейный,мелодрама      4398.4  2019      А.Боровикова   \n",
       "\n",
       "      main_genre  \n",
       "6      мелодрама  \n",
       "18     мелодрама  \n",
       "19         драма  \n",
       "22       комедия  \n",
       "38         драма  \n",
       "...          ...  \n",
       "5380      боевик  \n",
       "5388     комедия  \n",
       "5389  мультфильм  \n",
       "6581     unknown  \n",
       "6804    семейный  \n",
       "\n",
       "[539 rows x 19 columns]"
      ]
     },
     "execution_count": 44,
     "metadata": {},
     "output_type": "execute_result"
    }
   ],
   "source": [
    "movies.loc[movies['box_office'] < 10**4]"
   ]
  },
  {
   "cell_type": "markdown",
   "metadata": {},
   "source": [
    "Вижу 539 фильмов, у которых сборы меньше 10т.р. Не знаю, насколько это возможная ситуация. В реальном проекте я бы задала вопрос об этих цифрах заказчику. Тут или ошибка, или так и есть. Если так и есть, то думаю можно было бы такие значения заменить 0, т.к. это ни о чем"
   ]
  },
  {
   "cell_type": "markdown",
   "metadata": {},
   "source": [
    "**Вывод:**\n",
    "\n",
    "*Я провела предобработку данных:*\n",
    "\n",
    "* данные приведены к нужному типу: стандартный вид даты в столбце \"show_start_date\", столбец \"ratings\" - тип float\n",
    "* данные в столбце \"age_restriction\" приведены к более кратному и наглядному виду\n",
    "* убрала мусор в данных (%, пробелы) в столбцах \"ratings\", \"type\", \"film_studio\", \"genres\"\n",
    "* привела к нижнему регистру значения в столбце \"title\"\n",
    "* заполнила пропуски: \n",
    "        * в столбцах \"film_studio\", \"production_country\", \"director\", \"producer\", \"genres\" - значением \"unknown\"\n",
    "        * в столбцах \"refundable_support\", \"nonrefundable_support\", \"budget\"  - числом 0\n",
    "        * в столбце \"financing_source\" - значением 'No'\n",
    "* остались пропущенные значения в столбцах \"ratings\" и \"box_office\"\n",
    "* удалила явные дубликаты\n",
    "* поработала с неявными ошибками, а именно в ячейки столбца \"budget\" записала сумму столбцов \"refundable_support\" и \"nonrefundable_support\" в тех случаях, когда значения в столбце \"budget\" были меньше чем средства гос.поддержки\n",
    "\n",
    "*Теперь можно приступать к исследовательскому анализу данных*\n",
    "\n",
    "\n"
   ]
  },
  {
   "cell_type": "markdown",
   "metadata": {
    "id": "Eu6oWp2CgFyS"
   },
   "source": [
    "#### Шаг 2.6. Добавьте новые столбцы\n",
    "\n",
    "\n",
    "\n"
   ]
  },
  {
   "cell_type": "markdown",
   "metadata": {
    "id": "7GgW-UpAgFyS"
   },
   "source": [
    "- Создайте столбец с информацией о годе проката. Выделите год из даты премьеры фильма."
   ]
  },
  {
   "cell_type": "code",
   "execution_count": 45,
   "metadata": {
    "id": "I-yd1DkWgFyT"
   },
   "outputs": [],
   "source": [
    "movies['year'] = movies['show_start_date'].dt.year"
   ]
  },
  {
   "cell_type": "markdown",
   "metadata": {
    "id": "nFTDLDYOgFyT"
   },
   "source": [
    "- Создайте два столбца: с именем и фамилией главного режиссёра и основным жанром фильма. В столбцы войдут первые значения из списка режиссёров и жанров соответственно.\n",
    "\n",
    "<div id=\"accordion\">\n",
    "    <div class=\"card\">\n",
    "        <div class=\"card-header\" id=\"headingThree\">\n",
    "            <button class=\"btn btn-link collapsed\" data-toggle=\"collapse\" data-target=\"#collapseHint_2\" aria-expanded=\"false\" aria-controls=\"collapseHint_2\">Подсказка</button>\n",
    "        </div>\n",
    "        <div id=\"collapseHint_2\" class=\"collapse\" aria-labelledby=\"headingThree\" data-parent=\"#accordion\">\n",
    "            <div class=\"card-body\">\n",
    "Чтобы создать такие столбцы, лучше всего использовать собственную функцию. Эту функцию можно применить к двум столбцам сразу. \n",
    "            </div>\n",
    "        </div>\n",
    "    </div>\n",
    "</div>"
   ]
  },
  {
   "cell_type": "code",
   "execution_count": 46,
   "metadata": {
    "id": "LSbRZKbMgFyU"
   },
   "outputs": [
    {
     "data": {
      "text/html": [
       "<div>\n",
       "<style scoped>\n",
       "    .dataframe tbody tr th:only-of-type {\n",
       "        vertical-align: middle;\n",
       "    }\n",
       "\n",
       "    .dataframe tbody tr th {\n",
       "        vertical-align: top;\n",
       "    }\n",
       "\n",
       "    .dataframe thead th {\n",
       "        text-align: right;\n",
       "    }\n",
       "</style>\n",
       "<table border=\"1\" class=\"dataframe\">\n",
       "  <thead>\n",
       "    <tr style=\"text-align: right;\">\n",
       "      <th></th>\n",
       "      <th>title</th>\n",
       "      <th>puNumber</th>\n",
       "      <th>show_start_date</th>\n",
       "      <th>type</th>\n",
       "      <th>film_studio</th>\n",
       "      <th>production_country</th>\n",
       "      <th>director</th>\n",
       "      <th>producer</th>\n",
       "      <th>age_restriction</th>\n",
       "      <th>refundable_support</th>\n",
       "      <th>nonrefundable_support</th>\n",
       "      <th>budget</th>\n",
       "      <th>financing_source</th>\n",
       "      <th>ratings</th>\n",
       "      <th>genres</th>\n",
       "      <th>box_office</th>\n",
       "      <th>year</th>\n",
       "      <th>main_director</th>\n",
       "      <th>main_genre</th>\n",
       "    </tr>\n",
       "  </thead>\n",
       "  <tbody>\n",
       "    <tr>\n",
       "      <th>0</th>\n",
       "      <td>открытый простор</td>\n",
       "      <td>221048915</td>\n",
       "      <td>2015-11-27 12:00:00</td>\n",
       "      <td>Художественный</td>\n",
       "      <td>Тачстоун Пикчерз, Кобальт Пикчерз, Бикон Пикче...</td>\n",
       "      <td>США</td>\n",
       "      <td>Кевин Костнер</td>\n",
       "      <td>Дэвид Валдес, Кевин Костнер, Джейк Эбертс</td>\n",
       "      <td>18+</td>\n",
       "      <td>0.0</td>\n",
       "      <td>0.0</td>\n",
       "      <td>0.0</td>\n",
       "      <td>No</td>\n",
       "      <td>7.2</td>\n",
       "      <td>боевик,драма,мелодрама</td>\n",
       "      <td>NaN</td>\n",
       "      <td>2015</td>\n",
       "      <td>Кевин Костнер</td>\n",
       "      <td>боевик</td>\n",
       "    </tr>\n",
       "    <tr>\n",
       "      <th>1</th>\n",
       "      <td>особо важное задание</td>\n",
       "      <td>111013716</td>\n",
       "      <td>2016-09-13 12:00:00</td>\n",
       "      <td>Художественный</td>\n",
       "      <td>Киностудия \"Мосфильм\"</td>\n",
       "      <td>СССР</td>\n",
       "      <td>Е.Матвеев</td>\n",
       "      <td>unknown</td>\n",
       "      <td>6+</td>\n",
       "      <td>0.0</td>\n",
       "      <td>0.0</td>\n",
       "      <td>0.0</td>\n",
       "      <td>No</td>\n",
       "      <td>6.6</td>\n",
       "      <td>драма,военный</td>\n",
       "      <td>NaN</td>\n",
       "      <td>2016</td>\n",
       "      <td>Е.Матвеев</td>\n",
       "      <td>драма</td>\n",
       "    </tr>\n",
       "    <tr>\n",
       "      <th>2</th>\n",
       "      <td>особо опасен</td>\n",
       "      <td>221038416</td>\n",
       "      <td>2016-10-10 12:00:00</td>\n",
       "      <td>Художественный</td>\n",
       "      <td>Юниверсал Пикчерз, Кикстарт Продакшнз, Марк Пл...</td>\n",
       "      <td>США</td>\n",
       "      <td>Тимур Бекмамбетов</td>\n",
       "      <td>Джим Лемли, Джейсон Нетер, Марк Е.Платт, Яйн Смит</td>\n",
       "      <td>18+</td>\n",
       "      <td>0.0</td>\n",
       "      <td>0.0</td>\n",
       "      <td>0.0</td>\n",
       "      <td>No</td>\n",
       "      <td>6.8</td>\n",
       "      <td>фантастика,боевик,триллер</td>\n",
       "      <td>NaN</td>\n",
       "      <td>2016</td>\n",
       "      <td>Тимур Бекмамбетов</td>\n",
       "      <td>фантастика</td>\n",
       "    </tr>\n",
       "    <tr>\n",
       "      <th>3</th>\n",
       "      <td>особо опасен</td>\n",
       "      <td>221026916</td>\n",
       "      <td>2016-06-10 12:00:00</td>\n",
       "      <td>Художественный</td>\n",
       "      <td>Юниверсал Пикчерз, Кикстарт Продакшнз, Марк Пл...</td>\n",
       "      <td>США</td>\n",
       "      <td>Тимур Бекмамбетов</td>\n",
       "      <td>Джим Лемли, Джейсон Нетер, Марк Е.Платт, Яйн Смит</td>\n",
       "      <td>18+</td>\n",
       "      <td>0.0</td>\n",
       "      <td>0.0</td>\n",
       "      <td>0.0</td>\n",
       "      <td>No</td>\n",
       "      <td>6.8</td>\n",
       "      <td>фантастика,боевик,триллер</td>\n",
       "      <td>NaN</td>\n",
       "      <td>2016</td>\n",
       "      <td>Тимур Бекмамбетов</td>\n",
       "      <td>фантастика</td>\n",
       "    </tr>\n",
       "    <tr>\n",
       "      <th>4</th>\n",
       "      <td>особо опасен</td>\n",
       "      <td>221030815</td>\n",
       "      <td>2015-07-29 12:00:00</td>\n",
       "      <td>Художественный</td>\n",
       "      <td>Юниверсал Пикчерз, Кикстарт Продакшнз, Марк Пл...</td>\n",
       "      <td>США</td>\n",
       "      <td>Тимур Бекмамбетов</td>\n",
       "      <td>Джим Лемли, Джейсон Нетер, Марк Е.Платт, Яйн Смит</td>\n",
       "      <td>18+</td>\n",
       "      <td>0.0</td>\n",
       "      <td>0.0</td>\n",
       "      <td>0.0</td>\n",
       "      <td>No</td>\n",
       "      <td>6.8</td>\n",
       "      <td>фантастика,боевик,триллер</td>\n",
       "      <td>NaN</td>\n",
       "      <td>2015</td>\n",
       "      <td>Тимур Бекмамбетов</td>\n",
       "      <td>фантастика</td>\n",
       "    </tr>\n",
       "  </tbody>\n",
       "</table>\n",
       "</div>"
      ],
      "text/plain": [
       "                  title   puNumber     show_start_date            type  \\\n",
       "0      открытый простор  221048915 2015-11-27 12:00:00  Художественный   \n",
       "1  особо важное задание  111013716 2016-09-13 12:00:00  Художественный   \n",
       "2          особо опасен  221038416 2016-10-10 12:00:00  Художественный   \n",
       "3          особо опасен  221026916 2016-06-10 12:00:00  Художественный   \n",
       "4          особо опасен  221030815 2015-07-29 12:00:00  Художественный   \n",
       "\n",
       "                                         film_studio production_country  \\\n",
       "0  Тачстоун Пикчерз, Кобальт Пикчерз, Бикон Пикче...                США   \n",
       "1                              Киностудия \"Мосфильм\"               СССР   \n",
       "2  Юниверсал Пикчерз, Кикстарт Продакшнз, Марк Пл...                США   \n",
       "3  Юниверсал Пикчерз, Кикстарт Продакшнз, Марк Пл...                США   \n",
       "4  Юниверсал Пикчерз, Кикстарт Продакшнз, Марк Пл...                США   \n",
       "\n",
       "            director                                           producer  \\\n",
       "0      Кевин Костнер          Дэвид Валдес, Кевин Костнер, Джейк Эбертс   \n",
       "1          Е.Матвеев                                            unknown   \n",
       "2  Тимур Бекмамбетов  Джим Лемли, Джейсон Нетер, Марк Е.Платт, Яйн Смит   \n",
       "3  Тимур Бекмамбетов  Джим Лемли, Джейсон Нетер, Марк Е.Платт, Яйн Смит   \n",
       "4  Тимур Бекмамбетов  Джим Лемли, Джейсон Нетер, Марк Е.Платт, Яйн Смит   \n",
       "\n",
       "  age_restriction  refundable_support  nonrefundable_support  budget  \\\n",
       "0             18+                 0.0                    0.0     0.0   \n",
       "1              6+                 0.0                    0.0     0.0   \n",
       "2             18+                 0.0                    0.0     0.0   \n",
       "3             18+                 0.0                    0.0     0.0   \n",
       "4             18+                 0.0                    0.0     0.0   \n",
       "\n",
       "  financing_source  ratings                     genres  box_office  year  \\\n",
       "0               No      7.2     боевик,драма,мелодрама         NaN  2015   \n",
       "1               No      6.6              драма,военный         NaN  2016   \n",
       "2               No      6.8  фантастика,боевик,триллер         NaN  2016   \n",
       "3               No      6.8  фантастика,боевик,триллер         NaN  2016   \n",
       "4               No      6.8  фантастика,боевик,триллер         NaN  2015   \n",
       "\n",
       "       main_director  main_genre  \n",
       "0      Кевин Костнер      боевик  \n",
       "1          Е.Матвеев       драма  \n",
       "2  Тимур Бекмамбетов  фантастика  \n",
       "3  Тимур Бекмамбетов  фантастика  \n",
       "4  Тимур Бекмамбетов  фантастика  "
      ]
     },
     "execution_count": 46,
     "metadata": {},
     "output_type": "execute_result"
    }
   ],
   "source": [
    "movies['main_director'] = movies['director'].str.split(pat = ',', n = 1).str.get(0)\n",
    "movies['main_genre'] = movies['genres'].str.split(pat = ',', n = 1).str.get(0)\n",
    "movies.head()"
   ]
  },
  {
   "cell_type": "markdown",
   "metadata": {},
   "source": [
    "Создала три новых столбца: \n",
    "\n",
    "'year' - с информацией о годе проката\n",
    "\n",
    "'main_director' - с именем и фамилией главного режиссёра\n",
    "\n",
    "'main_genre' - с основным жанром фильма"
   ]
  },
  {
   "cell_type": "markdown",
   "metadata": {
    "id": "1FsCXHwdgFyU"
   },
   "source": [
    "- Посчитайте, какую долю от общего бюджета фильма составляет государственная поддержка."
   ]
  },
  {
   "cell_type": "code",
   "execution_count": 47,
   "metadata": {
    "id": "LV6qFuZLgFyV"
   },
   "outputs": [
    {
     "name": "stdout",
     "output_type": "stream",
     "text": [
      "Доля гос.поддержки фильма \"пока еще жива\" составляет: 0.33\n",
      "Доля гос.поддержки фильма \"бесславные придурки\" составляет: 0.7\n",
      "Доля гос.поддержки фильма \"невидимки\" составляет: 0.61\n",
      "Доля гос.поддержки фильма \"берцы\" составляет: 0.69\n",
      "Доля гос.поддержки фильма \"братья ч\" составляет: 0.62\n",
      "Доля гос.поддержки фильма \"тайна сухаревой башни. чародей равновесия\" составляет: 0.48\n",
      "Доля гос.поддержки фильма \"а зори здесь тихие..._\" составляет: 0.68\n",
      "Доля гос.поддержки фильма \"две женщины\" составляет: 0.54\n",
      "Доля гос.поддержки фильма \"призрак_.\" составляет: 0.54\n",
      "Доля гос.поддержки фильма \"ведьма .\" составляет: 0.7\n",
      "Доля гос.поддержки фильма \"елки лохматые\" составляет: 0.7\n",
      "Доля гос.поддержки фильма \"смайлик\" составляет: 0.69\n",
      "Доля гос.поддержки фильма \"овечка долли была злая и рано умерла\" составляет: 0.35\n",
      "Доля гос.поддержки фильма \"снежная королева 2: перезаморозка\" составляет: 0.28\n",
      "Доля гос.поддержки фильма \"дедушка моей мечты\" составляет: 0.37\n",
      "Доля гос.поддержки фильма \"14+\" составляет: 1.0\n",
      "Доля гос.поддержки фильма \"дуxless 2\" составляет: 1.0\n",
      "Доля гос.поддержки фильма \"дорога на берлин\" составляет: 0.5\n",
      "Доля гос.поддержки фильма \"батальонъ\" составляет: 0.13\n",
      "Доля гос.поддержки фильма \"с пяти до семи\" составляет: 0.63\n",
      "Доля гос.поддержки фильма \"охрана\" составляет: 0.66\n",
      "Доля гос.поддержки фильма \"полное превращение\" составляет: 0.67\n",
      "Доля гос.поддержки фильма \"битва за севастополь\" составляет: 0.21\n",
      "Доля гос.поддержки фильма \"территория\" составляет: 0.12\n",
      "Доля гос.поддержки фильма \"неуловимые .\" составляет: 0.41\n",
      "Доля гос.поддержки фильма \"главный\" составляет: 0.25\n",
      "Доля гос.поддержки фильма \"реверберация\" составляет: 0.67\n",
      "Доля гос.поддержки фильма \"находка.\" составляет: 0.68\n",
      "Доля гос.поддержки фильма \"трагедия в бухте роджерс\" составляет: 0.7\n",
      "Доля гос.поддержки фильма \"8 новых свиданий\" составляет: 0.39\n",
      "Доля гос.поддержки фильма \"клетка (по мотивам фантастического рассказа ф.м.достоевского \"кроткая\")\" составляет: 0.7\n",
      "Доля гос.поддержки фильма \"исповедь z@drota\" составляет: 0.53\n",
      "Доля гос.поддержки фильма \"12 месяцев. новая сказка\" составляет: 0.22\n",
      "Доля гос.поддержки фильма \"левиафан.\" составляет: 0.34\n",
      "Доля гос.поддержки фильма \"экспириенс\" составляет: 0.7\n",
      "Доля гос.поддержки фильма \"ангелы революции\" составляет: 0.7\n",
      "Доля гос.поддержки фильма \"небесный верблюд\" составляет: 0.69\n",
      "Доля гос.поддержки фильма \"праздник непослушания\" составляет: 0.69\n",
      "Доля гос.поддержки фильма \"парень с нашего кладбища\" составляет: 0.43\n",
      "Доля гос.поддержки фильма \"pro любовь\" составляет: 0.36\n",
      "Доля гос.поддержки фильма \"воин (2015)\" составляет: 1.0\n",
      "Доля гос.поддержки фильма \"однажды._\" составляет: 0.62\n",
      "Доля гос.поддержки фильма \"чайки\" составляет: 0.65\n",
      "Доля гос.поддержки фильма \"последний вагон. весна\" составляет: 0.7\n",
      "Доля гос.поддержки фильма \"норвег\" составляет: 0.18\n",
      "Доля гос.поддержки фильма \"вдвоем на льдине.\" составляет: 0.7\n",
      "Доля гос.поддержки фильма \"крепость. щитом и мечом\" составляет: 0.36\n",
      "Доля гос.поддержки фильма \"черная вода\" составляет: 0.66\n",
      "Доля гос.поддержки фильма \"бармен.\" составляет: 1.0\n",
      "Доля гос.поддержки фильма \"райские кущи\" составляет: 0.68\n",
      "Доля гос.поддержки фильма \"конец прекрасной эпохи\" составляет: 0.25\n",
      "Доля гос.поддержки фильма \"72 часа\" составляет: 0.66\n",
      "Доля гос.поддержки фильма \"частное пионерское-2\" составляет: 0.7\n",
      "Доля гос.поддержки фильма \"вставай и бейся\" составляет: 0.43\n",
      "Доля гос.поддержки фильма \"наследники (2015)\" составляет: 0.7\n",
      "Доля гос.поддержки фильма \"лабиринты любви.\" составляет: 0.68\n",
      "Доля гос.поддержки фильма \"зеленая карета\" составляет: 0.69\n",
      "Доля гос.поддержки фильма \"орлеан\" составляет: 0.32\n",
      "Доля гос.поддержки фильма \"развод по собственному желанию\" составляет: 0.6\n",
      "Доля гос.поддержки фильма \"одной левой.\" составляет: 0.64\n",
      "Доля гос.поддержки фильма \"единичка.\" составляет: 0.62\n",
      "Доля гос.поддержки фильма \"смешарики. легенда о золотом драконе\" составляет: 0.62\n",
      "Доля гос.поддержки фильма \"под электрическими облаками\" составляет: 0.3\n",
      "Доля гос.поддержки фильма \"no comment (нет комментариев)\" составляет: 0.69\n",
      "Доля гос.поддержки фильма \"вакантна жизнь шеф-повара\" составляет: 0.7\n",
      "Доля гос.поддержки фильма \"клинч.\" составляет: 0.65\n",
      "Доля гос.поддержки фильма \"савва. сердце воина\" составляет: 1.0\n",
      "Доля гос.поддержки фильма \"пионеры-герои.\" составляет: 0.56\n",
      "Доля гос.поддержки фильма \"синдром петрушки\" составляет: 0.37\n",
      "Доля гос.поддержки фильма \"дабл трабл\" составляет: 0.69\n",
      "Доля гос.поддержки фильма \"тряпичный союз\" составляет: 1.0\n",
      "Доля гос.поддержки фильма \"без границ\" составляет: 0.62\n",
      "Доля гос.поддержки фильма \"он - дракон\" составляет: 0.69\n",
      "Доля гос.поддержки фильма \"самый лучший день\" составляет: 0.48\n",
      "Доля гос.поддержки фильма \"про петра и павла\" составляет: 0.7\n",
      "Доля гос.поддержки фильма \"чистое искусство.\" составляет: 0.67\n",
      "Доля гос.поддержки фильма \"война полов\" составляет: 0.36\n",
      "Доля гос.поддержки фильма \"неуловимые: последний герой\" составляет: 0.34\n",
      "Доля гос.поддержки фильма \"спасение._\" составляет: 0.67\n",
      "Доля гос.поддержки фильма \"страна чудес\" составляет: 0.63\n",
      "Доля гос.поддержки фильма \"коробка.\" составляет: 0.59\n",
      "Доля гос.поддержки фильма \"милый ханс, дорогой петр\" составляет: 0.37\n",
      "Доля гос.поддержки фильма \"переводчик.\" составляет: 0.59\n",
      "Доля гос.поддержки фильма \"пингвин нашего времени\" составляет: 0.17\n",
      "Доля гос.поддержки фильма \"срочно выйду замуж\" составляет: 1.0\n",
      "Доля гос.поддержки фильма \"золотая рыбка (2015)\" составляет: 0.6\n",
      "Доля гос.поддержки фильма \"битва с экстрасенсами\" составляет: 0.43\n",
      "Доля гос.поддержки фильма \"иерей-сан. исповедь самурая. постановлением судебного пристава-исполнителя волкова р.н. от 25.08.2020 (к ип №47195/20/50060-ип) наложен запрет на совершение регистрационных действий в отношении фильма\" составляет: 0.54\n",
      "Доля гос.поддержки фильма \"врач (2015)\" составляет: 0.64\n",
      "Доля гос.поддержки фильма \"28 панфиловцев\" составляет: 0.35\n",
      "Доля гос.поддержки фильма \"супербобровы\" составляет: 0.43\n",
      "Доля гос.поддержки фильма \"помню - не помню!\" составляет: 1.0\n",
      "Доля гос.поддержки фильма \"клад (2015)\" составляет: 0.67\n",
      "Доля гос.поддержки фильма \"волки и овцы: б-е-е-е-зумное превращение\" составляет: 0.33\n",
      "Доля гос.поддержки фильма \"преображение (2015)\" составляет: 0.7\n",
      "Доля гос.поддержки фильма \"экипаж .\" составляет: 0.7\n",
      "Доля гос.поддержки фильма \"тэли и толи\" составляет: 0.67\n",
      "Доля гос.поддержки фильма \"вся наша надежда...\" составляет: 0.65\n",
      "Доля гос.поддержки фильма \"голоса большой страны\" составляет: 0.53\n",
      "Доля гос.поддержки фильма \"человек из будущего\" составляет: 0.37\n",
      "Доля гос.поддержки фильма \"млечный путь (2015)\" составляет: 0.65\n",
      "Доля гос.поддержки фильма \"сдается дом со всеми неудобствами\" составляет: 0.34\n",
      "Доля гос.поддержки фильма \"жили-были мы\" составляет: 0.5\n",
      "Доля гос.поддержки фильма \"инсайт (2015)\" составляет: 0.68\n",
      "Доля гос.поддержки фильма \"психи.\" составляет: 0.65\n",
      "Доля гос.поддержки фильма \"богатырша\" составляет: 0.48\n",
      "Доля гос.поддержки фильма \"30 свиданий\" составляет: 0.51\n",
      "Доля гос.поддержки фильма \"крякнутые каникулы\" составляет: 0.1\n",
      "Доля гос.поддержки фильма \"опасные каникулы\" составляет: 0.65\n",
      "Доля гос.поддержки фильма \"любовь с ограничениями\" составляет: 1.0\n",
      "Доля гос.поддержки фильма \"городские птички.\" составляет: 0.65\n",
      "Доля гос.поддержки фильма \"первая мировая война wwi\" составляет: 0.66\n",
      "Доля гос.поддержки фильма \"бабоньки\" составляет: 0.63\n",
      "Доля гос.поддержки фильма \"завтрак у папы\" составляет: 0.53\n",
      "Доля гос.поддержки фильма \"уроки выживания\" составляет: 0.65\n",
      "Доля гос.поддержки фильма \"иван царевич и серый волк 3\" составляет: 0.22\n",
      "Доля гос.поддержки фильма \"ставка на любовь\" составляет: 0.23\n",
      "Доля гос.поддержки фильма \"чемпионы: быстрее. выше. сильнее\" составляет: 0.44\n",
      "Доля гос.поддержки фильма \"статус: \"свободен\"\" составляет: 0.51\n",
      "Доля гос.поддержки фильма \"я умею вязать\" составляет: 0.32\n",
      "Доля гос.поддержки фильма \"тайна снежной королевы\" составляет: 0.12\n",
      "Доля гос.поддержки фильма \"завтра утром\" составляет: 0.7\n",
      "Доля гос.поддержки фильма \"память осени\" составляет: 0.7\n",
      "Доля гос.поддержки фильма \"я-учитель\" составляет: 0.38\n",
      "Доля гос.поддержки фильма \"хит\" составляет: 0.59\n",
      "Доля гос.поддержки фильма \"герой (2015)\" составляет: 0.63\n",
      "Доля гос.поддержки фильма \"подлец\" составляет: 0.65\n",
      "Доля гос.поддержки фильма \"хармс\" составляет: 0.37\n",
      "Доля гос.поддержки фильма \"кухня. последняя битва\" составляет: 0.31\n",
      "Доля гос.поддержки фильма \"зоология\" составляет: 0.6\n",
      "Доля гос.поддержки фильма \"гуляй, вася !\" составляет: 0.65\n",
      "Доля гос.поддержки фильма \"невеста .\" составляет: 0.5\n",
      "Доля гос.поддержки фильма \"дама пик\" составляет: 0.66\n",
      "Доля гос.поддержки фильма \"время первых (2017)\" составляет: 0.47\n",
      "Доля гос.поддержки фильма \"рок\" составляет: 0.67\n",
      "Доля гос.поддержки фильма \"огни большой деревни\" составляет: 0.67\n",
      "Доля гос.поддержки фильма \"крым (2017)\" составляет: 0.23\n",
      "Доля гос.поддержки фильма \"тень\" составляет: 0.65\n",
      "Доля гос.поддержки фильма \"яна + янко\" составляет: 0.63\n",
      "Доля гос.поддержки фильма \"любовь и сакс\" составляет: 0.16\n",
      "Доля гос.поддержки фильма \"дуэлянт\" составляет: 0.66\n",
      "Доля гос.поддержки фильма \"рай (2016)\" составляет: 0.12\n",
      "Доля гос.поддержки фильма \"о любви (2017)\" составляет: 0.78\n",
      "Доля гос.поддержки фильма \"частное пионерское - 3\" составляет: 0.48\n",
      "Доля гос.поддержки фильма \"как витька чеснок вёз лёху штыря в дом инвалидов\" составляет: 0.65\n",
      "Доля гос.поддержки фильма \"везучий случай\" составляет: 0.45\n",
      "Доля гос.поддержки фильма \"холодное танго\" составляет: 0.37\n",
      "Доля гос.поддержки фильма \"вурдалаки\" составляет: 0.7\n",
      "Доля гос.поддержки фильма \"ура! каникулы!\" составляет: 0.64\n",
      "Доля гос.поддержки фильма \"ледокол\" составляет: 0.7\n",
      "Доля гос.поддержки фильма \"синдбад. пираты семи штормов\" составляет: 0.33\n",
      "Доля гос.поддержки фильма \"защитники\" составляет: 0.62\n",
      "Доля гос.поддержки фильма \"петербург. только по любви\" составляет: 0.52\n",
      "Доля гос.поддержки фильма \"землетрясение .\" составляет: 0.27\n",
      "Доля гос.поддержки фильма \"бременские разбойники\" составляет: 0.5\n",
      "Доля гос.поддержки фильма \"дед мороз. битва магов\" составляет: 0.49\n",
      "Доля гос.поддержки фильма \"день до\" составляет: 0.55\n",
      "Доля гос.поддержки фильма \"взломать блогеров\" составляет: 0.69\n",
      "Доля гос.поддержки фильма \"сказ о петре и февронии\" составляет: 0.24\n",
      "Доля гос.поддержки фильма \"в небо... за мечтой\" составляет: 0.64\n",
      "Доля гос.поддержки фильма \"снежная королева 3. огонь и лёд\" составляет: 0.66\n",
      "Доля гос.поддержки фильма \"притяжение (2016)\" составляет: 1.0\n",
      "Доля гос.поддержки фильма \"осенью 41-го\" составляет: 0.64\n",
      "Доля гос.поддержки фильма \"все о мужчинах\" составляет: 0.64\n",
      "Доля гос.поддержки фильма \"ёлки 5\" составляет: 0.7\n",
      "Доля гос.поддержки фильма \"три сестры\" составляет: 0.66\n",
      "Доля гос.поддержки фильма \"ночные стражи\" составляет: 0.43\n",
      "Доля гос.поддержки фильма \"большой\" составляет: 0.66\n",
      "Доля гос.поддержки фильма \"о чем молчат французы\" составляет: 0.65\n",
      "Доля гос.поддержки фильма \"простая история .\" составляет: 0.36\n",
      "Доля гос.поддержки фильма \"после тебя\" составляет: 0.59\n",
      "Доля гос.поддержки фильма \"чудо-юдо\" составляет: 1.0\n",
      "Доля гос.поддержки фильма \"птица .\" составляет: 0.62\n",
      "Доля гос.поддержки фильма \"молот\" составляет: 0.64\n",
      "Доля гос.поддержки фильма \"урфин джюс и его деревянные солдаты\" составляет: 0.22\n",
      "Доля гос.поддержки фильма \"три дня до весны.\" составляет: 0.62\n",
      "Доля гос.поддержки фильма \"спасти пушкина\" составляет: 0.62\n",
      "Доля гос.поддержки фильма \"диггеры\" составляет: 0.63\n",
      "Доля гос.поддержки фильма \"колобанга. только для пользователей интернета (26 серий)\" составляет: 0.62\n",
      "Доля гос.поддержки фильма \"танцуй со мной (2015)\" составляет: 0.52\n",
      "Доля гос.поддержки фильма \"танцы насмерть\" составляет: 0.07\n",
      "Доля гос.поддержки фильма \"мифы\" составляет: 1.0\n",
      "Доля гос.поддержки фильма \"хороший мальчик\" составляет: 0.65\n",
      "Доля гос.поддержки фильма \"мотылёк.\" составляет: 0.59\n",
      "Доля гос.поддержки фильма \"блокбастер\" составляет: 0.64\n",
      "Доля гос.поддержки фильма \"эластико\" составляет: 0.5\n",
      "Доля гос.поддержки фильма \"матильда\" составляет: 0.29\n",
      "Доля гос.поддержки фильма \"детки напрокат\" составляет: 0.65\n",
      "Доля гос.поддержки фильма \"про любовь. только для взрослых\" составляет: 0.36\n",
      "Доля гос.поддержки фильма \"напарник\" составляет: 0.48\n",
      "Доля гос.поддержки фильма \"жизнь впереди\" составляет: 0.52\n",
      "Доля гос.поддержки фильма \"салют-7\" составляет: 0.46\n",
      "Доля гос.поддержки фильма \"последний богатырь\" составляет: 0.28\n",
      "Доля гос.поддержки фильма \"жили-были\" составляет: 0.47\n",
      "Доля гос.поддержки фильма \"фиксики. большой секрет\" составляет: 0.32\n",
      "Доля гос.поддержки фильма \"конверт\" составляет: 0.47\n",
      "Доля гос.поддержки фильма \"легенда о коловрате\" составляет: 0.7\n",
      "Доля гос.поддержки фильма \"софичка\" составляет: 0.65\n",
      "Доля гос.поддержки фильма \"исповедь содержанки\" составляет: 0.44\n",
      "Доля гос.поддержки фильма \"временные трудности\" составляет: 0.62\n",
      "Доля гос.поддержки фильма \"за гранью реальности\" составляет: 0.04\n",
      "Доля гос.поддержки фильма \"на районе\" составляет: 0.43\n",
      "Доля гос.поддержки фильма \"несокрушимый\" составляет: 0.33\n",
      "Доля гос.поддержки фильма \"девушка с косой\" составляет: 0.66\n",
      "Доля гос.поддержки фильма \"ёлки новые\" составляет: 0.57\n",
      "Доля гос.поддержки фильма \"первые\" составляет: 0.42\n",
      "Доля гос.поддержки фильма \"движение вверх\" составляет: 0.68\n",
      "Доля гос.поддержки фильма \"три богатыря и принцесса египта\" составляет: 0.29\n",
      "Доля гос.поддержки фильма \"детский юмористический киножурнал \"ералаш\", выпуски 312-323\" составляет: 0.56\n",
      "Доля гос.поддержки фильма \"со дна вершины\" составляет: 0.38\n",
      "Доля гос.поддержки фильма \"селфи\" составляет: 1.0\n",
      "Доля гос.поддержки фильма \"рубеж\" составляет: 0.68\n",
      "Доля гос.поддержки фильма \"скиф\" составляет: 0.29\n",
      "Доля гос.поддержки фильма \"лёд\" составляет: 0.57\n",
      "Доля гос.поддержки фильма \"женщины против мужчин: крымские каникулы\" составляет: 0.5\n",
      "Доля гос.поддержки фильма \"о чем говорят мужчины. продолжение\" составляет: 0.46\n",
      "Доля гос.поддержки фильма \"ну, здравствуй, оксана соколова!\" составляет: 0.66\n",
      "Доля гос.поддержки фильма \"я худею\" составляет: 0.34\n",
      "Доля гос.поддержки фильма \"садко\" составляет: 0.29\n",
      "Доля гос.поддержки фильма \"танки\" составляет: 0.43\n",
      "Доля гос.поддержки фильма \"два хвоста\" составляет: 1.0\n",
      "Доля гос.поддержки фильма \"два билета домой\" составляет: 0.55\n",
      "Доля гос.поддержки фильма \"тренер\" составляет: 0.67\n",
      "Доля гос.поддержки фильма \"прощаться не будем\" составляет: 0.32\n",
      "Доля гос.поддержки фильма \"война анны\" составляет: 0.66\n",
      "Доля гос.поддержки фильма \"спитак\" составляет: 0.42\n",
      "Доля гос.поддержки фильма \"собибор (sobibor)\" составляет: 0.2\n",
      "Доля гос.поддержки фильма \"черновик\" составляет: 0.7\n",
      "Доля гос.поддержки фильма \"кислота\" составляет: 0.66\n",
      "Доля гос.поддержки фильма \"моя жизнь\" составляет: 0.31\n",
      "Доля гос.поддержки фильма \"двое\" составляет: 0.64\n",
      "Доля гос.поддержки фильма \"киноальманах \"свидетели\"\" составляет: 0.32\n",
      "Доля гос.поддержки фильма \"подбросы\" составляет: 0.62\n",
      "Доля гос.поддержки фильма \"гурвинек. волшебная игра\" составляет: 0.16\n",
      "Доля гос.поддержки фильма \"сердце мира\" составляет: 0.46\n",
      "Доля гос.поддержки фильма \"русалка. озеро мертвых\" составляет: 0.67\n",
      "Доля гос.поддержки фильма \"не чужие\" составляет: 0.65\n",
      "Доля гос.поддержки фильма \"глубокие реки\" составляет: 0.66\n",
      "Доля гос.поддержки фильма \"проводник\" составляет: 0.65\n",
      "Доля гос.поддержки фильма \"вечная жизнь александра христофорова\" составляет: 0.62\n",
      "Доля гос.поддержки фильма \"подвал\" составляет: 0.27\n",
      "Доля гос.поддержки фильма \"принцесса и дракон\" составляет: 1.0\n",
      "Доля гос.поддержки фильма \"облепиховое лето\" составляет: 0.66\n",
      "Доля гос.поддержки фильма \"проигранное место\" составляет: 0.65\n",
      "Доля гос.поддержки фильма \"один день лета\" составляет: 0.66\n",
      "Доля гос.поддержки фильма \"кровь\" составляет: 0.67\n",
      "Доля гос.поддержки фильма \"семь пар нечистых\" составляет: 0.66\n",
      "Доля гос.поддержки фильма \"странники терпенья\" составляет: 0.43\n",
      "Доля гос.поддержки фильма \"непрощенный\" составляет: 0.48\n",
      "Доля гос.поддержки фильма \"человек, который удивил всех\" составляет: 0.5\n",
      "Доля гос.поддержки фильма \"юморист\" составляет: 0.26\n",
      "Доля гос.поддержки фильма \"смотри мою любовь\" составляет: 0.64\n",
      "Доля гос.поддержки фильма \"гофманиада\" составляет: 0.31\n",
      "Доля гос.поддержки фильма \"без меня\" составляет: 0.65\n",
      "Доля гос.поддержки фильма \"папа, сдохни\" составляет: 0.55\n",
      "Доля гос.поддержки фильма \"крымский мост. сделано с любовью\" составляет: 0.65\n",
      "Доля гос.поддержки фильма \"супербобровы. народные мстители\" составляет: 0.69\n",
      "Доля гос.поддержки фильма \"баба яга\" составляет: 1.0\n",
      "Доля гос.поддержки фильма \"три богатыря и наследница престола\" составляет: 0.62\n",
      "Доля гос.поддержки фильма \"зима\" составляет: 0.63\n",
      "Доля гос.поддержки фильма \"ёлки последние\" составляет: 0.56\n",
      "Доля гос.поддержки фильма \"т-34\" составляет: 0.32\n",
      "Доля гос.поддержки фильма \"снежная королева: зазеркалье\" составляет: 0.34\n",
      "Доля гос.поддержки фильма \"крик тишины\" составляет: 0.67\n",
      "Доля гос.поддержки фильма \"в кейптаунском порту...\" составляет: 0.29\n",
      "Доля гос.поддержки фильма \"волки и овцы: ход свиньей\" составляет: 0.36\n",
      "Доля гос.поддержки фильма \"как я стал русским\" составляет: 0.48\n",
      "Доля гос.поддержки фильма \"пилигрим\" составляет: 0.3\n",
      "Доля гос.поддержки фильма \"однажды в америке, или чисто русская сказка\" составляет: 0.56\n",
      "Доля гос.поддержки фильма \"рассвет\" составляет: 0.62\n",
      "Доля гос.поддержки фильма \"бабушка лёгкого поведения 2\" составляет: 0.39\n",
      "Доля гос.поддержки фильма \"айка\" составляет: 0.26\n",
      "Доля гос.поддержки фильма \"тобол\" составляет: 0.26\n",
      "Доля гос.поддержки фильма \"мальчик русский\" составляет: 0.64\n",
      "Доля гос.поддержки фильма \"пиковая дама. зазеркалье\" составляет: 0.64\n",
      "Доля гос.поддержки фильма \"солдатик\" составляет: 0.66\n",
      "Доля гос.поддержки фильма \"балканский рубеж\" составляет: 0.23\n",
      "Доля гос.поддержки фильма \"трезвый водитель\" составляет: 0.5\n",
      "Доля гос.поддержки фильма \"большое путешествие\" составляет: 1.0\n",
      "Доля гос.поддержки фильма \"домовой\" составляет: 0.34\n",
      "Доля гос.поддержки фильма \"братство\" составляет: 0.49\n",
      "Доля гос.поддержки фильма \"коридор бессмертия\" составляет: 0.38\n",
      "Доля гос.поддержки фильма \"миллиард\" составляет: 0.58\n",
      "Доля гос.поддержки фильма \"на париж\" составляет: 0.24\n",
      "Доля гос.поддержки фильма \"девятая\" составляет: 0.66\n",
      "Доля гос.поддержки фильма \"люби их всех\" составляет: 0.66\n",
      "Доля гос.поддержки фильма \"спасибо деду за победу\" составляет: 0.64\n",
      "Доля гос.поддержки фильма \"простой карандаш\" составляет: 0.67\n",
      "Доля гос.поддержки фильма \"мысленный волк\" составляет: 0.62\n",
      "Доля гос.поддержки фильма \"весури\" составляет: 0.65\n",
      "Доля гос.поддержки фильма \"донбасс. окраина\" составляет: 0.28\n",
      "Доля гос.поддержки фильма \"это не навсегда\" составляет: 0.66\n",
      "Доля гос.поддержки фильма \"большая поэзия\" составляет: 0.61\n",
      "Доля гос.поддержки фильма \"танец с саблями\" составляет: 0.65\n",
      "Доля гос.поддержки фильма \"верность\" составляет: 0.65\n",
      "Доля гос.поддержки фильма \"я не такой. я не такая\" составляет: 0.64\n",
      "Доля гос.поддержки фильма \"одесса\" составляет: 0.23\n",
      "Доля гос.поддержки фильма \"бык\" составляет: 0.65\n",
      "Доля гос.поддержки фильма \"давай разведемся!\" составляет: 0.66\n",
      "Доля гос.поддержки фильма \"сторож\" составляет: 0.55\n",
      "Доля гос.поддержки фильма \"куратор\" составляет: 0.41\n",
      "Доля гос.поддержки фильма \"воскресенье\" составляет: 0.67\n",
      "Доля гос.поддержки фильма \"подкидыш\" составляет: 0.56\n",
      "Доля гос.поддержки фильма \"ленин неизбежность\" составляет: 0.67\n",
      "Доля гос.поддержки фильма \"конец сезона\" составляет: 0.66\n",
      "Доля гос.поддержки фильма \"сестренка\" составляет: 0.62\n",
      "Доля гос.поддержки фильма \"элефант\" составляет: 0.59\n",
      "Доля гос.поддержки фильма \"тайна печати дракона\" составляет: 0.12\n",
      "Доля гос.поддержки фильма \"трудности выживания\" составляет: 0.59\n",
      "Доля гос.поддержки фильма \"команда мечты\" составляет: 0.64\n",
      "Доля гос.поддержки фильма \"битва\" составляет: 0.66\n",
      "Доля гос.поддержки фильма \"эбигейл\" составляет: 0.26\n",
      "Доля гос.поддержки фильма \"грех\" составляет: 0.08\n",
      "Доля гос.поддержки фильма \"байкал - сердце мира 3d\" составляет: 0.09\n",
      "Доля гос.поддержки фильма \"дикая лига (авторская версия)\" составляет: 0.34\n",
      "Доля гос.поддержки фильма \"на луне\" составляет: 0.6\n",
      "Доля гос.поддержки фильма \"волшебник\" составляет: 0.62\n",
      "Доля гос.поддержки фильма \"герой\" составляет: 0.48\n",
      "Доля гос.поддержки фильма \"робо\" составляет: 0.21\n",
      "Доля гос.поддержки фильма \"урфин джюс возвращается\" составляет: 0.67\n",
      "Доля гос.поддержки фильма \"новогодний ремонт\" составляет: 0.66\n",
      "Доля гос.поддержки фильма \"успех\" составляет: 0.33\n",
      "Доля гос.поддержки фильма \"лев яшин. вратарь моей мечты\" составляет: 0.17\n",
      "Доля гос.поддержки фильма \"кроличья лапа\" составляет: 0.63\n",
      "Доля гос.поддержки фильма \"тварь\" составляет: 0.51\n",
      "Доля гос.поддержки фильма \"фиксики против кработов\" составляет: 0.44\n",
      "Доля гос.поддержки фильма \"холоп\" составляет: 0.38\n",
      "Доля гос.поддержки фильма \"союз спасения\" составляет: 0.51\n",
      "Доля гос.поддержки фильма \"иван царевич и серый волк 4\" составляет: 0.53\n",
      "Доля гос.поддержки фильма \"вторжение\" составляет: 0.53\n",
      "Доля гос.поддержки фильма \"я свободен\" составляет: 0.65\n",
      "Доля гос.поддержки фильма \"(не)идеальный мужчина\" составляет: 0.67\n",
      "Средняя доля гос.поддержки составляет: 0.5420979916491462\n"
     ]
    }
   ],
   "source": [
    "i=0\n",
    "j=0\n",
    "part_total = 0\n",
    "for fin in movies['budget']:\n",
    "    ref = movies.loc[i,'refundable_support']\n",
    "    nonref = movies.loc[i,'nonrefundable_support']\n",
    "    if movies.loc[i,'budget'] != 0:\n",
    "        part = (ref + nonref) / fin\n",
    "        part_total += part\n",
    "        j += 1\n",
    "        title = movies.loc[i,'title']\n",
    "        print(f'Доля гос.поддержки фильма \"{title}\" составляет: {part.round(2)}')\n",
    "    i+=1\n",
    "    \n",
    "print(f'Средняя доля гос.поддержки составляет: {part_total / j}')"
   ]
  },
  {
   "cell_type": "markdown",
   "metadata": {},
   "source": [
    "Посчитала, какую долю от общего бюджета фильма составляет гос.поддержка.\n",
    "\n",
    "Оказалось, что в среднем такая поддержка составляет 54%"
   ]
  },
  {
   "cell_type": "markdown",
   "metadata": {},
   "source": [
    "**Вывод:**\n",
    "\n",
    "*Я провела предобработку данных:*\n",
    "\n",
    "* данные приведены к нужному типу: стандартный вид даты в столбце \"show_start_date\", столбец \"ratings\" - тип float\n",
    "* данные в столбце \"age_restriction\" приведены к более кратному и наглядному виду\n",
    "* убрала мусор в данных (%, пробелы) в столбцах \"ratings\", \"type\", \"film_studio\", \"genres\"\n",
    "* привела к нижнему регистру значения в столбце \"title\"\n",
    "* заполнила пропуски: \n",
    "        * в столбцах \"film_studio\", \"production_country\", \"director\", \"producer\", \"genres\" - значением \"unknown\"\n",
    "        * в столбцах \"refundable_support\", \"nonrefundable_support\", \"budget\"  - числом 0\n",
    "        * в столбце \"financing_source\" - значением 'No'\n",
    "* остались пропущенные значения в столбцах \"ratings\" и \"box_office\"\n",
    "* удалила явные дубликаты\n",
    "* поработала с неявными ошибками, а именно в ячейки столбца \"budget\" записала сумму столбцов \"refundable_support\" и \"nonrefundable_support\" в тех случаях, когда значения в столбце \"budget\" были меньше чем средства гос.поддержки\n",
    "\n",
    "*Теперь можно приступать к исследовательскому анализу данных*\n",
    "\n",
    "\n"
   ]
  },
  {
   "cell_type": "markdown",
   "metadata": {
    "id": "6t4EukPLgFyV"
   },
   "source": [
    "### Шаг 3. Проведите исследовательский анализ данных\n"
   ]
  },
  {
   "cell_type": "markdown",
   "metadata": {
    "id": "vAH8WCzugFyV"
   },
   "source": [
    "- Посмотрите, сколько фильмов выходило в прокат каждый год. Обратите внимание, что данные о прокате в кинотеатрах известны не для всех фильмов. Посчитайте, какую долю составляют фильмы с указанной информацией о прокате в кинотеатрах. Проанализируйте, как эта доля менялась по годам. Сделайте вывод о том, какой период полнее всего представлен в данных."
   ]
  },
  {
   "cell_type": "code",
   "execution_count": 48,
   "metadata": {},
   "outputs": [
    {
     "data": {
      "image/png": "[encoded data removed]",
      "text/plain": [
       "<Figure size 720x360 with 1 Axes>"
      ]
     },
     "metadata": {
      "needs_background": "light"
     },
     "output_type": "display_data"
    }
   ],
   "source": [
    "movies.pivot_table(index = 'year', \n",
    "                   values = ['title','box_office'], \n",
    "                   aggfunc = {'count'}). \\\n",
    "       plot(kind = 'bar', \n",
    "            title = 'Прокат фильмов по годам',\n",
    "            xlabel = 'Год',\n",
    "            ylabel = 'Количество',            \n",
    "            figsize = (10,5), \n",
    "            ylim = (0,1300)). \\\n",
    "            legend(['Фильмов в кинотеатрах','Выданных прокатных удостоверений'], title=\"Количество\")\n",
    "plt.show()"
   ]
  },
  {
   "cell_type": "markdown",
   "metadata": {},
   "source": [
    "Из графика видно, что не все фильмы, которые получили прокатные удостоверения, были показаны в кинотеатрах. Или по крайней мере не о всех фильмах есть информация, что они были показаны в кинотеатрах."
   ]
  },
  {
   "cell_type": "markdown",
   "metadata": {},
   "source": [
    "Посмотрим, какую долю от всех фильмов составляют те, о которых есть информация о прокате в кинотеатрах."
   ]
  },
  {
   "cell_type": "code",
   "execution_count": 49,
   "metadata": {},
   "outputs": [
    {
     "name": "stdout",
     "output_type": "stream",
     "text": [
      "Доля фильмов с указанной информацией о прокате в кинотеатрах: 0.42\n"
     ]
    }
   ],
   "source": [
    "box_office = movies['box_office'].count()\n",
    "total = len(movies)\n",
    "part = (box_office / total).round(2)\n",
    "print(f'Доля фильмов с указанной информацией о прокате в кинотеатрах: {part}')"
   ]
  },
  {
   "cell_type": "markdown",
   "metadata": {},
   "source": [
    "Посмотрим, как эта доля менялась с годами."
   ]
  },
  {
   "cell_type": "code",
   "execution_count": 50,
   "metadata": {},
   "outputs": [
    {
     "data": {
      "image/png": "[encoded data removed]",
      "text/plain": [
       "<Figure size 720x360 with 1 Axes>"
      ]
     },
     "metadata": {
      "needs_background": "light"
     },
     "output_type": "display_data"
    }
   ],
   "source": [
    "part_year = movies.groupby('year')['box_office'].count() / movies.groupby('year')['year'].count()\n",
    "part_year.plot(kind = 'bar',\n",
    "               title = 'Доля фильмов с прокатом в кинотеатрах по годам',\n",
    "               xlabel = 'Год',\n",
    "               ylabel = 'Доля',            \n",
    "               figsize = (10,5), \n",
    "               ylim = (0,1))\n",
    "plt.show()"
   ]
  },
  {
   "cell_type": "markdown",
   "metadata": {},
   "source": [
    "Видно, что наиболее полная информация о фильмах, показанных в кинотеатрах, представлена за 2015, 2016, 2017 годы. А так же достаточно полная информация за годы 2018 и 2019."
   ]
  },
  {
   "cell_type": "markdown",
   "metadata": {
    "id": "BEOdcIrIgFyW"
   },
   "source": [
    "- Изучите, как менялась динамика проката по годам. В каком году сумма сборов была минимальной? А максимальной?"
   ]
  },
  {
   "cell_type": "markdown",
   "metadata": {},
   "source": [
    "Представим данные в сводной таблице по годам, отсортированной по сумме сбора от минимальной до максимальной"
   ]
  },
  {
   "cell_type": "code",
   "execution_count": 51,
   "metadata": {
    "scrolled": true
   },
   "outputs": [
    {
     "data": {
      "text/html": [
       "<div>\n",
       "<style scoped>\n",
       "    .dataframe tbody tr th:only-of-type {\n",
       "        vertical-align: middle;\n",
       "    }\n",
       "\n",
       "    .dataframe tbody tr th {\n",
       "        vertical-align: top;\n",
       "    }\n",
       "\n",
       "    .dataframe thead th {\n",
       "        text-align: right;\n",
       "    }\n",
       "</style>\n",
       "<table border=\"1\" class=\"dataframe\">\n",
       "  <thead>\n",
       "    <tr style=\"text-align: right;\">\n",
       "      <th></th>\n",
       "      <th>sum</th>\n",
       "    </tr>\n",
       "    <tr>\n",
       "      <th>year</th>\n",
       "      <th></th>\n",
       "    </tr>\n",
       "  </thead>\n",
       "  <tbody>\n",
       "    <tr>\n",
       "      <th>2010</th>\n",
       "      <td>2.428654e+06</td>\n",
       "    </tr>\n",
       "    <tr>\n",
       "      <th>2012</th>\n",
       "      <td>6.955423e+06</td>\n",
       "    </tr>\n",
       "    <tr>\n",
       "      <th>2011</th>\n",
       "      <td>1.410276e+07</td>\n",
       "    </tr>\n",
       "    <tr>\n",
       "      <th>2013</th>\n",
       "      <td>2.979971e+07</td>\n",
       "    </tr>\n",
       "    <tr>\n",
       "      <th>2014</th>\n",
       "      <td>7.444952e+09</td>\n",
       "    </tr>\n",
       "    <tr>\n",
       "      <th>2015</th>\n",
       "      <td>3.949737e+10</td>\n",
       "    </tr>\n",
       "    <tr>\n",
       "      <th>2016</th>\n",
       "      <td>4.786630e+10</td>\n",
       "    </tr>\n",
       "    <tr>\n",
       "      <th>2019</th>\n",
       "      <td>4.842571e+10</td>\n",
       "    </tr>\n",
       "    <tr>\n",
       "      <th>2017</th>\n",
       "      <td>4.856371e+10</td>\n",
       "    </tr>\n",
       "    <tr>\n",
       "      <th>2018</th>\n",
       "      <td>4.966840e+10</td>\n",
       "    </tr>\n",
       "  </tbody>\n",
       "</table>\n",
       "</div>"
      ],
      "text/plain": [
       "               sum\n",
       "year              \n",
       "2010  2.428654e+06\n",
       "2012  6.955423e+06\n",
       "2011  1.410276e+07\n",
       "2013  2.979971e+07\n",
       "2014  7.444952e+09\n",
       "2015  3.949737e+10\n",
       "2016  4.786630e+10\n",
       "2019  4.842571e+10\n",
       "2017  4.856371e+10\n",
       "2018  4.966840e+10"
      ]
     },
     "execution_count": 51,
     "metadata": {},
     "output_type": "execute_result"
    }
   ],
   "source": [
    "movies.pivot_table(index = 'year', values = 'box_office',aggfunc = {'sum'}).sort_values(by = 'sum')"
   ]
  },
  {
   "cell_type": "markdown",
   "metadata": {},
   "source": [
    "Минимальный сбор  был в 2010 году, а максимальный в 2018 году.\n",
    "\n",
    "Представим эту информацию для наглядности в виде графика."
   ]
  },
  {
   "cell_type": "code",
   "execution_count": 52,
   "metadata": {},
   "outputs": [
    {
     "data": {
      "image/png": "[encoded data removed]",
      "text/plain": [
       "<Figure size 720x360 with 1 Axes>"
      ]
     },
     "metadata": {
      "needs_background": "light"
     },
     "output_type": "display_data"
    }
   ],
   "source": [
    "movies.groupby('year')['box_office'].sum(). \\\n",
    "       plot(kind = 'bar',\n",
    "            title = 'Сумма сборов в кинотеатрах по годам',\n",
    "            xlabel = 'Год',\n",
    "            ylabel = 'Сумма сборов',            \n",
    "            figsize = (10,5), \n",
    "            ylim = (0,6*10**10))\n",
    "plt.show()"
   ]
  },
  {
   "cell_type": "markdown",
   "metadata": {},
   "source": [
    "Видно, что сумма сборов за годы 2016, 2017, 2018, 2019 была примерно на одном уровне"
   ]
  },
  {
   "cell_type": "markdown",
   "metadata": {
    "id": "G-7qS-N-gFyY"
   },
   "source": [
    "- С помощью сводной таблицы посчитайте среднюю и медианную сумму сборов для каждого года."
   ]
  },
  {
   "cell_type": "code",
   "execution_count": 53,
   "metadata": {
    "id": "tfEhofYvgFyX"
   },
   "outputs": [
    {
     "data": {
      "text/html": [
       "<div>\n",
       "<style scoped>\n",
       "    .dataframe tbody tr th:only-of-type {\n",
       "        vertical-align: middle;\n",
       "    }\n",
       "\n",
       "    .dataframe tbody tr th {\n",
       "        vertical-align: top;\n",
       "    }\n",
       "\n",
       "    .dataframe thead th {\n",
       "        text-align: right;\n",
       "    }\n",
       "</style>\n",
       "<table border=\"1\" class=\"dataframe\">\n",
       "  <thead>\n",
       "    <tr style=\"text-align: right;\">\n",
       "      <th></th>\n",
       "      <th>mean</th>\n",
       "      <th>median</th>\n",
       "    </tr>\n",
       "    <tr>\n",
       "      <th>year</th>\n",
       "      <th></th>\n",
       "      <th></th>\n",
       "    </tr>\n",
       "  </thead>\n",
       "  <tbody>\n",
       "    <tr>\n",
       "      <th>2010</th>\n",
       "      <td>2.313004e+04</td>\n",
       "      <td>1700.000</td>\n",
       "    </tr>\n",
       "    <tr>\n",
       "      <th>2011</th>\n",
       "      <td>1.293832e+05</td>\n",
       "      <td>3000.000</td>\n",
       "    </tr>\n",
       "    <tr>\n",
       "      <th>2012</th>\n",
       "      <td>5.433924e+04</td>\n",
       "      <td>5660.000</td>\n",
       "    </tr>\n",
       "    <tr>\n",
       "      <th>2013</th>\n",
       "      <td>1.619549e+05</td>\n",
       "      <td>3522.500</td>\n",
       "    </tr>\n",
       "    <tr>\n",
       "      <th>2014</th>\n",
       "      <td>2.668442e+07</td>\n",
       "      <td>18160.000</td>\n",
       "    </tr>\n",
       "    <tr>\n",
       "      <th>2015</th>\n",
       "      <td>8.494057e+07</td>\n",
       "      <td>4920933.000</td>\n",
       "    </tr>\n",
       "    <tr>\n",
       "      <th>2016</th>\n",
       "      <td>9.100057e+07</td>\n",
       "      <td>3846679.410</td>\n",
       "    </tr>\n",
       "    <tr>\n",
       "      <th>2017</th>\n",
       "      <td>1.360328e+08</td>\n",
       "      <td>9968340.000</td>\n",
       "    </tr>\n",
       "    <tr>\n",
       "      <th>2018</th>\n",
       "      <td>1.045651e+08</td>\n",
       "      <td>8891102.210</td>\n",
       "    </tr>\n",
       "    <tr>\n",
       "      <th>2019</th>\n",
       "      <td>9.136926e+07</td>\n",
       "      <td>4627798.345</td>\n",
       "    </tr>\n",
       "  </tbody>\n",
       "</table>\n",
       "</div>"
      ],
      "text/plain": [
       "              mean       median\n",
       "year                           \n",
       "2010  2.313004e+04     1700.000\n",
       "2011  1.293832e+05     3000.000\n",
       "2012  5.433924e+04     5660.000\n",
       "2013  1.619549e+05     3522.500\n",
       "2014  2.668442e+07    18160.000\n",
       "2015  8.494057e+07  4920933.000\n",
       "2016  9.100057e+07  3846679.410\n",
       "2017  1.360328e+08  9968340.000\n",
       "2018  1.045651e+08  8891102.210\n",
       "2019  9.136926e+07  4627798.345"
      ]
     },
     "execution_count": 53,
     "metadata": {},
     "output_type": "execute_result"
    }
   ],
   "source": [
    "movies.pivot_table(index = 'year', values = 'box_office', aggfunc = {'mean','median'})"
   ]
  },
  {
   "cell_type": "markdown",
   "metadata": {},
   "source": [
    "<div class=\"alert alert-block alert-info\">\n",
    "    Нарисуем столбчатую диаграмму для большей наглядности\n",
    "</div>\n"
   ]
  },
  {
   "cell_type": "code",
   "execution_count": 63,
   "metadata": {},
   "outputs": [
    {
     "data": {
      "image/png": "[encoded data removed]",
      "text/plain": [
       "<Figure size 720x360 with 1 Axes>"
      ]
     },
     "metadata": {
      "needs_background": "light"
     },
     "output_type": "display_data"
    }
   ],
   "source": [
    "movies.pivot_table(index = 'year', \\\n",
    "                   values = 'box_office', \\\n",
    "                   aggfunc = {'mean','median'}).\\\n",
    "       plot(kind = 'bar',\n",
    "            title = 'Сумма сборов',\n",
    "            xlabel = 'Год',\n",
    "            ylabel = 'Объём',            \n",
    "            figsize = (10,5), \n",
    "            ylim = (0,1.4*10**8)). \\\n",
    "            legend(['Среднее значение','Медианное значение'])\n",
    "plt.show()"
   ]
  },
  {
   "cell_type": "markdown",
   "metadata": {
    "id": "jmp-rgg9gFyY"
   },
   "source": [
    "Цифры средних и медианных значений отличаются на порядок. Думаю, это может быть связано с теми странно низкими сборами в кинотеатрах, о которых я упоминала выше."
   ]
  },
  {
   "cell_type": "markdown",
   "metadata": {
    "id": "Ok89WFwJgFyZ"
   },
   "source": [
    "- Определите, влияет ли возрастное ограничение аудитории («6+», «12+», «16+», «18+» и т. д.) на сборы фильма в прокате в период с 2015 по 2019 год? Фильмы с каким возрастным ограничением собрали больше всего денег в прокате? Меняется ли картина в зависимости от года? Если да, предположите, с чем это может быть связано."
   ]
  },
  {
   "cell_type": "markdown",
   "metadata": {},
   "source": [
    "Для каждого года в период 2015 - 2019 сгруппируем данные по столбцу \"age_restriction\" (возрастные ограничения\") и посчитаем сумму сборов и количество фильмов.\n",
    "\n",
    "Построим для каждого года два графика:\n",
    "* круговую диаграмму распределения количества фильмов по возрастным ограничениям\n",
    "* диаграмму суммы сбора для каждой возрастной категории"
   ]
  },
  {
   "cell_type": "code",
   "execution_count": 64,
   "metadata": {
    "id": "jsSbEqfjgFya",
    "scrolled": true
   },
   "outputs": [
    {
     "data": {
      "image/png": "[encoded data removed]",
      "text/plain": [
       "<Figure size 1440x2520 with 10 Axes>"
      ]
     },
     "metadata": {
      "needs_background": "light"
     },
     "output_type": "display_data"
    }
   ],
   "source": [
    "fig, _ = plt.subplots(nrows=5, ncols=2, figsize=(20, 35))\n",
    "\n",
    "i = 0\n",
    "\n",
    "for date in range(2015,2020):\n",
    "    t = movies.query('year == @date'). \\\n",
    "    pivot_table(index = 'age_restriction', values = 'box_office', aggfunc = {'sum', 'count'})\n",
    "\n",
    "    t.plot(kind = 'pie', \n",
    "           y = 'count', \n",
    "           ax = fig.axes[i],\n",
    "           title = date, \n",
    "           legend = False, \n",
    "           ylabel = 'Количество фильмов')\n",
    "    i+=1 \n",
    "    t.plot(kind = 'bar', \n",
    "           y = 'sum',\n",
    "           ax = fig.axes[i],\n",
    "           title = date, \n",
    "           legend = False, \n",
    "           xlabel = 'Возрастные ограничения',\n",
    "           ylabel = 'Сумма сборов')\n",
    "    i+=1\n",
    "plt.show()\n",
    "    "
   ]
  },
  {
   "cell_type": "markdown",
   "metadata": {},
   "source": [
    "Сумма сборов в кинотеатрах по каждой возрастной категории  зависит в том числе от количества фильмов в этой категории.\n",
    "\n",
    "Поэтому для анализа я нарисовала круговую диаграмму количества фильмов для каждой возрастной категории годов 2015 - 2019.\n",
    "\n",
    "А так же столбчатую диаграмму сборов по каждой возрастной категории для этих же годов."
   ]
  },
  {
   "cell_type": "markdown",
   "metadata": {},
   "source": [
    "Я делаю следующие выводы из графиков:\n",
    "\n",
    "2015 год: \n",
    "\n",
    "        * фильмов категории 16+ много, но и сборы достаточно большие\n",
    "        * фильмов категории 18+ много, но сборы почти меньше всех\n",
    "        * фильмов категории 0+ меньше всего, и сборы самые скромные\n",
    "        * фильмов категории 12+ не так много, а вот и сборы самые высокие\n",
    "       Вывод - в 2015 году зрителям больше всего понравились фильмы категории 12+\n",
    "       \n",
    "2016 год:\n",
    "\n",
    "        * фильмов категории 16+ больше всего, и сборы самые большие\n",
    "        * фильмов категории 18+ очень много, но сборы почти меньше всех\n",
    "        * фильмов категории 0+ меньше всего, и сборы самые скромные\n",
    "        * фильмов категории 12+ и 6+ не так много, а вот сборы достаточно высокие\n",
    "        Вывод - в 2016 году зрителям больше всего понравились фильмы категории 12+ и 6+\n",
    "        \n",
    "2017 год:\n",
    "\n",
    "        * фильмов категории 16+ много, и сборы самые большие\n",
    "        * фильмов категории 18+ много, но сборы не очень большие\n",
    "        * фильмов категории 0+ меньше всего, и сборы самые скромные\n",
    "        * фильмов категории 12+ и 6+ не так много, и сборы не очень высокие\n",
    "        Вывод - в 2017 году зрителям больше всего понравились фильмы категории 16+ и 6+\n",
    "        \n",
    "2018 год:\n",
    "\n",
    "        * фильмов категории 16+ много, и сборы самые большие\n",
    "        * фильмов категории 18+ много, но сборы не очень большие\n",
    "        * фильмов категории 0+ меньше всего, и сборы самые скромные\n",
    "        * фильмов категории 12+ не так много, но сборы достаточно высокие\n",
    "        Вывод - в 2018 году зрителям больше всего понравились фильмы категории 12+ и 16\n",
    "        \n",
    "2019 год:\n",
    "\n",
    "        * фильмов категории 16+ много, и сборы достаточно большие\n",
    "        * фильмов категории 18+ много, но сборы не очень большие, хотя значительно подросли в сравнении с прошлыми годами\n",
    "        * фильмов категории 0+ меньше всего, и сборы самые скромные\n",
    "        * фильмов категории 12+ и 6+ не так много, но сборы достаточно высокие\n",
    "        Вывод - в 2019 году зрителям больше всего понравились фильмы категории 6+, 12+ и 16+\n",
    "        \n",
    "Самыми популярными и приносящими хорошие сборы на протяжении 2015-2019 годов остаются фильмы категорий 12+ и 16+. Причем фильмы категории 16+ достигают высоких сборов количеством, а вот фильмы 12+ - качеством."
   ]
  },
  {
   "cell_type": "markdown",
   "metadata": {},
   "source": [
    "Посмотрим, фильмы какой возрастной категории дают самые большие и самые маленькие сборы."
   ]
  },
  {
   "cell_type": "code",
   "execution_count": 65,
   "metadata": {
    "scrolled": true
   },
   "outputs": [
    {
     "data": {
      "text/html": [
       "<div>\n",
       "<style scoped>\n",
       "    .dataframe tbody tr th:only-of-type {\n",
       "        vertical-align: middle;\n",
       "    }\n",
       "\n",
       "    .dataframe tbody tr th {\n",
       "        vertical-align: top;\n",
       "    }\n",
       "\n",
       "    .dataframe thead th {\n",
       "        text-align: right;\n",
       "    }\n",
       "</style>\n",
       "<table border=\"1\" class=\"dataframe\">\n",
       "  <thead>\n",
       "    <tr style=\"text-align: right;\">\n",
       "      <th></th>\n",
       "      <th>sum</th>\n",
       "    </tr>\n",
       "    <tr>\n",
       "      <th>age_restriction</th>\n",
       "      <th></th>\n",
       "    </tr>\n",
       "  </thead>\n",
       "  <tbody>\n",
       "    <tr>\n",
       "      <th>0+</th>\n",
       "      <td>1.205004e+09</td>\n",
       "    </tr>\n",
       "    <tr>\n",
       "      <th>18+</th>\n",
       "      <td>4.297473e+10</td>\n",
       "    </tr>\n",
       "    <tr>\n",
       "      <th>6+</th>\n",
       "      <td>5.753073e+10</td>\n",
       "    </tr>\n",
       "    <tr>\n",
       "      <th>12+</th>\n",
       "      <td>6.322559e+10</td>\n",
       "    </tr>\n",
       "    <tr>\n",
       "      <th>16+</th>\n",
       "      <td>7.658367e+10</td>\n",
       "    </tr>\n",
       "  </tbody>\n",
       "</table>\n",
       "</div>"
      ],
      "text/plain": [
       "                          sum\n",
       "age_restriction              \n",
       "0+               1.205004e+09\n",
       "18+              4.297473e+10\n",
       "6+               5.753073e+10\n",
       "12+              6.322559e+10\n",
       "16+              7.658367e+10"
      ]
     },
     "execution_count": 65,
     "metadata": {},
     "output_type": "execute_result"
    }
   ],
   "source": [
    "movies.pivot_table(index = 'age_restriction', values = 'box_office', aggfunc = {'sum'}).sort_values(by = 'sum')"
   ]
  },
  {
   "cell_type": "markdown",
   "metadata": {},
   "source": [
    "Как и предполагалось ранее, самая маленькая сумма сбора у возрастной категории 0+, а самая большая - у 16+\n",
    "\n",
    "Построим  графики подобные тем, что чуть выше, для возрастных категорий, где на круговой диаграмме покажем количество фильмов в категории по годам, а на столбчатой диаграмме покажем сумму сборов по годам для возрастной категории"
   ]
  },
  {
   "cell_type": "code",
   "execution_count": 66,
   "metadata": {},
   "outputs": [
    {
     "data": {
      "image/png": "[encoded data removed]",
      "text/plain": [
       "<Figure size 1440x2520 with 10 Axes>"
      ]
     },
     "metadata": {
      "needs_background": "light"
     },
     "output_type": "display_data"
    }
   ],
   "source": [
    "fig, _ = plt.subplots(nrows=5, ncols=2, figsize=(20, 35))\n",
    "\n",
    "i = 0\n",
    "for age in ['0+','6+','12+','16+','18+']:\n",
    "    t = movies.query('age_restriction == @age'). \\\n",
    "    pivot_table(index = 'year', values = 'box_office', aggfunc = {'sum','count'})\n",
    "    \n",
    "    t.plot(kind = 'pie', \n",
    "           y = 'count',\n",
    "           ax = fig.axes[i],\n",
    "           title = age, \n",
    "           legend = False, \n",
    "           ylabel = 'Количество фильмов')\n",
    "    i+=1\n",
    "    t.plot(kind = 'bar', \n",
    "           y = 'sum',\n",
    "           ax = fig.axes[i],\n",
    "           title = age, \n",
    "           legend = False, \n",
    "           xlabel = 'Год',\n",
    "           ylabel = 'Сумма сборов')\n",
    "    i+=1\n",
    "plt.show()"
   ]
  },
  {
   "cell_type": "markdown",
   "metadata": {},
   "source": [
    "Количество фильмов в категории 0+ за 2010-2016 было примерно одинаковое, но сборы самые высокие были за 2014 и 2015 годы.\n",
    "Количество фильмов за 2017 год было значительно меньше, чем раньше, но сборы при этом достаточно большие.\n",
    "В 2018 и 2019 крайне мало снято фильмов, поэтому и сборов мало.\n",
    "\n",
    "В категории 6+ все очень пропорционально. Ели в году мало снято фильмов, то и сумма сборов мала, если фильмов снято больше, то и сумма сборов подрастает\n",
    "\n",
    "В категории 12+ в 2010 - 2012 фильмов снято мало, сборы минимальны. В 2013 году фильмов сняли больше, но сборы не выросли (наверное подкачало качество или реклама). В 2014 году снято много, сборов маловато. Резкий рост суммы сборов наблюдается в 2015 году, когда количество фильмов по сравнению с предыдущим годом даже чуть меньше, а сборы резко выросли. В 2016, 2017 года все пропорционально - мало фильмов, мало сборов. В 2018 году ситуация похожа на 2015 год - фильмов не так много, сборы самые максимальные. В 2019 году все пропорционально.\n",
    "\n",
    "В категории 16+ все довольно пропорционально. Выделяется только 2017 год, где количество фильмов меньше, чем в предыдущие пару лет и последующие пару лет, а вот сборы самые максимальные.\n",
    "\n",
    "В категории 18+ все выглядит пропорционально. Мало фильмов - мало сборов, много фильмов - много сборов.\n",
    "\n",
    "**Вывод:** в 2010 - 2013 годах количество фильмов во всех категориях было мало, поэтому и суммы сборов малы. Интересен 2017 год, особенно в категориях 0+ и 16+, фильмов снято мало, а сборы большие. Интересно в категории 12+ годы 2015 и 2018 - фильмов снято немного,а сборы большие. В остальном ситуация пропорциональная - сняли мало, мало собрали, сняли много, много собрали."
   ]
  },
  {
   "cell_type": "markdown",
   "metadata": {
    "id": "l_Kg6Ku4gFya"
   },
   "source": [
    "### Шаг 4. Исследуйте фильмы, которые получили государственную поддержку\n",
    "\n",
    "На этом этапе нет конкретных инструкций и заданий — поищите интересные закономерности в данных. Посмотрите, сколько выделяют средств на поддержку кино. Проверьте, хорошо ли окупаются такие фильмы, какой у них рейтинг."
   ]
  },
  {
   "cell_type": "markdown",
   "metadata": {},
   "source": [
    "Добавлю столбец с полной суммой гос.поддержки (возвратные и невозвратные средства)"
   ]
  },
  {
   "cell_type": "code",
   "execution_count": 67,
   "metadata": {},
   "outputs": [],
   "source": [
    "movies['budget_gos'] = movies['nonrefundable_support'] + movies['refundable_support']"
   ]
  },
  {
   "cell_type": "markdown",
   "metadata": {},
   "source": [
    "Создам отдельный датасет, где будут данные только о фильмах, получивших гос.поддержку"
   ]
  },
  {
   "cell_type": "code",
   "execution_count": 68,
   "metadata": {
    "id": "W9QKpjUdgFyb"
   },
   "outputs": [
    {
     "data": {
      "text/html": [
       "<div>\n",
       "<style scoped>\n",
       "    .dataframe tbody tr th:only-of-type {\n",
       "        vertical-align: middle;\n",
       "    }\n",
       "\n",
       "    .dataframe tbody tr th {\n",
       "        vertical-align: top;\n",
       "    }\n",
       "\n",
       "    .dataframe thead th {\n",
       "        text-align: right;\n",
       "    }\n",
       "</style>\n",
       "<table border=\"1\" class=\"dataframe\">\n",
       "  <thead>\n",
       "    <tr style=\"text-align: right;\">\n",
       "      <th></th>\n",
       "      <th>title</th>\n",
       "      <th>puNumber</th>\n",
       "      <th>show_start_date</th>\n",
       "      <th>type</th>\n",
       "      <th>film_studio</th>\n",
       "      <th>production_country</th>\n",
       "      <th>director</th>\n",
       "      <th>producer</th>\n",
       "      <th>age_restriction</th>\n",
       "      <th>refundable_support</th>\n",
       "      <th>nonrefundable_support</th>\n",
       "      <th>budget</th>\n",
       "      <th>financing_source</th>\n",
       "      <th>ratings</th>\n",
       "      <th>genres</th>\n",
       "      <th>box_office</th>\n",
       "      <th>year</th>\n",
       "      <th>main_director</th>\n",
       "      <th>main_genre</th>\n",
       "      <th>budget_gos</th>\n",
       "    </tr>\n",
       "  </thead>\n",
       "  <tbody>\n",
       "    <tr>\n",
       "      <th>1281</th>\n",
       "      <td>пока еще жива</td>\n",
       "      <td>111005313</td>\n",
       "      <td>2013-10-11 12:00:00</td>\n",
       "      <td>Художественный</td>\n",
       "      <td>АНО содействия развитию кинематографии \"Ангел-...</td>\n",
       "      <td>Россия</td>\n",
       "      <td>А.Атанесян</td>\n",
       "      <td>А.Атанесян, М.Бабаханов, Р.Бутко</td>\n",
       "      <td>16+</td>\n",
       "      <td>0.0</td>\n",
       "      <td>26500000.0</td>\n",
       "      <td>79411900.0</td>\n",
       "      <td>Министерство культуры</td>\n",
       "      <td>8.1</td>\n",
       "      <td>драма,мелодрама</td>\n",
       "      <td>3.653536e+05</td>\n",
       "      <td>2013</td>\n",
       "      <td>А.Атанесян</td>\n",
       "      <td>драма</td>\n",
       "      <td>26500000.0</td>\n",
       "    </tr>\n",
       "    <tr>\n",
       "      <th>1448</th>\n",
       "      <td>бесславные придурки</td>\n",
       "      <td>111003314</td>\n",
       "      <td>2014-03-28 12:00:00</td>\n",
       "      <td>Художественный</td>\n",
       "      <td>ООО \"Компания \"АТК-Студио\"</td>\n",
       "      <td>Россия</td>\n",
       "      <td>А.Якимчук</td>\n",
       "      <td>А.Тютрюмов</td>\n",
       "      <td>12+</td>\n",
       "      <td>0.0</td>\n",
       "      <td>26000000.0</td>\n",
       "      <td>37142857.0</td>\n",
       "      <td>Министерство культуры</td>\n",
       "      <td>NaN</td>\n",
       "      <td>unknown</td>\n",
       "      <td>2.814000e+04</td>\n",
       "      <td>2014</td>\n",
       "      <td>А.Якимчук</td>\n",
       "      <td>unknown</td>\n",
       "      <td>26000000.0</td>\n",
       "    </tr>\n",
       "    <tr>\n",
       "      <th>1498</th>\n",
       "      <td>невидимки</td>\n",
       "      <td>111004213</td>\n",
       "      <td>2013-09-10 12:00:00</td>\n",
       "      <td>Художественный</td>\n",
       "      <td>ООО \"Компания \"РЕАЛ-ДАКОТА\"</td>\n",
       "      <td>Россия</td>\n",
       "      <td>Р.Давлетьяров, С.Комаров</td>\n",
       "      <td>Р.Давлетьяров, А.Котелевский, А.Олейников</td>\n",
       "      <td>12+</td>\n",
       "      <td>0.0</td>\n",
       "      <td>107847945.0</td>\n",
       "      <td>176023490.0</td>\n",
       "      <td>Фонд кино</td>\n",
       "      <td>5.3</td>\n",
       "      <td>комедия,фантастика</td>\n",
       "      <td>1.995703e+07</td>\n",
       "      <td>2013</td>\n",
       "      <td>Р.Давлетьяров</td>\n",
       "      <td>комедия</td>\n",
       "      <td>107847945.0</td>\n",
       "    </tr>\n",
       "    <tr>\n",
       "      <th>1524</th>\n",
       "      <td>берцы</td>\n",
       "      <td>111004314</td>\n",
       "      <td>2014-05-05 12:00:00</td>\n",
       "      <td>Художественный</td>\n",
       "      <td>ООО \"Студия \"Пассажир\"</td>\n",
       "      <td>Россия</td>\n",
       "      <td>Е.Миндадзе (псевдоним Катя Шагалова)</td>\n",
       "      <td>Л.Антонова</td>\n",
       "      <td>16+</td>\n",
       "      <td>0.0</td>\n",
       "      <td>28000000.0</td>\n",
       "      <td>40574140.0</td>\n",
       "      <td>Министерство культуры</td>\n",
       "      <td>4.2</td>\n",
       "      <td>драма</td>\n",
       "      <td>5.591750e+04</td>\n",
       "      <td>2014</td>\n",
       "      <td>Е.Миндадзе (псевдоним Катя Шагалова)</td>\n",
       "      <td>драма</td>\n",
       "      <td>28000000.0</td>\n",
       "    </tr>\n",
       "    <tr>\n",
       "      <th>1792</th>\n",
       "      <td>братья ч</td>\n",
       "      <td>111004414</td>\n",
       "      <td>2014-04-23 12:00:00</td>\n",
       "      <td>Художественный</td>\n",
       "      <td>ООО \"Студия \"Пассажир\"</td>\n",
       "      <td>Россия</td>\n",
       "      <td>М.Угаров</td>\n",
       "      <td>А.Миндадзе, Л.Антонова</td>\n",
       "      <td>16+</td>\n",
       "      <td>0.0</td>\n",
       "      <td>25000000.0</td>\n",
       "      <td>40015122.0</td>\n",
       "      <td>Министерство культуры</td>\n",
       "      <td>6.4</td>\n",
       "      <td>драма</td>\n",
       "      <td>2.321000e+05</td>\n",
       "      <td>2014</td>\n",
       "      <td>М.Угаров</td>\n",
       "      <td>драма</td>\n",
       "      <td>25000000.0</td>\n",
       "    </tr>\n",
       "    <tr>\n",
       "      <th>...</th>\n",
       "      <td>...</td>\n",
       "      <td>...</td>\n",
       "      <td>...</td>\n",
       "      <td>...</td>\n",
       "      <td>...</td>\n",
       "      <td>...</td>\n",
       "      <td>...</td>\n",
       "      <td>...</td>\n",
       "      <td>...</td>\n",
       "      <td>...</td>\n",
       "      <td>...</td>\n",
       "      <td>...</td>\n",
       "      <td>...</td>\n",
       "      <td>...</td>\n",
       "      <td>...</td>\n",
       "      <td>...</td>\n",
       "      <td>...</td>\n",
       "      <td>...</td>\n",
       "      <td>...</td>\n",
       "      <td>...</td>\n",
       "    </tr>\n",
       "    <tr>\n",
       "      <th>7464</th>\n",
       "      <td>союз спасения</td>\n",
       "      <td>111022019</td>\n",
       "      <td>2019-12-26 12:00:00</td>\n",
       "      <td>Художественный</td>\n",
       "      <td>ЗАО \"Дирекция кино\"</td>\n",
       "      <td>Россия</td>\n",
       "      <td>А.Кравчук</td>\n",
       "      <td>А.Максимов, К.Эрнст</td>\n",
       "      <td>12+</td>\n",
       "      <td>100000000.0</td>\n",
       "      <td>400000000.0</td>\n",
       "      <td>980000000.0</td>\n",
       "      <td>Фонд кино</td>\n",
       "      <td>6.0</td>\n",
       "      <td>история,биография,драма</td>\n",
       "      <td>7.177032e+08</td>\n",
       "      <td>2019</td>\n",
       "      <td>А.Кравчук</td>\n",
       "      <td>история</td>\n",
       "      <td>500000000.0</td>\n",
       "    </tr>\n",
       "    <tr>\n",
       "      <th>7466</th>\n",
       "      <td>иван царевич и серый волк 4</td>\n",
       "      <td>114005019</td>\n",
       "      <td>2019-12-20 12:00:00</td>\n",
       "      <td>Анимационный</td>\n",
       "      <td>ООО \"Студия анимационного кино \"Мельница\"</td>\n",
       "      <td>Россия</td>\n",
       "      <td>Д.Шмидт, К.Феоктистов</td>\n",
       "      <td>С.Сельянов, А.Боярский</td>\n",
       "      <td>6+</td>\n",
       "      <td>100000000.0</td>\n",
       "      <td>0.0</td>\n",
       "      <td>190000000.0</td>\n",
       "      <td>Фонд кино</td>\n",
       "      <td>6.7</td>\n",
       "      <td>мультфильм,приключения,семейный</td>\n",
       "      <td>5.010692e+08</td>\n",
       "      <td>2019</td>\n",
       "      <td>Д.Шмидт</td>\n",
       "      <td>мультфильм</td>\n",
       "      <td>100000000.0</td>\n",
       "    </tr>\n",
       "    <tr>\n",
       "      <th>7474</th>\n",
       "      <td>вторжение</td>\n",
       "      <td>111022519</td>\n",
       "      <td>2019-12-23 12:00:00</td>\n",
       "      <td>Художественный</td>\n",
       "      <td>ООО \"Арт Пикчерс Студия\", ООО \"Водород 2011\"</td>\n",
       "      <td>Россия</td>\n",
       "      <td>Ф.Бондарчук</td>\n",
       "      <td>Ф.Бондарчук, М.Врубель, А.Андрющенко, Д.Рудовский</td>\n",
       "      <td>12+</td>\n",
       "      <td>100000000.0</td>\n",
       "      <td>400000000.0</td>\n",
       "      <td>944000000.0</td>\n",
       "      <td>Фонд кино</td>\n",
       "      <td>5.7</td>\n",
       "      <td>фантастика,боевик</td>\n",
       "      <td>NaN</td>\n",
       "      <td>2019</td>\n",
       "      <td>Ф.Бондарчук</td>\n",
       "      <td>фантастика</td>\n",
       "      <td>500000000.0</td>\n",
       "    </tr>\n",
       "    <tr>\n",
       "      <th>7476</th>\n",
       "      <td>я свободен</td>\n",
       "      <td>111023019</td>\n",
       "      <td>2019-12-26 12:00:00</td>\n",
       "      <td>Художественный</td>\n",
       "      <td>АО \"ТПО \"Киностудия им. М.Горького\"</td>\n",
       "      <td>Россия</td>\n",
       "      <td>И.Северов</td>\n",
       "      <td>С.Зернов</td>\n",
       "      <td>12+</td>\n",
       "      <td>0.0</td>\n",
       "      <td>30000000.0</td>\n",
       "      <td>46154000.0</td>\n",
       "      <td>Министерство культуры</td>\n",
       "      <td>5.9</td>\n",
       "      <td>драма</td>\n",
       "      <td>NaN</td>\n",
       "      <td>2019</td>\n",
       "      <td>И.Северов</td>\n",
       "      <td>драма</td>\n",
       "      <td>30000000.0</td>\n",
       "    </tr>\n",
       "    <tr>\n",
       "      <th>7478</th>\n",
       "      <td>(не)идеальный мужчина</td>\n",
       "      <td>111023119</td>\n",
       "      <td>2019-12-24 12:00:00</td>\n",
       "      <td>Художественный</td>\n",
       "      <td>ООО \"Нон-Стоп Продакшн\"</td>\n",
       "      <td>Россия</td>\n",
       "      <td>М.Бальчюнас (псевдоним М.Вайсберг)</td>\n",
       "      <td>С.Мелькумов, А.Роднянский, М.Вайсберг, Р.Минас...</td>\n",
       "      <td>12+</td>\n",
       "      <td>40000000.0</td>\n",
       "      <td>60000000.0</td>\n",
       "      <td>150147502.0</td>\n",
       "      <td>Фонд кино</td>\n",
       "      <td>4.5</td>\n",
       "      <td>комедия,фантастика,мелодрама</td>\n",
       "      <td>NaN</td>\n",
       "      <td>2019</td>\n",
       "      <td>М.Бальчюнас (псевдоним М.Вайсберг)</td>\n",
       "      <td>комедия</td>\n",
       "      <td>100000000.0</td>\n",
       "    </tr>\n",
       "  </tbody>\n",
       "</table>\n",
       "<p>332 rows × 20 columns</p>\n",
       "</div>"
      ],
      "text/plain": [
       "                            title   puNumber     show_start_date  \\\n",
       "1281                пока еще жива  111005313 2013-10-11 12:00:00   \n",
       "1448          бесславные придурки  111003314 2014-03-28 12:00:00   \n",
       "1498                    невидимки  111004213 2013-09-10 12:00:00   \n",
       "1524                        берцы  111004314 2014-05-05 12:00:00   \n",
       "1792                     братья ч  111004414 2014-04-23 12:00:00   \n",
       "...                           ...        ...                 ...   \n",
       "7464                союз спасения  111022019 2019-12-26 12:00:00   \n",
       "7466  иван царевич и серый волк 4  114005019 2019-12-20 12:00:00   \n",
       "7474                    вторжение  111022519 2019-12-23 12:00:00   \n",
       "7476                   я свободен  111023019 2019-12-26 12:00:00   \n",
       "7478        (не)идеальный мужчина  111023119 2019-12-24 12:00:00   \n",
       "\n",
       "                type                                        film_studio  \\\n",
       "1281  Художественный  АНО содействия развитию кинематографии \"Ангел-...   \n",
       "1448  Художественный                         ООО \"Компания \"АТК-Студио\"   \n",
       "1498  Художественный                        ООО \"Компания \"РЕАЛ-ДАКОТА\"   \n",
       "1524  Художественный                             ООО \"Студия \"Пассажир\"   \n",
       "1792  Художественный                             ООО \"Студия \"Пассажир\"   \n",
       "...              ...                                                ...   \n",
       "7464  Художественный                                ЗАО \"Дирекция кино\"   \n",
       "7466    Анимационный          ООО \"Студия анимационного кино \"Мельница\"   \n",
       "7474  Художественный       ООО \"Арт Пикчерс Студия\", ООО \"Водород 2011\"   \n",
       "7476  Художественный                АО \"ТПО \"Киностудия им. М.Горького\"   \n",
       "7478  Художественный                            ООО \"Нон-Стоп Продакшн\"   \n",
       "\n",
       "     production_country                              director  \\\n",
       "1281             Россия                            А.Атанесян   \n",
       "1448             Россия                             А.Якимчук   \n",
       "1498             Россия              Р.Давлетьяров, С.Комаров   \n",
       "1524             Россия  Е.Миндадзе (псевдоним Катя Шагалова)   \n",
       "1792             Россия                              М.Угаров   \n",
       "...                 ...                                   ...   \n",
       "7464             Россия                             А.Кравчук   \n",
       "7466             Россия                 Д.Шмидт, К.Феоктистов   \n",
       "7474             Россия                           Ф.Бондарчук   \n",
       "7476             Россия                             И.Северов   \n",
       "7478             Россия    М.Бальчюнас (псевдоним М.Вайсберг)   \n",
       "\n",
       "                                               producer age_restriction  \\\n",
       "1281                   А.Атанесян, М.Бабаханов, Р.Бутко             16+   \n",
       "1448                                         А.Тютрюмов             12+   \n",
       "1498          Р.Давлетьяров, А.Котелевский, А.Олейников             12+   \n",
       "1524                                         Л.Антонова             16+   \n",
       "1792                             А.Миндадзе, Л.Антонова             16+   \n",
       "...                                                 ...             ...   \n",
       "7464                                А.Максимов, К.Эрнст             12+   \n",
       "7466                             С.Сельянов, А.Боярский              6+   \n",
       "7474  Ф.Бондарчук, М.Врубель, А.Андрющенко, Д.Рудовский             12+   \n",
       "7476                                           С.Зернов             12+   \n",
       "7478  С.Мелькумов, А.Роднянский, М.Вайсберг, Р.Минас...             12+   \n",
       "\n",
       "      refundable_support  nonrefundable_support       budget  \\\n",
       "1281                 0.0             26500000.0   79411900.0   \n",
       "1448                 0.0             26000000.0   37142857.0   \n",
       "1498                 0.0            107847945.0  176023490.0   \n",
       "1524                 0.0             28000000.0   40574140.0   \n",
       "1792                 0.0             25000000.0   40015122.0   \n",
       "...                  ...                    ...          ...   \n",
       "7464         100000000.0            400000000.0  980000000.0   \n",
       "7466         100000000.0                    0.0  190000000.0   \n",
       "7474         100000000.0            400000000.0  944000000.0   \n",
       "7476                 0.0             30000000.0   46154000.0   \n",
       "7478          40000000.0             60000000.0  150147502.0   \n",
       "\n",
       "           financing_source  ratings                           genres  \\\n",
       "1281  Министерство культуры      8.1                  драма,мелодрама   \n",
       "1448  Министерство культуры      NaN                          unknown   \n",
       "1498              Фонд кино      5.3               комедия,фантастика   \n",
       "1524  Министерство культуры      4.2                            драма   \n",
       "1792  Министерство культуры      6.4                            драма   \n",
       "...                     ...      ...                              ...   \n",
       "7464              Фонд кино      6.0          история,биография,драма   \n",
       "7466              Фонд кино      6.7  мультфильм,приключения,семейный   \n",
       "7474              Фонд кино      5.7                фантастика,боевик   \n",
       "7476  Министерство культуры      5.9                            драма   \n",
       "7478              Фонд кино      4.5     комедия,фантастика,мелодрама   \n",
       "\n",
       "        box_office  year                         main_director  main_genre  \\\n",
       "1281  3.653536e+05  2013                            А.Атанесян       драма   \n",
       "1448  2.814000e+04  2014                             А.Якимчук     unknown   \n",
       "1498  1.995703e+07  2013                         Р.Давлетьяров     комедия   \n",
       "1524  5.591750e+04  2014  Е.Миндадзе (псевдоним Катя Шагалова)       драма   \n",
       "1792  2.321000e+05  2014                              М.Угаров       драма   \n",
       "...            ...   ...                                   ...         ...   \n",
       "7464  7.177032e+08  2019                             А.Кравчук     история   \n",
       "7466  5.010692e+08  2019                               Д.Шмидт  мультфильм   \n",
       "7474           NaN  2019                           Ф.Бондарчук  фантастика   \n",
       "7476           NaN  2019                             И.Северов       драма   \n",
       "7478           NaN  2019    М.Бальчюнас (псевдоним М.Вайсберг)     комедия   \n",
       "\n",
       "       budget_gos  \n",
       "1281   26500000.0  \n",
       "1448   26000000.0  \n",
       "1498  107847945.0  \n",
       "1524   28000000.0  \n",
       "1792   25000000.0  \n",
       "...           ...  \n",
       "7464  500000000.0  \n",
       "7466  100000000.0  \n",
       "7474  500000000.0  \n",
       "7476   30000000.0  \n",
       "7478  100000000.0  \n",
       "\n",
       "[332 rows x 20 columns]"
      ]
     },
     "execution_count": 68,
     "metadata": {},
     "output_type": "execute_result"
    }
   ],
   "source": [
    "movies_gos = movies.query('financing_source != \"No\"')\n",
    "movies_gos"
   ]
  },
  {
   "cell_type": "markdown",
   "metadata": {},
   "source": [
    "Построю два графика.\n",
    "\n",
    "Первый - круговая диаграмма, показывающая количество фильмов, выпущенных в каждом году. \n",
    "\n",
    "Второй - столбчатая диаграмма, отображающая сумму сборов в каждом году."
   ]
  },
  {
   "cell_type": "code",
   "execution_count": 69,
   "metadata": {},
   "outputs": [
    {
     "data": {
      "image/png": "[encoded data removed]",
      "text/plain": [
       "<Figure size 1296x360 with 2 Axes>"
      ]
     },
     "metadata": {
      "needs_background": "light"
     },
     "output_type": "display_data"
    }
   ],
   "source": [
    "fig, (ax1, ax2) = plt.subplots(nrows=1, ncols=2,figsize=(18, 5))\n",
    "\n",
    "movies_gos.pivot_table(index = 'year', values = 'box_office', aggfunc = {'count'}). \\\n",
    "           plot(kind = 'pie', \n",
    "                y = 'count',\n",
    "                ax = ax1,\n",
    "                title = 'year',\n",
    "                legend = False,\n",
    "                ylabel = 'Количество фильмов')\n",
    "\n",
    "movies_gos.pivot_table(index = 'year', values = 'box_office', aggfunc = {'sum'}). \\\n",
    "           plot(kind = 'bar',\n",
    "                y = 'sum',\n",
    "                ax = ax2,\n",
    "                title = 'year', \n",
    "                legend = False, \n",
    "                xlabel = 'Год',\n",
    "                ylabel = 'Сумма сборов')\n",
    "plt.show()"
   ]
  },
  {
   "cell_type": "markdown",
   "metadata": {},
   "source": [
    "Видно, что 2015 год бы неудачным, т.к. фильмов снято много (больше всего из представленных тут данных), а сборы достаточно низкие. Удачным был 2017 год - фильмов снято меньше, чем в предыдущие пару лет и последующие пару лет, а сборы самые максимальные. Остальные годы довольно пропорциональны."
   ]
  },
  {
   "cell_type": "markdown",
   "metadata": {},
   "source": [
    "Построю график и посмотрю, как соотносятся суммы возвратной и невозвратной частей гос.поддержки"
   ]
  },
  {
   "cell_type": "code",
   "execution_count": 70,
   "metadata": {
    "scrolled": true
   },
   "outputs": [
    {
     "data": {
      "image/png": "[encoded data removed]",
      "text/plain": [
       "<Figure size 720x360 with 1 Axes>"
      ]
     },
     "metadata": {
      "needs_background": "light"
     },
     "output_type": "display_data"
    }
   ],
   "source": [
    "movies_gos.pivot_table(index = 'year', \\\n",
    "                       values = ['nonrefundable_support','refundable_support'], \\\n",
    "                       aggfunc = {'sum'}). \\\n",
    "           plot(kind = 'bar',\n",
    "                title = 'Сумма государственной поддержки',\n",
    "                xlabel = 'Год',\n",
    "                ylabel = 'Сумма',\n",
    "                figsize = (10,5)). \\\n",
    "                legend(['Невозвратные средства','Возвратные средства'], title=\"Объём\")\n",
    "plt.show()\n"
   ]
  },
  {
   "cell_type": "markdown",
   "metadata": {},
   "source": [
    "Из графика видно, что объем невозвратных средств значительно больше, чем возвратных средств. Видно, что больше всего государство выделило средств в 2019 году."
   ]
  },
  {
   "cell_type": "markdown",
   "metadata": {},
   "source": [
    "Построю график и посмотрю, как соотносятся общий бюджет фильма, сумма гос.поддержки и кассовые сборы"
   ]
  },
  {
   "cell_type": "code",
   "execution_count": 71,
   "metadata": {
    "scrolled": true
   },
   "outputs": [
    {
     "data": {
      "image/png": "[encoded data removed]",
      "text/plain": [
       "<Figure size 720x360 with 1 Axes>"
      ]
     },
     "metadata": {
      "needs_background": "light"
     },
     "output_type": "display_data"
    }
   ],
   "source": [
    "movies_gos.pivot_table(index = 'year', \n",
    "                       values = ['box_office','budget','budget_gos'], \n",
    "                       aggfunc = {'sum'}). \\\n",
    "           plot(kind = 'bar',\n",
    "                title = 'Бюджет фильмов и кассовые сборы',\n",
    "                xlabel = 'Год',\n",
    "                ylabel = 'Сумма',\n",
    "                figsize = (10,5)). \\\n",
    "                legend(['Кассовые сборы','Общий бюджет','Гос.поддержка'], title=\"Объём\")\n",
    "plt.show()\n"
   ]
  },
  {
   "cell_type": "markdown",
   "metadata": {},
   "source": [
    "Из этого графика видно, что фильмы окупились в прокате только в 2017 и 2018 году. \n",
    "\n",
    "Самый большой провал в окупаемости фильмов был в 2019 году - самый высокий уровень гос.поддержки и самые высокобюджетные фильмы, но они не окупились, а сборы были даже меньше, чем в предыдущие два года."
   ]
  },
  {
   "cell_type": "markdown",
   "metadata": {},
   "source": [
    "Посмотрим, коррелируют ли между собой бюджет фильма и его кассовые сборы"
   ]
  },
  {
   "cell_type": "code",
   "execution_count": 72,
   "metadata": {},
   "outputs": [
    {
     "data": {
      "text/plain": [
       "0.3756313274654145"
      ]
     },
     "execution_count": 72,
     "metadata": {},
     "output_type": "execute_result"
    }
   ],
   "source": [
    "movies_gos['box_office'].corr(movies_gos['budget'])"
   ]
  },
  {
   "cell_type": "code",
   "execution_count": 75,
   "metadata": {},
   "outputs": [
    {
     "data": {
      "image/png": "[encoded data removed]",
      "text/plain": [
       "<Figure size 432x288 with 1 Axes>"
      ]
     },
     "metadata": {
      "needs_background": "light"
     },
     "output_type": "display_data"
    }
   ],
   "source": [
    "movies_gos.plot(kind = 'scatter', \n",
    "                x = 'budget', \n",
    "                y = 'box_office', \n",
    "                xlabel = 'Бюджет фильма', \n",
    "                ylabel = 'Кассовые сборы',\n",
    "                title = 'Корреляция')\n",
    "plt.show()"
   ]
  },
  {
   "cell_type": "markdown",
   "metadata": {},
   "source": [
    "Видно, что у фильмов с небольшим бюджетом есть корреляция с невысоким кассовым сбором. Есть отдельные фильмы с огромным бюджетом, но очень низкими сборами, и наоборот: бюджет небольшой, а сборы достаточно приличные."
   ]
  },
  {
   "cell_type": "markdown",
   "metadata": {},
   "source": [
    "Посмотрим, что это за фильмы"
   ]
  },
  {
   "cell_type": "code",
   "execution_count": 76,
   "metadata": {
    "scrolled": true
   },
   "outputs": [
    {
     "data": {
      "text/html": [
       "<div>\n",
       "<style scoped>\n",
       "    .dataframe tbody tr th:only-of-type {\n",
       "        vertical-align: middle;\n",
       "    }\n",
       "\n",
       "    .dataframe tbody tr th {\n",
       "        vertical-align: top;\n",
       "    }\n",
       "\n",
       "    .dataframe thead th {\n",
       "        text-align: right;\n",
       "    }\n",
       "</style>\n",
       "<table border=\"1\" class=\"dataframe\">\n",
       "  <thead>\n",
       "    <tr style=\"text-align: right;\">\n",
       "      <th></th>\n",
       "      <th>title</th>\n",
       "      <th>puNumber</th>\n",
       "      <th>show_start_date</th>\n",
       "      <th>type</th>\n",
       "      <th>film_studio</th>\n",
       "      <th>production_country</th>\n",
       "      <th>director</th>\n",
       "      <th>producer</th>\n",
       "      <th>age_restriction</th>\n",
       "      <th>refundable_support</th>\n",
       "      <th>nonrefundable_support</th>\n",
       "      <th>budget</th>\n",
       "      <th>financing_source</th>\n",
       "      <th>ratings</th>\n",
       "      <th>genres</th>\n",
       "      <th>box_office</th>\n",
       "      <th>year</th>\n",
       "      <th>main_director</th>\n",
       "      <th>main_genre</th>\n",
       "      <th>budget_gos</th>\n",
       "    </tr>\n",
       "  </thead>\n",
       "  <tbody>\n",
       "    <tr>\n",
       "      <th>2920</th>\n",
       "      <td>экипаж .</td>\n",
       "      <td>111005416</td>\n",
       "      <td>2016-03-21 12:00:00</td>\n",
       "      <td>Художественный</td>\n",
       "      <td>ООО \"Студия \"ТРИТЭ\" Никиты Михалкова\"</td>\n",
       "      <td>Россия</td>\n",
       "      <td>Н.Лебедев</td>\n",
       "      <td>Л.Верещагин, А.Златопольский, Н.Михалков, ООО ...</td>\n",
       "      <td>6+</td>\n",
       "      <td>50000000.0</td>\n",
       "      <td>392104482.0</td>\n",
       "      <td>6.352839e+08</td>\n",
       "      <td>Фонд кино</td>\n",
       "      <td>7.6</td>\n",
       "      <td>драма,триллер,приключения</td>\n",
       "      <td>1.402255e+09</td>\n",
       "      <td>2016</td>\n",
       "      <td>Н.Лебедев</td>\n",
       "      <td>драма</td>\n",
       "      <td>442104482.0</td>\n",
       "    </tr>\n",
       "    <tr>\n",
       "      <th>5505</th>\n",
       "      <td>последний богатырь</td>\n",
       "      <td>111007017</td>\n",
       "      <td>2017-10-19 12:00:00</td>\n",
       "      <td>Художественный</td>\n",
       "      <td>ООО \"Киностудия \"Слово\" по заказу ООО \"Уолт Ди...</td>\n",
       "      <td>Россия</td>\n",
       "      <td>Д.Дьяченко</td>\n",
       "      <td>Э.Илоян, Д.Жалинский, М.Озкан, А.Троцюк, В.Шляппо</td>\n",
       "      <td>12+</td>\n",
       "      <td>50000000.0</td>\n",
       "      <td>50000000.0</td>\n",
       "      <td>3.524776e+08</td>\n",
       "      <td>Фонд кино</td>\n",
       "      <td>6.8</td>\n",
       "      <td>комедия,фэнтези,приключения</td>\n",
       "      <td>1.655038e+09</td>\n",
       "      <td>2017</td>\n",
       "      <td>Д.Дьяченко</td>\n",
       "      <td>комедия</td>\n",
       "      <td>100000000.0</td>\n",
       "    </tr>\n",
       "    <tr>\n",
       "      <th>5653</th>\n",
       "      <td>движение вверх</td>\n",
       "      <td>111011817</td>\n",
       "      <td>2017-12-21 12:00:00</td>\n",
       "      <td>Художественный</td>\n",
       "      <td>ООО \"Студия \"ТРИТЭ\" Никиты Михалкова\"</td>\n",
       "      <td>Россия</td>\n",
       "      <td>А.Мегердичев</td>\n",
       "      <td>Л.Верещагин, А.Златопольский, Н.Михалков, ООО ...</td>\n",
       "      <td>6+</td>\n",
       "      <td>0.0</td>\n",
       "      <td>400000000.0</td>\n",
       "      <td>5.901922e+08</td>\n",
       "      <td>Фонд кино</td>\n",
       "      <td>7.5</td>\n",
       "      <td>спорт,драма</td>\n",
       "      <td>2.779686e+09</td>\n",
       "      <td>2017</td>\n",
       "      <td>А.Мегердичев</td>\n",
       "      <td>спорт</td>\n",
       "      <td>400000000.0</td>\n",
       "    </tr>\n",
       "    <tr>\n",
       "      <th>5708</th>\n",
       "      <td>лёд</td>\n",
       "      <td>111000518</td>\n",
       "      <td>2018-02-01 12:00:00</td>\n",
       "      <td>Художественный</td>\n",
       "      <td>ООО \"Водород 2011\", ООО \"Арт Пикчерс Студия\", ...</td>\n",
       "      <td>Россия</td>\n",
       "      <td>О.Трофим</td>\n",
       "      <td>М.Врубель, А.Андрющенко, Ф.Бондарчук, Д.Рудовс...</td>\n",
       "      <td>12+</td>\n",
       "      <td>25000000.0</td>\n",
       "      <td>60000000.0</td>\n",
       "      <td>1.485852e+08</td>\n",
       "      <td>Фонд кино</td>\n",
       "      <td>NaN</td>\n",
       "      <td>unknown</td>\n",
       "      <td>1.445732e+09</td>\n",
       "      <td>2018</td>\n",
       "      <td>О.Трофим</td>\n",
       "      <td>unknown</td>\n",
       "      <td>85000000.0</td>\n",
       "    </tr>\n",
       "    <tr>\n",
       "      <th>6549</th>\n",
       "      <td>т-34</td>\n",
       "      <td>111024918</td>\n",
       "      <td>2018-12-21 12:00:00</td>\n",
       "      <td>Художественный</td>\n",
       "      <td>ООО \"Кинокомпания МАРС-фильм\" по заказу ООО \"М...</td>\n",
       "      <td>Россия</td>\n",
       "      <td>А.Сидоров</td>\n",
       "      <td>А.Златопольский, Р.Дишдишян, Л.Блаватник, Н.Яр...</td>\n",
       "      <td>12+</td>\n",
       "      <td>60000000.0</td>\n",
       "      <td>120000000.0</td>\n",
       "      <td>5.637847e+08</td>\n",
       "      <td>Фонд кино</td>\n",
       "      <td>6.5</td>\n",
       "      <td>драма,военный,боевик</td>\n",
       "      <td>2.271754e+09</td>\n",
       "      <td>2018</td>\n",
       "      <td>А.Сидоров</td>\n",
       "      <td>драма</td>\n",
       "      <td>180000000.0</td>\n",
       "    </tr>\n",
       "    <tr>\n",
       "      <th>7114</th>\n",
       "      <td>тайна печати дракона</td>\n",
       "      <td>111012819</td>\n",
       "      <td>2019-09-12 12:00:00</td>\n",
       "      <td>Художественный</td>\n",
       "      <td>ООО \"Кинокомпания \"СТВ\"; ООО \"РФГ Корп\"; ООО \"...</td>\n",
       "      <td>Россия-Китай</td>\n",
       "      <td>О.Степченко</td>\n",
       "      <td>С.Сельянов, А.Петрухин</td>\n",
       "      <td>6+</td>\n",
       "      <td>180000000.0</td>\n",
       "      <td>90000000.0</td>\n",
       "      <td>2.305074e+09</td>\n",
       "      <td>Фонд кино</td>\n",
       "      <td>5.8</td>\n",
       "      <td>приключения,фэнтези</td>\n",
       "      <td>3.335971e+08</td>\n",
       "      <td>2019</td>\n",
       "      <td>О.Степченко</td>\n",
       "      <td>приключения</td>\n",
       "      <td>270000000.0</td>\n",
       "    </tr>\n",
       "    <tr>\n",
       "      <th>7456</th>\n",
       "      <td>холоп</td>\n",
       "      <td>111021719</td>\n",
       "      <td>2019-12-19 12:00:00</td>\n",
       "      <td>Художественный</td>\n",
       "      <td>ООО \"МЕМ-МЕДИА\" по заказу АО \"ВБД Груп\"</td>\n",
       "      <td>Россия</td>\n",
       "      <td>К.Шипенко</td>\n",
       "      <td>Э.Илоян, Д.Жалинский, В.Дусмухаметов, Т.Бадзие...</td>\n",
       "      <td>12+</td>\n",
       "      <td>25000000.0</td>\n",
       "      <td>35000000.0</td>\n",
       "      <td>1.600000e+08</td>\n",
       "      <td>Фонд кино</td>\n",
       "      <td>6.8</td>\n",
       "      <td>комедия</td>\n",
       "      <td>3.073569e+09</td>\n",
       "      <td>2019</td>\n",
       "      <td>К.Шипенко</td>\n",
       "      <td>комедия</td>\n",
       "      <td>60000000.0</td>\n",
       "    </tr>\n",
       "  </tbody>\n",
       "</table>\n",
       "</div>"
      ],
      "text/plain": [
       "                     title   puNumber     show_start_date            type  \\\n",
       "2920              экипаж .  111005416 2016-03-21 12:00:00  Художественный   \n",
       "5505    последний богатырь  111007017 2017-10-19 12:00:00  Художественный   \n",
       "5653        движение вверх  111011817 2017-12-21 12:00:00  Художественный   \n",
       "5708                   лёд  111000518 2018-02-01 12:00:00  Художественный   \n",
       "6549                  т-34  111024918 2018-12-21 12:00:00  Художественный   \n",
       "7114  тайна печати дракона  111012819 2019-09-12 12:00:00  Художественный   \n",
       "7456                 холоп  111021719 2019-12-19 12:00:00  Художественный   \n",
       "\n",
       "                                            film_studio production_country  \\\n",
       "2920              ООО \"Студия \"ТРИТЭ\" Никиты Михалкова\"             Россия   \n",
       "5505  ООО \"Киностудия \"Слово\" по заказу ООО \"Уолт Ди...             Россия   \n",
       "5653              ООО \"Студия \"ТРИТЭ\" Никиты Михалкова\"             Россия   \n",
       "5708  ООО \"Водород 2011\", ООО \"Арт Пикчерс Студия\", ...             Россия   \n",
       "6549  ООО \"Кинокомпания МАРС-фильм\" по заказу ООО \"М...             Россия   \n",
       "7114  ООО \"Кинокомпания \"СТВ\"; ООО \"РФГ Корп\"; ООО \"...       Россия-Китай   \n",
       "7456            ООО \"МЕМ-МЕДИА\" по заказу АО \"ВБД Груп\"             Россия   \n",
       "\n",
       "          director                                           producer  \\\n",
       "2920     Н.Лебедев  Л.Верещагин, А.Златопольский, Н.Михалков, ООО ...   \n",
       "5505    Д.Дьяченко  Э.Илоян, Д.Жалинский, М.Озкан, А.Троцюк, В.Шляппо   \n",
       "5653  А.Мегердичев  Л.Верещагин, А.Златопольский, Н.Михалков, ООО ...   \n",
       "5708      О.Трофим  М.Врубель, А.Андрющенко, Ф.Бондарчук, Д.Рудовс...   \n",
       "6549     А.Сидоров  А.Златопольский, Р.Дишдишян, Л.Блаватник, Н.Яр...   \n",
       "7114   О.Степченко                             С.Сельянов, А.Петрухин   \n",
       "7456     К.Шипенко  Э.Илоян, Д.Жалинский, В.Дусмухаметов, Т.Бадзие...   \n",
       "\n",
       "     age_restriction  refundable_support  nonrefundable_support        budget  \\\n",
       "2920              6+          50000000.0            392104482.0  6.352839e+08   \n",
       "5505             12+          50000000.0             50000000.0  3.524776e+08   \n",
       "5653              6+                 0.0            400000000.0  5.901922e+08   \n",
       "5708             12+          25000000.0             60000000.0  1.485852e+08   \n",
       "6549             12+          60000000.0            120000000.0  5.637847e+08   \n",
       "7114              6+         180000000.0             90000000.0  2.305074e+09   \n",
       "7456             12+          25000000.0             35000000.0  1.600000e+08   \n",
       "\n",
       "     financing_source  ratings                       genres    box_office  \\\n",
       "2920        Фонд кино      7.6    драма,триллер,приключения  1.402255e+09   \n",
       "5505        Фонд кино      6.8  комедия,фэнтези,приключения  1.655038e+09   \n",
       "5653        Фонд кино      7.5                  спорт,драма  2.779686e+09   \n",
       "5708        Фонд кино      NaN                      unknown  1.445732e+09   \n",
       "6549        Фонд кино      6.5         драма,военный,боевик  2.271754e+09   \n",
       "7114        Фонд кино      5.8          приключения,фэнтези  3.335971e+08   \n",
       "7456        Фонд кино      6.8                      комедия  3.073569e+09   \n",
       "\n",
       "      year main_director   main_genre   budget_gos  \n",
       "2920  2016     Н.Лебедев        драма  442104482.0  \n",
       "5505  2017    Д.Дьяченко      комедия  100000000.0  \n",
       "5653  2017  А.Мегердичев        спорт  400000000.0  \n",
       "5708  2018      О.Трофим      unknown   85000000.0  \n",
       "6549  2018     А.Сидоров        драма  180000000.0  \n",
       "7114  2019   О.Степченко  приключения  270000000.0  \n",
       "7456  2019     К.Шипенко      комедия   60000000.0  "
      ]
     },
     "execution_count": 76,
     "metadata": {},
     "output_type": "execute_result"
    }
   ],
   "source": [
    "movies_gos.loc[(movies_gos['box_office'] > 1.4*10**9) | (movies_gos['budget'] > 1.4*10**9)]"
   ]
  },
  {
   "cell_type": "markdown",
   "metadata": {},
   "source": [
    "Действительно, в списке оказались фильмы, которые на слуху, которые были популярны у зрителей."
   ]
  },
  {
   "cell_type": "markdown",
   "metadata": {},
   "source": [
    "Посмотрим, есть ли корреляция между рейтингом фильма на Кинопоиске и кассовыми сборами"
   ]
  },
  {
   "cell_type": "code",
   "execution_count": 77,
   "metadata": {},
   "outputs": [
    {
     "data": {
      "text/plain": [
       "0.14375541497787275"
      ]
     },
     "execution_count": 77,
     "metadata": {},
     "output_type": "execute_result"
    }
   ],
   "source": [
    "movies_gos['box_office'].corr(movies_gos['ratings'])"
   ]
  },
  {
   "cell_type": "code",
   "execution_count": 78,
   "metadata": {
    "scrolled": true
   },
   "outputs": [
    {
     "data": {
      "image/png": "[encoded data removed]",
      "text/plain": [
       "<Figure size 432x288 with 1 Axes>"
      ]
     },
     "metadata": {
      "needs_background": "light"
     },
     "output_type": "display_data"
    }
   ],
   "source": [
    "movies_gos.plot(kind = 'scatter', \n",
    "                x = 'ratings', \n",
    "                y = 'box_office', \n",
    "                xlabel = 'Рейтинг фильма', \n",
    "                ylabel = 'Кассовые сборы',\n",
    "                title = 'Корреляция')\n",
    "plt.show()"
   ]
  },
  {
   "cell_type": "markdown",
   "metadata": {},
   "source": [
    "Видно, что корреляции нет. Много фильмов имеют довольно высокий рейтинг на Кинопоиске (от 6), но кассовые сборы у них очень низкие. Есть всего несколько фильмов, которые имеют и высокий рейтинг, и собрали хорошие кассовые сборы.\n",
    "\n",
    "Скорее всего это говорит о том, что люди в кинотеатрах и дома смотрят и воспринимают фильмы по разному. Т.е. фильм дома на диване бесплатно можно посмотреть и достаточно высоко оценить, но этот же фильм в кинотеатр смотреть не пойдут."
   ]
  },
  {
   "cell_type": "markdown",
   "metadata": {},
   "source": [
    "Посмотрим, какие фильмы собрали более 1 млрд рублей и у которых рейтинг выше 6.0"
   ]
  },
  {
   "cell_type": "code",
   "execution_count": 79,
   "metadata": {},
   "outputs": [
    {
     "data": {
      "text/html": [
       "<div>\n",
       "<style scoped>\n",
       "    .dataframe tbody tr th:only-of-type {\n",
       "        vertical-align: middle;\n",
       "    }\n",
       "\n",
       "    .dataframe tbody tr th {\n",
       "        vertical-align: top;\n",
       "    }\n",
       "\n",
       "    .dataframe thead th {\n",
       "        text-align: right;\n",
       "    }\n",
       "</style>\n",
       "<table border=\"1\" class=\"dataframe\">\n",
       "  <thead>\n",
       "    <tr style=\"text-align: right;\">\n",
       "      <th></th>\n",
       "      <th>title</th>\n",
       "      <th>puNumber</th>\n",
       "      <th>show_start_date</th>\n",
       "      <th>type</th>\n",
       "      <th>film_studio</th>\n",
       "      <th>production_country</th>\n",
       "      <th>director</th>\n",
       "      <th>producer</th>\n",
       "      <th>age_restriction</th>\n",
       "      <th>refundable_support</th>\n",
       "      <th>nonrefundable_support</th>\n",
       "      <th>budget</th>\n",
       "      <th>financing_source</th>\n",
       "      <th>ratings</th>\n",
       "      <th>genres</th>\n",
       "      <th>box_office</th>\n",
       "      <th>year</th>\n",
       "      <th>main_director</th>\n",
       "      <th>main_genre</th>\n",
       "      <th>budget_gos</th>\n",
       "    </tr>\n",
       "  </thead>\n",
       "  <tbody>\n",
       "    <tr>\n",
       "      <th>2920</th>\n",
       "      <td>экипаж .</td>\n",
       "      <td>111005416</td>\n",
       "      <td>2016-03-21 12:00:00</td>\n",
       "      <td>Художественный</td>\n",
       "      <td>ООО \"Студия \"ТРИТЭ\" Никиты Михалкова\"</td>\n",
       "      <td>Россия</td>\n",
       "      <td>Н.Лебедев</td>\n",
       "      <td>Л.Верещагин, А.Златопольский, Н.Михалков, ООО ...</td>\n",
       "      <td>6+</td>\n",
       "      <td>50000000.0</td>\n",
       "      <td>392104482.0</td>\n",
       "      <td>635283867.0</td>\n",
       "      <td>Фонд кино</td>\n",
       "      <td>7.6</td>\n",
       "      <td>драма,триллер,приключения</td>\n",
       "      <td>1.402255e+09</td>\n",
       "      <td>2016</td>\n",
       "      <td>Н.Лебедев</td>\n",
       "      <td>драма</td>\n",
       "      <td>442104482.0</td>\n",
       "    </tr>\n",
       "    <tr>\n",
       "      <th>5505</th>\n",
       "      <td>последний богатырь</td>\n",
       "      <td>111007017</td>\n",
       "      <td>2017-10-19 12:00:00</td>\n",
       "      <td>Художественный</td>\n",
       "      <td>ООО \"Киностудия \"Слово\" по заказу ООО \"Уолт Ди...</td>\n",
       "      <td>Россия</td>\n",
       "      <td>Д.Дьяченко</td>\n",
       "      <td>Э.Илоян, Д.Жалинский, М.Озкан, А.Троцюк, В.Шляппо</td>\n",
       "      <td>12+</td>\n",
       "      <td>50000000.0</td>\n",
       "      <td>50000000.0</td>\n",
       "      <td>352477575.0</td>\n",
       "      <td>Фонд кино</td>\n",
       "      <td>6.8</td>\n",
       "      <td>комедия,фэнтези,приключения</td>\n",
       "      <td>1.655038e+09</td>\n",
       "      <td>2017</td>\n",
       "      <td>Д.Дьяченко</td>\n",
       "      <td>комедия</td>\n",
       "      <td>100000000.0</td>\n",
       "    </tr>\n",
       "    <tr>\n",
       "      <th>5653</th>\n",
       "      <td>движение вверх</td>\n",
       "      <td>111011817</td>\n",
       "      <td>2017-12-21 12:00:00</td>\n",
       "      <td>Художественный</td>\n",
       "      <td>ООО \"Студия \"ТРИТЭ\" Никиты Михалкова\"</td>\n",
       "      <td>Россия</td>\n",
       "      <td>А.Мегердичев</td>\n",
       "      <td>Л.Верещагин, А.Златопольский, Н.Михалков, ООО ...</td>\n",
       "      <td>6+</td>\n",
       "      <td>0.0</td>\n",
       "      <td>400000000.0</td>\n",
       "      <td>590192191.0</td>\n",
       "      <td>Фонд кино</td>\n",
       "      <td>7.5</td>\n",
       "      <td>спорт,драма</td>\n",
       "      <td>2.779686e+09</td>\n",
       "      <td>2017</td>\n",
       "      <td>А.Мегердичев</td>\n",
       "      <td>спорт</td>\n",
       "      <td>400000000.0</td>\n",
       "    </tr>\n",
       "    <tr>\n",
       "      <th>6549</th>\n",
       "      <td>т-34</td>\n",
       "      <td>111024918</td>\n",
       "      <td>2018-12-21 12:00:00</td>\n",
       "      <td>Художественный</td>\n",
       "      <td>ООО \"Кинокомпания МАРС-фильм\" по заказу ООО \"М...</td>\n",
       "      <td>Россия</td>\n",
       "      <td>А.Сидоров</td>\n",
       "      <td>А.Златопольский, Р.Дишдишян, Л.Блаватник, Н.Яр...</td>\n",
       "      <td>12+</td>\n",
       "      <td>60000000.0</td>\n",
       "      <td>120000000.0</td>\n",
       "      <td>563784717.0</td>\n",
       "      <td>Фонд кино</td>\n",
       "      <td>6.5</td>\n",
       "      <td>драма,военный,боевик</td>\n",
       "      <td>2.271754e+09</td>\n",
       "      <td>2018</td>\n",
       "      <td>А.Сидоров</td>\n",
       "      <td>драма</td>\n",
       "      <td>180000000.0</td>\n",
       "    </tr>\n",
       "    <tr>\n",
       "      <th>7456</th>\n",
       "      <td>холоп</td>\n",
       "      <td>111021719</td>\n",
       "      <td>2019-12-19 12:00:00</td>\n",
       "      <td>Художественный</td>\n",
       "      <td>ООО \"МЕМ-МЕДИА\" по заказу АО \"ВБД Груп\"</td>\n",
       "      <td>Россия</td>\n",
       "      <td>К.Шипенко</td>\n",
       "      <td>Э.Илоян, Д.Жалинский, В.Дусмухаметов, Т.Бадзие...</td>\n",
       "      <td>12+</td>\n",
       "      <td>25000000.0</td>\n",
       "      <td>35000000.0</td>\n",
       "      <td>160000000.0</td>\n",
       "      <td>Фонд кино</td>\n",
       "      <td>6.8</td>\n",
       "      <td>комедия</td>\n",
       "      <td>3.073569e+09</td>\n",
       "      <td>2019</td>\n",
       "      <td>К.Шипенко</td>\n",
       "      <td>комедия</td>\n",
       "      <td>60000000.0</td>\n",
       "    </tr>\n",
       "  </tbody>\n",
       "</table>\n",
       "</div>"
      ],
      "text/plain": [
       "                   title   puNumber     show_start_date            type  \\\n",
       "2920            экипаж .  111005416 2016-03-21 12:00:00  Художественный   \n",
       "5505  последний богатырь  111007017 2017-10-19 12:00:00  Художественный   \n",
       "5653      движение вверх  111011817 2017-12-21 12:00:00  Художественный   \n",
       "6549                т-34  111024918 2018-12-21 12:00:00  Художественный   \n",
       "7456               холоп  111021719 2019-12-19 12:00:00  Художественный   \n",
       "\n",
       "                                            film_studio production_country  \\\n",
       "2920              ООО \"Студия \"ТРИТЭ\" Никиты Михалкова\"             Россия   \n",
       "5505  ООО \"Киностудия \"Слово\" по заказу ООО \"Уолт Ди...             Россия   \n",
       "5653              ООО \"Студия \"ТРИТЭ\" Никиты Михалкова\"             Россия   \n",
       "6549  ООО \"Кинокомпания МАРС-фильм\" по заказу ООО \"М...             Россия   \n",
       "7456            ООО \"МЕМ-МЕДИА\" по заказу АО \"ВБД Груп\"             Россия   \n",
       "\n",
       "          director                                           producer  \\\n",
       "2920     Н.Лебедев  Л.Верещагин, А.Златопольский, Н.Михалков, ООО ...   \n",
       "5505    Д.Дьяченко  Э.Илоян, Д.Жалинский, М.Озкан, А.Троцюк, В.Шляппо   \n",
       "5653  А.Мегердичев  Л.Верещагин, А.Златопольский, Н.Михалков, ООО ...   \n",
       "6549     А.Сидоров  А.Златопольский, Р.Дишдишян, Л.Блаватник, Н.Яр...   \n",
       "7456     К.Шипенко  Э.Илоян, Д.Жалинский, В.Дусмухаметов, Т.Бадзие...   \n",
       "\n",
       "     age_restriction  refundable_support  nonrefundable_support       budget  \\\n",
       "2920              6+          50000000.0            392104482.0  635283867.0   \n",
       "5505             12+          50000000.0             50000000.0  352477575.0   \n",
       "5653              6+                 0.0            400000000.0  590192191.0   \n",
       "6549             12+          60000000.0            120000000.0  563784717.0   \n",
       "7456             12+          25000000.0             35000000.0  160000000.0   \n",
       "\n",
       "     financing_source  ratings                       genres    box_office  \\\n",
       "2920        Фонд кино      7.6    драма,триллер,приключения  1.402255e+09   \n",
       "5505        Фонд кино      6.8  комедия,фэнтези,приключения  1.655038e+09   \n",
       "5653        Фонд кино      7.5                  спорт,драма  2.779686e+09   \n",
       "6549        Фонд кино      6.5         драма,военный,боевик  2.271754e+09   \n",
       "7456        Фонд кино      6.8                      комедия  3.073569e+09   \n",
       "\n",
       "      year main_director main_genre   budget_gos  \n",
       "2920  2016     Н.Лебедев      драма  442104482.0  \n",
       "5505  2017    Д.Дьяченко    комедия  100000000.0  \n",
       "5653  2017  А.Мегердичев      спорт  400000000.0  \n",
       "6549  2018     А.Сидоров      драма  180000000.0  \n",
       "7456  2019     К.Шипенко    комедия   60000000.0  "
      ]
     },
     "execution_count": 79,
     "metadata": {},
     "output_type": "execute_result"
    }
   ],
   "source": [
    "movies_gos.loc[(movies_gos['box_office'] > 1.0*10**9) & (movies_gos['ratings'] > 6.0)]"
   ]
  },
  {
   "cell_type": "markdown",
   "metadata": {},
   "source": [
    "Посмотрим общую информацию о рейтинге"
   ]
  },
  {
   "cell_type": "code",
   "execution_count": 80,
   "metadata": {
    "scrolled": true
   },
   "outputs": [
    {
     "data": {
      "text/plain": [
       "count    316.000000\n",
       "mean       6.020886\n",
       "std        1.148943\n",
       "min        1.000000\n",
       "25%        5.300000\n",
       "50%        6.200000\n",
       "75%        6.700000\n",
       "max        9.400000\n",
       "Name: ratings, dtype: float64"
      ]
     },
     "execution_count": 80,
     "metadata": {},
     "output_type": "execute_result"
    }
   ],
   "source": [
    "movies_gos['ratings'].describe()"
   ]
  },
  {
   "cell_type": "markdown",
   "metadata": {},
   "source": [
    "Средняя и медианная оценка довольно близки, примерно 6 баллов. Минимальный балл 1, максимальный 9.4\n",
    "\n",
    "Посмотрим, что это за фильмы, какие у них бюджеты и кассовые сборы"
   ]
  },
  {
   "cell_type": "code",
   "execution_count": 81,
   "metadata": {
    "scrolled": true
   },
   "outputs": [
    {
     "data": {
      "text/html": [
       "<div>\n",
       "<style scoped>\n",
       "    .dataframe tbody tr th:only-of-type {\n",
       "        vertical-align: middle;\n",
       "    }\n",
       "\n",
       "    .dataframe tbody tr th {\n",
       "        vertical-align: top;\n",
       "    }\n",
       "\n",
       "    .dataframe thead th {\n",
       "        text-align: right;\n",
       "    }\n",
       "</style>\n",
       "<table border=\"1\" class=\"dataframe\">\n",
       "  <thead>\n",
       "    <tr style=\"text-align: right;\">\n",
       "      <th></th>\n",
       "      <th>title</th>\n",
       "      <th>puNumber</th>\n",
       "      <th>show_start_date</th>\n",
       "      <th>type</th>\n",
       "      <th>film_studio</th>\n",
       "      <th>production_country</th>\n",
       "      <th>director</th>\n",
       "      <th>producer</th>\n",
       "      <th>age_restriction</th>\n",
       "      <th>refundable_support</th>\n",
       "      <th>nonrefundable_support</th>\n",
       "      <th>budget</th>\n",
       "      <th>financing_source</th>\n",
       "      <th>ratings</th>\n",
       "      <th>genres</th>\n",
       "      <th>box_office</th>\n",
       "      <th>year</th>\n",
       "      <th>main_director</th>\n",
       "      <th>main_genre</th>\n",
       "      <th>budget_gos</th>\n",
       "    </tr>\n",
       "  </thead>\n",
       "  <tbody>\n",
       "    <tr>\n",
       "      <th>2146</th>\n",
       "      <td>главный</td>\n",
       "      <td>111003415</td>\n",
       "      <td>2015-03-27 12:00:00</td>\n",
       "      <td>Художественный</td>\n",
       "      <td>ООО \"Киностудия \"МАСТЕР\"</td>\n",
       "      <td>Россия</td>\n",
       "      <td>Ю.Кара</td>\n",
       "      <td>Ю.Кара</td>\n",
       "      <td>6+</td>\n",
       "      <td>0.0</td>\n",
       "      <td>10000000.0</td>\n",
       "      <td>40000000.0</td>\n",
       "      <td>Министерство культуры</td>\n",
       "      <td>9.4</td>\n",
       "      <td>фантастика,боевик,комедия</td>\n",
       "      <td>334750.0</td>\n",
       "      <td>2015</td>\n",
       "      <td>Ю.Кара</td>\n",
       "      <td>фантастика</td>\n",
       "      <td>10000000.0</td>\n",
       "    </tr>\n",
       "    <tr>\n",
       "      <th>3515</th>\n",
       "      <td>взломать блогеров</td>\n",
       "      <td>111016616</td>\n",
       "      <td>2016-10-28 12:00:00</td>\n",
       "      <td>Художественный</td>\n",
       "      <td>ООО \"ТаББаК\"</td>\n",
       "      <td>Россия</td>\n",
       "      <td>М.Свешников</td>\n",
       "      <td>Т.Бекмамбетов</td>\n",
       "      <td>6+</td>\n",
       "      <td>0.0</td>\n",
       "      <td>25000000.0</td>\n",
       "      <td>36016269.0</td>\n",
       "      <td>Фонд кино</td>\n",
       "      <td>1.0</td>\n",
       "      <td>комедия,мультфильм,фантастика</td>\n",
       "      <td>7323648.0</td>\n",
       "      <td>2016</td>\n",
       "      <td>М.Свешников</td>\n",
       "      <td>комедия</td>\n",
       "      <td>25000000.0</td>\n",
       "    </tr>\n",
       "  </tbody>\n",
       "</table>\n",
       "</div>"
      ],
      "text/plain": [
       "                  title   puNumber     show_start_date            type  \\\n",
       "2146            главный  111003415 2015-03-27 12:00:00  Художественный   \n",
       "3515  взломать блогеров  111016616 2016-10-28 12:00:00  Художественный   \n",
       "\n",
       "                   film_studio production_country     director       producer  \\\n",
       "2146  ООО \"Киностудия \"МАСТЕР\"             Россия       Ю.Кара         Ю.Кара   \n",
       "3515              ООО \"ТаББаК\"             Россия  М.Свешников  Т.Бекмамбетов   \n",
       "\n",
       "     age_restriction  refundable_support  nonrefundable_support      budget  \\\n",
       "2146              6+                 0.0             10000000.0  40000000.0   \n",
       "3515              6+                 0.0             25000000.0  36016269.0   \n",
       "\n",
       "           financing_source  ratings                         genres  \\\n",
       "2146  Министерство культуры      9.4      фантастика,боевик,комедия   \n",
       "3515              Фонд кино      1.0  комедия,мультфильм,фантастика   \n",
       "\n",
       "      box_office  year main_director  main_genre  budget_gos  \n",
       "2146    334750.0  2015        Ю.Кара  фантастика  10000000.0  \n",
       "3515   7323648.0  2016   М.Свешников     комедия  25000000.0  "
      ]
     },
     "execution_count": 81,
     "metadata": {},
     "output_type": "execute_result"
    }
   ],
   "source": [
    "movies_gos.loc[(movies_gos['ratings'] == movies_gos['ratings'].max()) | (movies_gos['ratings'] == movies_gos['ratings'].min())]"
   ]
  },
  {
   "cell_type": "markdown",
   "metadata": {},
   "source": [
    "Фильм с самым низким рейтингом на Кинопоиске собрал в кинотеатрах на порядок больше, чем фильм с самым высоким рейтингом. Бюджеты обоих фильмов сравнимы."
   ]
  },
  {
   "cell_type": "markdown",
   "metadata": {},
   "source": [
    "Посмотрим, какие жанры фильмов приносят самые большие сборы, а так же, на фильмы каких жанров тратятся самые большие бюджеты"
   ]
  },
  {
   "cell_type": "code",
   "execution_count": 97,
   "metadata": {
    "scrolled": true
   },
   "outputs": [
    {
     "data": {
      "image/png": "[encoded data removed]",
      "text/plain": [
       "<Figure size 1296x360 with 3 Axes>"
      ]
     },
     "metadata": {
      "needs_background": "light"
     },
     "output_type": "display_data"
    }
   ],
   "source": [
    "fig, (ax1, ax2, ax3) = plt.subplots(nrows=1, ncols=3,figsize=(18, 5))\n",
    "\n",
    "movies_gos.pivot_table(index = 'main_genre', \\\n",
    "                       values = 'box_office', \\\n",
    "                       aggfunc = {'count'}). \\\n",
    "           sort_values(by = 'count', ascending = False). \\\n",
    "           plot(kind = 'bar',\n",
    "                ax = ax1,\n",
    "                title = 'Количество фильмов',\n",
    "                xlabel = 'Жанр',\n",
    "                ylabel = 'Количество',\n",
    "                legend = False)\n",
    "\n",
    "movies_gos.pivot_table(index = 'main_genre', \\\n",
    "                       values = ['box_office', 'budget'], \\\n",
    "                       aggfunc = {'sum'}). \\\n",
    "           sort_values(by = ('box_office','sum'), ascending = False). \\\n",
    "           plot(kind = 'bar',\n",
    "                ax = ax2,\n",
    "                title = 'Кассовые сборы',\n",
    "                xlabel = 'Жанр',\n",
    "                ylabel = 'Сумма'). \\\n",
    "                legend(['Кассовые сборы','Общий бюджет'], title=\"Объём\")\n",
    "\n",
    "movies_gos.pivot_table(index = 'main_genre', \\\n",
    "                       values = ['box_office', 'budget'], \\\n",
    "                       aggfunc = {'mean'}). \\\n",
    "           sort_values(by = ('box_office','mean'), ascending = False). \\\n",
    "           plot(kind = 'bar',\n",
    "                ax = ax3,\n",
    "                title = 'Средний бюджет и кассовые сборы',\n",
    "                xlabel = 'Жанр',\n",
    "                ylabel = 'Сумма'). \\\n",
    "                legend(['Кассовые сборы','Общий бюджет'], title=\"Объём\")\n",
    "plt.show()"
   ]
  },
  {
   "cell_type": "markdown",
   "metadata": {},
   "source": [
    "Из графиков видно:\n",
    "* больше всего снимают фильмов в жанрах драма, комедия и мультфильм\n",
    "* в кинотеатрах эти же жанры популярны. \n",
    "* при этом комедии хорошо окупаются, мультфильмы - без прибыли (сколько потратили, столько и собрали), а драмы не окупаются (бюджет больше кассовых сборов)\n",
    "* из остальных жанров окупаются только спортивные, остальные в убытке\n",
    "* самый высокий средний кассовый сбор у фильмов жанра спорт. Хотя таких фильмов снимают очень мало, но они малобюджетны (что в общем, что в среднем), но окупаются они очень хорошо\n",
    "* самые плохоокупаемые фильмы жанров история и приключения. Их снимают мало, но они высокобюджетные (и в общем, и в среднем), а кассовые сборы не окупают бюджет."
   ]
  },
  {
   "cell_type": "markdown",
   "metadata": {
    "id": "V2gYwMcPgFyd"
   },
   "source": [
    "### Шаг 5. Напишите общий вывод"
   ]
  },
  {
   "cell_type": "markdown",
   "metadata": {},
   "source": [
    "**Исследование проводится по заказу Министерства культуры Российской Федерации**\n",
    "\n",
    "**Цель:**\n",
    "\n",
    "        * изучить рынок российского кинопроката и выявить текущие тренды\n",
    "        \n",
    "**Задачи:**\n",
    "\n",
    "        * проанализировать динамику проката по годам\n",
    "        * рассмотреть зависимость кассовых сборов в кинотеатрах от возрастных ограничений\n",
    "        * выявить особенности кинопроката фильмов, получивших гос.поддержку\n",
    "        \n",
    "Для проведения исследования были получены два датасета. Первый - с информацией о прокатных удостоверениях, второй - о прокате в российских кинотеатрах.\n",
    "\n",
    "Первым делом я объединила два датасета, чтобы вся нужная информация была в одном месте.\n",
    "\n",
    "**Далее я провела предобработку данных:**\n",
    "1. Столбец \"show_start_date\" привела к стандартному типу datetime\n",
    "2. В столбце \"age_restriction\" упростила записи для удобства работы\n",
    "3. Убрала мусор в данных (%, пробелы) в столбцах \"ratings\", \"type\", \"film_studio\", \"genres\"\n",
    "4. В столбце \"ratings\" данные были записаны в разных формах. Привела все к типу данных float и десятибальной шкале.\n",
    "5. Привела к нижнему регистру значения в столбце \"title\"\n",
    "4. Обнаружила пропуски в столбцах:\n",
    "    * film_studio\n",
    "    * production_country\n",
    "    * director\n",
    "    * producer   \n",
    "    * refundable_support       \n",
    "    * nonrefundable_support    \n",
    "    * budget  \n",
    "    * financing_source      \n",
    "    * ratings      \n",
    "    * genres      \n",
    "    * box_office\n",
    "5. В столбцах \"film_studio\", \"production_country\", \"director\", \"producer\", \"genres\" пропуски заполним значением \"unknown\", т.к. никак логически эти пропуски не заполнить\n",
    "6. В столбцах \"refundable_support\", \"nonrefundable_support\", \"budget\" пропуски заполним 0, т.к. там, где пропущены значения, фильмы не имеют гос.поддержки. \n",
    "7. В столбце \"financing_source\" указана организация, которая оказала гос.поддержку. Если значение пропущено, значит нет гос.поддержки, нет организации, поэтому заполним пропуски значением 'No'\n",
    "8. Остались пропущенные значения в столбцах \"ratings\" и \"box_office\". Их заполнить можно только вручную, осуществив поиск в интернете, а логически никак нельзя заполнить, поэтому оставим пропуски в этих столбцах.\n",
    "9. Удалила явные дубликаты\n",
    "10. Поработала с неявными ошибками, а именно в ячейки столбца \"budget\" записала сумму столбцов \"refundable_support\" и \"nonrefundable_support\" в тех случаях, когда значения в столбце \"budget\" были меньше чем средства гос.поддержки\n",
    "\n",
    "**После того, как данные приведены к нужному виду, я провела исследовательский анализ:**\n",
    "1. Создала три новых столбца:\n",
    "        'year' - с информацией о годе проката\n",
    "        'main_director' - с именем и фамилией главного режиссёра\n",
    "        'main_genre' - с основным жанром фильма\n",
    "2. посчитала, что в среднем доля гос.поддержки от общего бюджета фильма составляет 0.54. В исследовании есть данные о доле для всех фильмов, получивших гос.поддержку\n",
    "3. В данных представлена не вся информация о прокате в кинотеатрах. Доля фильмов с указанной информацией о прокате в кинотеатрах 0.42. Наиболее полная информация о прокате представлена за 2015, 2016, 2017 годы. так же достаточно полная информация за годы 2018 и 2019.\n",
    "4. Выяснила, что минимальный кассовый сбор был в 2010 году, а максимальный - в 2018 году.\n",
    "5. Далее я для каждого года в период 2015 - 2019 сгруппировала данные по столбцу \"age_restriction\" (возрастные ограничения\") и посчитала сумму сборов и количество фильмов. Эти данные представлены в виде графиков:\n",
    "        * круговая диаграмма распределения количества фильмов по возрастным категориям\n",
    "        * столбчатая диаграмма суммы сбора для каждой возрастной категории\n",
    "        \n",
    "*Выводы по каждому году:* \n",
    "        \n",
    "   в **2015** году зрителям больше всего понравились фильмы категории 12+  \n",
    "   \n",
    "   в **2016** году зрителям больше всего понравились фильмы категории 12+ и 6+\n",
    "   \n",
    "   в **2017** году зрителям больше всего понравились фильмы категории 16+ и 6+\n",
    "   \n",
    "   в **2018** году зрителям больше всего понравились фильмы категории 12+ и 16+\n",
    "   \n",
    "   в **2019** году зрителям больше всего понравились фильмы категории 6+, 12+ и 16+\n",
    "    \n",
    "**Общий вывод:** \n",
    "\n",
    "**Самыми популярными и приносящими хорошие сборы на протяжении 2015-2019 годов остаются фильмы категорий 12+ и 16+. \n",
    "Причем фильмы категории 16+ достигают высоких сборов количеством, а вот фильмы 12+ - качеством.**\n",
    "          \n",
    "6. Так же я построила графики подобные тем, что выше: для каждой возрастной категории сгруппировала данные по годам 2015 - 2019,  на круговой диаграмме показала количество фильмов в категории по годам, а на столбчатой диаграмме показала сумму сборов по годам для возрастной категории.\n",
    "\n",
    "*Выводы для каждой категории:*\n",
    "\n",
    "  **0+:** Количество фильмов за 2010-2016 было примерно одинаковое, но сборы самые высокие были за 2014 и 2015 годы. Количество фильмов за 2017 год было значительно меньше, чем раньше, но сборы при этом достаточно большие. В 2018 и 2019 крайне мало снято фильмов, поэтому и сборов мало.\n",
    "  \n",
    "  **6+:** Здесь все очень пропорционально. Ели в году мало снято фильмов, то и сумма сборов мала, если фильмов снято больше, то и сумма сборов подрастает.\n",
    "  \n",
    "  **12+:** в 2010 - 2012 фильмов снято мало, сборы минимальны. В 2013 году фильмов сняли больше, но сборы не выросли. В 2014 году снято много, сборов маловато. Резкий рост суммы сборов наблюдается в 2015 году, когда количество фильмов по сравнению с предыдущим годом даже чуть меньше, а сборы резко выросли. В 2016, 2017 года все пропорционально - мало фильмов, мало сборов. В 2018 году ситуация похожа на 2015 год - фильмов не так много, сборы самые максимальные. В 2019 году все пропорционально.\n",
    "  \n",
    "  **16+:** Здесь все довольно пропорционально. Выделяется только 2017 год, где количество фильмов меньше, чем в предыдущие пару лет и последующие пару лет, а вот сборы самые максимальные.\n",
    "  \n",
    "  **18+:** Здесь все выглядит пропорционально. Мало фильмов - мало сборов, много фильмов - много сборов.\n",
    "  \n",
    "**Общий вывод:** \n",
    "\n",
    "**В 2010 - 2013 годах количество фильмов во всех категориях было мало, поэтому и суммы сборов малы. Интересен 2017 год, особенно в категориях 0+ и 16+, фильмов снято мало, а сборы большие. Интересны в категории 12+ годы 2015 и 2018 - фильмов снято немного, а сборы большие. В остальном ситуация пропорциональная - сняли мало, мало собрали, сняли много, много собрали.**\n",
    "\n",
    "7. Далее я исследовала только фильмы, получившие гос.поддержку. \n",
    "\n",
    "- Построила два графика:\n",
    "            * круговая диаграмма, показывающая количество фильмов, выпущенных в каждом году.\n",
    "            * столбчатая диаграмма, отображающая сумму сборов в каждом году.\n",
    "\n",
    "           Из них видно, что 2015 год бы неудачным, т.к. фильмов выпущено больше всего, а сборы достаточно низкие. Удачным был 2017 год - фильмов снято меньше, чем в предыдущие пару лет и последующие пару лет, а сборы самые максимальные. Остальные годы довольно пропорциональны.\n",
    "\n",
    "- Построила график, на котором видно, что объем невозвратных средств значительно больше, чем возвратных средств. Также видно, что больше всего государство выделило средств в 2019 году.\n",
    " \n",
    " \n",
    "- Построила столбчатую диаграмму, отображающую общий бюджет фильмов, сумму гос.поддержки и кассовые сборы в разбивке по годам.\n",
    "Из этого графика видно, что фильмы окупились в прокате только в 2017 и 2018 году. Самый большой провал в окупаемости фильмов был в 2019 году - самый высокий уровень гос.поддержки и самые высокобюджетные фильмы, но они не окупились, а сборы были даже меньше, чем в предыдущие два года.\n",
    "\n",
    "\n",
    "- Посмотрела корреляцию между бюджетом фильма и кассовыми сборами. Видно, что у фильмов с небольшим бюджетом есть корреляция с невысоким кассовым сбором. Но при этом есть отдельные фильмы с огромным бюджетом, но очень низкими сборами, и наоборот: бюджет небольшой, а сборы достаточно приличные. Например, фильмы \"Экипаж\", \"Последний богатырь\", \"Движение вверх\", \"Лёд\", \"Т-34\", \"Холоп\" - при не самых высоких бюджетах очень хорошо окупились. И действительно, эти фильмы на слуху.\n",
    " \n",
    " \n",
    "- Посмотрела корреляцию между рейтингом фильма на Кинопоиске и кассовыми сборами. Тут корреляции нет. Много фильмов имеют довольно высокий рейтинг на Кинопоиске (от 6.0), но кассовые сборы у них очень низкие. Есть всего несколько фильмов, которые имеют и высокий рейтинг, и собрали хорошие кассовые сборы. И это опять те же фильмы: \"Экипаж\", \"Последний богатырь\", \"Движение вверх\", \"Т-34\", \"Холоп\"\n",
    " \n",
    " \n",
    "- Изучила информацию о рейтингах. Средний рейтинг 6.0, минимальный 1.0, максимальный 9.4. Фильм с самым низким рейтингом на Кинопоиске собрал в кинотеатрах на порядок больше, чем фильм с самым высоким рейтингом. Бюджеты обоих фильмов сравнимы.\n",
    "\n",
    "\n",
    "- Изучила информацию о жанрах: какие жанры фильмов приносят самые большие сборы, на фильмы каких жанров тратятся самые большие бюджеты. И графиков видно:\n",
    "\n",
    "        * больше всего снимают фильмов в жанрах драма, комедия и мультфильм\n",
    "        * в кинотеатрах эти же жанры популярны. \n",
    "        * при этом комедии хорошо окупаются, мультфильмы - без прибыли (сколько потратили, столько и собрали), а драмы не окупаются (бюджет больше кассовых сборов)\n",
    "        * из остальных жанров окупаются только спортивные, остальные в убытке\n",
    "        * самый высокий средний кассовый сбор у фильмов жанра спорт. Хотя таких фильмов снимают очень мало, но они малобюджетны (что в общем, что в среднем), но окупаются они очень хорошо\n",
    "        * самые плохоокупаемые фильмы жанров история и приключения. Их снимают мало, но они высокобюджетные (и в общем, и в среднем), а кассовые сборы не окупают бюджет.\n",
    "        \n",
    "**Общий вывод:**\n",
    "\n",
    "    Фильмы, которые снимаются при поддержке государства, чаще всего не окупаются в прокате. \n",
    "    Объём невозвратных средств гораздо выше, чем возвратных, думаю поэтому создателям фильмов нет стимула стремиться снимать кино, которое будет окупаться в прокате. \n",
    "    Самые популярные жанры - комедия, драма и мультфильмы.\n",
    "    Самый окупаемый жанр - спортивный. Я бы рекомендовала увеличить производство фильмов этого жанра.\n",
    "    Чаще всего зрители смотрят фильмы категории 12+ и 16+.\n"
   ]
  },
  {
   "cell_type": "code",
   "execution_count": null,
   "metadata": {},
   "outputs": [],
   "source": []
  }
 ],
 "metadata": {
  "ExecuteTimeLog": [
   {
    "duration": 537,
    "start_time": "2021-07-07T10:12:08.634Z"
   },
   {
    "duration": 206,
    "start_time": "2021-07-07T10:12:30.191Z"
   },
   {
    "duration": 227,
    "start_time": "2021-07-07T10:12:33.078Z"
   },
   {
    "duration": 153,
    "start_time": "2021-07-07T10:13:42.146Z"
   },
   {
    "duration": 233,
    "start_time": "2021-07-07T10:30:09.252Z"
   },
   {
    "duration": 19,
    "start_time": "2021-07-07T10:30:15.577Z"
   },
   {
    "duration": 18,
    "start_time": "2021-07-07T10:30:57.348Z"
   },
   {
    "duration": 19,
    "start_time": "2021-07-07T10:31:17.452Z"
   },
   {
    "duration": 21,
    "start_time": "2021-07-07T10:31:32.227Z"
   },
   {
    "duration": 27,
    "start_time": "2021-07-07T10:32:06.588Z"
   },
   {
    "duration": 23,
    "start_time": "2021-07-07T10:32:43.645Z"
   },
   {
    "duration": 24,
    "start_time": "2021-07-07T10:33:06.948Z"
   },
   {
    "duration": 7,
    "start_time": "2021-07-07T10:33:28.558Z"
   },
   {
    "duration": 23,
    "start_time": "2021-07-07T10:33:43.761Z"
   },
   {
    "duration": 28,
    "start_time": "2021-07-07T10:34:13.466Z"
   },
   {
    "duration": 23,
    "start_time": "2021-07-07T10:35:56.187Z"
   },
   {
    "duration": 6,
    "start_time": "2021-07-07T10:36:48.182Z"
   },
   {
    "duration": 14,
    "start_time": "2021-07-07T10:37:49.641Z"
   },
   {
    "duration": 6,
    "start_time": "2021-07-07T10:38:06.694Z"
   },
   {
    "duration": 6,
    "start_time": "2021-07-07T10:38:13.493Z"
   },
   {
    "duration": 19,
    "start_time": "2021-07-07T10:38:44.056Z"
   },
   {
    "duration": 186,
    "start_time": "2021-07-07T10:48:35.618Z"
   },
   {
    "duration": 24,
    "start_time": "2021-07-07T10:48:51.498Z"
   },
   {
    "duration": 20,
    "start_time": "2021-07-07T10:48:59.415Z"
   },
   {
    "duration": 20,
    "start_time": "2021-07-07T10:53:02.195Z"
   },
   {
    "duration": 188,
    "start_time": "2021-07-07T10:54:40.486Z"
   },
   {
    "duration": 115,
    "start_time": "2021-07-07T10:54:52.552Z"
   },
   {
    "duration": 214,
    "start_time": "2021-07-07T10:54:56.354Z"
   },
   {
    "duration": 47,
    "start_time": "2021-07-07T10:54:58.282Z"
   },
   {
    "duration": 217,
    "start_time": "2021-07-07T10:59:16.075Z"
   },
   {
    "duration": 51,
    "start_time": "2021-07-07T10:59:16.243Z"
   },
   {
    "duration": 578,
    "start_time": "2021-07-07T10:59:18.774Z"
   },
   {
    "duration": 161,
    "start_time": "2021-07-07T10:59:21.238Z"
   },
   {
    "duration": 59,
    "start_time": "2021-07-07T10:59:21.453Z"
   },
   {
    "duration": 3,
    "start_time": "2021-07-07T11:02:10.786Z"
   },
   {
    "duration": 13,
    "start_time": "2021-07-07T11:07:07.722Z"
   },
   {
    "duration": 26,
    "start_time": "2021-07-07T11:07:17.958Z"
   },
   {
    "duration": 22,
    "start_time": "2021-07-07T11:08:17.939Z"
   },
   {
    "duration": 212,
    "start_time": "2021-07-07T11:08:19.665Z"
   },
   {
    "duration": 21,
    "start_time": "2021-07-07T11:08:29.945Z"
   },
   {
    "duration": 31,
    "start_time": "2021-07-07T11:08:38.899Z"
   },
   {
    "duration": 23,
    "start_time": "2021-07-07T11:08:54.527Z"
   },
   {
    "duration": 8,
    "start_time": "2021-07-07T11:18:55.974Z"
   },
   {
    "duration": 7,
    "start_time": "2021-07-07T11:19:03.639Z"
   },
   {
    "duration": 7,
    "start_time": "2021-07-07T11:19:06.444Z"
   },
   {
    "duration": 578,
    "start_time": "2021-07-07T12:09:59.576Z"
   },
   {
    "duration": 195,
    "start_time": "2021-07-07T12:10:00.156Z"
   },
   {
    "duration": 115,
    "start_time": "2021-07-07T12:10:00.353Z"
   },
   {
    "duration": 3,
    "start_time": "2021-07-07T12:10:00.470Z"
   },
   {
    "duration": 32,
    "start_time": "2021-07-07T12:10:00.474Z"
   },
   {
    "duration": 23,
    "start_time": "2021-07-07T12:10:00.508Z"
   },
   {
    "duration": 19,
    "start_time": "2021-07-07T12:10:00.533Z"
   },
   {
    "duration": 44,
    "start_time": "2021-07-07T12:10:00.553Z"
   },
   {
    "duration": 7,
    "start_time": "2021-07-07T12:10:00.600Z"
   },
   {
    "duration": 7,
    "start_time": "2021-07-07T12:19:45.761Z"
   },
   {
    "duration": 21,
    "start_time": "2021-07-07T12:21:35.482Z"
   },
   {
    "duration": 21,
    "start_time": "2021-07-07T12:29:23.569Z"
   },
   {
    "duration": 525,
    "start_time": "2021-07-07T12:29:44.542Z"
   },
   {
    "duration": 214,
    "start_time": "2021-07-07T12:29:45.069Z"
   },
   {
    "duration": 92,
    "start_time": "2021-07-07T12:29:45.285Z"
   },
   {
    "duration": 3,
    "start_time": "2021-07-07T12:29:45.379Z"
   },
   {
    "duration": 28,
    "start_time": "2021-07-07T12:29:45.384Z"
   },
   {
    "duration": 23,
    "start_time": "2021-07-07T12:29:45.413Z"
   },
   {
    "duration": 21,
    "start_time": "2021-07-07T12:29:45.437Z"
   },
   {
    "duration": 41,
    "start_time": "2021-07-07T12:29:45.460Z"
   },
   {
    "duration": 7,
    "start_time": "2021-07-07T12:29:45.502Z"
   },
   {
    "duration": 20,
    "start_time": "2021-07-07T12:29:45.511Z"
   },
   {
    "duration": 12,
    "start_time": "2021-07-07T12:34:02.800Z"
   },
   {
    "duration": 7,
    "start_time": "2021-07-07T12:35:10.479Z"
   },
   {
    "duration": 8,
    "start_time": "2021-07-07T12:35:22.440Z"
   },
   {
    "duration": 6,
    "start_time": "2021-07-07T12:35:35.649Z"
   },
   {
    "duration": 6,
    "start_time": "2021-07-07T12:35:43.107Z"
   },
   {
    "duration": 22,
    "start_time": "2021-07-07T12:38:03.029Z"
   },
   {
    "duration": 10,
    "start_time": "2021-07-07T12:38:06.592Z"
   },
   {
    "duration": 563,
    "start_time": "2021-07-07T12:38:46.493Z"
   },
   {
    "duration": 265,
    "start_time": "2021-07-07T12:38:47.058Z"
   },
   {
    "duration": 94,
    "start_time": "2021-07-07T12:38:47.325Z"
   },
   {
    "duration": 3,
    "start_time": "2021-07-07T12:38:47.422Z"
   },
   {
    "duration": 30,
    "start_time": "2021-07-07T12:38:47.427Z"
   },
   {
    "duration": 16,
    "start_time": "2021-07-07T12:38:53.305Z"
   },
   {
    "duration": 10,
    "start_time": "2021-07-07T12:38:53.499Z"
   },
   {
    "duration": 8,
    "start_time": "2021-07-07T12:39:48.161Z"
   },
   {
    "duration": 27,
    "start_time": "2021-07-07T12:41:17.629Z"
   },
   {
    "duration": 17,
    "start_time": "2021-07-07T12:41:17.867Z"
   },
   {
    "duration": 21,
    "start_time": "2021-07-07T12:41:19.310Z"
   },
   {
    "duration": 7,
    "start_time": "2021-07-07T12:41:19.544Z"
   },
   {
    "duration": 20,
    "start_time": "2021-07-07T12:41:20.504Z"
   },
   {
    "duration": 554,
    "start_time": "2021-07-07T12:56:23.696Z"
   },
   {
    "duration": 200,
    "start_time": "2021-07-07T12:56:25.234Z"
   },
   {
    "duration": 119,
    "start_time": "2021-07-07T12:56:25.480Z"
   },
   {
    "duration": 4,
    "start_time": "2021-07-07T12:56:25.762Z"
   },
   {
    "duration": 26,
    "start_time": "2021-07-07T12:56:27.172Z"
   },
   {
    "duration": 12,
    "start_time": "2021-07-07T12:56:29.051Z"
   },
   {
    "duration": 10,
    "start_time": "2021-07-07T12:56:29.291Z"
   },
   {
    "duration": 8,
    "start_time": "2021-07-07T12:56:29.623Z"
   },
   {
    "duration": 28,
    "start_time": "2021-07-07T12:56:32.137Z"
   },
   {
    "duration": 19,
    "start_time": "2021-07-07T12:56:39.785Z"
   },
   {
    "duration": 20,
    "start_time": "2021-07-07T12:56:44.297Z"
   },
   {
    "duration": 7,
    "start_time": "2021-07-07T12:56:45.392Z"
   },
   {
    "duration": 23,
    "start_time": "2021-07-07T12:56:46.615Z"
   },
   {
    "duration": 4,
    "start_time": "2021-07-07T12:57:06.625Z"
   },
   {
    "duration": 32,
    "start_time": "2021-07-07T12:57:36.690Z"
   },
   {
    "duration": 18,
    "start_time": "2021-07-07T12:58:00.149Z"
   },
   {
    "duration": 15,
    "start_time": "2021-07-07T12:59:16.793Z"
   },
   {
    "duration": 7,
    "start_time": "2021-07-07T13:19:22.624Z"
   },
   {
    "duration": 6,
    "start_time": "2021-07-07T14:17:33.527Z"
   },
   {
    "duration": 9,
    "start_time": "2021-07-07T14:17:48.409Z"
   },
   {
    "duration": 8,
    "start_time": "2021-07-07T14:20:13.060Z"
   },
   {
    "duration": 8,
    "start_time": "2021-07-07T14:20:37.957Z"
   },
   {
    "duration": 8,
    "start_time": "2021-07-07T14:20:47.470Z"
   },
   {
    "duration": 9,
    "start_time": "2021-07-07T14:20:54.503Z"
   },
   {
    "duration": 10,
    "start_time": "2021-07-07T14:28:57.763Z"
   },
   {
    "duration": 3,
    "start_time": "2021-07-07T14:30:23.377Z"
   },
   {
    "duration": 3,
    "start_time": "2021-07-07T14:30:36.489Z"
   },
   {
    "duration": 103,
    "start_time": "2021-07-07T14:30:52.351Z"
   },
   {
    "duration": 8,
    "start_time": "2021-07-07T14:30:54.763Z"
   },
   {
    "duration": 8,
    "start_time": "2021-07-07T14:31:29.301Z"
   },
   {
    "duration": 13,
    "start_time": "2021-07-07T14:31:44.516Z"
   },
   {
    "duration": 7,
    "start_time": "2021-07-07T14:33:10.972Z"
   },
   {
    "duration": 11,
    "start_time": "2021-07-07T14:33:27.780Z"
   },
   {
    "duration": 8,
    "start_time": "2021-07-07T14:34:44.588Z"
   },
   {
    "duration": 57,
    "start_time": "2021-07-07T14:35:59.042Z"
   },
   {
    "duration": 3,
    "start_time": "2021-07-07T14:36:28.168Z"
   },
   {
    "duration": 5,
    "start_time": "2021-07-07T14:36:46.254Z"
   },
   {
    "duration": 4,
    "start_time": "2021-07-07T14:36:52.714Z"
   },
   {
    "duration": 3,
    "start_time": "2021-07-07T14:36:56.612Z"
   },
   {
    "duration": 4,
    "start_time": "2021-07-07T14:36:57.049Z"
   },
   {
    "duration": 3,
    "start_time": "2021-07-07T14:39:21.214Z"
   },
   {
    "duration": 7,
    "start_time": "2021-07-07T14:39:52.406Z"
   },
   {
    "duration": 11,
    "start_time": "2021-07-07T14:39:58.576Z"
   },
   {
    "duration": 9,
    "start_time": "2021-07-07T14:40:26.301Z"
   },
   {
    "duration": 10,
    "start_time": "2021-07-07T14:40:31.704Z"
   },
   {
    "duration": 11,
    "start_time": "2021-07-07T14:40:36.249Z"
   },
   {
    "duration": 10,
    "start_time": "2021-07-07T14:40:39.783Z"
   },
   {
    "duration": 9,
    "start_time": "2021-07-07T14:40:48.558Z"
   },
   {
    "duration": 10,
    "start_time": "2021-07-07T14:40:57.143Z"
   },
   {
    "duration": 9,
    "start_time": "2021-07-07T14:41:06.074Z"
   },
   {
    "duration": 4324,
    "start_time": "2021-07-07T14:41:22.004Z"
   },
   {
    "duration": 11,
    "start_time": "2021-07-07T14:41:33.392Z"
   },
   {
    "duration": 9,
    "start_time": "2021-07-07T14:41:39.288Z"
   },
   {
    "duration": 569,
    "start_time": "2021-07-07T14:42:14.387Z"
   },
   {
    "duration": 197,
    "start_time": "2021-07-07T14:42:14.959Z"
   },
   {
    "duration": 84,
    "start_time": "2021-07-07T14:42:16.052Z"
   },
   {
    "duration": 4,
    "start_time": "2021-07-07T14:42:16.900Z"
   },
   {
    "duration": 27,
    "start_time": "2021-07-07T14:42:19.898Z"
   },
   {
    "duration": 12,
    "start_time": "2021-07-07T14:42:21.577Z"
   },
   {
    "duration": 9,
    "start_time": "2021-07-07T14:42:21.813Z"
   },
   {
    "duration": 9,
    "start_time": "2021-07-07T14:42:22.569Z"
   },
   {
    "duration": 29,
    "start_time": "2021-07-07T14:42:25.837Z"
   },
   {
    "duration": 20,
    "start_time": "2021-07-07T14:42:27.003Z"
   },
   {
    "duration": 21,
    "start_time": "2021-07-07T14:42:28.767Z"
   },
   {
    "duration": 7,
    "start_time": "2021-07-07T14:42:29.838Z"
   },
   {
    "duration": 4,
    "start_time": "2021-07-07T14:43:25.493Z"
   },
   {
    "duration": 7,
    "start_time": "2021-07-07T14:43:26.573Z"
   },
   {
    "duration": 10,
    "start_time": "2021-07-07T14:43:31.639Z"
   },
   {
    "duration": 9,
    "start_time": "2021-07-07T14:43:32.046Z"
   },
   {
    "duration": 10,
    "start_time": "2021-07-07T14:43:33.301Z"
   },
   {
    "duration": 12,
    "start_time": "2021-07-07T14:43:33.658Z"
   },
   {
    "duration": 8,
    "start_time": "2021-07-07T14:43:34.552Z"
   },
   {
    "duration": 9,
    "start_time": "2021-07-07T14:43:35.058Z"
   },
   {
    "duration": 12,
    "start_time": "2021-07-07T14:43:35.914Z"
   },
   {
    "duration": 17,
    "start_time": "2021-07-07T14:45:34.368Z"
   },
   {
    "duration": 512,
    "start_time": "2021-07-07T14:51:58.236Z"
   },
   {
    "duration": 223,
    "start_time": "2021-07-07T14:51:58.750Z"
   },
   {
    "duration": 93,
    "start_time": "2021-07-07T14:51:58.977Z"
   },
   {
    "duration": 4,
    "start_time": "2021-07-07T14:51:59.071Z"
   },
   {
    "duration": 37,
    "start_time": "2021-07-07T14:51:59.077Z"
   },
   {
    "duration": 18,
    "start_time": "2021-07-07T14:51:59.116Z"
   },
   {
    "duration": 10,
    "start_time": "2021-07-07T14:51:59.137Z"
   },
   {
    "duration": 8,
    "start_time": "2021-07-07T14:51:59.149Z"
   },
   {
    "duration": 54,
    "start_time": "2021-07-07T14:51:59.158Z"
   },
   {
    "duration": 18,
    "start_time": "2021-07-07T14:51:59.213Z"
   },
   {
    "duration": 22,
    "start_time": "2021-07-07T14:51:59.232Z"
   },
   {
    "duration": 36,
    "start_time": "2021-07-07T14:51:59.255Z"
   },
   {
    "duration": 7,
    "start_time": "2021-07-07T14:51:59.293Z"
   },
   {
    "duration": 10,
    "start_time": "2021-07-07T14:51:59.302Z"
   },
   {
    "duration": 9,
    "start_time": "2021-07-07T14:51:59.313Z"
   },
   {
    "duration": 11,
    "start_time": "2021-07-07T14:51:59.324Z"
   },
   {
    "duration": 8,
    "start_time": "2021-07-07T14:51:59.337Z"
   },
   {
    "duration": 46,
    "start_time": "2021-07-07T14:51:59.347Z"
   },
   {
    "duration": 22,
    "start_time": "2021-07-07T14:51:59.395Z"
   },
   {
    "duration": 24,
    "start_time": "2021-07-07T14:57:32.911Z"
   },
   {
    "duration": 7,
    "start_time": "2021-07-07T14:58:22.070Z"
   },
   {
    "duration": 4,
    "start_time": "2021-07-07T14:59:11.239Z"
   },
   {
    "duration": 25,
    "start_time": "2021-07-07T15:07:22.208Z"
   },
   {
    "duration": 16,
    "start_time": "2021-07-07T15:08:25.560Z"
   },
   {
    "duration": 15,
    "start_time": "2021-07-07T15:08:40.647Z"
   },
   {
    "duration": 14,
    "start_time": "2021-07-07T15:08:46.669Z"
   },
   {
    "duration": 533,
    "start_time": "2021-07-07T15:18:07.440Z"
   },
   {
    "duration": 173,
    "start_time": "2021-07-07T15:18:07.974Z"
   },
   {
    "duration": 84,
    "start_time": "2021-07-07T15:18:08.149Z"
   },
   {
    "duration": 3,
    "start_time": "2021-07-07T15:18:08.235Z"
   },
   {
    "duration": 30,
    "start_time": "2021-07-07T15:18:08.240Z"
   },
   {
    "duration": 22,
    "start_time": "2021-07-07T15:18:08.272Z"
   },
   {
    "duration": 11,
    "start_time": "2021-07-07T15:18:08.295Z"
   },
   {
    "duration": 11,
    "start_time": "2021-07-07T15:18:08.309Z"
   },
   {
    "duration": 40,
    "start_time": "2021-07-07T15:18:08.322Z"
   },
   {
    "duration": 42,
    "start_time": "2021-07-07T15:18:08.364Z"
   },
   {
    "duration": 22,
    "start_time": "2021-07-07T15:18:08.408Z"
   },
   {
    "duration": 5,
    "start_time": "2021-07-07T15:18:08.432Z"
   },
   {
    "duration": 13,
    "start_time": "2021-07-07T15:18:08.439Z"
   },
   {
    "duration": 9,
    "start_time": "2021-07-07T15:18:08.454Z"
   },
   {
    "duration": 32,
    "start_time": "2021-07-07T15:18:08.465Z"
   },
   {
    "duration": 10,
    "start_time": "2021-07-07T15:18:08.501Z"
   },
   {
    "duration": 7,
    "start_time": "2021-07-07T15:18:08.513Z"
   },
   {
    "duration": 11,
    "start_time": "2021-07-07T15:18:08.521Z"
   },
   {
    "duration": 17,
    "start_time": "2021-07-07T15:18:08.534Z"
   },
   {
    "duration": 44,
    "start_time": "2021-07-07T15:18:08.553Z"
   },
   {
    "duration": 22,
    "start_time": "2021-07-07T15:18:08.599Z"
   },
   {
    "duration": 61,
    "start_time": "2021-07-07T15:18:08.622Z"
   },
   {
    "duration": 7,
    "start_time": "2021-07-07T15:18:39.457Z"
   },
   {
    "duration": 5,
    "start_time": "2021-07-07T16:05:17.020Z"
   },
   {
    "duration": 5,
    "start_time": "2021-07-07T16:51:28.794Z"
   },
   {
    "duration": 546,
    "start_time": "2021-07-07T16:52:26.306Z"
   },
   {
    "duration": 203,
    "start_time": "2021-07-07T16:52:27.523Z"
   },
   {
    "duration": 85,
    "start_time": "2021-07-07T16:52:27.736Z"
   },
   {
    "duration": 4,
    "start_time": "2021-07-07T16:52:27.899Z"
   },
   {
    "duration": 25,
    "start_time": "2021-07-07T16:52:28.674Z"
   },
   {
    "duration": 8,
    "start_time": "2021-07-07T16:52:32.956Z"
   },
   {
    "duration": 18,
    "start_time": "2021-07-07T16:52:35.616Z"
   },
   {
    "duration": 6,
    "start_time": "2021-07-07T16:52:36.913Z"
   },
   {
    "duration": 11,
    "start_time": "2021-07-07T16:52:40.258Z"
   },
   {
    "duration": 10,
    "start_time": "2021-07-07T16:52:46.251Z"
   },
   {
    "duration": 8,
    "start_time": "2021-07-07T16:52:47.182Z"
   },
   {
    "duration": 27,
    "start_time": "2021-07-07T16:53:20.391Z"
   },
   {
    "duration": 20,
    "start_time": "2021-07-07T16:53:22.022Z"
   },
   {
    "duration": 23,
    "start_time": "2021-07-07T16:53:23.690Z"
   },
   {
    "duration": 8,
    "start_time": "2021-07-07T16:53:24.261Z"
   },
   {
    "duration": 4,
    "start_time": "2021-07-07T16:53:38.733Z"
   },
   {
    "duration": 7,
    "start_time": "2021-07-07T16:53:40.445Z"
   },
   {
    "duration": 11,
    "start_time": "2021-07-07T16:53:41.348Z"
   },
   {
    "duration": 13,
    "start_time": "2021-07-07T16:53:45.250Z"
   },
   {
    "duration": 12,
    "start_time": "2021-07-07T16:53:45.467Z"
   },
   {
    "duration": 4,
    "start_time": "2021-07-07T16:55:32.704Z"
   },
   {
    "duration": 12,
    "start_time": "2021-07-07T16:55:49.012Z"
   },
   {
    "duration": 18,
    "start_time": "2021-07-07T16:55:49.547Z"
   },
   {
    "duration": 611,
    "start_time": "2021-07-07T16:58:35.156Z"
   },
   {
    "duration": 200,
    "start_time": "2021-07-07T16:58:35.770Z"
   },
   {
    "duration": 86,
    "start_time": "2021-07-07T16:58:35.972Z"
   },
   {
    "duration": 3,
    "start_time": "2021-07-07T16:58:36.060Z"
   },
   {
    "duration": 27,
    "start_time": "2021-07-07T16:58:36.065Z"
   },
   {
    "duration": 8,
    "start_time": "2021-07-07T16:58:36.094Z"
   },
   {
    "duration": 17,
    "start_time": "2021-07-07T16:58:36.103Z"
   },
   {
    "duration": 5,
    "start_time": "2021-07-07T16:58:36.123Z"
   },
   {
    "duration": 11,
    "start_time": "2021-07-07T16:58:36.130Z"
   },
   {
    "duration": 7,
    "start_time": "2021-07-07T16:58:36.143Z"
   },
   {
    "duration": 37,
    "start_time": "2021-07-07T16:58:36.152Z"
   },
   {
    "duration": 27,
    "start_time": "2021-07-07T16:58:36.191Z"
   },
   {
    "duration": 19,
    "start_time": "2021-07-07T16:58:36.219Z"
   },
   {
    "duration": 49,
    "start_time": "2021-07-07T16:58:36.240Z"
   },
   {
    "duration": 6,
    "start_time": "2021-07-07T16:58:36.291Z"
   },
   {
    "duration": 3,
    "start_time": "2021-07-07T16:58:36.299Z"
   },
   {
    "duration": 13,
    "start_time": "2021-07-07T16:58:36.304Z"
   },
   {
    "duration": 10,
    "start_time": "2021-07-07T16:58:36.319Z"
   },
   {
    "duration": 10,
    "start_time": "2021-07-07T16:58:36.331Z"
   },
   {
    "duration": 44,
    "start_time": "2021-07-07T16:58:36.343Z"
   },
   {
    "duration": 4,
    "start_time": "2021-07-07T16:58:36.388Z"
   },
   {
    "duration": 13,
    "start_time": "2021-07-07T16:58:36.394Z"
   },
   {
    "duration": 16,
    "start_time": "2021-07-07T16:58:36.410Z"
   },
   {
    "duration": 8,
    "start_time": "2021-07-07T17:02:31.629Z"
   },
   {
    "duration": 8,
    "start_time": "2021-07-07T17:02:34.308Z"
   },
   {
    "duration": 6,
    "start_time": "2021-07-07T17:05:13.483Z"
   },
   {
    "duration": 17,
    "start_time": "2021-07-07T17:05:20.606Z"
   },
   {
    "duration": 7,
    "start_time": "2021-07-07T17:05:34.638Z"
   },
   {
    "duration": 3,
    "start_time": "2021-07-07T17:06:31.883Z"
   },
   {
    "duration": 570,
    "start_time": "2021-07-07T17:06:37.165Z"
   },
   {
    "duration": 174,
    "start_time": "2021-07-07T17:06:37.737Z"
   },
   {
    "duration": 47,
    "start_time": "2021-07-07T17:06:37.913Z"
   },
   {
    "duration": 3,
    "start_time": "2021-07-07T17:06:37.962Z"
   },
   {
    "duration": 27,
    "start_time": "2021-07-07T17:06:37.967Z"
   },
   {
    "duration": 7,
    "start_time": "2021-07-07T17:06:37.996Z"
   },
   {
    "duration": 16,
    "start_time": "2021-07-07T17:06:38.005Z"
   },
   {
    "duration": 6,
    "start_time": "2021-07-07T17:06:38.024Z"
   },
   {
    "duration": 12,
    "start_time": "2021-07-07T17:06:38.031Z"
   },
   {
    "duration": 41,
    "start_time": "2021-07-07T17:06:38.045Z"
   },
   {
    "duration": 8,
    "start_time": "2021-07-07T17:06:38.088Z"
   },
   {
    "duration": 26,
    "start_time": "2021-07-07T17:06:38.098Z"
   },
   {
    "duration": 17,
    "start_time": "2021-07-07T17:06:38.126Z"
   },
   {
    "duration": 43,
    "start_time": "2021-07-07T17:06:38.144Z"
   },
   {
    "duration": 6,
    "start_time": "2021-07-07T17:06:38.188Z"
   },
   {
    "duration": 5,
    "start_time": "2021-07-07T17:06:38.195Z"
   },
   {
    "duration": 9,
    "start_time": "2021-07-07T17:06:38.201Z"
   },
   {
    "duration": 12,
    "start_time": "2021-07-07T17:06:38.212Z"
   },
   {
    "duration": 11,
    "start_time": "2021-07-07T17:06:38.226Z"
   },
   {
    "duration": 47,
    "start_time": "2021-07-07T17:06:38.239Z"
   },
   {
    "duration": 4,
    "start_time": "2021-07-07T17:06:38.288Z"
   },
   {
    "duration": 13,
    "start_time": "2021-07-07T17:06:38.293Z"
   },
   {
    "duration": 5,
    "start_time": "2021-07-07T17:06:38.309Z"
   },
   {
    "duration": 18,
    "start_time": "2021-07-07T17:06:38.325Z"
   },
   {
    "duration": 20,
    "start_time": "2021-07-07T17:07:02.805Z"
   },
   {
    "duration": 19,
    "start_time": "2021-07-07T17:07:08.527Z"
   },
   {
    "duration": 19,
    "start_time": "2021-07-07T17:07:12.758Z"
   },
   {
    "duration": 22,
    "start_time": "2021-07-07T17:07:17.497Z"
   },
   {
    "duration": 19,
    "start_time": "2021-07-07T17:07:19.645Z"
   },
   {
    "duration": 10,
    "start_time": "2021-07-07T17:07:34.239Z"
   },
   {
    "duration": 17,
    "start_time": "2021-07-07T17:07:54.144Z"
   },
   {
    "duration": 14,
    "start_time": "2021-07-07T17:08:14.357Z"
   },
   {
    "duration": 616,
    "start_time": "2021-07-07T17:08:45.254Z"
   },
   {
    "duration": 178,
    "start_time": "2021-07-07T17:08:45.872Z"
   },
   {
    "duration": 60,
    "start_time": "2021-07-07T17:08:46.054Z"
   },
   {
    "duration": 3,
    "start_time": "2021-07-07T17:08:46.116Z"
   },
   {
    "duration": 26,
    "start_time": "2021-07-07T17:08:46.121Z"
   },
   {
    "duration": 7,
    "start_time": "2021-07-07T17:08:46.149Z"
   },
   {
    "duration": 17,
    "start_time": "2021-07-07T17:08:46.158Z"
   },
   {
    "duration": 14,
    "start_time": "2021-07-07T17:08:46.176Z"
   },
   {
    "duration": 17,
    "start_time": "2021-07-07T17:08:46.193Z"
   },
   {
    "duration": 9,
    "start_time": "2021-07-07T17:08:46.211Z"
   },
   {
    "duration": 21,
    "start_time": "2021-07-07T17:08:46.221Z"
   },
   {
    "duration": 49,
    "start_time": "2021-07-07T17:08:46.244Z"
   },
   {
    "duration": 24,
    "start_time": "2021-07-07T17:08:46.295Z"
   },
   {
    "duration": 22,
    "start_time": "2021-07-07T17:08:46.321Z"
   },
   {
    "duration": 6,
    "start_time": "2021-07-07T17:08:46.345Z"
   },
   {
    "duration": 5,
    "start_time": "2021-07-07T17:08:46.353Z"
   },
   {
    "duration": 13,
    "start_time": "2021-07-07T17:08:46.386Z"
   },
   {
    "duration": 12,
    "start_time": "2021-07-07T17:08:46.402Z"
   },
   {
    "duration": 10,
    "start_time": "2021-07-07T17:08:46.415Z"
   },
   {
    "duration": 7,
    "start_time": "2021-07-07T17:08:46.427Z"
   },
   {
    "duration": 8,
    "start_time": "2021-07-07T17:08:46.435Z"
   },
   {
    "duration": 68,
    "start_time": "2021-07-07T17:08:46.446Z"
   },
   {
    "duration": 13,
    "start_time": "2021-07-07T17:08:46.516Z"
   },
   {
    "duration": 78,
    "start_time": "2021-07-07T17:08:46.530Z"
   },
   {
    "duration": 40,
    "start_time": "2021-07-07T17:09:08.185Z"
   },
   {
    "duration": 16,
    "start_time": "2021-07-07T17:09:19.324Z"
   },
   {
    "duration": 21,
    "start_time": "2021-07-07T17:09:23.290Z"
   },
   {
    "duration": 13,
    "start_time": "2021-07-07T17:09:54.812Z"
   },
   {
    "duration": 13,
    "start_time": "2021-07-07T17:10:02.039Z"
   },
   {
    "duration": 10,
    "start_time": "2021-07-07T17:10:29.632Z"
   },
   {
    "duration": 13,
    "start_time": "2021-07-07T17:10:52.372Z"
   },
   {
    "duration": 13,
    "start_time": "2021-07-07T17:11:17.270Z"
   },
   {
    "duration": 13,
    "start_time": "2021-07-07T17:14:59.284Z"
   },
   {
    "duration": 547,
    "start_time": "2021-07-07T17:18:52.403Z"
   },
   {
    "duration": 163,
    "start_time": "2021-07-07T17:18:52.952Z"
   },
   {
    "duration": 44,
    "start_time": "2021-07-07T17:18:53.117Z"
   },
   {
    "duration": 3,
    "start_time": "2021-07-07T17:18:53.162Z"
   },
   {
    "duration": 26,
    "start_time": "2021-07-07T17:18:53.167Z"
   },
   {
    "duration": 6,
    "start_time": "2021-07-07T17:18:53.195Z"
   },
   {
    "duration": 15,
    "start_time": "2021-07-07T17:18:53.203Z"
   },
   {
    "duration": 5,
    "start_time": "2021-07-07T17:18:53.220Z"
   },
   {
    "duration": 11,
    "start_time": "2021-07-07T17:18:53.228Z"
   },
   {
    "duration": 9,
    "start_time": "2021-07-07T17:18:53.241Z"
   },
   {
    "duration": 41,
    "start_time": "2021-07-07T17:18:53.252Z"
   },
   {
    "duration": 33,
    "start_time": "2021-07-07T17:18:53.295Z"
   },
   {
    "duration": 19,
    "start_time": "2021-07-07T17:18:53.330Z"
   },
   {
    "duration": 49,
    "start_time": "2021-07-07T17:18:53.350Z"
   },
   {
    "duration": 5,
    "start_time": "2021-07-07T17:18:53.401Z"
   },
   {
    "duration": 5,
    "start_time": "2021-07-07T17:18:53.408Z"
   },
   {
    "duration": 11,
    "start_time": "2021-07-07T17:18:53.414Z"
   },
   {
    "duration": 9,
    "start_time": "2021-07-07T17:18:53.427Z"
   },
   {
    "duration": 10,
    "start_time": "2021-07-07T17:18:53.437Z"
   },
   {
    "duration": 39,
    "start_time": "2021-07-07T17:18:53.448Z"
   },
   {
    "duration": 26,
    "start_time": "2021-07-07T17:18:55.799Z"
   },
   {
    "duration": 598,
    "start_time": "2021-07-07T17:20:17.862Z"
   },
   {
    "duration": 161,
    "start_time": "2021-07-07T17:20:18.462Z"
   },
   {
    "duration": 45,
    "start_time": "2021-07-07T17:20:18.626Z"
   },
   {
    "duration": 4,
    "start_time": "2021-07-07T17:20:18.673Z"
   },
   {
    "duration": 38,
    "start_time": "2021-07-07T17:20:26.877Z"
   },
   {
    "duration": 7,
    "start_time": "2021-07-07T17:20:37.405Z"
   },
   {
    "duration": 19,
    "start_time": "2021-07-07T17:20:51.534Z"
   },
   {
    "duration": 5,
    "start_time": "2021-07-07T17:20:57.228Z"
   },
   {
    "duration": 7,
    "start_time": "2021-07-07T17:21:08.235Z"
   },
   {
    "duration": 19,
    "start_time": "2021-07-07T17:21:42.158Z"
   },
   {
    "duration": 14,
    "start_time": "2021-07-07T17:21:50.225Z"
   },
   {
    "duration": 22,
    "start_time": "2021-07-07T17:22:54.104Z"
   },
   {
    "duration": 5,
    "start_time": "2021-07-07T17:22:56.371Z"
   },
   {
    "duration": 14,
    "start_time": "2021-07-07T17:22:58.316Z"
   },
   {
    "duration": 5,
    "start_time": "2021-07-07T17:22:58.493Z"
   },
   {
    "duration": 35,
    "start_time": "2021-07-07T17:22:59.666Z"
   },
   {
    "duration": 6,
    "start_time": "2021-07-07T17:23:02.410Z"
   },
   {
    "duration": 611,
    "start_time": "2021-07-07T17:24:59.664Z"
   },
   {
    "duration": 178,
    "start_time": "2021-07-07T17:25:01.945Z"
   },
   {
    "duration": 47,
    "start_time": "2021-07-07T17:25:02.125Z"
   },
   {
    "duration": 2,
    "start_time": "2021-07-07T17:25:07.903Z"
   },
   {
    "duration": 254,
    "start_time": "2021-07-07T17:25:08.232Z"
   },
   {
    "duration": 182,
    "start_time": "2021-07-07T17:25:08.671Z"
   },
   {
    "duration": 6,
    "start_time": "2021-07-07T17:25:13.104Z"
   },
   {
    "duration": 36,
    "start_time": "2021-07-07T17:25:13.662Z"
   },
   {
    "duration": 7,
    "start_time": "2021-07-07T17:25:14.528Z"
   },
   {
    "duration": 24,
    "start_time": "2021-07-07T17:25:27.982Z"
   },
   {
    "duration": 3,
    "start_time": "2021-07-07T17:25:48.982Z"
   },
   {
    "duration": 165,
    "start_time": "2021-07-07T17:25:48.987Z"
   },
   {
    "duration": 50,
    "start_time": "2021-07-07T17:25:49.154Z"
   },
   {
    "duration": 4,
    "start_time": "2021-07-07T17:25:49.206Z"
   },
   {
    "duration": 26,
    "start_time": "2021-07-07T17:25:49.212Z"
   },
   {
    "duration": 7,
    "start_time": "2021-07-07T17:25:49.240Z"
   },
   {
    "duration": 16,
    "start_time": "2021-07-07T17:25:49.249Z"
   },
   {
    "duration": 22,
    "start_time": "2021-07-07T17:25:49.266Z"
   },
   {
    "duration": 16,
    "start_time": "2021-07-07T17:25:49.291Z"
   },
   {
    "duration": 9,
    "start_time": "2021-07-07T17:25:49.309Z"
   },
   {
    "duration": 7,
    "start_time": "2021-07-07T17:25:49.319Z"
   },
   {
    "duration": 28,
    "start_time": "2021-07-07T17:25:49.328Z"
   },
   {
    "duration": 44,
    "start_time": "2021-07-07T17:25:49.357Z"
   },
   {
    "duration": 22,
    "start_time": "2021-07-07T17:25:49.403Z"
   },
   {
    "duration": 7,
    "start_time": "2021-07-07T17:25:49.427Z"
   },
   {
    "duration": 3,
    "start_time": "2021-07-07T17:25:49.436Z"
   },
   {
    "duration": 44,
    "start_time": "2021-07-07T17:25:49.441Z"
   },
   {
    "duration": 12,
    "start_time": "2021-07-07T17:25:49.488Z"
   },
   {
    "duration": 13,
    "start_time": "2021-07-07T17:25:49.502Z"
   },
   {
    "duration": 10,
    "start_time": "2021-07-07T17:25:49.516Z"
   },
   {
    "duration": 62,
    "start_time": "2021-07-07T17:25:49.527Z"
   },
   {
    "duration": 26,
    "start_time": "2021-07-07T17:26:51.809Z"
   },
   {
    "duration": 26,
    "start_time": "2021-07-07T17:26:55.759Z"
   },
   {
    "duration": 26,
    "start_time": "2021-07-07T17:27:04.501Z"
   },
   {
    "duration": 25,
    "start_time": "2021-07-07T17:28:24.859Z"
   },
   {
    "duration": 21,
    "start_time": "2021-07-07T17:28:55.250Z"
   },
   {
    "duration": 21,
    "start_time": "2021-07-07T17:28:58.885Z"
   },
   {
    "duration": 7,
    "start_time": "2021-07-07T17:45:40.972Z"
   },
   {
    "duration": 13,
    "start_time": "2021-07-07T17:45:42.529Z"
   },
   {
    "duration": 27,
    "start_time": "2021-07-07T17:45:51.026Z"
   },
   {
    "duration": 518,
    "start_time": "2021-07-07T17:46:15.532Z"
   },
   {
    "duration": 235,
    "start_time": "2021-07-07T17:46:16.053Z"
   },
   {
    "duration": 80,
    "start_time": "2021-07-07T17:46:16.292Z"
   },
   {
    "duration": 5,
    "start_time": "2021-07-07T17:46:16.373Z"
   },
   {
    "duration": 26,
    "start_time": "2021-07-07T17:46:16.380Z"
   },
   {
    "duration": 7,
    "start_time": "2021-07-07T17:46:16.408Z"
   },
   {
    "duration": 16,
    "start_time": "2021-07-07T17:46:16.418Z"
   },
   {
    "duration": 5,
    "start_time": "2021-07-07T17:46:16.436Z"
   },
   {
    "duration": 13,
    "start_time": "2021-07-07T17:46:16.442Z"
   },
   {
    "duration": 35,
    "start_time": "2021-07-07T17:46:16.456Z"
   },
   {
    "duration": 8,
    "start_time": "2021-07-07T17:46:16.493Z"
   },
   {
    "duration": 28,
    "start_time": "2021-07-07T17:46:16.502Z"
   },
   {
    "duration": 17,
    "start_time": "2021-07-07T17:46:16.532Z"
   },
   {
    "duration": 44,
    "start_time": "2021-07-07T17:46:16.551Z"
   },
   {
    "duration": 6,
    "start_time": "2021-07-07T17:46:16.597Z"
   },
   {
    "duration": 4,
    "start_time": "2021-07-07T17:46:16.605Z"
   },
   {
    "duration": 9,
    "start_time": "2021-07-07T17:46:16.610Z"
   },
   {
    "duration": 9,
    "start_time": "2021-07-07T17:46:16.621Z"
   },
   {
    "duration": 10,
    "start_time": "2021-07-07T17:46:16.632Z"
   },
   {
    "duration": 43,
    "start_time": "2021-07-07T17:46:16.644Z"
   },
   {
    "duration": 26,
    "start_time": "2021-07-07T17:46:16.689Z"
   },
   {
    "duration": 19,
    "start_time": "2021-07-07T17:46:16.718Z"
   },
   {
    "duration": 8,
    "start_time": "2021-07-07T17:46:16.738Z"
   },
   {
    "duration": 43,
    "start_time": "2021-07-07T17:46:16.747Z"
   },
   {
    "duration": 19,
    "start_time": "2021-07-07T17:46:16.791Z"
   },
   {
    "duration": 9,
    "start_time": "2021-07-07T17:46:16.812Z"
   },
   {
    "duration": 60,
    "start_time": "2021-07-07T17:46:16.822Z"
   },
   {
    "duration": -8,
    "start_time": "2021-07-07T17:46:16.892Z"
   },
   {
    "duration": 12,
    "start_time": "2021-07-07T17:48:47.707Z"
   },
   {
    "duration": 553,
    "start_time": "2021-07-07T18:10:09.350Z"
   },
   {
    "duration": 230,
    "start_time": "2021-07-07T18:10:09.905Z"
   },
   {
    "duration": 97,
    "start_time": "2021-07-07T18:10:10.137Z"
   },
   {
    "duration": 5,
    "start_time": "2021-07-07T18:10:10.236Z"
   },
   {
    "duration": 29,
    "start_time": "2021-07-07T18:10:10.242Z"
   },
   {
    "duration": 7,
    "start_time": "2021-07-07T18:10:10.272Z"
   },
   {
    "duration": 15,
    "start_time": "2021-07-07T18:10:10.281Z"
   },
   {
    "duration": 4,
    "start_time": "2021-07-07T18:10:10.299Z"
   },
   {
    "duration": 14,
    "start_time": "2021-07-07T18:10:10.305Z"
   },
   {
    "duration": 8,
    "start_time": "2021-07-07T18:10:10.321Z"
   },
   {
    "duration": 8,
    "start_time": "2021-07-07T18:10:10.331Z"
   },
   {
    "duration": 56,
    "start_time": "2021-07-07T18:10:10.341Z"
   },
   {
    "duration": 19,
    "start_time": "2021-07-07T18:10:10.399Z"
   },
   {
    "duration": 23,
    "start_time": "2021-07-07T18:10:10.419Z"
   },
   {
    "duration": 6,
    "start_time": "2021-07-07T18:10:10.444Z"
   },
   {
    "duration": 9,
    "start_time": "2021-07-07T18:10:10.451Z"
   },
   {
    "duration": 30,
    "start_time": "2021-07-07T18:10:10.462Z"
   },
   {
    "duration": 9,
    "start_time": "2021-07-07T18:10:10.494Z"
   },
   {
    "duration": 14,
    "start_time": "2021-07-07T18:10:10.505Z"
   },
   {
    "duration": 7,
    "start_time": "2021-07-07T18:10:10.521Z"
   },
   {
    "duration": 26,
    "start_time": "2021-07-07T18:10:10.530Z"
   },
   {
    "duration": 44,
    "start_time": "2021-07-07T18:10:10.558Z"
   },
   {
    "duration": 7,
    "start_time": "2021-07-07T18:10:10.605Z"
   },
   {
    "duration": 11,
    "start_time": "2021-07-07T18:10:10.614Z"
   },
   {
    "duration": 19,
    "start_time": "2021-07-07T18:10:10.626Z"
   },
   {
    "duration": 44,
    "start_time": "2021-07-07T18:10:10.646Z"
   },
   {
    "duration": 516,
    "start_time": "2021-07-07T18:14:00.826Z"
   },
   {
    "duration": 230,
    "start_time": "2021-07-07T18:14:01.344Z"
   },
   {
    "duration": 105,
    "start_time": "2021-07-07T18:14:01.576Z"
   },
   {
    "duration": 5,
    "start_time": "2021-07-07T18:14:01.683Z"
   },
   {
    "duration": 46,
    "start_time": "2021-07-07T18:14:01.690Z"
   },
   {
    "duration": 7,
    "start_time": "2021-07-07T18:14:01.738Z"
   },
   {
    "duration": 20,
    "start_time": "2021-07-07T18:14:01.747Z"
   },
   {
    "duration": 16,
    "start_time": "2021-07-07T18:14:01.769Z"
   },
   {
    "duration": 14,
    "start_time": "2021-07-07T18:14:01.787Z"
   },
   {
    "duration": 15,
    "start_time": "2021-07-07T18:14:01.803Z"
   },
   {
    "duration": 12,
    "start_time": "2021-07-07T18:14:01.820Z"
   },
   {
    "duration": 35,
    "start_time": "2021-07-07T18:14:01.833Z"
   },
   {
    "duration": 31,
    "start_time": "2021-07-07T18:14:01.869Z"
   },
   {
    "duration": 37,
    "start_time": "2021-07-07T18:14:01.902Z"
   },
   {
    "duration": 8,
    "start_time": "2021-07-07T18:14:01.942Z"
   },
   {
    "duration": 16,
    "start_time": "2021-07-07T18:14:01.952Z"
   },
   {
    "duration": 13,
    "start_time": "2021-07-07T18:14:01.970Z"
   },
   {
    "duration": 32,
    "start_time": "2021-07-07T18:14:01.985Z"
   },
   {
    "duration": 11,
    "start_time": "2021-07-07T18:14:02.019Z"
   },
   {
    "duration": 22,
    "start_time": "2021-07-07T18:14:02.031Z"
   },
   {
    "duration": 27,
    "start_time": "2021-07-07T18:14:02.055Z"
   },
   {
    "duration": 18,
    "start_time": "2021-07-07T18:14:02.084Z"
   },
   {
    "duration": 18,
    "start_time": "2021-07-07T18:14:02.106Z"
   },
   {
    "duration": 11,
    "start_time": "2021-07-07T18:14:02.126Z"
   },
   {
    "duration": 21,
    "start_time": "2021-07-07T18:14:02.138Z"
   },
   {
    "duration": 32,
    "start_time": "2021-07-07T18:14:02.161Z"
   },
   {
    "duration": 28,
    "start_time": "2021-07-07T18:14:44.295Z"
   },
   {
    "duration": 6,
    "start_time": "2021-07-07T18:15:05.834Z"
   },
   {
    "duration": 511,
    "start_time": "2021-07-07T18:15:41.541Z"
   },
   {
    "duration": 183,
    "start_time": "2021-07-07T18:15:42.054Z"
   },
   {
    "duration": 50,
    "start_time": "2021-07-07T18:15:42.239Z"
   },
   {
    "duration": 5,
    "start_time": "2021-07-07T18:15:42.291Z"
   },
   {
    "duration": 48,
    "start_time": "2021-07-07T18:15:42.297Z"
   },
   {
    "duration": 8,
    "start_time": "2021-07-07T18:15:42.346Z"
   },
   {
    "duration": 17,
    "start_time": "2021-07-07T18:15:42.356Z"
   },
   {
    "duration": 15,
    "start_time": "2021-07-07T18:15:42.375Z"
   },
   {
    "duration": 12,
    "start_time": "2021-07-07T18:15:42.392Z"
   },
   {
    "duration": 7,
    "start_time": "2021-07-07T18:15:42.406Z"
   },
   {
    "duration": 7,
    "start_time": "2021-07-07T18:15:42.415Z"
   },
   {
    "duration": 29,
    "start_time": "2021-07-07T18:15:42.423Z"
   },
   {
    "duration": 43,
    "start_time": "2021-07-07T18:15:42.453Z"
   },
   {
    "duration": 18,
    "start_time": "2021-07-07T18:15:42.497Z"
   },
   {
    "duration": 6,
    "start_time": "2021-07-07T18:15:42.516Z"
   },
   {
    "duration": 3,
    "start_time": "2021-07-07T18:15:42.523Z"
   },
   {
    "duration": 18,
    "start_time": "2021-07-07T18:15:42.528Z"
   },
   {
    "duration": 10,
    "start_time": "2021-07-07T18:15:42.547Z"
   },
   {
    "duration": 36,
    "start_time": "2021-07-07T18:15:42.559Z"
   },
   {
    "duration": 8,
    "start_time": "2021-07-07T18:15:42.597Z"
   },
   {
    "duration": 28,
    "start_time": "2021-07-07T18:15:42.606Z"
   },
   {
    "duration": 52,
    "start_time": "2021-07-07T18:15:42.635Z"
   },
   {
    "duration": 7,
    "start_time": "2021-07-07T18:15:42.690Z"
   },
   {
    "duration": 10,
    "start_time": "2021-07-07T18:15:42.699Z"
   },
   {
    "duration": 19,
    "start_time": "2021-07-07T18:15:42.711Z"
   },
   {
    "duration": 9,
    "start_time": "2021-07-07T18:15:42.732Z"
   },
   {
    "duration": 5,
    "start_time": "2021-07-07T18:15:42.743Z"
   },
   {
    "duration": 1450,
    "start_time": "2021-07-07T18:15:51.984Z"
   },
   {
    "duration": 161,
    "start_time": "2021-07-07T18:15:53.435Z"
   },
   {
    "duration": 124,
    "start_time": "2021-07-07T18:15:53.598Z"
   },
   {
    "duration": 5,
    "start_time": "2021-07-07T18:15:53.724Z"
   },
   {
    "duration": 34,
    "start_time": "2021-07-07T18:15:53.730Z"
   },
   {
    "duration": 7,
    "start_time": "2021-07-07T18:15:53.765Z"
   },
   {
    "duration": 15,
    "start_time": "2021-07-07T18:15:53.773Z"
   },
   {
    "duration": 5,
    "start_time": "2021-07-07T18:15:53.791Z"
   },
   {
    "duration": 19,
    "start_time": "2021-07-07T18:15:53.798Z"
   },
   {
    "duration": 9,
    "start_time": "2021-07-07T18:15:53.818Z"
   },
   {
    "duration": 19,
    "start_time": "2021-07-07T18:15:53.828Z"
   },
   {
    "duration": 27,
    "start_time": "2021-07-07T18:15:53.848Z"
   },
   {
    "duration": 16,
    "start_time": "2021-07-07T18:15:53.884Z"
   },
   {
    "duration": 29,
    "start_time": "2021-07-07T18:15:53.901Z"
   },
   {
    "duration": 5,
    "start_time": "2021-07-07T18:15:53.932Z"
   },
   {
    "duration": 15,
    "start_time": "2021-07-07T18:15:53.939Z"
   },
   {
    "duration": 13,
    "start_time": "2021-07-07T18:15:53.956Z"
   },
   {
    "duration": 20,
    "start_time": "2021-07-07T18:15:53.971Z"
   },
   {
    "duration": 14,
    "start_time": "2021-07-07T18:15:53.992Z"
   },
   {
    "duration": 9,
    "start_time": "2021-07-07T18:15:54.009Z"
   },
   {
    "duration": 28,
    "start_time": "2021-07-07T18:15:54.020Z"
   },
   {
    "duration": 50,
    "start_time": "2021-07-07T18:15:54.051Z"
   },
   {
    "duration": 8,
    "start_time": "2021-07-07T18:15:54.105Z"
   },
   {
    "duration": 11,
    "start_time": "2021-07-07T18:15:54.115Z"
   },
   {
    "duration": 20,
    "start_time": "2021-07-07T18:15:54.128Z"
   },
   {
    "duration": 13,
    "start_time": "2021-07-07T18:15:54.184Z"
   },
   {
    "duration": 7,
    "start_time": "2021-07-07T18:15:54.199Z"
   },
   {
    "duration": 7,
    "start_time": "2021-07-07T18:17:08.042Z"
   },
   {
    "duration": 8,
    "start_time": "2021-07-07T18:17:21.008Z"
   },
   {
    "duration": 7,
    "start_time": "2021-07-07T18:17:29.003Z"
   },
   {
    "duration": 8,
    "start_time": "2021-07-07T18:17:32.492Z"
   },
   {
    "duration": 9,
    "start_time": "2021-07-07T18:17:41.758Z"
   },
   {
    "duration": 255,
    "start_time": "2021-07-07T18:20:20.897Z"
   },
   {
    "duration": 173,
    "start_time": "2021-07-07T18:20:26.636Z"
   },
   {
    "duration": 7,
    "start_time": "2021-07-07T18:21:47.164Z"
   },
   {
    "duration": 254,
    "start_time": "2021-07-07T18:23:08.703Z"
   },
   {
    "duration": 21,
    "start_time": "2021-07-07T18:23:22.506Z"
   },
   {
    "duration": 315,
    "start_time": "2021-07-07T18:25:54.801Z"
   },
   {
    "duration": 34,
    "start_time": "2021-07-07T18:26:51.817Z"
   },
   {
    "duration": 327,
    "start_time": "2021-07-07T18:26:56.147Z"
   },
   {
    "duration": 342,
    "start_time": "2021-07-07T18:27:15.887Z"
   },
   {
    "duration": 302,
    "start_time": "2021-07-07T18:28:18.569Z"
   },
   {
    "duration": 226,
    "start_time": "2021-07-07T18:29:20.879Z"
   },
   {
    "duration": 207,
    "start_time": "2021-07-07T18:29:58.114Z"
   },
   {
    "duration": 140,
    "start_time": "2021-07-07T18:32:04.372Z"
   },
   {
    "duration": 158,
    "start_time": "2021-07-07T18:32:32.508Z"
   },
   {
    "duration": 145,
    "start_time": "2021-07-07T18:32:41.365Z"
   },
   {
    "duration": 132,
    "start_time": "2021-07-07T18:32:45.199Z"
   },
   {
    "duration": 11,
    "start_time": "2021-07-07T18:35:24.679Z"
   },
   {
    "duration": 268,
    "start_time": "2021-07-07T18:36:16.145Z"
   },
   {
    "duration": 227,
    "start_time": "2021-07-07T18:37:04.918Z"
   },
   {
    "duration": 3,
    "start_time": "2021-07-07T18:37:33.012Z"
   },
   {
    "duration": 671,
    "start_time": "2021-07-07T18:37:38.295Z"
   },
   {
    "duration": 54,
    "start_time": "2021-07-07T18:37:53.406Z"
   },
   {
    "duration": 631,
    "start_time": "2021-07-07T18:37:56.463Z"
   },
   {
    "duration": 19,
    "start_time": "2021-07-07T18:39:40.535Z"
   },
   {
    "duration": 20,
    "start_time": "2021-07-07T18:40:12.236Z"
   },
   {
    "duration": 633,
    "start_time": "2021-07-07T18:42:00.398Z"
   },
   {
    "duration": 218,
    "start_time": "2021-07-07T18:42:01.033Z"
   },
   {
    "duration": 49,
    "start_time": "2021-07-07T18:42:01.253Z"
   },
   {
    "duration": 5,
    "start_time": "2021-07-07T18:42:01.303Z"
   },
   {
    "duration": 27,
    "start_time": "2021-07-07T18:42:01.310Z"
   },
   {
    "duration": 8,
    "start_time": "2021-07-07T18:42:01.339Z"
   },
   {
    "duration": 20,
    "start_time": "2021-07-07T18:42:01.348Z"
   },
   {
    "duration": 6,
    "start_time": "2021-07-07T18:42:01.386Z"
   },
   {
    "duration": 16,
    "start_time": "2021-07-07T18:42:01.394Z"
   },
   {
    "duration": 9,
    "start_time": "2021-07-07T18:42:01.411Z"
   },
   {
    "duration": 11,
    "start_time": "2021-07-07T18:42:01.421Z"
   },
   {
    "duration": 31,
    "start_time": "2021-07-07T18:42:01.434Z"
   },
   {
    "duration": 18,
    "start_time": "2021-07-07T18:42:01.485Z"
   },
   {
    "duration": 23,
    "start_time": "2021-07-07T18:42:01.505Z"
   },
   {
    "duration": 6,
    "start_time": "2021-07-07T18:42:01.530Z"
   },
   {
    "duration": 10,
    "start_time": "2021-07-07T18:42:01.538Z"
   },
   {
    "duration": 13,
    "start_time": "2021-07-07T18:42:01.550Z"
   },
   {
    "duration": 24,
    "start_time": "2021-07-07T18:42:01.564Z"
   },
   {
    "duration": 20,
    "start_time": "2021-07-07T18:42:01.590Z"
   },
   {
    "duration": 8,
    "start_time": "2021-07-07T18:42:01.611Z"
   },
   {
    "duration": 31,
    "start_time": "2021-07-07T18:42:01.620Z"
   },
   {
    "duration": 39,
    "start_time": "2021-07-07T18:42:01.653Z"
   },
   {
    "duration": 8,
    "start_time": "2021-07-07T18:42:01.696Z"
   },
   {
    "duration": 13,
    "start_time": "2021-07-07T18:42:01.705Z"
   },
   {
    "duration": 20,
    "start_time": "2021-07-07T18:42:01.720Z"
   },
   {
    "duration": 12,
    "start_time": "2021-07-07T18:42:01.741Z"
   },
   {
    "duration": 35,
    "start_time": "2021-07-07T18:42:01.755Z"
   },
   {
    "duration": 14,
    "start_time": "2021-07-07T18:42:01.792Z"
   },
   {
    "duration": 188,
    "start_time": "2021-07-07T18:42:01.808Z"
   },
   {
    "duration": 19,
    "start_time": "2021-07-07T18:42:01.998Z"
   },
   {
    "duration": 175,
    "start_time": "2021-07-07T18:42:02.019Z"
   },
   {
    "duration": 134,
    "start_time": "2021-07-07T18:42:02.196Z"
   },
   {
    "duration": 10,
    "start_time": "2021-07-07T18:42:02.331Z"
   },
   {
    "duration": 19,
    "start_time": "2021-07-07T18:42:02.343Z"
   },
   {
    "duration": 628,
    "start_time": "2021-07-07T18:46:30.701Z"
   },
   {
    "duration": 183,
    "start_time": "2021-07-07T18:46:31.331Z"
   },
   {
    "duration": 48,
    "start_time": "2021-07-07T18:46:31.516Z"
   },
   {
    "duration": 5,
    "start_time": "2021-07-07T18:46:31.566Z"
   },
   {
    "duration": 28,
    "start_time": "2021-07-07T18:46:31.572Z"
   },
   {
    "duration": 8,
    "start_time": "2021-07-07T18:46:31.602Z"
   },
   {
    "duration": 19,
    "start_time": "2021-07-07T18:46:31.611Z"
   },
   {
    "duration": 6,
    "start_time": "2021-07-07T18:46:31.633Z"
   },
   {
    "duration": 17,
    "start_time": "2021-07-07T18:46:31.642Z"
   },
   {
    "duration": 10,
    "start_time": "2021-07-07T18:46:31.684Z"
   },
   {
    "duration": 9,
    "start_time": "2021-07-07T18:46:31.695Z"
   },
   {
    "duration": 28,
    "start_time": "2021-07-07T18:46:31.705Z"
   },
   {
    "duration": 18,
    "start_time": "2021-07-07T18:46:31.735Z"
   },
   {
    "duration": 48,
    "start_time": "2021-07-07T18:46:31.755Z"
   },
   {
    "duration": 6,
    "start_time": "2021-07-07T18:46:31.804Z"
   },
   {
    "duration": 4,
    "start_time": "2021-07-07T18:46:31.812Z"
   },
   {
    "duration": 9,
    "start_time": "2021-07-07T18:46:31.817Z"
   },
   {
    "duration": 10,
    "start_time": "2021-07-07T18:46:31.827Z"
   },
   {
    "duration": 12,
    "start_time": "2021-07-07T18:46:31.838Z"
   },
   {
    "duration": 39,
    "start_time": "2021-07-07T18:46:31.851Z"
   },
   {
    "duration": 24,
    "start_time": "2021-07-07T18:46:31.892Z"
   },
   {
    "duration": 15,
    "start_time": "2021-07-07T18:46:31.918Z"
   },
   {
    "duration": 7,
    "start_time": "2021-07-07T18:46:31.936Z"
   },
   {
    "duration": 8,
    "start_time": "2021-07-07T18:46:31.944Z"
   },
   {
    "duration": 19,
    "start_time": "2021-07-07T18:46:31.984Z"
   },
   {
    "duration": 10,
    "start_time": "2021-07-07T18:46:32.004Z"
   },
   {
    "duration": 5,
    "start_time": "2021-07-07T18:46:32.016Z"
   },
   {
    "duration": 9,
    "start_time": "2021-07-07T18:46:32.023Z"
   },
   {
    "duration": 199,
    "start_time": "2021-07-07T18:46:32.033Z"
   },
   {
    "duration": 19,
    "start_time": "2021-07-07T18:46:32.234Z"
   },
   {
    "duration": 159,
    "start_time": "2021-07-07T18:46:32.255Z"
   },
   {
    "duration": 134,
    "start_time": "2021-07-07T18:46:32.416Z"
   },
   {
    "duration": 10,
    "start_time": "2021-07-07T18:46:32.552Z"
   },
   {
    "duration": 34,
    "start_time": "2021-07-07T18:46:32.563Z"
   },
   {
    "duration": 1039,
    "start_time": "2021-07-08T08:41:09.419Z"
   },
   {
    "duration": 333,
    "start_time": "2021-07-08T08:41:10.459Z"
   },
   {
    "duration": 173,
    "start_time": "2021-07-08T08:41:10.794Z"
   },
   {
    "duration": 5,
    "start_time": "2021-07-08T08:41:10.968Z"
   },
   {
    "duration": 25,
    "start_time": "2021-07-08T08:41:10.975Z"
   },
   {
    "duration": 9,
    "start_time": "2021-07-08T08:41:11.002Z"
   },
   {
    "duration": 18,
    "start_time": "2021-07-08T08:41:11.013Z"
   },
   {
    "duration": 6,
    "start_time": "2021-07-08T08:41:11.033Z"
   },
   {
    "duration": 44,
    "start_time": "2021-07-08T08:41:11.042Z"
   },
   {
    "duration": 10,
    "start_time": "2021-07-08T08:41:11.088Z"
   },
   {
    "duration": 9,
    "start_time": "2021-07-08T08:41:11.100Z"
   },
   {
    "duration": 27,
    "start_time": "2021-07-08T08:41:11.111Z"
   },
   {
    "duration": 46,
    "start_time": "2021-07-08T08:41:11.140Z"
   },
   {
    "duration": 17,
    "start_time": "2021-07-08T08:41:11.187Z"
   },
   {
    "duration": 6,
    "start_time": "2021-07-08T08:41:11.206Z"
   },
   {
    "duration": 5,
    "start_time": "2021-07-08T08:41:11.213Z"
   },
   {
    "duration": 10,
    "start_time": "2021-07-08T08:41:11.219Z"
   },
   {
    "duration": 9,
    "start_time": "2021-07-08T08:41:11.230Z"
   },
   {
    "duration": 45,
    "start_time": "2021-07-08T08:41:11.241Z"
   },
   {
    "duration": 7,
    "start_time": "2021-07-08T08:41:11.287Z"
   },
   {
    "duration": 24,
    "start_time": "2021-07-08T08:41:11.296Z"
   },
   {
    "duration": 16,
    "start_time": "2021-07-08T08:41:11.322Z"
   },
   {
    "duration": 7,
    "start_time": "2021-07-08T08:41:11.341Z"
   },
   {
    "duration": 41,
    "start_time": "2021-07-08T08:41:11.349Z"
   },
   {
    "duration": 17,
    "start_time": "2021-07-08T08:41:11.391Z"
   },
   {
    "duration": 9,
    "start_time": "2021-07-08T08:41:11.410Z"
   },
   {
    "duration": 5,
    "start_time": "2021-07-08T08:41:11.421Z"
   },
   {
    "duration": 6,
    "start_time": "2021-07-08T08:41:11.428Z"
   },
   {
    "duration": 198,
    "start_time": "2021-07-08T08:41:11.435Z"
   },
   {
    "duration": 18,
    "start_time": "2021-07-08T08:41:11.635Z"
   },
   {
    "duration": 155,
    "start_time": "2021-07-08T08:41:11.655Z"
   },
   {
    "duration": 138,
    "start_time": "2021-07-08T08:41:11.811Z"
   },
   {
    "duration": 10,
    "start_time": "2021-07-08T08:41:11.950Z"
   },
   {
    "duration": 29,
    "start_time": "2021-07-08T08:41:11.961Z"
   },
   {
    "duration": 171,
    "start_time": "2021-07-08T08:47:44.522Z"
   },
   {
    "duration": 124,
    "start_time": "2021-07-08T08:47:46.872Z"
   },
   {
    "duration": 191,
    "start_time": "2021-07-08T08:47:58.148Z"
   },
   {
    "duration": 191,
    "start_time": "2021-07-08T08:48:07.412Z"
   },
   {
    "duration": 261,
    "start_time": "2021-07-08T08:48:10.385Z"
   },
   {
    "duration": 255,
    "start_time": "2021-07-08T08:48:14.494Z"
   },
   {
    "duration": 219,
    "start_time": "2021-07-08T08:48:22.752Z"
   },
   {
    "duration": 173,
    "start_time": "2021-07-08T08:49:06.395Z"
   },
   {
    "duration": 180,
    "start_time": "2021-07-08T08:49:21.011Z"
   },
   {
    "duration": 6,
    "start_time": "2021-07-08T08:50:31.697Z"
   },
   {
    "duration": 10,
    "start_time": "2021-07-08T08:50:47.394Z"
   },
   {
    "duration": 11,
    "start_time": "2021-07-08T08:53:49.332Z"
   },
   {
    "duration": 171,
    "start_time": "2021-07-08T08:54:28.408Z"
   },
   {
    "duration": 636,
    "start_time": "2021-07-08T09:02:48.385Z"
   },
   {
    "duration": 227,
    "start_time": "2021-07-08T09:02:49.023Z"
   },
   {
    "duration": 104,
    "start_time": "2021-07-08T09:02:49.252Z"
   },
   {
    "duration": 5,
    "start_time": "2021-07-08T09:02:49.358Z"
   },
   {
    "duration": 27,
    "start_time": "2021-07-08T09:02:49.365Z"
   },
   {
    "duration": 8,
    "start_time": "2021-07-08T09:02:49.394Z"
   },
   {
    "duration": 18,
    "start_time": "2021-07-08T09:02:49.404Z"
   },
   {
    "duration": 6,
    "start_time": "2021-07-08T09:02:49.424Z"
   },
   {
    "duration": 11,
    "start_time": "2021-07-08T09:02:49.433Z"
   },
   {
    "duration": 13,
    "start_time": "2021-07-08T09:02:49.485Z"
   },
   {
    "duration": 9,
    "start_time": "2021-07-08T09:02:49.500Z"
   },
   {
    "duration": 38,
    "start_time": "2021-07-08T09:02:49.511Z"
   },
   {
    "duration": 42,
    "start_time": "2021-07-08T09:02:49.551Z"
   },
   {
    "duration": 21,
    "start_time": "2021-07-08T09:02:49.594Z"
   },
   {
    "duration": 6,
    "start_time": "2021-07-08T09:02:49.616Z"
   },
   {
    "duration": 3,
    "start_time": "2021-07-08T09:02:49.623Z"
   },
   {
    "duration": 9,
    "start_time": "2021-07-08T09:02:49.628Z"
   },
   {
    "duration": 52,
    "start_time": "2021-07-08T09:02:49.638Z"
   },
   {
    "duration": 11,
    "start_time": "2021-07-08T09:02:49.692Z"
   },
   {
    "duration": 8,
    "start_time": "2021-07-08T09:02:49.704Z"
   },
   {
    "duration": 27,
    "start_time": "2021-07-08T09:02:49.713Z"
   },
   {
    "duration": 59,
    "start_time": "2021-07-08T09:02:49.741Z"
   },
   {
    "duration": 8,
    "start_time": "2021-07-08T09:02:49.803Z"
   },
   {
    "duration": 14,
    "start_time": "2021-07-08T09:02:49.813Z"
   },
   {
    "duration": 20,
    "start_time": "2021-07-08T09:02:49.829Z"
   },
   {
    "duration": 44,
    "start_time": "2021-07-08T09:02:49.851Z"
   },
   {
    "duration": 14,
    "start_time": "2021-07-08T09:02:49.896Z"
   },
   {
    "duration": 221,
    "start_time": "2021-07-08T09:02:49.912Z"
   },
   {
    "duration": 6,
    "start_time": "2021-07-08T09:02:50.134Z"
   },
   {
    "duration": 206,
    "start_time": "2021-07-08T09:02:50.142Z"
   },
   {
    "duration": 19,
    "start_time": "2021-07-08T09:02:50.350Z"
   },
   {
    "duration": 21,
    "start_time": "2021-07-08T09:02:50.370Z"
   },
   {
    "duration": 20,
    "start_time": "2021-07-08T09:02:50.393Z"
   },
   {
    "duration": 5,
    "start_time": "2021-07-08T09:02:50.414Z"
   },
   {
    "duration": 5,
    "start_time": "2021-07-08T09:03:34.173Z"
   },
   {
    "duration": 6,
    "start_time": "2021-07-08T09:04:49.062Z"
   },
   {
    "duration": 9,
    "start_time": "2021-07-08T09:04:50.118Z"
   },
   {
    "duration": 14,
    "start_time": "2021-07-08T09:04:58.512Z"
   },
   {
    "duration": 9,
    "start_time": "2021-07-08T09:05:10.988Z"
   },
   {
    "duration": 11,
    "start_time": "2021-07-08T09:05:11.743Z"
   },
   {
    "duration": 7,
    "start_time": "2021-07-08T09:05:25.677Z"
   },
   {
    "duration": 13,
    "start_time": "2021-07-08T09:05:47.189Z"
   },
   {
    "duration": 13,
    "start_time": "2021-07-08T09:05:54.755Z"
   },
   {
    "duration": 4,
    "start_time": "2021-07-08T09:06:29.189Z"
   },
   {
    "duration": 244,
    "start_time": "2021-07-08T09:06:29.195Z"
   },
   {
    "duration": 91,
    "start_time": "2021-07-08T09:06:29.441Z"
   },
   {
    "duration": 4,
    "start_time": "2021-07-08T09:06:29.534Z"
   },
   {
    "duration": 28,
    "start_time": "2021-07-08T09:06:29.540Z"
   },
   {
    "duration": 6,
    "start_time": "2021-07-08T09:06:29.570Z"
   },
   {
    "duration": 18,
    "start_time": "2021-07-08T09:06:29.578Z"
   },
   {
    "duration": 5,
    "start_time": "2021-07-08T09:06:29.597Z"
   },
   {
    "duration": 13,
    "start_time": "2021-07-08T09:06:29.605Z"
   },
   {
    "duration": 8,
    "start_time": "2021-07-08T09:06:29.620Z"
   },
   {
    "duration": 7,
    "start_time": "2021-07-08T09:06:29.630Z"
   },
   {
    "duration": 63,
    "start_time": "2021-07-08T09:06:29.639Z"
   },
   {
    "duration": 17,
    "start_time": "2021-07-08T09:06:29.704Z"
   },
   {
    "duration": 20,
    "start_time": "2021-07-08T09:06:29.723Z"
   },
   {
    "duration": 6,
    "start_time": "2021-07-08T09:06:29.745Z"
   },
   {
    "duration": 3,
    "start_time": "2021-07-08T09:06:29.752Z"
   },
   {
    "duration": 7,
    "start_time": "2021-07-08T09:06:29.785Z"
   },
   {
    "duration": 11,
    "start_time": "2021-07-08T09:06:29.794Z"
   },
   {
    "duration": 15,
    "start_time": "2021-07-08T09:06:29.807Z"
   },
   {
    "duration": 8,
    "start_time": "2021-07-08T09:06:29.823Z"
   },
   {
    "duration": 70,
    "start_time": "2021-07-08T09:06:29.832Z"
   },
   {
    "duration": 17,
    "start_time": "2021-07-08T09:06:29.903Z"
   },
   {
    "duration": 9,
    "start_time": "2021-07-08T09:06:29.921Z"
   },
   {
    "duration": 9,
    "start_time": "2021-07-08T09:06:29.932Z"
   },
   {
    "duration": 57,
    "start_time": "2021-07-08T09:06:29.942Z"
   },
   {
    "duration": 11,
    "start_time": "2021-07-08T09:06:30.001Z"
   },
   {
    "duration": 19,
    "start_time": "2021-07-08T09:06:30.016Z"
   },
   {
    "duration": 217,
    "start_time": "2021-07-08T09:06:30.037Z"
   },
   {
    "duration": 6,
    "start_time": "2021-07-08T09:06:30.255Z"
   },
   {
    "duration": 205,
    "start_time": "2021-07-08T09:06:30.263Z"
   },
   {
    "duration": 27,
    "start_time": "2021-07-08T09:06:30.470Z"
   },
   {
    "duration": 11,
    "start_time": "2021-07-08T09:06:30.500Z"
   },
   {
    "duration": 31,
    "start_time": "2021-07-08T09:06:30.513Z"
   },
   {
    "duration": 18,
    "start_time": "2021-07-08T09:06:30.546Z"
   },
   {
    "duration": 11,
    "start_time": "2021-07-08T09:06:30.566Z"
   },
   {
    "duration": 19,
    "start_time": "2021-07-08T09:06:30.579Z"
   },
   {
    "duration": 20,
    "start_time": "2021-07-08T09:06:49.466Z"
   },
   {
    "duration": 9,
    "start_time": "2021-07-08T09:06:51.994Z"
   },
   {
    "duration": 20,
    "start_time": "2021-07-08T09:06:52.273Z"
   },
   {
    "duration": 246,
    "start_time": "2021-07-08T09:10:21.272Z"
   },
   {
    "duration": 84,
    "start_time": "2021-07-08T09:10:21.436Z"
   },
   {
    "duration": 7,
    "start_time": "2021-07-08T09:10:37.608Z"
   },
   {
    "duration": 189,
    "start_time": "2021-07-08T09:10:38.573Z"
   },
   {
    "duration": 185,
    "start_time": "2021-07-08T09:10:53.181Z"
   },
   {
    "duration": 11,
    "start_time": "2021-07-08T09:10:59.549Z"
   },
   {
    "duration": 42,
    "start_time": "2021-07-08T09:10:59.709Z"
   },
   {
    "duration": 12,
    "start_time": "2021-07-08T09:11:02.857Z"
   },
   {
    "duration": 28,
    "start_time": "2021-07-08T09:11:10.062Z"
   },
   {
    "duration": 249,
    "start_time": "2021-07-08T09:11:37.388Z"
   },
   {
    "duration": 232,
    "start_time": "2021-07-08T09:11:49.485Z"
   },
   {
    "duration": 453,
    "start_time": "2021-07-08T09:12:01.546Z"
   },
   {
    "duration": 440,
    "start_time": "2021-07-08T09:12:12.347Z"
   },
   {
    "duration": 213,
    "start_time": "2021-07-08T09:13:32.196Z"
   },
   {
    "duration": 172,
    "start_time": "2021-07-08T09:14:07.400Z"
   },
   {
    "duration": 185,
    "start_time": "2021-07-08T09:14:14.905Z"
   },
   {
    "duration": 209,
    "start_time": "2021-07-08T09:14:40.109Z"
   },
   {
    "duration": 201,
    "start_time": "2021-07-08T09:14:54.506Z"
   },
   {
    "duration": 622,
    "start_time": "2021-07-08T09:18:14.497Z"
   },
   {
    "duration": 220,
    "start_time": "2021-07-08T09:18:15.121Z"
   },
   {
    "duration": 79,
    "start_time": "2021-07-08T09:18:15.343Z"
   },
   {
    "duration": 4,
    "start_time": "2021-07-08T09:18:15.425Z"
   },
   {
    "duration": 24,
    "start_time": "2021-07-08T09:18:15.431Z"
   },
   {
    "duration": 8,
    "start_time": "2021-07-08T09:18:15.457Z"
   },
   {
    "duration": 16,
    "start_time": "2021-07-08T09:18:15.466Z"
   },
   {
    "duration": 5,
    "start_time": "2021-07-08T09:18:15.484Z"
   },
   {
    "duration": 10,
    "start_time": "2021-07-08T09:18:15.493Z"
   },
   {
    "duration": 8,
    "start_time": "2021-07-08T09:18:15.504Z"
   },
   {
    "duration": 7,
    "start_time": "2021-07-08T09:18:15.513Z"
   },
   {
    "duration": 26,
    "start_time": "2021-07-08T09:18:15.522Z"
   },
   {
    "duration": 49,
    "start_time": "2021-07-08T09:18:15.550Z"
   },
   {
    "duration": 21,
    "start_time": "2021-07-08T09:18:15.601Z"
   },
   {
    "duration": 8,
    "start_time": "2021-07-08T09:18:15.624Z"
   },
   {
    "duration": 3,
    "start_time": "2021-07-08T09:18:15.634Z"
   },
   {
    "duration": 8,
    "start_time": "2021-07-08T09:18:15.639Z"
   },
   {
    "duration": 45,
    "start_time": "2021-07-08T09:18:15.649Z"
   },
   {
    "duration": 13,
    "start_time": "2021-07-08T09:18:15.696Z"
   },
   {
    "duration": 10,
    "start_time": "2021-07-08T09:18:15.711Z"
   },
   {
    "duration": 64,
    "start_time": "2021-07-08T09:18:15.722Z"
   },
   {
    "duration": 19,
    "start_time": "2021-07-08T09:18:15.788Z"
   },
   {
    "duration": 9,
    "start_time": "2021-07-08T09:18:15.809Z"
   },
   {
    "duration": 9,
    "start_time": "2021-07-08T09:18:15.820Z"
   },
   {
    "duration": 18,
    "start_time": "2021-07-08T09:18:15.831Z"
   },
   {
    "duration": 43,
    "start_time": "2021-07-08T09:18:15.851Z"
   },
   {
    "duration": 12,
    "start_time": "2021-07-08T09:18:15.897Z"
   },
   {
    "duration": 219,
    "start_time": "2021-07-08T09:18:15.911Z"
   },
   {
    "duration": 8,
    "start_time": "2021-07-08T09:18:16.132Z"
   },
   {
    "duration": 199,
    "start_time": "2021-07-08T09:18:16.141Z"
   },
   {
    "duration": 18,
    "start_time": "2021-07-08T09:18:16.341Z"
   },
   {
    "duration": 24,
    "start_time": "2021-07-08T09:18:16.361Z"
   },
   {
    "duration": 24,
    "start_time": "2021-07-08T09:18:16.387Z"
   },
   {
    "duration": 211,
    "start_time": "2021-07-08T09:18:16.413Z"
   },
   {
    "duration": 18,
    "start_time": "2021-07-08T09:18:16.626Z"
   },
   {
    "duration": 596,
    "start_time": "2021-07-08T10:06:33.623Z"
   },
   {
    "duration": 181,
    "start_time": "2021-07-08T10:06:34.221Z"
   },
   {
    "duration": 176,
    "start_time": "2021-07-08T10:06:34.635Z"
   },
   {
    "duration": 239,
    "start_time": "2021-07-08T10:06:55.572Z"
   },
   {
    "duration": 6,
    "start_time": "2021-07-08T10:06:57.687Z"
   },
   {
    "duration": 4,
    "start_time": "2021-07-08T10:07:03.956Z"
   },
   {
    "duration": 4,
    "start_time": "2021-07-08T10:07:10.376Z"
   },
   {
    "duration": 4,
    "start_time": "2021-07-08T10:17:19.889Z"
   },
   {
    "duration": 3,
    "start_time": "2021-07-08T10:19:19.407Z"
   },
   {
    "duration": 197,
    "start_time": "2021-07-08T10:19:19.412Z"
   },
   {
    "duration": 127,
    "start_time": "2021-07-08T10:19:19.611Z"
   },
   {
    "duration": 4,
    "start_time": "2021-07-08T10:19:19.740Z"
   },
   {
    "duration": 27,
    "start_time": "2021-07-08T10:19:19.746Z"
   },
   {
    "duration": 7,
    "start_time": "2021-07-08T10:19:19.775Z"
   },
   {
    "duration": 30,
    "start_time": "2021-07-08T10:19:19.784Z"
   },
   {
    "duration": 7,
    "start_time": "2021-07-08T10:19:19.817Z"
   },
   {
    "duration": 26,
    "start_time": "2021-07-08T10:19:19.826Z"
   },
   {
    "duration": 18,
    "start_time": "2021-07-08T10:19:19.854Z"
   },
   {
    "duration": 14,
    "start_time": "2021-07-08T10:19:19.874Z"
   },
   {
    "duration": 48,
    "start_time": "2021-07-08T10:19:19.890Z"
   },
   {
    "duration": 17,
    "start_time": "2021-07-08T10:19:19.940Z"
   },
   {
    "duration": 38,
    "start_time": "2021-07-08T10:19:19.959Z"
   },
   {
    "duration": 8,
    "start_time": "2021-07-08T10:19:19.999Z"
   },
   {
    "duration": 15,
    "start_time": "2021-07-08T10:19:20.009Z"
   },
   {
    "duration": 22,
    "start_time": "2021-07-08T10:19:20.026Z"
   },
   {
    "duration": 10,
    "start_time": "2021-07-08T10:19:20.050Z"
   },
   {
    "duration": 10,
    "start_time": "2021-07-08T10:19:20.062Z"
   },
   {
    "duration": 20,
    "start_time": "2021-07-08T10:19:20.073Z"
   },
   {
    "duration": 29,
    "start_time": "2021-07-08T10:19:20.095Z"
   },
   {
    "duration": 17,
    "start_time": "2021-07-08T10:19:20.126Z"
   },
   {
    "duration": 40,
    "start_time": "2021-07-08T10:19:20.146Z"
   },
   {
    "duration": 15,
    "start_time": "2021-07-08T10:19:20.189Z"
   },
   {
    "duration": 19,
    "start_time": "2021-07-08T10:19:20.206Z"
   },
   {
    "duration": 10,
    "start_time": "2021-07-08T10:19:20.226Z"
   },
   {
    "duration": 11,
    "start_time": "2021-07-08T10:19:20.238Z"
   },
   {
    "duration": 297,
    "start_time": "2021-07-08T10:19:20.250Z"
   },
   {
    "duration": 6,
    "start_time": "2021-07-08T10:19:20.549Z"
   },
   {
    "duration": 191,
    "start_time": "2021-07-08T10:19:20.557Z"
   },
   {
    "duration": 19,
    "start_time": "2021-07-08T10:19:20.750Z"
   },
   {
    "duration": 20,
    "start_time": "2021-07-08T10:19:20.771Z"
   },
   {
    "duration": 15,
    "start_time": "2021-07-08T10:19:20.793Z"
   },
   {
    "duration": 222,
    "start_time": "2021-07-08T10:19:20.809Z"
   },
   {
    "duration": 20,
    "start_time": "2021-07-08T10:19:21.033Z"
   },
   {
    "duration": 27,
    "start_time": "2021-07-08T10:45:04.055Z"
   },
   {
    "duration": 8,
    "start_time": "2021-07-08T10:45:08.478Z"
   },
   {
    "duration": 8,
    "start_time": "2021-07-08T10:45:31.982Z"
   },
   {
    "duration": 10,
    "start_time": "2021-07-08T10:46:01.221Z"
   },
   {
    "duration": 17,
    "start_time": "2021-07-08T10:46:40.011Z"
   },
   {
    "duration": 193,
    "start_time": "2021-07-08T10:48:19.471Z"
   },
   {
    "duration": 225,
    "start_time": "2021-07-08T10:49:26.480Z"
   },
   {
    "duration": 204,
    "start_time": "2021-07-08T10:49:59.992Z"
   },
   {
    "duration": 435,
    "start_time": "2021-07-08T10:50:06.779Z"
   },
   {
    "duration": 199,
    "start_time": "2021-07-08T10:50:14.891Z"
   },
   {
    "duration": 204,
    "start_time": "2021-07-08T10:50:18.501Z"
   },
   {
    "duration": 244,
    "start_time": "2021-07-08T10:50:23.359Z"
   },
   {
    "duration": 192,
    "start_time": "2021-07-08T10:50:29.135Z"
   },
   {
    "duration": 218,
    "start_time": "2021-07-08T10:50:33.092Z"
   },
   {
    "duration": 207,
    "start_time": "2021-07-08T10:52:45.381Z"
   },
   {
    "duration": 5,
    "start_time": "2021-07-08T10:53:34.641Z"
   },
   {
    "duration": 196,
    "start_time": "2021-07-08T10:53:41.478Z"
   },
   {
    "duration": 43,
    "start_time": "2021-07-08T10:53:50.335Z"
   },
   {
    "duration": 32,
    "start_time": "2021-07-08T10:53:55.294Z"
   },
   {
    "duration": 55,
    "start_time": "2021-07-08T10:54:09.675Z"
   },
   {
    "duration": 16,
    "start_time": "2021-07-08T10:54:12.260Z"
   },
   {
    "duration": 15,
    "start_time": "2021-07-08T10:54:49.150Z"
   },
   {
    "duration": 20,
    "start_time": "2021-07-08T10:56:07.596Z"
   },
   {
    "duration": 16,
    "start_time": "2021-07-08T10:58:26.276Z"
   },
   {
    "duration": 22,
    "start_time": "2021-07-08T10:59:00.486Z"
   },
   {
    "duration": 18,
    "start_time": "2021-07-08T11:02:09.653Z"
   },
   {
    "duration": 10,
    "start_time": "2021-07-08T11:03:44.331Z"
   },
   {
    "duration": 10,
    "start_time": "2021-07-08T11:03:54.055Z"
   },
   {
    "duration": 12,
    "start_time": "2021-07-08T11:04:41.967Z"
   },
   {
    "duration": 24,
    "start_time": "2021-07-08T11:07:30.732Z"
   },
   {
    "duration": 6,
    "start_time": "2021-07-08T11:07:37.364Z"
   },
   {
    "duration": 16,
    "start_time": "2021-07-08T11:08:01.819Z"
   },
   {
    "duration": 17,
    "start_time": "2021-07-08T11:09:47.488Z"
   },
   {
    "duration": 246,
    "start_time": "2021-07-08T11:10:00.830Z"
   },
   {
    "duration": 18,
    "start_time": "2021-07-08T11:13:55.195Z"
   },
   {
    "duration": 204,
    "start_time": "2021-07-08T11:14:04.951Z"
   },
   {
    "duration": 19,
    "start_time": "2021-07-08T11:15:10.613Z"
   },
   {
    "duration": 680,
    "start_time": "2021-07-08T11:16:25.793Z"
   },
   {
    "duration": 451,
    "start_time": "2021-07-08T11:16:40.313Z"
   },
   {
    "duration": 469,
    "start_time": "2021-07-08T11:17:21.286Z"
   },
   {
    "duration": 20,
    "start_time": "2021-07-08T11:19:12.554Z"
   },
   {
    "duration": 35,
    "start_time": "2021-07-08T11:20:05.484Z"
   },
   {
    "duration": 53,
    "start_time": "2021-07-08T11:21:40.050Z"
   },
   {
    "duration": 13,
    "start_time": "2021-07-08T11:22:26.059Z"
   },
   {
    "duration": 19,
    "start_time": "2021-07-08T11:22:47.419Z"
   },
   {
    "duration": 25,
    "start_time": "2021-07-08T11:23:19.958Z"
   },
   {
    "duration": 29,
    "start_time": "2021-07-08T11:23:25.415Z"
   },
   {
    "duration": 10,
    "start_time": "2021-07-08T11:24:45.138Z"
   },
   {
    "duration": 19,
    "start_time": "2021-07-08T11:24:54.498Z"
   },
   {
    "duration": 12,
    "start_time": "2021-07-08T11:25:32.225Z"
   },
   {
    "duration": 19,
    "start_time": "2021-07-08T11:25:37.092Z"
   },
   {
    "duration": 17,
    "start_time": "2021-07-08T11:25:58.116Z"
   },
   {
    "duration": 15,
    "start_time": "2021-07-08T11:26:02.258Z"
   },
   {
    "duration": 8,
    "start_time": "2021-07-08T11:26:59.682Z"
   },
   {
    "duration": 184,
    "start_time": "2021-07-08T11:27:21.894Z"
   },
   {
    "duration": 8,
    "start_time": "2021-07-08T11:27:23.824Z"
   },
   {
    "duration": 202,
    "start_time": "2021-07-08T11:27:23.962Z"
   },
   {
    "duration": 360,
    "start_time": "2021-07-08T11:28:33.215Z"
   },
   {
    "duration": 231,
    "start_time": "2021-07-08T11:32:05.542Z"
   },
   {
    "duration": 607,
    "start_time": "2021-07-08T11:36:27.854Z"
   },
   {
    "duration": 241,
    "start_time": "2021-07-08T11:36:28.463Z"
   },
   {
    "duration": 67,
    "start_time": "2021-07-08T11:36:28.709Z"
   },
   {
    "duration": 5,
    "start_time": "2021-07-08T11:36:28.778Z"
   },
   {
    "duration": 32,
    "start_time": "2021-07-08T11:36:28.784Z"
   },
   {
    "duration": 11,
    "start_time": "2021-07-08T11:36:28.819Z"
   },
   {
    "duration": 20,
    "start_time": "2021-07-08T11:36:28.834Z"
   },
   {
    "duration": 36,
    "start_time": "2021-07-08T11:36:28.857Z"
   },
   {
    "duration": 16,
    "start_time": "2021-07-08T11:36:28.895Z"
   },
   {
    "duration": 14,
    "start_time": "2021-07-08T11:36:28.913Z"
   },
   {
    "duration": 9,
    "start_time": "2021-07-08T11:36:28.930Z"
   },
   {
    "duration": 55,
    "start_time": "2021-07-08T11:36:28.941Z"
   },
   {
    "duration": 27,
    "start_time": "2021-07-08T11:36:28.999Z"
   },
   {
    "duration": 30,
    "start_time": "2021-07-08T11:36:29.028Z"
   },
   {
    "duration": 31,
    "start_time": "2021-07-08T11:36:29.060Z"
   },
   {
    "duration": 3,
    "start_time": "2021-07-08T11:36:29.093Z"
   },
   {
    "duration": 12,
    "start_time": "2021-07-08T11:36:29.099Z"
   },
   {
    "duration": 11,
    "start_time": "2021-07-08T11:36:29.112Z"
   },
   {
    "duration": 12,
    "start_time": "2021-07-08T11:36:29.125Z"
   },
   {
    "duration": 9,
    "start_time": "2021-07-08T11:36:29.139Z"
   },
   {
    "duration": 31,
    "start_time": "2021-07-08T11:36:29.191Z"
   },
   {
    "duration": 17,
    "start_time": "2021-07-08T11:36:29.226Z"
   },
   {
    "duration": 7,
    "start_time": "2021-07-08T11:36:29.245Z"
   },
   {
    "duration": 10,
    "start_time": "2021-07-08T11:36:29.254Z"
   },
   {
    "duration": 30,
    "start_time": "2021-07-08T11:36:29.292Z"
   },
   {
    "duration": 11,
    "start_time": "2021-07-08T11:36:29.324Z"
   },
   {
    "duration": 11,
    "start_time": "2021-07-08T11:36:29.337Z"
   },
   {
    "duration": 230,
    "start_time": "2021-07-08T11:36:29.349Z"
   },
   {
    "duration": 13,
    "start_time": "2021-07-08T11:36:29.588Z"
   },
   {
    "duration": 205,
    "start_time": "2021-07-08T11:36:29.603Z"
   },
   {
    "duration": 20,
    "start_time": "2021-07-08T11:36:29.810Z"
   },
   {
    "duration": 9,
    "start_time": "2021-07-08T11:36:29.832Z"
   },
   {
    "duration": 16,
    "start_time": "2021-07-08T11:36:29.843Z"
   },
   {
    "duration": 283,
    "start_time": "2021-07-08T11:36:29.861Z"
   },
   {
    "duration": 50,
    "start_time": "2021-07-08T11:36:30.146Z"
   },
   {
    "duration": 14,
    "start_time": "2021-07-08T11:36:30.198Z"
   },
   {
    "duration": 11,
    "start_time": "2021-07-08T11:36:30.214Z"
   },
   {
    "duration": 245,
    "start_time": "2021-07-08T11:36:30.227Z"
   },
   {
    "duration": 439,
    "start_time": "2021-07-08T11:36:30.474Z"
   },
   {
    "duration": 210,
    "start_time": "2021-07-08T11:36:30.915Z"
   },
   {
    "duration": 15,
    "start_time": "2021-07-08T11:36:31.127Z"
   },
   {
    "duration": 17,
    "start_time": "2021-07-08T11:38:20.451Z"
   },
   {
    "duration": 642,
    "start_time": "2021-07-08T11:46:17.881Z"
   },
   {
    "duration": 210,
    "start_time": "2021-07-08T11:46:18.525Z"
   },
   {
    "duration": 104,
    "start_time": "2021-07-08T11:46:18.741Z"
   },
   {
    "duration": 8,
    "start_time": "2021-07-08T11:46:18.847Z"
   },
   {
    "duration": 25,
    "start_time": "2021-07-08T11:46:18.857Z"
   },
   {
    "duration": 14,
    "start_time": "2021-07-08T11:46:18.884Z"
   },
   {
    "duration": 22,
    "start_time": "2021-07-08T11:46:18.900Z"
   },
   {
    "duration": 5,
    "start_time": "2021-07-08T11:46:18.924Z"
   },
   {
    "duration": 13,
    "start_time": "2021-07-08T11:46:18.931Z"
   },
   {
    "duration": 45,
    "start_time": "2021-07-08T11:46:18.946Z"
   },
   {
    "duration": 12,
    "start_time": "2021-07-08T11:46:18.993Z"
   },
   {
    "duration": 38,
    "start_time": "2021-07-08T11:46:19.006Z"
   },
   {
    "duration": 50,
    "start_time": "2021-07-08T11:46:19.046Z"
   },
   {
    "duration": 29,
    "start_time": "2021-07-08T11:46:19.099Z"
   },
   {
    "duration": 7,
    "start_time": "2021-07-08T11:46:19.130Z"
   },
   {
    "duration": 3,
    "start_time": "2021-07-08T11:46:19.139Z"
   },
   {
    "duration": 11,
    "start_time": "2021-07-08T11:46:19.144Z"
   },
   {
    "duration": 40,
    "start_time": "2021-07-08T11:46:19.157Z"
   },
   {
    "duration": 15,
    "start_time": "2021-07-08T11:46:19.199Z"
   },
   {
    "duration": 10,
    "start_time": "2021-07-08T11:46:19.217Z"
   },
   {
    "duration": 68,
    "start_time": "2021-07-08T11:46:19.230Z"
   },
   {
    "duration": 17,
    "start_time": "2021-07-08T11:46:19.301Z"
   },
   {
    "duration": 7,
    "start_time": "2021-07-08T11:46:19.321Z"
   },
   {
    "duration": 11,
    "start_time": "2021-07-08T11:46:19.330Z"
   },
   {
    "duration": 59,
    "start_time": "2021-07-08T11:46:19.343Z"
   },
   {
    "duration": 17,
    "start_time": "2021-07-08T11:46:19.405Z"
   },
   {
    "duration": 16,
    "start_time": "2021-07-08T11:46:19.424Z"
   },
   {
    "duration": 252,
    "start_time": "2021-07-08T11:46:19.443Z"
   },
   {
    "duration": 9,
    "start_time": "2021-07-08T11:46:19.697Z"
   },
   {
    "duration": 224,
    "start_time": "2021-07-08T11:46:19.708Z"
   },
   {
    "duration": 21,
    "start_time": "2021-07-08T11:46:19.934Z"
   },
   {
    "duration": 9,
    "start_time": "2021-07-08T11:46:19.956Z"
   },
   {
    "duration": 32,
    "start_time": "2021-07-08T11:46:19.967Z"
   },
   {
    "duration": 288,
    "start_time": "2021-07-08T11:46:20.004Z"
   },
   {
    "duration": 23,
    "start_time": "2021-07-08T11:46:20.300Z"
   },
   {
    "duration": 11,
    "start_time": "2021-07-08T11:46:20.325Z"
   },
   {
    "duration": 11,
    "start_time": "2021-07-08T11:46:20.339Z"
   },
   {
    "duration": 259,
    "start_time": "2021-07-08T11:46:20.352Z"
   },
   {
    "duration": 438,
    "start_time": "2021-07-08T11:46:20.613Z"
   },
   {
    "duration": 207,
    "start_time": "2021-07-08T11:46:21.054Z"
   },
   {
    "duration": 27,
    "start_time": "2021-07-08T11:46:21.262Z"
   },
   {
    "duration": 19,
    "start_time": "2021-07-08T11:46:21.291Z"
   },
   {
    "duration": 820,
    "start_time": "2021-07-08T11:49:01.655Z"
   },
   {
    "duration": 372,
    "start_time": "2021-07-08T11:49:02.478Z"
   },
   {
    "duration": 98,
    "start_time": "2021-07-08T11:49:02.853Z"
   },
   {
    "duration": 6,
    "start_time": "2021-07-08T11:49:02.953Z"
   },
   {
    "duration": 39,
    "start_time": "2021-07-08T11:49:02.960Z"
   },
   {
    "duration": 9,
    "start_time": "2021-07-08T11:49:03.003Z"
   },
   {
    "duration": 23,
    "start_time": "2021-07-08T11:49:03.014Z"
   },
   {
    "duration": 6,
    "start_time": "2021-07-08T11:49:03.041Z"
   },
   {
    "duration": 20,
    "start_time": "2021-07-08T11:49:03.049Z"
   },
   {
    "duration": 18,
    "start_time": "2021-07-08T11:49:03.084Z"
   },
   {
    "duration": 14,
    "start_time": "2021-07-08T11:49:03.104Z"
   },
   {
    "duration": 39,
    "start_time": "2021-07-08T11:49:03.119Z"
   },
   {
    "duration": 38,
    "start_time": "2021-07-08T11:49:03.160Z"
   },
   {
    "duration": 26,
    "start_time": "2021-07-08T11:49:03.200Z"
   },
   {
    "duration": 7,
    "start_time": "2021-07-08T11:49:03.227Z"
   },
   {
    "duration": 4,
    "start_time": "2021-07-08T11:49:03.236Z"
   },
   {
    "duration": 15,
    "start_time": "2021-07-08T11:49:03.243Z"
   },
   {
    "duration": 21,
    "start_time": "2021-07-08T11:49:03.285Z"
   },
   {
    "duration": 17,
    "start_time": "2021-07-08T11:49:03.309Z"
   },
   {
    "duration": 10,
    "start_time": "2021-07-08T11:49:03.328Z"
   },
   {
    "duration": 65,
    "start_time": "2021-07-08T11:49:03.340Z"
   },
   {
    "duration": 18,
    "start_time": "2021-07-08T11:49:03.407Z"
   },
   {
    "duration": 8,
    "start_time": "2021-07-08T11:49:03.428Z"
   },
   {
    "duration": 15,
    "start_time": "2021-07-08T11:49:03.438Z"
   },
   {
    "duration": 40,
    "start_time": "2021-07-08T11:49:03.455Z"
   },
   {
    "duration": 12,
    "start_time": "2021-07-08T11:49:03.497Z"
   },
   {
    "duration": 29,
    "start_time": "2021-07-08T11:49:03.511Z"
   },
   {
    "duration": 285,
    "start_time": "2021-07-08T11:49:03.542Z"
   },
   {
    "duration": 8,
    "start_time": "2021-07-08T11:49:03.829Z"
   },
   {
    "duration": 227,
    "start_time": "2021-07-08T11:49:03.838Z"
   },
   {
    "duration": 40,
    "start_time": "2021-07-08T11:49:04.066Z"
   },
   {
    "duration": 10,
    "start_time": "2021-07-08T11:49:04.108Z"
   },
   {
    "duration": 26,
    "start_time": "2021-07-08T11:49:04.121Z"
   },
   {
    "duration": 290,
    "start_time": "2021-07-08T11:49:04.149Z"
   },
   {
    "duration": 26,
    "start_time": "2021-07-08T11:49:04.441Z"
   },
   {
    "duration": 31,
    "start_time": "2021-07-08T11:49:04.470Z"
   },
   {
    "duration": 14,
    "start_time": "2021-07-08T11:49:04.503Z"
   },
   {
    "duration": 259,
    "start_time": "2021-07-08T11:49:04.521Z"
   },
   {
    "duration": 480,
    "start_time": "2021-07-08T11:49:04.782Z"
   },
   {
    "duration": 225,
    "start_time": "2021-07-08T11:49:05.264Z"
   },
   {
    "duration": 22,
    "start_time": "2021-07-08T11:49:05.491Z"
   },
   {
    "duration": 24,
    "start_time": "2021-07-08T11:49:05.515Z"
   },
   {
    "duration": 634,
    "start_time": "2021-07-08T11:52:24.960Z"
   },
   {
    "duration": 199,
    "start_time": "2021-07-08T11:52:25.599Z"
   },
   {
    "duration": 106,
    "start_time": "2021-07-08T11:52:25.803Z"
   },
   {
    "duration": 7,
    "start_time": "2021-07-08T11:52:25.911Z"
   },
   {
    "duration": 29,
    "start_time": "2021-07-08T11:52:25.920Z"
   },
   {
    "duration": 7,
    "start_time": "2021-07-08T11:52:25.951Z"
   },
   {
    "duration": 26,
    "start_time": "2021-07-08T11:52:25.961Z"
   },
   {
    "duration": 11,
    "start_time": "2021-07-08T11:52:25.990Z"
   },
   {
    "duration": 29,
    "start_time": "2021-07-08T11:52:26.005Z"
   },
   {
    "duration": 9,
    "start_time": "2021-07-08T11:52:26.036Z"
   },
   {
    "duration": 8,
    "start_time": "2021-07-08T11:52:26.047Z"
   },
   {
    "duration": 63,
    "start_time": "2021-07-08T11:52:26.057Z"
   },
   {
    "duration": 17,
    "start_time": "2021-07-08T11:52:26.122Z"
   },
   {
    "duration": 43,
    "start_time": "2021-07-08T11:52:26.142Z"
   },
   {
    "duration": 17,
    "start_time": "2021-07-08T11:52:26.187Z"
   },
   {
    "duration": 5,
    "start_time": "2021-07-08T11:52:26.206Z"
   },
   {
    "duration": 12,
    "start_time": "2021-07-08T11:52:26.212Z"
   },
   {
    "duration": 11,
    "start_time": "2021-07-08T11:52:26.226Z"
   },
   {
    "duration": 12,
    "start_time": "2021-07-08T11:52:26.238Z"
   },
   {
    "duration": 38,
    "start_time": "2021-07-08T11:52:26.252Z"
   },
   {
    "duration": 40,
    "start_time": "2021-07-08T11:52:26.292Z"
   },
   {
    "duration": 17,
    "start_time": "2021-07-08T11:52:26.336Z"
   },
   {
    "duration": 39,
    "start_time": "2021-07-08T11:52:26.355Z"
   },
   {
    "duration": 11,
    "start_time": "2021-07-08T11:52:26.395Z"
   },
   {
    "duration": 23,
    "start_time": "2021-07-08T11:52:26.408Z"
   },
   {
    "duration": 12,
    "start_time": "2021-07-08T11:52:26.432Z"
   },
   {
    "duration": 41,
    "start_time": "2021-07-08T11:52:26.446Z"
   },
   {
    "duration": 215,
    "start_time": "2021-07-08T11:52:26.493Z"
   },
   {
    "duration": 8,
    "start_time": "2021-07-08T11:52:26.710Z"
   },
   {
    "duration": 228,
    "start_time": "2021-07-08T11:52:26.720Z"
   },
   {
    "duration": 18,
    "start_time": "2021-07-08T11:52:26.950Z"
   },
   {
    "duration": 35,
    "start_time": "2021-07-08T11:52:26.969Z"
   },
   {
    "duration": 23,
    "start_time": "2021-07-08T11:52:27.006Z"
   },
   {
    "duration": 258,
    "start_time": "2021-07-08T11:52:27.030Z"
   },
   {
    "duration": 24,
    "start_time": "2021-07-08T11:52:27.290Z"
   },
   {
    "duration": 12,
    "start_time": "2021-07-08T11:52:27.316Z"
   },
   {
    "duration": 10,
    "start_time": "2021-07-08T11:52:27.329Z"
   },
   {
    "duration": 298,
    "start_time": "2021-07-08T11:52:27.341Z"
   },
   {
    "duration": 436,
    "start_time": "2021-07-08T11:52:27.641Z"
   },
   {
    "duration": 216,
    "start_time": "2021-07-08T11:52:28.079Z"
   },
   {
    "duration": 20,
    "start_time": "2021-07-08T11:52:28.297Z"
   },
   {
    "duration": 17,
    "start_time": "2021-07-08T11:52:28.319Z"
   },
   {
    "duration": 398,
    "start_time": "2024-04-08T14:00:38.478Z"
   },
   {
    "duration": 371,
    "start_time": "2024-04-08T14:00:38.992Z"
   },
   {
    "duration": 16,
    "start_time": "2024-04-08T14:00:58.051Z"
   },
   {
    "duration": 23,
    "start_time": "2024-04-08T14:02:09.649Z"
   },
   {
    "duration": 8,
    "start_time": "2024-04-08T14:03:31.303Z"
   },
   {
    "duration": 14,
    "start_time": "2024-04-08T14:03:47.526Z"
   },
   {
    "duration": 16,
    "start_time": "2024-04-08T14:04:45.199Z"
   },
   {
    "duration": 11,
    "start_time": "2024-04-08T14:04:47.968Z"
   },
   {
    "duration": 81,
    "start_time": "2024-04-08T14:07:53.193Z"
   },
   {
    "duration": 11,
    "start_time": "2024-04-08T14:08:39.969Z"
   },
   {
    "duration": 8,
    "start_time": "2024-04-08T14:14:23.876Z"
   },
   {
    "duration": 15,
    "start_time": "2024-04-08T14:14:34.119Z"
   },
   {
    "duration": 304,
    "start_time": "2024-04-08T14:15:17.445Z"
   },
   {
    "duration": 293,
    "start_time": "2024-04-08T14:15:23.226Z"
   },
   {
    "duration": 439,
    "start_time": "2024-04-08T14:16:58.810Z"
   },
   {
    "duration": 5,
    "start_time": "2024-04-08T14:17:42.788Z"
   },
   {
    "duration": 10,
    "start_time": "2024-04-08T14:18:07.512Z"
   },
   {
    "duration": 3,
    "start_time": "2024-04-08T14:18:34.566Z"
   },
   {
    "duration": 130,
    "start_time": "2024-04-08T14:18:35.013Z"
   },
   {
    "duration": 16,
    "start_time": "2024-04-08T14:18:36.128Z"
   },
   {
    "duration": 12,
    "start_time": "2024-04-08T14:18:39.019Z"
   },
   {
    "duration": 301,
    "start_time": "2024-04-08T14:18:41.077Z"
   },
   {
    "duration": 11,
    "start_time": "2024-04-08T14:19:08.612Z"
   },
   {
    "duration": 325,
    "start_time": "2024-04-08T14:19:17.453Z"
   },
   {
    "duration": 348,
    "start_time": "2024-04-08T14:20:49.487Z"
   },
   {
    "duration": 3,
    "start_time": "2024-04-08T14:25:03.907Z"
   },
   {
    "duration": 4,
    "start_time": "2024-04-08T14:25:30.832Z"
   },
   {
    "duration": 2786,
    "start_time": "2024-04-08T14:26:17.000Z"
   },
   {
    "duration": 3074,
    "start_time": "2024-04-08T14:30:53.141Z"
   },
   {
    "duration": 3087,
    "start_time": "2024-04-08T14:31:55.286Z"
   },
   {
    "duration": 18,
    "start_time": "2024-04-08T14:34:13.812Z"
   },
   {
    "duration": 5,
    "start_time": "2024-04-08T14:35:10.989Z"
   },
   {
    "duration": 5,
    "start_time": "2024-04-08T14:35:24.919Z"
   },
   {
    "duration": 5,
    "start_time": "2024-04-08T14:37:51.226Z"
   },
   {
    "duration": 7,
    "start_time": "2024-04-08T14:38:23.420Z"
   },
   {
    "duration": 332,
    "start_time": "2024-04-08T14:38:51.823Z"
   },
   {
    "duration": 7,
    "start_time": "2024-04-08T14:40:26.786Z"
   },
   {
    "duration": 11,
    "start_time": "2024-04-08T14:40:29.442Z"
   },
   {
    "duration": 33,
    "start_time": "2024-04-08T14:40:43.016Z"
   },
   {
    "duration": 26,
    "start_time": "2024-04-08T14:42:05.890Z"
   },
   {
    "duration": 23,
    "start_time": "2024-04-08T14:45:59.325Z"
   },
   {
    "duration": 15,
    "start_time": "2024-04-08T14:46:27.866Z"
   },
   {
    "duration": 30,
    "start_time": "2024-04-08T14:48:37.613Z"
   },
   {
    "duration": 46,
    "start_time": "2024-04-08T14:48:59.095Z"
   },
   {
    "duration": 30,
    "start_time": "2024-04-08T14:49:35.384Z"
   },
   {
    "duration": 43,
    "start_time": "2024-04-08T14:49:53.248Z"
   },
   {
    "duration": 4,
    "start_time": "2024-04-08T14:51:39.050Z"
   },
   {
    "duration": 4,
    "start_time": "2024-04-08T14:51:47.193Z"
   },
   {
    "duration": 7,
    "start_time": "2024-04-08T14:53:13.319Z"
   },
   {
    "duration": 24,
    "start_time": "2024-04-08T14:55:05.828Z"
   },
   {
    "duration": 14,
    "start_time": "2024-04-08T15:11:20.053Z"
   },
   {
    "duration": 50,
    "start_time": "2024-04-08T15:11:50.150Z"
   },
   {
    "duration": 22,
    "start_time": "2024-04-08T15:12:04.785Z"
   },
   {
    "duration": 21,
    "start_time": "2024-04-08T15:13:35.914Z"
   },
   {
    "duration": 12,
    "start_time": "2024-04-08T15:14:19.506Z"
   },
   {
    "duration": 9,
    "start_time": "2024-04-08T15:25:01.557Z"
   },
   {
    "duration": 24,
    "start_time": "2024-04-08T15:26:01.444Z"
   },
   {
    "duration": 388,
    "start_time": "2024-04-08T15:26:38.162Z"
   },
   {
    "duration": 133,
    "start_time": "2024-04-08T15:27:25.223Z"
   },
   {
    "duration": 16,
    "start_time": "2024-04-08T15:27:25.684Z"
   },
   {
    "duration": 10,
    "start_time": "2024-04-08T15:27:26.977Z"
   },
   {
    "duration": 6,
    "start_time": "2024-04-08T15:27:29.277Z"
   },
   {
    "duration": 27,
    "start_time": "2024-04-08T15:27:30.195Z"
   },
   {
    "duration": 22,
    "start_time": "2024-04-08T15:27:34.881Z"
   },
   {
    "duration": 12,
    "start_time": "2024-04-08T15:27:39.062Z"
   },
   {
    "duration": 5,
    "start_time": "2024-04-08T15:27:42.702Z"
   },
   {
    "duration": 6,
    "start_time": "2024-04-08T15:27:45.566Z"
   },
   {
    "duration": 8,
    "start_time": "2024-04-08T15:33:09.788Z"
   },
   {
    "duration": 396,
    "start_time": "2024-04-08T15:33:29.151Z"
   },
   {
    "duration": 13,
    "start_time": "2024-04-08T15:35:12.484Z"
   },
   {
    "duration": 125,
    "start_time": "2024-04-08T15:35:37.754Z"
   },
   {
    "duration": 15,
    "start_time": "2024-04-08T15:35:38.358Z"
   },
   {
    "duration": 10,
    "start_time": "2024-04-08T15:35:38.839Z"
   },
   {
    "duration": 5,
    "start_time": "2024-04-08T15:35:41.149Z"
   },
   {
    "duration": 26,
    "start_time": "2024-04-08T15:35:42.317Z"
   },
   {
    "duration": 14,
    "start_time": "2024-04-08T15:35:45.269Z"
   },
   {
    "duration": 12,
    "start_time": "2024-04-08T15:35:47.524Z"
   },
   {
    "duration": 5,
    "start_time": "2024-04-08T15:35:48.717Z"
   },
   {
    "duration": 1871,
    "start_time": "2024-04-08T15:35:50.092Z"
   },
   {
    "duration": 13,
    "start_time": "2024-04-08T15:36:29.757Z"
   },
   {
    "duration": 122,
    "start_time": "2024-04-08T15:36:44.923Z"
   },
   {
    "duration": 15,
    "start_time": "2024-04-08T15:36:46.161Z"
   },
   {
    "duration": 11,
    "start_time": "2024-04-08T15:36:47.633Z"
   },
   {
    "duration": 5,
    "start_time": "2024-04-08T15:36:48.724Z"
   },
   {
    "duration": 27,
    "start_time": "2024-04-08T15:36:49.324Z"
   },
   {
    "duration": 14,
    "start_time": "2024-04-08T15:36:52.727Z"
   },
   {
    "duration": 13,
    "start_time": "2024-04-08T15:36:54.177Z"
   },
   {
    "duration": 5,
    "start_time": "2024-04-08T15:36:54.906Z"
   },
   {
    "duration": 1853,
    "start_time": "2024-04-08T15:36:58.207Z"
   },
   {
    "duration": 123,
    "start_time": "2024-04-08T15:38:21.443Z"
   },
   {
    "duration": 15,
    "start_time": "2024-04-08T15:38:21.917Z"
   },
   {
    "duration": 10,
    "start_time": "2024-04-08T15:38:22.460Z"
   },
   {
    "duration": 5,
    "start_time": "2024-04-08T15:38:23.120Z"
   },
   {
    "duration": 27,
    "start_time": "2024-04-08T15:38:23.352Z"
   },
   {
    "duration": 15,
    "start_time": "2024-04-08T15:38:24.808Z"
   },
   {
    "duration": 13,
    "start_time": "2024-04-08T15:38:25.990Z"
   },
   {
    "duration": 5,
    "start_time": "2024-04-08T15:38:27.390Z"
   },
   {
    "duration": 1825,
    "start_time": "2024-04-08T15:38:28.916Z"
   },
   {
    "duration": 15,
    "start_time": "2024-04-08T15:38:32.737Z"
   },
   {
    "duration": 126,
    "start_time": "2024-04-08T15:40:05.262Z"
   },
   {
    "duration": 16,
    "start_time": "2024-04-08T15:40:05.699Z"
   },
   {
    "duration": 10,
    "start_time": "2024-04-08T15:40:05.983Z"
   },
   {
    "duration": 6,
    "start_time": "2024-04-08T15:40:06.422Z"
   },
   {
    "duration": 27,
    "start_time": "2024-04-08T15:40:06.662Z"
   },
   {
    "duration": 16,
    "start_time": "2024-04-08T15:40:09.534Z"
   },
   {
    "duration": 14,
    "start_time": "2024-04-08T15:40:10.808Z"
   },
   {
    "duration": 4,
    "start_time": "2024-04-08T15:40:12.400Z"
   },
   {
    "duration": 84,
    "start_time": "2024-04-08T15:40:14.908Z"
   },
   {
    "duration": 1917,
    "start_time": "2024-04-08T15:40:35.518Z"
   },
   {
    "duration": 5,
    "start_time": "2024-04-08T15:41:39.929Z"
   },
   {
    "duration": 1723,
    "start_time": "2024-04-08T15:48:27.500Z"
   },
   {
    "duration": 456,
    "start_time": "2024-04-10T13:32:16.945Z"
   },
   {
    "duration": 411,
    "start_time": "2024-04-10T13:32:18.154Z"
   },
   {
    "duration": 17,
    "start_time": "2024-04-10T13:32:19.416Z"
   },
   {
    "duration": 11,
    "start_time": "2024-04-10T13:32:22.296Z"
   },
   {
    "duration": 6,
    "start_time": "2024-04-10T13:32:30.242Z"
   },
   {
    "duration": 39,
    "start_time": "2024-04-10T13:32:32.143Z"
   },
   {
    "duration": 15,
    "start_time": "2024-04-10T13:32:46.170Z"
   },
   {
    "duration": 15,
    "start_time": "2024-04-10T13:32:55.009Z"
   },
   {
    "duration": 6,
    "start_time": "2024-04-10T13:32:56.448Z"
   },
   {
    "duration": 1818,
    "start_time": "2024-04-10T13:33:01.337Z"
   },
   {
    "duration": 15,
    "start_time": "2024-04-10T13:33:03.753Z"
   },
   {
    "duration": 100,
    "start_time": "2024-04-10T13:34:51.114Z"
   },
   {
    "duration": 1736,
    "start_time": "2024-04-10T13:34:57.889Z"
   },
   {
    "duration": 129,
    "start_time": "2024-04-10T13:37:04.750Z"
   },
   {
    "duration": 16,
    "start_time": "2024-04-10T13:37:06.078Z"
   },
   {
    "duration": 11,
    "start_time": "2024-04-10T13:37:07.955Z"
   },
   {
    "duration": 7,
    "start_time": "2024-04-10T13:37:13.603Z"
   },
   {
    "duration": 13,
    "start_time": "2024-04-10T13:37:23.380Z"
   },
   {
    "duration": 23,
    "start_time": "2024-04-10T13:37:38.727Z"
   },
   {
    "duration": 23,
    "start_time": "2024-04-10T13:45:06.214Z"
   },
   {
    "duration": 126,
    "start_time": "2024-04-10T13:45:20.447Z"
   },
   {
    "duration": 15,
    "start_time": "2024-04-10T13:45:20.940Z"
   },
   {
    "duration": 10,
    "start_time": "2024-04-10T13:45:21.419Z"
   },
   {
    "duration": 5,
    "start_time": "2024-04-10T13:45:24.205Z"
   },
   {
    "duration": 27,
    "start_time": "2024-04-10T13:45:25.604Z"
   },
   {
    "duration": 16,
    "start_time": "2024-04-10T13:45:49.089Z"
   },
   {
    "duration": 12,
    "start_time": "2024-04-10T13:47:39.998Z"
   },
   {
    "duration": 6,
    "start_time": "2024-04-10T13:47:40.701Z"
   },
   {
    "duration": 1834,
    "start_time": "2024-04-10T13:47:42.827Z"
   },
   {
    "duration": 15,
    "start_time": "2024-04-10T13:47:45.905Z"
   },
   {
    "duration": 6,
    "start_time": "2024-04-10T13:47:53.557Z"
   },
   {
    "duration": 1811,
    "start_time": "2024-04-10T13:47:55.791Z"
   },
   {
    "duration": 14,
    "start_time": "2024-04-10T14:02:46.826Z"
   },
   {
    "duration": 17,
    "start_time": "2024-04-10T14:03:02.286Z"
   },
   {
    "duration": 10,
    "start_time": "2024-04-10T14:04:02.864Z"
   },
   {
    "duration": 16,
    "start_time": "2024-04-10T14:04:04.528Z"
   },
   {
    "duration": 12,
    "start_time": "2024-04-10T14:04:44.878Z"
   },
   {
    "duration": 16,
    "start_time": "2024-04-10T14:04:46.647Z"
   },
   {
    "duration": 3,
    "start_time": "2024-04-10T14:06:54.551Z"
   },
   {
    "duration": 130,
    "start_time": "2024-04-10T14:06:55.041Z"
   },
   {
    "duration": 19,
    "start_time": "2024-04-10T14:06:55.795Z"
   },
   {
    "duration": 11,
    "start_time": "2024-04-10T14:06:58.305Z"
   },
   {
    "duration": 5,
    "start_time": "2024-04-10T14:07:00.564Z"
   },
   {
    "duration": 26,
    "start_time": "2024-04-10T14:07:01.657Z"
   },
   {
    "duration": 13,
    "start_time": "2024-04-10T14:08:09.075Z"
   },
   {
    "duration": 26,
    "start_time": "2024-04-10T14:08:51.573Z"
   },
   {
    "duration": 17,
    "start_time": "2024-04-10T14:11:13.779Z"
   },
   {
    "duration": 13,
    "start_time": "2024-04-10T14:11:28.681Z"
   },
   {
    "duration": 4,
    "start_time": "2024-04-10T14:11:29.124Z"
   },
   {
    "duration": 1821,
    "start_time": "2024-04-10T14:11:30.134Z"
   },
   {
    "duration": 18,
    "start_time": "2024-04-10T14:11:31.957Z"
   },
   {
    "duration": 4,
    "start_time": "2024-04-10T14:11:32.334Z"
   },
   {
    "duration": 18,
    "start_time": "2024-04-10T14:12:28.209Z"
   },
   {
    "duration": 19,
    "start_time": "2024-04-10T14:12:29.775Z"
   },
   {
    "duration": 2,
    "start_time": "2024-04-10T14:13:28.098Z"
   },
   {
    "duration": 136,
    "start_time": "2024-04-10T14:13:28.581Z"
   },
   {
    "duration": 15,
    "start_time": "2024-04-10T14:13:29.544Z"
   },
   {
    "duration": 13,
    "start_time": "2024-04-10T14:13:31.374Z"
   },
   {
    "duration": 5,
    "start_time": "2024-04-10T14:13:34.619Z"
   },
   {
    "duration": 26,
    "start_time": "2024-04-10T14:13:35.737Z"
   },
   {
    "duration": 17,
    "start_time": "2024-04-10T14:13:41.032Z"
   },
   {
    "duration": 13,
    "start_time": "2024-04-10T14:13:45.275Z"
   },
   {
    "duration": 5,
    "start_time": "2024-04-10T14:13:46.023Z"
   },
   {
    "duration": 1828,
    "start_time": "2024-04-10T14:13:48.761Z"
   },
   {
    "duration": 15,
    "start_time": "2024-04-10T14:13:50.591Z"
   },
   {
    "duration": 6,
    "start_time": "2024-04-10T14:14:06.651Z"
   },
   {
    "duration": 1762,
    "start_time": "2024-04-10T14:14:08.340Z"
   },
   {
    "duration": 12,
    "start_time": "2024-04-10T14:14:15.407Z"
   },
   {
    "duration": 16,
    "start_time": "2024-04-10T14:14:19.772Z"
   },
   {
    "duration": 55,
    "start_time": "2024-04-10T14:15:39.738Z"
   },
   {
    "duration": 5,
    "start_time": "2024-04-10T14:18:40.835Z"
   },
   {
    "duration": 4,
    "start_time": "2024-04-10T14:24:52.960Z"
   },
   {
    "duration": 6,
    "start_time": "2024-04-10T14:25:03.239Z"
   },
   {
    "duration": 14,
    "start_time": "2024-04-10T14:25:32.741Z"
   },
   {
    "duration": 6,
    "start_time": "2024-04-10T14:27:39.166Z"
   },
   {
    "duration": 68,
    "start_time": "2024-04-10T14:28:22.442Z"
   },
   {
    "duration": 9,
    "start_time": "2024-04-10T14:28:44.720Z"
   },
   {
    "duration": 27,
    "start_time": "2024-04-10T14:29:43.656Z"
   },
   {
    "duration": 132,
    "start_time": "2024-04-10T14:30:07.144Z"
   },
   {
    "duration": 15,
    "start_time": "2024-04-10T14:30:07.377Z"
   },
   {
    "duration": 10,
    "start_time": "2024-04-10T14:30:07.630Z"
   },
   {
    "duration": 5,
    "start_time": "2024-04-10T14:30:08.520Z"
   },
   {
    "duration": 25,
    "start_time": "2024-04-10T14:30:08.949Z"
   },
   {
    "duration": 16,
    "start_time": "2024-04-10T14:30:10.198Z"
   },
   {
    "duration": 13,
    "start_time": "2024-04-10T14:30:11.304Z"
   },
   {
    "duration": 5,
    "start_time": "2024-04-10T14:30:12.803Z"
   },
   {
    "duration": 1848,
    "start_time": "2024-04-10T14:30:13.507Z"
   },
   {
    "duration": 4,
    "start_time": "2024-04-10T14:30:15.413Z"
   },
   {
    "duration": 1783,
    "start_time": "2024-04-10T14:30:15.951Z"
   },
   {
    "duration": 12,
    "start_time": "2024-04-10T14:30:17.844Z"
   },
   {
    "duration": 16,
    "start_time": "2024-04-10T14:30:18.701Z"
   },
   {
    "duration": 49,
    "start_time": "2024-04-10T14:30:20.747Z"
   },
   {
    "duration": 5,
    "start_time": "2024-04-10T14:30:22.532Z"
   },
   {
    "duration": 14,
    "start_time": "2024-04-10T14:30:23.637Z"
   },
   {
    "duration": 10,
    "start_time": "2024-04-10T14:30:40.991Z"
   },
   {
    "duration": 9,
    "start_time": "2024-04-10T14:30:51.963Z"
   },
   {
    "duration": 11,
    "start_time": "2024-04-10T14:33:01.686Z"
   },
   {
    "duration": 13,
    "start_time": "2024-04-10T14:33:25.313Z"
   },
   {
    "duration": 12,
    "start_time": "2024-04-10T14:36:22.333Z"
   },
   {
    "duration": 13,
    "start_time": "2024-04-10T14:36:43.693Z"
   },
   {
    "duration": 6,
    "start_time": "2024-04-10T14:38:29.276Z"
   },
   {
    "duration": 128,
    "start_time": "2024-04-10T14:38:49.581Z"
   },
   {
    "duration": 17,
    "start_time": "2024-04-10T14:38:50.005Z"
   },
   {
    "duration": 10,
    "start_time": "2024-04-10T14:38:50.483Z"
   },
   {
    "duration": 5,
    "start_time": "2024-04-10T14:38:51.717Z"
   },
   {
    "duration": 25,
    "start_time": "2024-04-10T14:38:52.380Z"
   },
   {
    "duration": 23,
    "start_time": "2024-04-10T14:38:56.892Z"
   },
   {
    "duration": 15,
    "start_time": "2024-04-10T14:39:00.096Z"
   },
   {
    "duration": 6,
    "start_time": "2024-04-10T14:39:00.946Z"
   },
   {
    "duration": 1872,
    "start_time": "2024-04-10T14:39:02.604Z"
   },
   {
    "duration": 6,
    "start_time": "2024-04-10T14:39:04.478Z"
   },
   {
    "duration": 1825,
    "start_time": "2024-04-10T14:39:05.787Z"
   },
   {
    "duration": 13,
    "start_time": "2024-04-10T14:39:12.215Z"
   },
   {
    "duration": 15,
    "start_time": "2024-04-10T14:39:12.825Z"
   },
   {
    "duration": 49,
    "start_time": "2024-04-10T14:39:16.358Z"
   },
   {
    "duration": 5,
    "start_time": "2024-04-10T14:39:21.060Z"
   },
   {
    "duration": 9,
    "start_time": "2024-04-10T14:39:22.710Z"
   },
   {
    "duration": 7,
    "start_time": "2024-04-10T14:39:25.101Z"
   },
   {
    "duration": 7,
    "start_time": "2024-04-10T14:39:58.241Z"
   },
   {
    "duration": 7,
    "start_time": "2024-04-10T14:40:03.380Z"
   },
   {
    "duration": 14,
    "start_time": "2024-04-10T14:40:06.613Z"
   },
   {
    "duration": 11,
    "start_time": "2024-04-10T14:40:24.583Z"
   },
   {
    "duration": 9,
    "start_time": "2024-04-10T14:41:01.607Z"
   },
   {
    "duration": 10,
    "start_time": "2024-04-10T14:42:28.201Z"
   },
   {
    "duration": 5,
    "start_time": "2024-04-10T14:42:58.050Z"
   },
   {
    "duration": 129,
    "start_time": "2024-04-10T14:43:05.670Z"
   },
   {
    "duration": 15,
    "start_time": "2024-04-10T14:43:06.177Z"
   },
   {
    "duration": 14,
    "start_time": "2024-04-10T14:43:06.669Z"
   },
   {
    "duration": 6,
    "start_time": "2024-04-10T14:43:07.701Z"
   },
   {
    "duration": 29,
    "start_time": "2024-04-10T14:43:08.235Z"
   },
   {
    "duration": 16,
    "start_time": "2024-04-10T14:43:09.992Z"
   },
   {
    "duration": 13,
    "start_time": "2024-04-10T14:43:12.412Z"
   },
   {
    "duration": 5,
    "start_time": "2024-04-10T14:43:12.914Z"
   },
   {
    "duration": 1818,
    "start_time": "2024-04-10T14:43:14.372Z"
   },
   {
    "duration": 5,
    "start_time": "2024-04-10T14:43:16.192Z"
   },
   {
    "duration": 1737,
    "start_time": "2024-04-10T14:43:16.486Z"
   },
   {
    "duration": 10,
    "start_time": "2024-04-10T14:43:18.225Z"
   },
   {
    "duration": 15,
    "start_time": "2024-04-10T14:43:19.741Z"
   },
   {
    "duration": 52,
    "start_time": "2024-04-10T14:43:23.193Z"
   },
   {
    "duration": 5,
    "start_time": "2024-04-10T14:43:30.807Z"
   },
   {
    "duration": 9,
    "start_time": "2024-04-10T14:43:32.801Z"
   },
   {
    "duration": 7,
    "start_time": "2024-04-10T14:43:37.356Z"
   },
   {
    "duration": 11,
    "start_time": "2024-04-10T14:43:42.649Z"
   },
   {
    "duration": 5,
    "start_time": "2024-04-10T14:43:46.017Z"
   },
   {
    "duration": 10,
    "start_time": "2024-04-10T14:43:48.448Z"
   },
   {
    "duration": 6,
    "start_time": "2024-04-10T14:43:58.287Z"
   },
   {
    "duration": 129,
    "start_time": "2024-04-10T14:44:37.381Z"
   },
   {
    "duration": 15,
    "start_time": "2024-04-10T14:44:37.802Z"
   },
   {
    "duration": 10,
    "start_time": "2024-04-10T14:44:38.034Z"
   },
   {
    "duration": 5,
    "start_time": "2024-04-10T14:44:38.568Z"
   },
   {
    "duration": 25,
    "start_time": "2024-04-10T14:44:39.077Z"
   },
   {
    "duration": 15,
    "start_time": "2024-04-10T14:44:40.464Z"
   },
   {
    "duration": 12,
    "start_time": "2024-04-10T14:44:41.640Z"
   },
   {
    "duration": 5,
    "start_time": "2024-04-10T14:44:42.017Z"
   },
   {
    "duration": 1825,
    "start_time": "2024-04-10T14:44:43.823Z"
   },
   {
    "duration": 5,
    "start_time": "2024-04-10T14:44:45.650Z"
   },
   {
    "duration": 1809,
    "start_time": "2024-04-10T14:44:45.657Z"
   },
   {
    "duration": 12,
    "start_time": "2024-04-10T14:44:47.472Z"
   },
   {
    "duration": 24,
    "start_time": "2024-04-10T14:44:47.819Z"
   },
   {
    "duration": 50,
    "start_time": "2024-04-10T14:44:50.855Z"
   },
   {
    "duration": 4,
    "start_time": "2024-04-10T14:44:53.633Z"
   },
   {
    "duration": 9,
    "start_time": "2024-04-10T14:44:55.025Z"
   },
   {
    "duration": 9,
    "start_time": "2024-04-10T14:44:59.284Z"
   },
   {
    "duration": 11,
    "start_time": "2024-04-10T14:45:02.239Z"
   },
   {
    "duration": 4,
    "start_time": "2024-04-10T14:45:12.477Z"
   },
   {
    "duration": 6,
    "start_time": "2024-04-10T14:45:13.634Z"
   },
   {
    "duration": 5,
    "start_time": "2024-04-10T14:46:08.338Z"
   },
   {
    "duration": 6,
    "start_time": "2024-04-10T14:46:26.252Z"
   },
   {
    "duration": 6,
    "start_time": "2024-04-10T14:47:12.148Z"
   },
   {
    "duration": 8,
    "start_time": "2024-04-10T14:47:27.271Z"
   },
   {
    "duration": 5,
    "start_time": "2024-04-10T14:48:31.689Z"
   },
   {
    "duration": 6,
    "start_time": "2024-04-10T14:48:33.535Z"
   },
   {
    "duration": 4,
    "start_time": "2024-04-10T14:48:49.536Z"
   },
   {
    "duration": 5,
    "start_time": "2024-04-10T14:49:50.887Z"
   },
   {
    "duration": 5,
    "start_time": "2024-04-10T14:49:52.745Z"
   },
   {
    "duration": 8,
    "start_time": "2024-04-10T14:50:03.881Z"
   },
   {
    "duration": 4,
    "start_time": "2024-04-10T14:54:06.589Z"
   },
   {
    "duration": 7,
    "start_time": "2024-04-10T14:54:08.078Z"
   },
   {
    "duration": 28,
    "start_time": "2024-04-10T15:06:40.139Z"
   },
   {
    "duration": 29,
    "start_time": "2024-04-10T15:06:52.694Z"
   },
   {
    "duration": 27,
    "start_time": "2024-04-10T15:10:36.551Z"
   },
   {
    "duration": 30,
    "start_time": "2024-04-10T15:15:31.180Z"
   },
   {
    "duration": 27,
    "start_time": "2024-04-10T15:15:54.633Z"
   },
   {
    "duration": 28,
    "start_time": "2024-04-10T15:16:30.777Z"
   },
   {
    "duration": 8,
    "start_time": "2024-04-10T15:16:50.699Z"
   },
   {
    "duration": 6,
    "start_time": "2024-04-10T15:17:10.321Z"
   },
   {
    "duration": 6,
    "start_time": "2024-04-10T15:17:29.690Z"
   },
   {
    "duration": 1150,
    "start_time": "2024-04-10T15:29:42.572Z"
   },
   {
    "duration": 13,
    "start_time": "2024-04-10T15:30:29.653Z"
   },
   {
    "duration": 10,
    "start_time": "2024-04-10T15:30:45.107Z"
   },
   {
    "duration": 9,
    "start_time": "2024-04-10T15:31:54.318Z"
   },
   {
    "duration": 7,
    "start_time": "2024-04-10T15:37:11.950Z"
   },
   {
    "duration": 6,
    "start_time": "2024-04-10T15:37:36.365Z"
   },
   {
    "duration": 6,
    "start_time": "2024-04-10T15:43:07.214Z"
   },
   {
    "duration": 7,
    "start_time": "2024-04-10T15:43:17.738Z"
   },
   {
    "duration": 11,
    "start_time": "2024-04-10T15:45:02.113Z"
   },
   {
    "duration": 133,
    "start_time": "2024-04-10T15:45:18.567Z"
   },
   {
    "duration": 18,
    "start_time": "2024-04-10T15:45:19.056Z"
   },
   {
    "duration": 11,
    "start_time": "2024-04-10T15:45:19.483Z"
   },
   {
    "duration": 8,
    "start_time": "2024-04-10T15:45:19.993Z"
   },
   {
    "duration": 38,
    "start_time": "2024-04-10T15:45:20.225Z"
   },
   {
    "duration": 16,
    "start_time": "2024-04-10T15:45:21.293Z"
   },
   {
    "duration": 18,
    "start_time": "2024-04-10T15:45:22.132Z"
   },
   {
    "duration": 5,
    "start_time": "2024-04-10T15:45:22.803Z"
   },
   {
    "duration": 1863,
    "start_time": "2024-04-10T15:45:23.211Z"
   },
   {
    "duration": 5,
    "start_time": "2024-04-10T15:45:25.076Z"
   },
   {
    "duration": 1823,
    "start_time": "2024-04-10T15:45:25.082Z"
   },
   {
    "duration": 17,
    "start_time": "2024-04-10T15:45:26.907Z"
   },
   {
    "duration": 22,
    "start_time": "2024-04-10T15:45:26.925Z"
   },
   {
    "duration": 75,
    "start_time": "2024-04-10T15:45:26.948Z"
   },
   {
    "duration": 4,
    "start_time": "2024-04-10T15:45:29.902Z"
   },
   {
    "duration": 8,
    "start_time": "2024-04-10T15:45:32.021Z"
   },
   {
    "duration": 6,
    "start_time": "2024-04-10T15:45:32.467Z"
   },
   {
    "duration": 11,
    "start_time": "2024-04-10T15:45:33.110Z"
   },
   {
    "duration": 5,
    "start_time": "2024-04-10T15:45:33.827Z"
   },
   {
    "duration": 5,
    "start_time": "2024-04-10T15:45:34.464Z"
   },
   {
    "duration": 6,
    "start_time": "2024-04-10T15:45:36.278Z"
   },
   {
    "duration": 6,
    "start_time": "2024-04-10T15:45:38.726Z"
   },
   {
    "duration": 6,
    "start_time": "2024-04-10T15:45:39.939Z"
   },
   {
    "duration": 25,
    "start_time": "2024-04-10T15:45:42.009Z"
   },
   {
    "duration": 9,
    "start_time": "2024-04-10T15:49:09.238Z"
   },
   {
    "duration": 1137,
    "start_time": "2024-04-10T15:49:38.329Z"
   },
   {
    "duration": 17,
    "start_time": "2024-04-10T15:50:35.604Z"
   },
   {
    "duration": 7,
    "start_time": "2024-04-10T15:51:23.012Z"
   },
   {
    "duration": 28,
    "start_time": "2024-04-10T15:51:47.602Z"
   },
   {
    "duration": 8,
    "start_time": "2024-04-10T15:54:14.874Z"
   },
   {
    "duration": 28,
    "start_time": "2024-04-10T15:54:24.139Z"
   },
   {
    "duration": 28,
    "start_time": "2024-04-10T15:54:48.800Z"
   },
   {
    "duration": 8,
    "start_time": "2024-04-10T15:55:21.050Z"
   },
   {
    "duration": 18,
    "start_time": "2024-04-10T15:55:37.112Z"
   },
   {
    "duration": 132,
    "start_time": "2024-04-10T15:55:56.357Z"
   },
   {
    "duration": 15,
    "start_time": "2024-04-10T15:55:56.601Z"
   },
   {
    "duration": 11,
    "start_time": "2024-04-10T15:55:57.061Z"
   },
   {
    "duration": 6,
    "start_time": "2024-04-10T15:55:57.625Z"
   },
   {
    "duration": 26,
    "start_time": "2024-04-10T15:55:58.133Z"
   },
   {
    "duration": 16,
    "start_time": "2024-04-10T15:55:59.544Z"
   },
   {
    "duration": 14,
    "start_time": "2024-04-10T15:56:00.557Z"
   },
   {
    "duration": 4,
    "start_time": "2024-04-10T15:56:01.096Z"
   },
   {
    "duration": 1871,
    "start_time": "2024-04-10T15:56:01.821Z"
   },
   {
    "duration": 4,
    "start_time": "2024-04-10T15:56:03.694Z"
   },
   {
    "duration": 1825,
    "start_time": "2024-04-10T15:56:03.700Z"
   },
   {
    "duration": 12,
    "start_time": "2024-04-10T15:56:05.527Z"
   },
   {
    "duration": 28,
    "start_time": "2024-04-10T15:56:05.541Z"
   },
   {
    "duration": 50,
    "start_time": "2024-04-10T15:56:08.533Z"
   },
   {
    "duration": 6,
    "start_time": "2024-04-10T15:56:09.772Z"
   },
   {
    "duration": 8,
    "start_time": "2024-04-10T15:56:11.642Z"
   },
   {
    "duration": 6,
    "start_time": "2024-04-10T15:56:15.181Z"
   },
   {
    "duration": 10,
    "start_time": "2024-04-10T15:56:21.911Z"
   },
   {
    "duration": 5,
    "start_time": "2024-04-10T15:56:26.071Z"
   },
   {
    "duration": 5,
    "start_time": "2024-04-10T15:56:28.273Z"
   },
   {
    "duration": 7,
    "start_time": "2024-04-10T15:56:30.520Z"
   },
   {
    "duration": 19,
    "start_time": "2024-04-10T15:56:37.322Z"
   },
   {
    "duration": 3,
    "start_time": "2024-04-10T15:56:50.840Z"
   },
   {
    "duration": 26,
    "start_time": "2024-04-10T15:56:55.703Z"
   },
   {
    "duration": 7,
    "start_time": "2024-04-10T15:56:58.639Z"
   },
   {
    "duration": 10,
    "start_time": "2024-04-10T15:57:09.120Z"
   },
   {
    "duration": 13,
    "start_time": "2024-04-10T15:57:49.993Z"
   },
   {
    "duration": 3426,
    "start_time": "2024-04-10T15:58:14.087Z"
   },
   {
    "duration": 153,
    "start_time": "2024-04-10T15:58:35.651Z"
   },
   {
    "duration": 163,
    "start_time": "2024-04-10T15:58:53.270Z"
   },
   {
    "duration": 3397,
    "start_time": "2024-04-10T15:59:12.603Z"
   },
   {
    "duration": 4508,
    "start_time": "2024-04-10T16:00:40.187Z"
   },
   {
    "duration": 131,
    "start_time": "2024-04-10T16:01:23.321Z"
   },
   {
    "duration": 18,
    "start_time": "2024-04-10T16:01:23.576Z"
   },
   {
    "duration": 10,
    "start_time": "2024-04-10T16:01:24.310Z"
   },
   {
    "duration": 5,
    "start_time": "2024-04-10T16:01:25.603Z"
   },
   {
    "duration": 26,
    "start_time": "2024-04-10T16:01:26.006Z"
   },
   {
    "duration": 17,
    "start_time": "2024-04-10T16:01:26.834Z"
   },
   {
    "duration": 12,
    "start_time": "2024-04-10T16:01:27.921Z"
   },
   {
    "duration": 5,
    "start_time": "2024-04-10T16:01:28.426Z"
   },
   {
    "duration": 1950,
    "start_time": "2024-04-10T16:01:28.943Z"
   },
   {
    "duration": 5,
    "start_time": "2024-04-10T16:01:30.896Z"
   },
   {
    "duration": 1923,
    "start_time": "2024-04-10T16:01:30.903Z"
   },
   {
    "duration": 12,
    "start_time": "2024-04-10T16:01:33.421Z"
   },
   {
    "duration": 16,
    "start_time": "2024-04-10T16:01:33.830Z"
   },
   {
    "duration": 48,
    "start_time": "2024-04-10T16:01:35.861Z"
   },
   {
    "duration": 5,
    "start_time": "2024-04-10T16:01:38.366Z"
   },
   {
    "duration": 9,
    "start_time": "2024-04-10T16:01:39.971Z"
   },
   {
    "duration": 6,
    "start_time": "2024-04-10T16:01:40.436Z"
   },
   {
    "duration": 11,
    "start_time": "2024-04-10T16:01:40.947Z"
   },
   {
    "duration": 5,
    "start_time": "2024-04-10T16:01:41.404Z"
   },
   {
    "duration": 6,
    "start_time": "2024-04-10T16:01:42.083Z"
   },
   {
    "duration": 6,
    "start_time": "2024-04-10T16:01:43.142Z"
   },
   {
    "duration": 18,
    "start_time": "2024-04-10T16:01:47.796Z"
   },
   {
    "duration": 2,
    "start_time": "2024-04-10T16:01:53.755Z"
   },
   {
    "duration": 2,
    "start_time": "2024-04-10T16:01:54.855Z"
   },
   {
    "duration": 35,
    "start_time": "2024-04-10T16:01:55.667Z"
   },
   {
    "duration": 177,
    "start_time": "2024-04-10T16:02:15.440Z"
   },
   {
    "duration": 163,
    "start_time": "2024-04-10T16:02:26.500Z"
   },
   {
    "duration": 40,
    "start_time": "2024-04-10T16:06:01.638Z"
   },
   {
    "duration": 8,
    "start_time": "2024-04-10T16:06:26.885Z"
   },
   {
    "duration": 15,
    "start_time": "2024-04-10T16:07:10.078Z"
   },
   {
    "duration": 16,
    "start_time": "2024-04-10T16:07:23.057Z"
   },
   {
    "duration": 28,
    "start_time": "2024-04-10T16:07:38.324Z"
   },
   {
    "duration": 11,
    "start_time": "2024-04-10T16:07:58.829Z"
   },
   {
    "duration": 17,
    "start_time": "2024-04-10T16:08:04.479Z"
   },
   {
    "duration": 8,
    "start_time": "2024-04-10T16:09:26.862Z"
   },
   {
    "duration": 5,
    "start_time": "2024-04-10T16:09:36.009Z"
   },
   {
    "duration": 9,
    "start_time": "2024-04-10T16:24:02.046Z"
   },
   {
    "duration": 16,
    "start_time": "2024-04-10T16:24:14.540Z"
   },
   {
    "duration": 31,
    "start_time": "2024-04-10T16:24:44.169Z"
   },
   {
    "duration": 30,
    "start_time": "2024-04-10T16:25:39.725Z"
   },
   {
    "duration": 69,
    "start_time": "2024-04-10T16:28:55.849Z"
   },
   {
    "duration": 45,
    "start_time": "2024-04-10T16:30:10.901Z"
   },
   {
    "duration": 52,
    "start_time": "2024-04-10T16:30:43.330Z"
   },
   {
    "duration": 381,
    "start_time": "2024-04-11T13:30:30.099Z"
   },
   {
    "duration": 251,
    "start_time": "2024-04-11T13:30:30.482Z"
   },
   {
    "duration": 20,
    "start_time": "2024-04-11T13:30:30.739Z"
   },
   {
    "duration": 9,
    "start_time": "2024-04-11T13:30:33.994Z"
   },
   {
    "duration": 5,
    "start_time": "2024-04-11T13:30:37.361Z"
   },
   {
    "duration": 30,
    "start_time": "2024-04-11T13:30:41.855Z"
   },
   {
    "duration": 14,
    "start_time": "2024-04-11T13:30:50.802Z"
   },
   {
    "duration": 12,
    "start_time": "2024-04-11T13:30:53.243Z"
   },
   {
    "duration": 4,
    "start_time": "2024-04-11T13:30:53.968Z"
   },
   {
    "duration": 1634,
    "start_time": "2024-04-11T13:31:09.786Z"
   },
   {
    "duration": 4,
    "start_time": "2024-04-11T13:31:37.991Z"
   },
   {
    "duration": 1599,
    "start_time": "2024-04-11T13:31:40.472Z"
   },
   {
    "duration": 11,
    "start_time": "2024-04-11T13:31:44.655Z"
   },
   {
    "duration": 16,
    "start_time": "2024-04-11T13:31:46.497Z"
   },
   {
    "duration": 55,
    "start_time": "2024-04-11T13:31:54.048Z"
   },
   {
    "duration": 5,
    "start_time": "2024-04-11T13:32:00.779Z"
   },
   {
    "duration": 9,
    "start_time": "2024-04-11T13:32:03.201Z"
   },
   {
    "duration": 7,
    "start_time": "2024-04-11T13:32:04.677Z"
   },
   {
    "duration": 15,
    "start_time": "2024-04-11T13:32:06.331Z"
   },
   {
    "duration": 6,
    "start_time": "2024-04-11T13:32:09.791Z"
   },
   {
    "duration": 4,
    "start_time": "2024-04-11T13:32:13.826Z"
   },
   {
    "duration": 5,
    "start_time": "2024-04-11T13:32:20.364Z"
   },
   {
    "duration": 17,
    "start_time": "2024-04-11T13:32:26.278Z"
   },
   {
    "duration": 2,
    "start_time": "2024-04-11T13:32:33.194Z"
   },
   {
    "duration": 2,
    "start_time": "2024-04-11T13:32:36.931Z"
   },
   {
    "duration": 34,
    "start_time": "2024-04-11T13:32:42.291Z"
   },
   {
    "duration": 162,
    "start_time": "2024-04-11T13:32:44.101Z"
   },
   {
    "duration": 15,
    "start_time": "2024-04-11T13:32:55.354Z"
   },
   {
    "duration": 4,
    "start_time": "2024-04-11T13:33:01.651Z"
   },
   {
    "duration": 84,
    "start_time": "2024-04-11T13:33:49.014Z"
   },
   {
    "duration": 829,
    "start_time": "2024-04-11T13:34:41.710Z"
   },
   {
    "duration": 48,
    "start_time": "2024-04-11T13:35:01.203Z"
   },
   {
    "duration": 10,
    "start_time": "2024-04-11T13:38:01.648Z"
   },
   {
    "duration": 184,
    "start_time": "2024-04-11T13:40:48.383Z"
   },
   {
    "duration": 197,
    "start_time": "2024-04-11T13:41:19.736Z"
   },
   {
    "duration": 4,
    "start_time": "2024-04-11T13:43:21.988Z"
   },
   {
    "duration": 187,
    "start_time": "2024-04-11T13:43:26.912Z"
   },
   {
    "duration": 56,
    "start_time": "2024-04-11T13:46:52.322Z"
   },
   {
    "duration": 182,
    "start_time": "2024-04-11T13:47:34.758Z"
   },
   {
    "duration": 182,
    "start_time": "2024-04-11T13:49:49.299Z"
   },
   {
    "duration": 123,
    "start_time": "2024-04-11T13:52:33.777Z"
   },
   {
    "duration": 3,
    "start_time": "2024-04-11T13:52:35.591Z"
   },
   {
    "duration": 136,
    "start_time": "2024-04-11T13:52:36.055Z"
   },
   {
    "duration": 13,
    "start_time": "2024-04-11T13:52:36.881Z"
   },
   {
    "duration": 10,
    "start_time": "2024-04-11T13:52:37.674Z"
   },
   {
    "duration": 5,
    "start_time": "2024-04-11T13:52:39.990Z"
   },
   {
    "duration": 26,
    "start_time": "2024-04-11T13:52:40.792Z"
   },
   {
    "duration": 15,
    "start_time": "2024-04-11T13:52:44.089Z"
   },
   {
    "duration": 11,
    "start_time": "2024-04-11T13:52:46.777Z"
   },
   {
    "duration": 4,
    "start_time": "2024-04-11T13:52:48.885Z"
   },
   {
    "duration": 1697,
    "start_time": "2024-04-11T13:52:54.939Z"
   },
   {
    "duration": 4,
    "start_time": "2024-04-11T13:52:56.638Z"
   },
   {
    "duration": 1642,
    "start_time": "2024-04-11T13:52:58.417Z"
   },
   {
    "duration": 10,
    "start_time": "2024-04-11T13:53:00.061Z"
   },
   {
    "duration": 11,
    "start_time": "2024-04-11T13:53:09.318Z"
   },
   {
    "duration": 14,
    "start_time": "2024-04-11T13:53:11.251Z"
   },
   {
    "duration": 49,
    "start_time": "2024-04-11T13:53:15.097Z"
   },
   {
    "duration": 4,
    "start_time": "2024-04-11T13:53:21.972Z"
   },
   {
    "duration": 9,
    "start_time": "2024-04-11T13:53:26.194Z"
   },
   {
    "duration": 6,
    "start_time": "2024-04-11T13:53:27.570Z"
   },
   {
    "duration": 10,
    "start_time": "2024-04-11T13:53:28.285Z"
   },
   {
    "duration": 5,
    "start_time": "2024-04-11T13:53:28.996Z"
   },
   {
    "duration": 5,
    "start_time": "2024-04-11T13:53:34.880Z"
   },
   {
    "duration": 6,
    "start_time": "2024-04-11T13:53:39.525Z"
   },
   {
    "duration": 6,
    "start_time": "2024-04-11T13:53:54.522Z"
   },
   {
    "duration": 7,
    "start_time": "2024-04-11T13:54:18.136Z"
   },
   {
    "duration": 123,
    "start_time": "2024-04-11T13:54:29.804Z"
   },
   {
    "duration": 15,
    "start_time": "2024-04-11T13:54:30.236Z"
   },
   {
    "duration": 11,
    "start_time": "2024-04-11T13:54:30.663Z"
   },
   {
    "duration": 5,
    "start_time": "2024-04-11T13:54:31.555Z"
   },
   {
    "duration": 24,
    "start_time": "2024-04-11T13:54:32.051Z"
   },
   {
    "duration": 16,
    "start_time": "2024-04-11T13:54:33.747Z"
   },
   {
    "duration": 13,
    "start_time": "2024-04-11T13:54:37.898Z"
   },
   {
    "duration": 5,
    "start_time": "2024-04-11T13:54:38.576Z"
   },
   {
    "duration": 1706,
    "start_time": "2024-04-11T13:54:39.384Z"
   },
   {
    "duration": 4,
    "start_time": "2024-04-11T13:54:41.092Z"
   },
   {
    "duration": 1656,
    "start_time": "2024-04-11T13:54:41.098Z"
   },
   {
    "duration": 13,
    "start_time": "2024-04-11T13:54:42.756Z"
   },
   {
    "duration": 35,
    "start_time": "2024-04-11T13:54:42.770Z"
   },
   {
    "duration": 28,
    "start_time": "2024-04-11T13:54:42.807Z"
   },
   {
    "duration": 46,
    "start_time": "2024-04-11T13:54:43.655Z"
   },
   {
    "duration": 5,
    "start_time": "2024-04-11T13:54:45.436Z"
   },
   {
    "duration": 9,
    "start_time": "2024-04-11T13:54:46.124Z"
   },
   {
    "duration": 6,
    "start_time": "2024-04-11T13:54:46.756Z"
   },
   {
    "duration": 10,
    "start_time": "2024-04-11T13:54:47.333Z"
   },
   {
    "duration": 5,
    "start_time": "2024-04-11T13:54:48.509Z"
   },
   {
    "duration": 4,
    "start_time": "2024-04-11T13:54:51.362Z"
   },
   {
    "duration": 6,
    "start_time": "2024-04-11T13:54:52.040Z"
   },
   {
    "duration": 16,
    "start_time": "2024-04-11T13:55:04.105Z"
   },
   {
    "duration": 24,
    "start_time": "2024-04-11T13:55:11.222Z"
   },
   {
    "duration": 155,
    "start_time": "2024-04-11T13:55:23.704Z"
   },
   {
    "duration": 21,
    "start_time": "2024-04-11T13:55:52.663Z"
   },
   {
    "duration": 5,
    "start_time": "2024-04-11T13:55:56.165Z"
   },
   {
    "duration": 61,
    "start_time": "2024-04-11T13:55:57.542Z"
   },
   {
    "duration": 124,
    "start_time": "2024-04-11T13:57:26.254Z"
   },
   {
    "duration": 14,
    "start_time": "2024-04-11T13:57:26.774Z"
   },
   {
    "duration": 9,
    "start_time": "2024-04-11T13:57:27.501Z"
   },
   {
    "duration": 5,
    "start_time": "2024-04-11T13:57:29.629Z"
   },
   {
    "duration": 29,
    "start_time": "2024-04-11T13:57:36.819Z"
   },
   {
    "duration": 29,
    "start_time": "2024-04-11T13:58:34.681Z"
   },
   {
    "duration": 26,
    "start_time": "2024-04-11T13:58:39.323Z"
   },
   {
    "duration": 16,
    "start_time": "2024-04-11T13:58:42.962Z"
   },
   {
    "duration": 5,
    "start_time": "2024-04-11T13:58:46.613Z"
   },
   {
    "duration": 1687,
    "start_time": "2024-04-11T13:58:49.329Z"
   },
   {
    "duration": 5,
    "start_time": "2024-04-11T13:58:55.612Z"
   },
   {
    "duration": 1619,
    "start_time": "2024-04-11T13:58:57.788Z"
   },
   {
    "duration": 7,
    "start_time": "2024-04-11T13:59:01.138Z"
   },
   {
    "duration": 12,
    "start_time": "2024-04-11T13:59:05.418Z"
   },
   {
    "duration": 15,
    "start_time": "2024-04-11T13:59:06.953Z"
   },
   {
    "duration": 162,
    "start_time": "2024-04-11T13:59:25.835Z"
   },
   {
    "duration": 15,
    "start_time": "2024-04-11T13:59:27.373Z"
   },
   {
    "duration": 11,
    "start_time": "2024-04-11T13:59:30.569Z"
   },
   {
    "duration": 8,
    "start_time": "2024-04-11T13:59:42.747Z"
   },
   {
    "duration": 30,
    "start_time": "2024-04-11T13:59:44.222Z"
   },
   {
    "duration": 15,
    "start_time": "2024-04-11T13:59:54.928Z"
   },
   {
    "duration": 15,
    "start_time": "2024-04-11T14:00:02.708Z"
   },
   {
    "duration": 4,
    "start_time": "2024-04-11T14:00:04.452Z"
   },
   {
    "duration": 1683,
    "start_time": "2024-04-11T14:00:10.223Z"
   },
   {
    "duration": 5,
    "start_time": "2024-04-11T14:00:14.527Z"
   },
   {
    "duration": 1656,
    "start_time": "2024-04-11T14:00:17.419Z"
   },
   {
    "duration": 8,
    "start_time": "2024-04-11T14:00:19.077Z"
   },
   {
    "duration": 10,
    "start_time": "2024-04-11T14:00:23.190Z"
   },
   {
    "duration": 15,
    "start_time": "2024-04-11T14:00:24.677Z"
   },
   {
    "duration": 39,
    "start_time": "2024-04-11T14:02:40.704Z"
   },
   {
    "duration": 123,
    "start_time": "2024-04-11T14:03:45.700Z"
   },
   {
    "duration": 15,
    "start_time": "2024-04-11T14:03:46.495Z"
   },
   {
    "duration": 10,
    "start_time": "2024-04-11T14:03:47.317Z"
   },
   {
    "duration": 6,
    "start_time": "2024-04-11T14:03:48.654Z"
   },
   {
    "duration": 29,
    "start_time": "2024-04-11T14:03:50.287Z"
   },
   {
    "duration": 15,
    "start_time": "2024-04-11T14:04:26.693Z"
   },
   {
    "duration": 12,
    "start_time": "2024-04-11T14:04:31.402Z"
   },
   {
    "duration": 4,
    "start_time": "2024-04-11T14:04:32.387Z"
   },
   {
    "duration": 1652,
    "start_time": "2024-04-11T14:04:36.431Z"
   },
   {
    "duration": 4,
    "start_time": "2024-04-11T14:04:38.085Z"
   },
   {
    "duration": 1633,
    "start_time": "2024-04-11T14:04:39.518Z"
   },
   {
    "duration": 11,
    "start_time": "2024-04-11T14:04:42.770Z"
   },
   {
    "duration": 13,
    "start_time": "2024-04-11T14:04:45.911Z"
   },
   {
    "duration": 16,
    "start_time": "2024-04-11T14:04:47.346Z"
   },
   {
    "duration": 78,
    "start_time": "2024-04-11T14:08:32.921Z"
   },
   {
    "duration": 5,
    "start_time": "2024-04-11T14:08:37.951Z"
   },
   {
    "duration": 8,
    "start_time": "2024-04-11T14:08:38.736Z"
   },
   {
    "duration": 8,
    "start_time": "2024-04-11T14:08:44.819Z"
   },
   {
    "duration": 10,
    "start_time": "2024-04-11T14:08:48.606Z"
   },
   {
    "duration": 5,
    "start_time": "2024-04-11T14:08:50.460Z"
   },
   {
    "duration": 7,
    "start_time": "2024-04-11T14:08:53.520Z"
   },
   {
    "duration": 5,
    "start_time": "2024-04-11T14:08:56.399Z"
   },
   {
    "duration": 17,
    "start_time": "2024-04-11T14:08:58.442Z"
   },
   {
    "duration": 24,
    "start_time": "2024-04-11T14:09:05.605Z"
   },
   {
    "duration": 149,
    "start_time": "2024-04-11T14:09:18.604Z"
   },
   {
    "duration": 16,
    "start_time": "2024-04-11T14:09:23.550Z"
   },
   {
    "duration": 5,
    "start_time": "2024-04-11T14:09:27.406Z"
   },
   {
    "duration": 56,
    "start_time": "2024-04-11T14:09:34.778Z"
   },
   {
    "duration": 188,
    "start_time": "2024-04-11T14:09:48.303Z"
   },
   {
    "duration": 146,
    "start_time": "2024-04-11T14:11:09.898Z"
   },
   {
    "duration": 36,
    "start_time": "2024-04-11T14:12:41.685Z"
   },
   {
    "duration": 30,
    "start_time": "2024-04-11T14:12:48.084Z"
   },
   {
    "duration": 197,
    "start_time": "2024-04-11T14:13:16.259Z"
   },
   {
    "duration": 224,
    "start_time": "2024-04-11T14:14:24.211Z"
   },
   {
    "duration": 64,
    "start_time": "2024-04-11T14:16:54.105Z"
   },
   {
    "duration": 183,
    "start_time": "2024-04-11T14:17:07.703Z"
   },
   {
    "duration": 201,
    "start_time": "2024-04-11T14:17:39.568Z"
   },
   {
    "duration": 190,
    "start_time": "2024-04-11T14:17:58.605Z"
   },
   {
    "duration": 572,
    "start_time": "2024-04-11T14:22:26.628Z"
   },
   {
    "duration": 164,
    "start_time": "2024-04-11T14:32:45.799Z"
   },
   {
    "duration": 20,
    "start_time": "2024-04-11T14:37:00.484Z"
   },
   {
    "duration": 12,
    "start_time": "2024-04-11T14:37:18.327Z"
   },
   {
    "duration": 12,
    "start_time": "2024-04-11T14:38:06.199Z"
   },
   {
    "duration": 12,
    "start_time": "2024-04-11T14:38:21.031Z"
   },
   {
    "duration": 11,
    "start_time": "2024-04-11T14:39:28.134Z"
   },
   {
    "duration": 12,
    "start_time": "2024-04-11T14:40:00.657Z"
   },
   {
    "duration": 7,
    "start_time": "2024-04-11T14:41:56.447Z"
   },
   {
    "duration": 7,
    "start_time": "2024-04-11T14:43:13.309Z"
   },
   {
    "duration": 143,
    "start_time": "2024-04-11T14:43:53.161Z"
   },
   {
    "duration": 11,
    "start_time": "2024-04-11T14:44:39.481Z"
   },
   {
    "duration": 140,
    "start_time": "2024-04-11T14:44:41.497Z"
   },
   {
    "duration": 7,
    "start_time": "2024-04-11T14:48:26.411Z"
   },
   {
    "duration": 140,
    "start_time": "2024-04-11T14:48:35.322Z"
   },
   {
    "duration": 4,
    "start_time": "2024-04-11T14:55:15.444Z"
   },
   {
    "duration": 139,
    "start_time": "2024-04-11T14:59:17.755Z"
   },
   {
    "duration": 155,
    "start_time": "2024-04-11T14:59:28.770Z"
   },
   {
    "duration": 203,
    "start_time": "2024-04-11T14:59:39.251Z"
   },
   {
    "duration": 2,
    "start_time": "2024-04-11T15:00:34.978Z"
   },
   {
    "duration": 269,
    "start_time": "2024-04-11T15:00:45.781Z"
   },
   {
    "duration": 265,
    "start_time": "2024-04-11T15:01:39.368Z"
   },
   {
    "duration": 241,
    "start_time": "2024-04-11T15:03:11.303Z"
   },
   {
    "duration": 138,
    "start_time": "2024-04-11T15:09:52.766Z"
   },
   {
    "duration": 7,
    "start_time": "2024-04-11T15:10:46.170Z"
   },
   {
    "duration": 7,
    "start_time": "2024-04-11T15:17:21.727Z"
   },
   {
    "duration": 7,
    "start_time": "2024-04-11T15:17:57.815Z"
   },
   {
    "duration": 19,
    "start_time": "2024-04-11T15:26:08.547Z"
   },
   {
    "duration": 18,
    "start_time": "2024-04-11T15:26:30.919Z"
   },
   {
    "duration": 17,
    "start_time": "2024-04-11T15:26:51.923Z"
   },
   {
    "duration": 135,
    "start_time": "2024-04-11T15:29:47.731Z"
   },
   {
    "duration": 125,
    "start_time": "2024-04-11T15:30:22.992Z"
   },
   {
    "duration": 165,
    "start_time": "2024-04-11T15:30:35.856Z"
   },
   {
    "duration": 17,
    "start_time": "2024-04-11T15:30:42.575Z"
   },
   {
    "duration": 227,
    "start_time": "2024-04-11T15:30:54.986Z"
   },
   {
    "duration": 135,
    "start_time": "2024-04-11T15:31:22.103Z"
   },
   {
    "duration": 135,
    "start_time": "2024-04-11T15:31:37.615Z"
   },
   {
    "duration": 385,
    "start_time": "2024-04-11T15:32:04.112Z"
   },
   {
    "duration": 19,
    "start_time": "2024-04-11T15:34:20.172Z"
   },
   {
    "duration": 17,
    "start_time": "2024-04-11T15:38:53.445Z"
   },
   {
    "duration": 18,
    "start_time": "2024-04-11T15:39:09.261Z"
   },
   {
    "duration": 131,
    "start_time": "2024-04-11T15:39:24.370Z"
   },
   {
    "duration": 17,
    "start_time": "2024-04-11T15:44:37.607Z"
   },
   {
    "duration": 4,
    "start_time": "2024-04-11T15:48:03.861Z"
   },
   {
    "duration": 28,
    "start_time": "2024-04-11T15:48:12.301Z"
   },
   {
    "duration": 26,
    "start_time": "2024-04-11T15:48:33.202Z"
   },
   {
    "duration": 109,
    "start_time": "2024-04-11T15:54:03.118Z"
   },
   {
    "duration": 8,
    "start_time": "2024-04-11T15:54:58.061Z"
   },
   {
    "duration": 8,
    "start_time": "2024-04-11T15:55:24.424Z"
   },
   {
    "duration": 8,
    "start_time": "2024-04-11T15:55:35.642Z"
   },
   {
    "duration": 885,
    "start_time": "2024-04-12T12:46:24.218Z"
   },
   {
    "duration": 381,
    "start_time": "2024-04-12T12:46:25.105Z"
   },
   {
    "duration": 17,
    "start_time": "2024-04-12T12:46:27.187Z"
   },
   {
    "duration": 10,
    "start_time": "2024-04-12T12:46:29.161Z"
   },
   {
    "duration": 6,
    "start_time": "2024-04-12T12:46:32.628Z"
   },
   {
    "duration": 35,
    "start_time": "2024-04-12T12:46:33.562Z"
   },
   {
    "duration": 20,
    "start_time": "2024-04-12T12:46:44.442Z"
   },
   {
    "duration": 14,
    "start_time": "2024-04-12T12:47:01.922Z"
   },
   {
    "duration": 5,
    "start_time": "2024-04-12T12:47:03.136Z"
   },
   {
    "duration": 1753,
    "start_time": "2024-04-12T12:47:05.769Z"
   },
   {
    "duration": 5,
    "start_time": "2024-04-12T12:47:09.774Z"
   },
   {
    "duration": 1774,
    "start_time": "2024-04-12T12:47:17.831Z"
   },
   {
    "duration": 13,
    "start_time": "2024-04-12T12:47:23.040Z"
   },
   {
    "duration": 11,
    "start_time": "2024-04-12T12:47:43.631Z"
   },
   {
    "duration": 17,
    "start_time": "2024-04-12T12:47:50.077Z"
   },
   {
    "duration": 48,
    "start_time": "2024-04-12T12:48:02.211Z"
   },
   {
    "duration": 5,
    "start_time": "2024-04-12T12:49:00.331Z"
   },
   {
    "duration": 8,
    "start_time": "2024-04-12T12:49:02.522Z"
   },
   {
    "duration": 7,
    "start_time": "2024-04-12T12:49:04.096Z"
   },
   {
    "duration": 10,
    "start_time": "2024-04-12T12:49:05.167Z"
   },
   {
    "duration": 4,
    "start_time": "2024-04-12T12:49:07.858Z"
   },
   {
    "duration": 5,
    "start_time": "2024-04-12T12:49:10.871Z"
   },
   {
    "duration": 5,
    "start_time": "2024-04-12T12:49:12.611Z"
   },
   {
    "duration": 18,
    "start_time": "2024-04-12T12:49:31.183Z"
   },
   {
    "duration": 29,
    "start_time": "2024-04-12T12:50:08.483Z"
   },
   {
    "duration": 157,
    "start_time": "2024-04-12T12:50:30.711Z"
   },
   {
    "duration": 17,
    "start_time": "2024-04-12T12:50:43.077Z"
   },
   {
    "duration": 25,
    "start_time": "2024-04-12T12:51:36.432Z"
   },
   {
    "duration": 25,
    "start_time": "2024-04-12T12:52:07.358Z"
   },
   {
    "duration": 26,
    "start_time": "2024-04-12T12:52:30.611Z"
   },
   {
    "duration": 5,
    "start_time": "2024-04-12T12:56:14.088Z"
   },
   {
    "duration": 81,
    "start_time": "2024-04-12T12:56:21.946Z"
   },
   {
    "duration": 195,
    "start_time": "2024-04-12T12:56:44.532Z"
   },
   {
    "duration": 299,
    "start_time": "2024-04-12T13:00:44.991Z"
   },
   {
    "duration": 4,
    "start_time": "2024-04-12T13:01:09.807Z"
   },
   {
    "duration": 197,
    "start_time": "2024-04-12T13:01:17.484Z"
   },
   {
    "duration": 9,
    "start_time": "2024-04-12T13:06:14.648Z"
   },
   {
    "duration": 155,
    "start_time": "2024-04-12T13:13:22.257Z"
   },
   {
    "duration": 148,
    "start_time": "2024-04-12T13:14:39.323Z"
   },
   {
    "duration": 80,
    "start_time": "2024-04-12T13:16:34.027Z"
   },
   {
    "duration": 79,
    "start_time": "2024-04-12T13:18:38.495Z"
   },
   {
    "duration": 94,
    "start_time": "2024-04-12T13:18:44.861Z"
   },
   {
    "duration": 709,
    "start_time": "2024-04-12T13:19:45.361Z"
   },
   {
    "duration": 706,
    "start_time": "2024-04-12T13:20:36.843Z"
   },
   {
    "duration": 782,
    "start_time": "2024-04-12T13:21:38.175Z"
   },
   {
    "duration": 9,
    "start_time": "2024-04-12T13:23:33.709Z"
   },
   {
    "duration": 9,
    "start_time": "2024-04-12T13:23:42.233Z"
   },
   {
    "duration": 132,
    "start_time": "2024-04-12T13:23:53.625Z"
   },
   {
    "duration": 15,
    "start_time": "2024-04-12T13:23:54.083Z"
   },
   {
    "duration": 11,
    "start_time": "2024-04-12T13:23:54.560Z"
   },
   {
    "duration": 6,
    "start_time": "2024-04-12T13:23:55.592Z"
   },
   {
    "duration": 33,
    "start_time": "2024-04-12T13:23:56.076Z"
   },
   {
    "duration": 18,
    "start_time": "2024-04-12T13:23:57.171Z"
   },
   {
    "duration": 13,
    "start_time": "2024-04-12T13:23:57.624Z"
   },
   {
    "duration": 4,
    "start_time": "2024-04-12T13:23:57.904Z"
   },
   {
    "duration": 1792,
    "start_time": "2024-04-12T13:23:58.327Z"
   },
   {
    "duration": 5,
    "start_time": "2024-04-12T13:24:00.121Z"
   },
   {
    "duration": 1793,
    "start_time": "2024-04-12T13:24:00.127Z"
   },
   {
    "duration": 8,
    "start_time": "2024-04-12T13:24:01.922Z"
   },
   {
    "duration": 102,
    "start_time": "2024-04-12T13:24:01.932Z"
   },
   {
    "duration": 118,
    "start_time": "2024-04-12T13:24:02.036Z"
   },
   {
    "duration": 191,
    "start_time": "2024-04-12T13:24:02.155Z"
   },
   {
    "duration": 75,
    "start_time": "2024-04-12T13:24:02.348Z"
   },
   {
    "duration": 119,
    "start_time": "2024-04-12T13:24:02.424Z"
   },
   {
    "duration": 53,
    "start_time": "2024-04-12T13:24:02.545Z"
   },
   {
    "duration": 119,
    "start_time": "2024-04-12T13:24:02.599Z"
   },
   {
    "duration": 92,
    "start_time": "2024-04-12T13:24:02.719Z"
   },
   {
    "duration": 71,
    "start_time": "2024-04-12T13:24:02.812Z"
   },
   {
    "duration": 47,
    "start_time": "2024-04-12T13:24:02.885Z"
   },
   {
    "duration": 19,
    "start_time": "2024-04-12T13:24:03.116Z"
   },
   {
    "duration": 26,
    "start_time": "2024-04-12T13:24:03.340Z"
   },
   {
    "duration": 160,
    "start_time": "2024-04-12T13:24:04.651Z"
   },
   {
    "duration": 16,
    "start_time": "2024-04-12T13:24:05.116Z"
   },
   {
    "duration": 27,
    "start_time": "2024-04-12T13:24:05.523Z"
   },
   {
    "duration": 5,
    "start_time": "2024-04-12T13:24:07.406Z"
   },
   {
    "duration": 55,
    "start_time": "2024-04-12T13:24:08.170Z"
   },
   {
    "duration": 197,
    "start_time": "2024-04-12T13:24:08.696Z"
   },
   {
    "duration": 260,
    "start_time": "2024-04-12T13:24:10.140Z"
   },
   {
    "duration": 4,
    "start_time": "2024-04-12T13:24:10.648Z"
   },
   {
    "duration": 159,
    "start_time": "2024-04-12T13:24:11.133Z"
   },
   {
    "duration": 19,
    "start_time": "2024-04-12T13:24:12.730Z"
   },
   {
    "duration": 145,
    "start_time": "2024-04-12T13:24:13.213Z"
   },
   {
    "duration": 16,
    "start_time": "2024-04-12T13:24:16.203Z"
   },
   {
    "duration": 783,
    "start_time": "2024-04-12T13:24:19.142Z"
   },
   {
    "duration": 16,
    "start_time": "2024-04-12T13:27:49.857Z"
   },
   {
    "duration": 0,
    "start_time": "2024-04-12T13:32:13.222Z"
   },
   {
    "duration": 69,
    "start_time": "2024-04-12T13:33:25.416Z"
   },
   {
    "duration": 19,
    "start_time": "2024-04-12T13:33:41.799Z"
   },
   {
    "duration": 85,
    "start_time": "2024-04-12T13:33:53.989Z"
   },
   {
    "duration": 165,
    "start_time": "2024-04-12T13:33:58.567Z"
   },
   {
    "duration": 26,
    "start_time": "2024-04-12T13:34:24.107Z"
   },
   {
    "duration": 338,
    "start_time": "2024-04-12T13:35:41.662Z"
   },
   {
    "duration": 913,
    "start_time": "2024-04-12T13:36:08.795Z"
   },
   {
    "duration": 721,
    "start_time": "2024-04-12T13:38:25.550Z"
   },
   {
    "duration": 703,
    "start_time": "2024-04-12T13:38:55.204Z"
   },
   {
    "duration": 16,
    "start_time": "2024-04-12T13:43:54.389Z"
   },
   {
    "duration": 20,
    "start_time": "2024-04-12T13:44:04.338Z"
   },
   {
    "duration": 125,
    "start_time": "2024-04-12T13:44:46.329Z"
   },
   {
    "duration": 14,
    "start_time": "2024-04-12T13:44:46.867Z"
   },
   {
    "duration": 16,
    "start_time": "2024-04-12T13:44:47.650Z"
   },
   {
    "duration": 8,
    "start_time": "2024-04-12T13:44:48.473Z"
   },
   {
    "duration": 31,
    "start_time": "2024-04-12T13:44:49.096Z"
   },
   {
    "duration": 16,
    "start_time": "2024-04-12T13:44:50.555Z"
   },
   {
    "duration": 12,
    "start_time": "2024-04-12T13:44:51.696Z"
   },
   {
    "duration": 10,
    "start_time": "2024-04-12T13:44:51.726Z"
   },
   {
    "duration": 1870,
    "start_time": "2024-04-12T13:44:51.996Z"
   },
   {
    "duration": 5,
    "start_time": "2024-04-12T13:44:53.868Z"
   },
   {
    "duration": 1784,
    "start_time": "2024-04-12T13:44:53.875Z"
   },
   {
    "duration": 8,
    "start_time": "2024-04-12T13:44:55.662Z"
   },
   {
    "duration": 13,
    "start_time": "2024-04-12T13:44:58.671Z"
   },
   {
    "duration": 22,
    "start_time": "2024-04-12T13:44:59.405Z"
   },
   {
    "duration": 49,
    "start_time": "2024-04-12T13:45:01.044Z"
   },
   {
    "duration": 5,
    "start_time": "2024-04-12T13:45:02.249Z"
   },
   {
    "duration": 9,
    "start_time": "2024-04-12T13:45:02.508Z"
   },
   {
    "duration": 7,
    "start_time": "2024-04-12T13:45:02.795Z"
   },
   {
    "duration": 15,
    "start_time": "2024-04-12T13:45:03.286Z"
   },
   {
    "duration": 5,
    "start_time": "2024-04-12T13:45:03.680Z"
   },
   {
    "duration": 5,
    "start_time": "2024-04-12T13:45:03.978Z"
   },
   {
    "duration": 7,
    "start_time": "2024-04-12T13:45:04.432Z"
   },
   {
    "duration": 17,
    "start_time": "2024-04-12T13:45:05.496Z"
   },
   {
    "duration": 25,
    "start_time": "2024-04-12T13:45:06.597Z"
   },
   {
    "duration": 159,
    "start_time": "2024-04-12T13:45:07.690Z"
   },
   {
    "duration": 15,
    "start_time": "2024-04-12T13:45:08.542Z"
   },
   {
    "duration": 37,
    "start_time": "2024-04-12T13:45:09.214Z"
   },
   {
    "duration": 4,
    "start_time": "2024-04-12T13:45:12.869Z"
   },
   {
    "duration": 52,
    "start_time": "2024-04-12T13:45:14.237Z"
   },
   {
    "duration": 214,
    "start_time": "2024-04-12T13:45:17.053Z"
   },
   {
    "duration": 265,
    "start_time": "2024-04-12T13:45:22.293Z"
   },
   {
    "duration": 4,
    "start_time": "2024-04-12T13:45:25.026Z"
   },
   {
    "duration": 145,
    "start_time": "2024-04-12T13:45:26.690Z"
   },
   {
    "duration": 20,
    "start_time": "2024-04-12T13:45:34.569Z"
   },
   {
    "duration": 136,
    "start_time": "2024-04-12T13:45:39.856Z"
   },
   {
    "duration": 17,
    "start_time": "2024-04-12T13:45:43.296Z"
   },
   {
    "duration": 19,
    "start_time": "2024-04-12T13:45:51.453Z"
   },
   {
    "duration": 24,
    "start_time": "2024-04-12T13:47:10.444Z"
   },
   {
    "duration": 18,
    "start_time": "2024-04-12T13:47:49.364Z"
   },
   {
    "duration": 720,
    "start_time": "2024-04-12T13:48:46.101Z"
   },
   {
    "duration": 974,
    "start_time": "2024-04-12T13:48:55.305Z"
   },
   {
    "duration": 1512,
    "start_time": "2024-04-12T13:52:16.526Z"
   },
   {
    "duration": 1650,
    "start_time": "2024-04-12T13:52:52.812Z"
   },
   {
    "duration": 15,
    "start_time": "2024-04-12T13:56:39.432Z"
   },
   {
    "duration": 15,
    "start_time": "2024-04-12T13:57:16.291Z"
   },
   {
    "duration": 2163,
    "start_time": "2024-04-12T13:58:21.583Z"
   },
   {
    "duration": 2178,
    "start_time": "2024-04-12T13:59:49.460Z"
   },
   {
    "duration": 1398,
    "start_time": "2024-04-12T14:00:08.123Z"
   },
   {
    "duration": 32,
    "start_time": "2024-04-12T14:03:47.644Z"
   },
   {
    "duration": 9,
    "start_time": "2024-04-12T14:10:28.422Z"
   },
   {
    "duration": 88,
    "start_time": "2024-04-12T14:12:10.633Z"
   },
   {
    "duration": 926,
    "start_time": "2024-04-12T14:14:26.463Z"
   },
   {
    "duration": 17,
    "start_time": "2024-04-12T14:15:20.641Z"
   },
   {
    "duration": 16,
    "start_time": "2024-04-12T14:16:39.920Z"
   },
   {
    "duration": 18,
    "start_time": "2024-04-12T14:21:38.990Z"
   },
   {
    "duration": 16,
    "start_time": "2024-04-12T14:22:31.015Z"
   },
   {
    "duration": 16,
    "start_time": "2024-04-12T14:22:47.154Z"
   },
   {
    "duration": 100,
    "start_time": "2024-04-12T14:23:44.445Z"
   },
   {
    "duration": 161,
    "start_time": "2024-04-12T14:25:11.816Z"
   },
   {
    "duration": 137,
    "start_time": "2024-04-12T14:25:27.631Z"
   },
   {
    "duration": 184,
    "start_time": "2024-04-12T14:26:07.313Z"
   },
   {
    "duration": 190,
    "start_time": "2024-04-12T14:33:22.443Z"
   },
   {
    "duration": 152,
    "start_time": "2024-04-12T14:33:43.435Z"
   },
   {
    "duration": 151,
    "start_time": "2024-04-12T14:38:42.677Z"
   },
   {
    "duration": 17,
    "start_time": "2024-04-12T14:40:52.866Z"
   },
   {
    "duration": 195,
    "start_time": "2024-04-12T14:42:28.135Z"
   },
   {
    "duration": 168,
    "start_time": "2024-04-12T14:43:21.776Z"
   },
   {
    "duration": 154,
    "start_time": "2024-04-12T14:44:29.004Z"
   },
   {
    "duration": 136,
    "start_time": "2024-04-12T14:46:05.592Z"
   },
   {
    "duration": 17,
    "start_time": "2024-04-12T14:46:56.507Z"
   },
   {
    "duration": 156,
    "start_time": "2024-04-12T14:49:43.238Z"
   },
   {
    "duration": 212,
    "start_time": "2024-04-12T14:53:08.252Z"
   },
   {
    "duration": 140,
    "start_time": "2024-04-12T14:53:39.953Z"
   },
   {
    "duration": 148,
    "start_time": "2024-04-12T14:53:56.365Z"
   },
   {
    "duration": 142,
    "start_time": "2024-04-12T14:56:41.872Z"
   },
   {
    "duration": 150,
    "start_time": "2024-04-12T14:56:57.638Z"
   },
   {
    "duration": 169,
    "start_time": "2024-04-12T14:58:22.602Z"
   },
   {
    "duration": 141,
    "start_time": "2024-04-12T14:58:32.921Z"
   },
   {
    "duration": 17,
    "start_time": "2024-04-12T14:58:41.902Z"
   },
   {
    "duration": 205,
    "start_time": "2024-04-12T14:59:18.935Z"
   },
   {
    "duration": 93,
    "start_time": "2024-04-12T14:59:35.814Z"
   },
   {
    "duration": 252,
    "start_time": "2024-04-12T14:59:55.789Z"
   },
   {
    "duration": 31,
    "start_time": "2024-04-12T15:03:57.509Z"
   },
   {
    "duration": 10,
    "start_time": "2024-04-12T15:04:39.081Z"
   },
   {
    "duration": 218,
    "start_time": "2024-04-12T15:04:57.731Z"
   },
   {
    "duration": 4,
    "start_time": "2024-04-12T15:06:25.618Z"
   },
   {
    "duration": 32,
    "start_time": "2024-04-12T15:07:46.671Z"
   },
   {
    "duration": 4,
    "start_time": "2024-04-12T15:07:53.509Z"
   },
   {
    "duration": 16,
    "start_time": "2024-04-12T15:12:05.197Z"
   },
   {
    "duration": 32,
    "start_time": "2024-04-12T15:13:02.568Z"
   },
   {
    "duration": 4,
    "start_time": "2024-04-12T15:13:06.014Z"
   },
   {
    "duration": 3,
    "start_time": "2024-04-12T15:15:54.503Z"
   },
   {
    "duration": 3,
    "start_time": "2024-04-12T15:16:05.710Z"
   },
   {
    "duration": 17,
    "start_time": "2024-04-12T15:17:05.652Z"
   },
   {
    "duration": 121,
    "start_time": "2024-04-12T15:18:19.254Z"
   },
   {
    "duration": 15,
    "start_time": "2024-04-12T15:18:20.730Z"
   },
   {
    "duration": 10,
    "start_time": "2024-04-12T15:18:21.268Z"
   },
   {
    "duration": 6,
    "start_time": "2024-04-12T15:18:22.418Z"
   },
   {
    "duration": 31,
    "start_time": "2024-04-12T15:18:22.788Z"
   },
   {
    "duration": 15,
    "start_time": "2024-04-12T15:18:23.605Z"
   },
   {
    "duration": 12,
    "start_time": "2024-04-12T15:18:24.156Z"
   },
   {
    "duration": 6,
    "start_time": "2024-04-12T15:18:24.371Z"
   },
   {
    "duration": 1937,
    "start_time": "2024-04-12T15:18:24.586Z"
   },
   {
    "duration": 5,
    "start_time": "2024-04-12T15:18:26.524Z"
   },
   {
    "duration": 1698,
    "start_time": "2024-04-12T15:18:26.530Z"
   },
   {
    "duration": 7,
    "start_time": "2024-04-12T15:18:28.230Z"
   },
   {
    "duration": 23,
    "start_time": "2024-04-12T15:18:28.239Z"
   },
   {
    "duration": 16,
    "start_time": "2024-04-12T15:18:28.264Z"
   },
   {
    "duration": 48,
    "start_time": "2024-04-12T15:18:28.281Z"
   },
   {
    "duration": 25,
    "start_time": "2024-04-12T15:18:28.331Z"
   },
   {
    "duration": 8,
    "start_time": "2024-04-12T15:18:28.357Z"
   },
   {
    "duration": 7,
    "start_time": "2024-04-12T15:18:28.367Z"
   },
   {
    "duration": 11,
    "start_time": "2024-04-12T15:18:28.879Z"
   },
   {
    "duration": 5,
    "start_time": "2024-04-12T15:18:29.437Z"
   },
   {
    "duration": 4,
    "start_time": "2024-04-12T15:18:30.058Z"
   },
   {
    "duration": 6,
    "start_time": "2024-04-12T15:18:30.581Z"
   },
   {
    "duration": 17,
    "start_time": "2024-04-12T15:18:31.850Z"
   },
   {
    "duration": 26,
    "start_time": "2024-04-12T15:18:32.678Z"
   },
   {
    "duration": 178,
    "start_time": "2024-04-12T15:18:33.676Z"
   },
   {
    "duration": 16,
    "start_time": "2024-04-12T15:18:34.152Z"
   },
   {
    "duration": 26,
    "start_time": "2024-04-12T15:18:35.088Z"
   },
   {
    "duration": 4,
    "start_time": "2024-04-12T15:18:37.274Z"
   },
   {
    "duration": 52,
    "start_time": "2024-04-12T15:18:38.996Z"
   },
   {
    "duration": 208,
    "start_time": "2024-04-12T15:18:49.180Z"
   },
   {
    "duration": 158,
    "start_time": "2024-04-12T15:18:55.015Z"
   },
   {
    "duration": 4,
    "start_time": "2024-04-12T15:18:58.112Z"
   },
   {
    "duration": 142,
    "start_time": "2024-04-12T15:18:58.918Z"
   },
   {
    "duration": 18,
    "start_time": "2024-04-12T15:19:01.545Z"
   },
   {
    "duration": 139,
    "start_time": "2024-04-12T15:19:02.062Z"
   },
   {
    "duration": 17,
    "start_time": "2024-04-12T15:19:03.226Z"
   },
   {
    "duration": 1208,
    "start_time": "2024-04-12T15:19:07.628Z"
   },
   {
    "duration": 21,
    "start_time": "2024-04-12T15:19:10.668Z"
   },
   {
    "duration": 1383,
    "start_time": "2024-04-12T15:19:12.436Z"
   },
   {
    "duration": 17,
    "start_time": "2024-04-12T15:19:17.936Z"
   },
   {
    "duration": 4,
    "start_time": "2024-04-12T15:19:21.598Z"
   },
   {
    "duration": 5,
    "start_time": "2024-04-12T15:20:29.889Z"
   },
   {
    "duration": 4,
    "start_time": "2024-04-12T15:21:36.923Z"
   },
   {
    "duration": 6,
    "start_time": "2024-04-12T15:26:58.502Z"
   },
   {
    "duration": 18,
    "start_time": "2024-04-12T15:27:18.924Z"
   },
   {
    "duration": 6,
    "start_time": "2024-04-12T15:27:23.587Z"
   },
   {
    "duration": 20,
    "start_time": "2024-04-12T15:27:42.202Z"
   },
   {
    "duration": 31,
    "start_time": "2024-04-12T15:27:47.422Z"
   },
   {
    "duration": 6,
    "start_time": "2024-04-12T15:27:52.246Z"
   },
   {
    "duration": 11,
    "start_time": "2024-04-12T15:29:35.778Z"
   },
   {
    "duration": 1040,
    "start_time": "2024-04-12T15:31:09.322Z"
   },
   {
    "duration": 4,
    "start_time": "2024-04-12T15:31:46.141Z"
   },
   {
    "duration": 4,
    "start_time": "2024-04-12T15:31:59.805Z"
   },
   {
    "duration": 11,
    "start_time": "2024-04-12T15:32:41.990Z"
   },
   {
    "duration": 4,
    "start_time": "2024-04-12T15:33:33.295Z"
   },
   {
    "duration": 34,
    "start_time": "2024-04-12T15:33:48.343Z"
   },
   {
    "duration": 249,
    "start_time": "2024-04-12T15:38:37.626Z"
   },
   {
    "duration": 150,
    "start_time": "2024-04-12T15:38:41.867Z"
   },
   {
    "duration": 147,
    "start_time": "2024-04-12T15:39:06.980Z"
   },
   {
    "duration": 237,
    "start_time": "2024-04-12T15:39:31.980Z"
   },
   {
    "duration": 198,
    "start_time": "2024-04-12T15:40:15.413Z"
   },
   {
    "duration": 195,
    "start_time": "2024-04-12T15:42:11.700Z"
   },
   {
    "duration": 172,
    "start_time": "2024-04-12T15:44:07.716Z"
   },
   {
    "duration": 194,
    "start_time": "2024-04-12T15:44:49.213Z"
   },
   {
    "duration": 5,
    "start_time": "2024-04-12T15:56:04.577Z"
   },
   {
    "duration": 134,
    "start_time": "2024-04-12T15:57:24.579Z"
   },
   {
    "duration": 3,
    "start_time": "2024-04-13T04:28:16.027Z"
   },
   {
    "duration": 123,
    "start_time": "2024-04-13T04:28:16.747Z"
   },
   {
    "duration": 17,
    "start_time": "2024-04-13T04:28:19.839Z"
   },
   {
    "duration": 10,
    "start_time": "2024-04-13T04:28:23.983Z"
   },
   {
    "duration": 6,
    "start_time": "2024-04-13T04:31:07.036Z"
   },
   {
    "duration": 3,
    "start_time": "2024-04-13T04:31:28.678Z"
   },
   {
    "duration": 32,
    "start_time": "2024-04-13T04:31:29.185Z"
   },
   {
    "duration": 17,
    "start_time": "2024-04-13T04:32:22.163Z"
   },
   {
    "duration": 13,
    "start_time": "2024-04-13T04:33:42.781Z"
   },
   {
    "duration": 5,
    "start_time": "2024-04-13T04:34:58.977Z"
   },
   {
    "duration": 1685,
    "start_time": "2024-04-13T04:44:27.015Z"
   },
   {
    "duration": 5,
    "start_time": "2024-04-13T04:47:28.027Z"
   },
   {
    "duration": 1607,
    "start_time": "2024-04-13T04:47:31.633Z"
   },
   {
    "duration": 15,
    "start_time": "2024-04-13T04:49:04.802Z"
   },
   {
    "duration": 12,
    "start_time": "2024-04-13T05:15:34.909Z"
   },
   {
    "duration": 16,
    "start_time": "2024-04-13T05:15:37.910Z"
   },
   {
    "duration": 15,
    "start_time": "2024-04-13T05:18:33.171Z"
   },
   {
    "duration": 8,
    "start_time": "2024-04-13T05:22:19.318Z"
   },
   {
    "duration": 48,
    "start_time": "2024-04-13T05:22:41.473Z"
   },
   {
    "duration": 4,
    "start_time": "2024-04-13T05:25:51.740Z"
   },
   {
    "duration": 7,
    "start_time": "2024-04-13T05:25:52.758Z"
   },
   {
    "duration": 5,
    "start_time": "2024-04-13T05:25:54.457Z"
   },
   {
    "duration": 11,
    "start_time": "2024-04-13T05:25:56.109Z"
   },
   {
    "duration": 5,
    "start_time": "2024-04-13T05:25:58.881Z"
   },
   {
    "duration": 5,
    "start_time": "2024-04-13T05:26:01.951Z"
   },
   {
    "duration": 8,
    "start_time": "2024-04-13T05:26:02.834Z"
   },
   {
    "duration": 16,
    "start_time": "2024-04-13T05:26:14.901Z"
   },
   {
    "duration": 3,
    "start_time": "2024-04-13T05:32:54.933Z"
   },
   {
    "duration": 122,
    "start_time": "2024-04-13T05:32:55.559Z"
   },
   {
    "duration": 15,
    "start_time": "2024-04-13T05:32:56.081Z"
   },
   {
    "duration": 10,
    "start_time": "2024-04-13T05:32:56.382Z"
   },
   {
    "duration": 5,
    "start_time": "2024-04-13T05:32:56.903Z"
   },
   {
    "duration": 30,
    "start_time": "2024-04-13T05:32:57.122Z"
   },
   {
    "duration": 15,
    "start_time": "2024-04-13T05:32:59.571Z"
   },
   {
    "duration": 12,
    "start_time": "2024-04-13T05:33:01.885Z"
   },
   {
    "duration": 5,
    "start_time": "2024-04-13T05:33:03.151Z"
   },
   {
    "duration": 1746,
    "start_time": "2024-04-13T05:33:05.218Z"
   },
   {
    "duration": 5,
    "start_time": "2024-04-13T05:33:06.966Z"
   },
   {
    "duration": 1679,
    "start_time": "2024-04-13T05:33:07.571Z"
   },
   {
    "duration": 14,
    "start_time": "2024-04-13T05:33:09.255Z"
   },
   {
    "duration": 11,
    "start_time": "2024-04-13T05:33:17.167Z"
   },
   {
    "duration": 15,
    "start_time": "2024-04-13T05:33:21.995Z"
   },
   {
    "duration": 11,
    "start_time": "2024-04-13T05:33:34.390Z"
   },
   {
    "duration": 6,
    "start_time": "2024-04-13T05:33:53.752Z"
   },
   {
    "duration": 9,
    "start_time": "2024-04-13T05:33:56.265Z"
   },
   {
    "duration": 8,
    "start_time": "2024-04-13T05:33:58.729Z"
   },
   {
    "duration": 14,
    "start_time": "2024-04-13T05:34:00.068Z"
   },
   {
    "duration": 4,
    "start_time": "2024-04-13T05:34:03.672Z"
   },
   {
    "duration": 5,
    "start_time": "2024-04-13T05:34:18.005Z"
   },
   {
    "duration": 7,
    "start_time": "2024-04-13T05:34:18.709Z"
   },
   {
    "duration": 48,
    "start_time": "2024-04-13T05:35:14.271Z"
   },
   {
    "duration": 26,
    "start_time": "2024-04-13T05:45:14.758Z"
   },
   {
    "duration": 156,
    "start_time": "2024-04-13T05:48:37.493Z"
   },
   {
    "duration": 143,
    "start_time": "2024-04-13T05:49:09.081Z"
   },
   {
    "duration": 15,
    "start_time": "2024-04-13T05:51:44.955Z"
   },
   {
    "duration": 26,
    "start_time": "2024-04-13T05:54:09.036Z"
   },
   {
    "duration": 40,
    "start_time": "2024-04-13T06:14:53.859Z"
   },
   {
    "duration": 35,
    "start_time": "2024-04-13T06:16:25.144Z"
   },
   {
    "duration": 83,
    "start_time": "2024-04-13T06:23:27.084Z"
   },
   {
    "duration": 16,
    "start_time": "2024-04-13T06:24:44.458Z"
   },
   {
    "duration": 14,
    "start_time": "2024-04-13T06:25:00.696Z"
   },
   {
    "duration": 4,
    "start_time": "2024-04-13T06:25:15.547Z"
   },
   {
    "duration": 36,
    "start_time": "2024-04-13T06:25:17.816Z"
   },
   {
    "duration": 205,
    "start_time": "2024-04-13T06:25:21.934Z"
   },
   {
    "duration": 155,
    "start_time": "2024-04-13T06:25:31.434Z"
   },
   {
    "duration": 198,
    "start_time": "2024-04-13T06:25:47.118Z"
   },
   {
    "duration": 434,
    "start_time": "2024-04-13T06:29:14.295Z"
   },
   {
    "duration": 216,
    "start_time": "2024-04-13T06:29:37.875Z"
   },
   {
    "duration": 210,
    "start_time": "2024-04-13T06:29:48.037Z"
   },
   {
    "duration": 209,
    "start_time": "2024-04-13T06:30:35.779Z"
   },
   {
    "duration": 209,
    "start_time": "2024-04-13T06:30:40.645Z"
   },
   {
    "duration": 206,
    "start_time": "2024-04-13T06:32:09.683Z"
   },
   {
    "duration": 217,
    "start_time": "2024-04-13T06:32:33.261Z"
   },
   {
    "duration": 213,
    "start_time": "2024-04-13T06:39:44.464Z"
   },
   {
    "duration": 141,
    "start_time": "2024-04-13T06:39:54.968Z"
   },
   {
    "duration": 214,
    "start_time": "2024-04-13T06:40:10.262Z"
   },
   {
    "duration": 212,
    "start_time": "2024-04-13T06:41:06.203Z"
   },
   {
    "duration": 231,
    "start_time": "2024-04-13T06:41:56.742Z"
   },
   {
    "duration": 209,
    "start_time": "2024-04-13T06:48:22.828Z"
   },
   {
    "duration": 207,
    "start_time": "2024-04-13T06:48:46.023Z"
   },
   {
    "duration": 209,
    "start_time": "2024-04-13T06:49:19.522Z"
   },
   {
    "duration": 695,
    "start_time": "2024-04-13T06:50:46.672Z"
   },
   {
    "duration": 49,
    "start_time": "2024-04-13T06:51:07.696Z"
   },
   {
    "duration": 29,
    "start_time": "2024-04-13T06:51:32.546Z"
   },
   {
    "duration": 185,
    "start_time": "2024-04-13T06:52:42.565Z"
   },
   {
    "duration": 27,
    "start_time": "2024-04-13T06:53:04.912Z"
   },
   {
    "duration": 169,
    "start_time": "2024-04-13T06:54:20.949Z"
   },
   {
    "duration": 201,
    "start_time": "2024-04-13T06:54:36.242Z"
   },
   {
    "duration": 207,
    "start_time": "2024-04-13T06:55:39.627Z"
   },
   {
    "duration": 210,
    "start_time": "2024-04-13T06:55:52.095Z"
   },
   {
    "duration": 222,
    "start_time": "2024-04-13T07:01:30.153Z"
   },
   {
    "duration": 101,
    "start_time": "2024-04-13T07:02:37.215Z"
   },
   {
    "duration": 220,
    "start_time": "2024-04-13T07:03:06.522Z"
   },
   {
    "duration": 202,
    "start_time": "2024-04-13T07:03:53.429Z"
   },
   {
    "duration": 223,
    "start_time": "2024-04-13T07:05:32.136Z"
   },
   {
    "duration": 229,
    "start_time": "2024-04-13T07:06:31.455Z"
   },
   {
    "duration": 231,
    "start_time": "2024-04-13T07:06:43.871Z"
   },
   {
    "duration": 224,
    "start_time": "2024-04-13T07:06:59.267Z"
   },
   {
    "duration": 83,
    "start_time": "2024-04-13T07:07:56.357Z"
   },
   {
    "duration": 225,
    "start_time": "2024-04-13T07:08:03.289Z"
   },
   {
    "duration": 224,
    "start_time": "2024-04-13T07:09:05.404Z"
   },
   {
    "duration": 218,
    "start_time": "2024-04-13T07:10:11.733Z"
   },
   {
    "duration": 222,
    "start_time": "2024-04-13T07:10:28.436Z"
   },
   {
    "duration": 1464,
    "start_time": "2024-04-13T09:11:45.456Z"
   },
   {
    "duration": 243,
    "start_time": "2024-04-13T09:11:46.922Z"
   },
   {
    "duration": 17,
    "start_time": "2024-04-13T09:11:48.868Z"
   },
   {
    "duration": 11,
    "start_time": "2024-04-13T09:11:50.988Z"
   },
   {
    "duration": 6,
    "start_time": "2024-04-13T09:11:52.145Z"
   },
   {
    "duration": 35,
    "start_time": "2024-04-13T09:11:52.914Z"
   },
   {
    "duration": 18,
    "start_time": "2024-04-13T09:11:54.501Z"
   },
   {
    "duration": 13,
    "start_time": "2024-04-13T09:11:54.907Z"
   },
   {
    "duration": 5,
    "start_time": "2024-04-13T09:11:55.495Z"
   },
   {
    "duration": 1839,
    "start_time": "2024-04-13T09:11:55.967Z"
   },
   {
    "duration": 4,
    "start_time": "2024-04-13T09:11:57.808Z"
   },
   {
    "duration": 1838,
    "start_time": "2024-04-13T09:11:57.814Z"
   },
   {
    "duration": 15,
    "start_time": "2024-04-13T09:11:59.654Z"
   },
   {
    "duration": 12,
    "start_time": "2024-04-13T09:11:59.681Z"
   },
   {
    "duration": 15,
    "start_time": "2024-04-13T09:11:59.695Z"
   },
   {
    "duration": 9,
    "start_time": "2024-04-13T09:11:59.711Z"
   },
   {
    "duration": 5,
    "start_time": "2024-04-13T09:12:00.266Z"
   },
   {
    "duration": 13,
    "start_time": "2024-04-13T09:12:00.486Z"
   },
   {
    "duration": 12,
    "start_time": "2024-04-13T09:12:00.703Z"
   },
   {
    "duration": 16,
    "start_time": "2024-04-13T09:12:00.921Z"
   },
   {
    "duration": 6,
    "start_time": "2024-04-13T09:12:01.122Z"
   },
   {
    "duration": 6,
    "start_time": "2024-04-13T09:12:01.321Z"
   },
   {
    "duration": 9,
    "start_time": "2024-04-13T09:12:01.513Z"
   },
   {
    "duration": 49,
    "start_time": "2024-04-13T09:12:04.371Z"
   },
   {
    "duration": 40,
    "start_time": "2024-04-13T09:12:05.985Z"
   },
   {
    "duration": 164,
    "start_time": "2024-04-13T09:12:06.844Z"
   },
   {
    "duration": 17,
    "start_time": "2024-04-13T09:12:07.818Z"
   },
   {
    "duration": 40,
    "start_time": "2024-04-13T09:12:13.780Z"
   },
   {
    "duration": 4,
    "start_time": "2024-04-13T09:12:20.007Z"
   },
   {
    "duration": 41,
    "start_time": "2024-04-13T09:12:21.177Z"
   },
   {
    "duration": 267,
    "start_time": "2024-04-13T09:12:25.330Z"
   },
   {
    "duration": 4,
    "start_time": "2024-04-13T09:15:10.158Z"
   },
   {
    "duration": 5,
    "start_time": "2024-04-13T09:17:05.692Z"
   },
   {
    "duration": 201,
    "start_time": "2024-04-13T09:17:18.251Z"
   },
   {
    "duration": 183,
    "start_time": "2024-04-13T09:17:32.635Z"
   },
   {
    "duration": 162,
    "start_time": "2024-04-13T09:17:44.897Z"
   },
   {
    "duration": 232,
    "start_time": "2024-04-13T09:18:36.849Z"
   },
   {
    "duration": 19,
    "start_time": "2024-04-13T09:22:20.620Z"
   },
   {
    "duration": 178,
    "start_time": "2024-04-13T09:24:56.918Z"
   },
   {
    "duration": 176,
    "start_time": "2024-04-13T09:25:08.680Z"
   },
   {
    "duration": 255,
    "start_time": "2024-04-13T09:25:29.629Z"
   },
   {
    "duration": 18,
    "start_time": "2024-04-13T09:26:45.579Z"
   },
   {
    "duration": 135,
    "start_time": "2024-04-13T09:50:53.205Z"
   },
   {
    "duration": 22,
    "start_time": "2024-04-13T09:51:13.763Z"
   },
   {
    "duration": 127,
    "start_time": "2024-04-13T09:51:43.452Z"
   },
   {
    "duration": 22,
    "start_time": "2024-04-13T09:52:03.314Z"
   },
   {
    "duration": 21,
    "start_time": "2024-04-13T09:52:10.452Z"
   },
   {
    "duration": 23,
    "start_time": "2024-04-13T09:53:41.926Z"
   },
   {
    "duration": 61,
    "start_time": "2024-04-13T09:53:48.145Z"
   },
   {
    "duration": 58,
    "start_time": "2024-04-13T09:53:55.267Z"
   },
   {
    "duration": 22,
    "start_time": "2024-04-13T09:54:07.975Z"
   },
   {
    "duration": 23,
    "start_time": "2024-04-13T09:57:43.669Z"
   },
   {
    "duration": 624,
    "start_time": "2024-04-13T10:02:53.327Z"
   },
   {
    "duration": 624,
    "start_time": "2024-04-13T10:03:06.450Z"
   },
   {
    "duration": 603,
    "start_time": "2024-04-13T10:05:38.328Z"
   },
   {
    "duration": 729,
    "start_time": "2024-04-13T10:06:11.563Z"
   },
   {
    "duration": 1073,
    "start_time": "2024-04-13T10:09:03.938Z"
   },
   {
    "duration": 893,
    "start_time": "2024-04-13T10:09:18.062Z"
   },
   {
    "duration": 28,
    "start_time": "2024-04-13T10:09:35.081Z"
   },
   {
    "duration": 833,
    "start_time": "2024-04-13T10:09:54.823Z"
   },
   {
    "duration": 773,
    "start_time": "2024-04-13T10:11:09.644Z"
   },
   {
    "duration": 1976,
    "start_time": "2024-04-13T10:11:45.920Z"
   },
   {
    "duration": 681,
    "start_time": "2024-04-13T10:13:16.197Z"
   },
   {
    "duration": 597,
    "start_time": "2024-04-13T10:13:30.456Z"
   },
   {
    "duration": 624,
    "start_time": "2024-04-13T10:13:45.572Z"
   },
   {
    "duration": 586,
    "start_time": "2024-04-13T10:16:05.251Z"
   },
   {
    "duration": 729,
    "start_time": "2024-04-13T10:17:30.095Z"
   },
   {
    "duration": 614,
    "start_time": "2024-04-13T10:17:54.989Z"
   },
   {
    "duration": 654,
    "start_time": "2024-04-13T10:18:12.477Z"
   },
   {
    "duration": 31,
    "start_time": "2024-04-13T10:21:41.307Z"
   },
   {
    "duration": 31,
    "start_time": "2024-04-13T10:21:47.833Z"
   },
   {
    "duration": 30,
    "start_time": "2024-04-13T10:22:08.444Z"
   },
   {
    "duration": 941,
    "start_time": "2024-04-13T10:22:23.343Z"
   },
   {
    "duration": 117,
    "start_time": "2024-04-13T10:22:58.768Z"
   },
   {
    "duration": 599,
    "start_time": "2024-04-13T10:29:47.283Z"
   },
   {
    "duration": 696,
    "start_time": "2024-04-13T10:30:12.837Z"
   },
   {
    "duration": 1101,
    "start_time": "2024-04-13T10:30:32.447Z"
   },
   {
    "duration": 607,
    "start_time": "2024-04-13T10:31:38.811Z"
   },
   {
    "duration": 53,
    "start_time": "2024-04-13T10:32:38.886Z"
   },
   {
    "duration": 865,
    "start_time": "2024-04-13T10:32:49.169Z"
   },
   {
    "duration": 1135,
    "start_time": "2024-04-13T10:38:09.900Z"
   },
   {
    "duration": 1181,
    "start_time": "2024-04-13T10:38:57.976Z"
   },
   {
    "duration": 1218,
    "start_time": "2024-04-13T10:39:08.442Z"
   },
   {
    "duration": 1262,
    "start_time": "2024-04-13T10:39:16.233Z"
   },
   {
    "duration": 97,
    "start_time": "2024-04-13T10:42:29.116Z"
   },
   {
    "duration": 108,
    "start_time": "2024-04-13T10:43:00.113Z"
   },
   {
    "duration": 83,
    "start_time": "2024-04-13T10:43:09.380Z"
   },
   {
    "duration": 102,
    "start_time": "2024-04-13T10:44:46.412Z"
   },
   {
    "duration": 95,
    "start_time": "2024-04-13T10:44:57.332Z"
   },
   {
    "duration": 103,
    "start_time": "2024-04-13T10:51:16.705Z"
   },
   {
    "duration": 565,
    "start_time": "2024-04-13T10:51:53.135Z"
   },
   {
    "duration": 700,
    "start_time": "2024-04-13T10:53:35.091Z"
   },
   {
    "duration": 751,
    "start_time": "2024-04-13T10:53:57.163Z"
   },
   {
    "duration": 742,
    "start_time": "2024-04-13T10:54:22.974Z"
   },
   {
    "duration": 868,
    "start_time": "2024-04-13T10:55:29.063Z"
   },
   {
    "duration": 809,
    "start_time": "2024-04-13T10:55:57.576Z"
   },
   {
    "duration": 753,
    "start_time": "2024-04-13T10:56:17.858Z"
   },
   {
    "duration": 722,
    "start_time": "2024-04-13T10:58:25.684Z"
   },
   {
    "duration": 630,
    "start_time": "2024-04-13T10:59:19.416Z"
   },
   {
    "duration": 1648,
    "start_time": "2024-04-13T11:00:50.549Z"
   },
   {
    "duration": 618,
    "start_time": "2024-04-13T11:07:05.701Z"
   },
   {
    "duration": 657,
    "start_time": "2024-04-13T11:11:12.403Z"
   },
   {
    "duration": 722,
    "start_time": "2024-04-13T11:13:54.189Z"
   },
   {
    "duration": 592,
    "start_time": "2024-04-13T11:14:21.150Z"
   },
   {
    "duration": 617,
    "start_time": "2024-04-13T11:14:41.029Z"
   },
   {
    "duration": 717,
    "start_time": "2024-04-13T11:15:21.139Z"
   },
   {
    "duration": 619,
    "start_time": "2024-04-13T11:15:55.810Z"
   },
   {
    "duration": 51,
    "start_time": "2024-04-13T11:16:33.136Z"
   },
   {
    "duration": 686,
    "start_time": "2024-04-13T11:16:51.910Z"
   },
   {
    "duration": 714,
    "start_time": "2024-04-13T11:17:31.804Z"
   },
   {
    "duration": 760,
    "start_time": "2024-04-13T11:17:58.142Z"
   },
   {
    "duration": 698,
    "start_time": "2024-04-13T11:18:09.035Z"
   },
   {
    "duration": 745,
    "start_time": "2024-04-13T11:18:43.373Z"
   },
   {
    "duration": 888,
    "start_time": "2024-04-13T11:19:45.051Z"
   },
   {
    "duration": 723,
    "start_time": "2024-04-13T11:19:57.978Z"
   },
   {
    "duration": 649,
    "start_time": "2024-04-13T11:20:23.000Z"
   },
   {
    "duration": 659,
    "start_time": "2024-04-13T11:20:32.975Z"
   },
   {
    "duration": 52,
    "start_time": "2024-04-13T11:20:50.100Z"
   },
   {
    "duration": 838,
    "start_time": "2024-04-13T11:23:28.735Z"
   },
   {
    "duration": 1405,
    "start_time": "2024-04-13T11:26:54.651Z"
   },
   {
    "duration": 811,
    "start_time": "2024-04-13T11:27:10.618Z"
   },
   {
    "duration": 768,
    "start_time": "2024-04-13T11:27:24.647Z"
   },
   {
    "duration": 677,
    "start_time": "2024-04-13T11:37:41.143Z"
   },
   {
    "duration": 75,
    "start_time": "2024-04-13T11:40:26.697Z"
   },
   {
    "duration": 65,
    "start_time": "2024-04-13T11:41:29.699Z"
   },
   {
    "duration": 1629,
    "start_time": "2024-04-13T11:44:34.305Z"
   },
   {
    "duration": 61,
    "start_time": "2024-04-13T11:47:08.907Z"
   },
   {
    "duration": 1251,
    "start_time": "2024-04-13T11:47:19.284Z"
   },
   {
    "duration": 1621,
    "start_time": "2024-04-13T11:48:15.503Z"
   },
   {
    "duration": 1589,
    "start_time": "2024-04-13T11:48:26.041Z"
   },
   {
    "duration": 1242,
    "start_time": "2024-04-13T11:48:43.885Z"
   },
   {
    "duration": 1271,
    "start_time": "2024-04-13T11:49:15.220Z"
   },
   {
    "duration": 1123,
    "start_time": "2024-04-13T11:50:15.339Z"
   },
   {
    "duration": 54,
    "start_time": "2024-04-13T11:50:43.532Z"
   },
   {
    "duration": 1234,
    "start_time": "2024-04-13T11:50:49.971Z"
   },
   {
    "duration": 1442,
    "start_time": "2024-04-13T12:22:43.455Z"
   },
   {
    "duration": 1602,
    "start_time": "2024-04-13T12:22:57.132Z"
   },
   {
    "duration": 16,
    "start_time": "2024-04-13T12:24:36.513Z"
   },
   {
    "duration": 1382,
    "start_time": "2024-04-13T12:28:53.885Z"
   },
   {
    "duration": 1444,
    "start_time": "2024-04-14T06:33:14.998Z"
   },
   {
    "duration": 416,
    "start_time": "2024-04-14T06:33:16.444Z"
   },
   {
    "duration": 18,
    "start_time": "2024-04-14T06:33:16.862Z"
   },
   {
    "duration": 23,
    "start_time": "2024-04-14T06:33:16.882Z"
   },
   {
    "duration": 11,
    "start_time": "2024-04-14T06:33:16.907Z"
   },
   {
    "duration": 35,
    "start_time": "2024-04-14T06:33:17.198Z"
   },
   {
    "duration": 16,
    "start_time": "2024-04-14T06:33:18.297Z"
   },
   {
    "duration": 13,
    "start_time": "2024-04-14T06:33:18.824Z"
   },
   {
    "duration": 5,
    "start_time": "2024-04-14T06:33:19.901Z"
   },
   {
    "duration": 1810,
    "start_time": "2024-04-14T06:33:20.647Z"
   },
   {
    "duration": 15,
    "start_time": "2024-04-14T06:33:22.459Z"
   },
   {
    "duration": 1737,
    "start_time": "2024-04-14T06:33:22.475Z"
   },
   {
    "duration": 15,
    "start_time": "2024-04-14T06:33:24.214Z"
   },
   {
    "duration": 11,
    "start_time": "2024-04-14T06:33:24.231Z"
   },
   {
    "duration": 16,
    "start_time": "2024-04-14T06:33:24.473Z"
   },
   {
    "duration": 9,
    "start_time": "2024-04-14T06:33:26.533Z"
   },
   {
    "duration": 4,
    "start_time": "2024-04-14T06:33:27.953Z"
   },
   {
    "duration": 8,
    "start_time": "2024-04-14T06:33:28.447Z"
   },
   {
    "duration": 8,
    "start_time": "2024-04-14T06:33:28.863Z"
   },
   {
    "duration": 10,
    "start_time": "2024-04-14T06:33:29.164Z"
   },
   {
    "duration": 5,
    "start_time": "2024-04-14T06:33:29.427Z"
   },
   {
    "duration": 5,
    "start_time": "2024-04-14T06:33:29.705Z"
   },
   {
    "duration": 9,
    "start_time": "2024-04-14T06:33:29.997Z"
   },
   {
    "duration": 49,
    "start_time": "2024-04-14T06:33:31.121Z"
   },
   {
    "duration": 44,
    "start_time": "2024-04-14T06:33:33.332Z"
   },
   {
    "duration": 155,
    "start_time": "2024-04-14T06:33:34.300Z"
   },
   {
    "duration": 16,
    "start_time": "2024-04-14T06:33:35.422Z"
   },
   {
    "duration": 27,
    "start_time": "2024-04-14T06:33:37.375Z"
   },
   {
    "duration": 5,
    "start_time": "2024-04-14T06:33:44.124Z"
   },
   {
    "duration": 39,
    "start_time": "2024-04-14T06:33:45.440Z"
   },
   {
    "duration": 198,
    "start_time": "2024-04-14T06:33:53.579Z"
   },
   {
    "duration": 268,
    "start_time": "2024-04-14T06:34:21.776Z"
   },
   {
    "duration": 5,
    "start_time": "2024-04-14T06:34:26.922Z"
   },
   {
    "duration": 168,
    "start_time": "2024-04-14T06:34:33.799Z"
   },
   {
    "duration": 18,
    "start_time": "2024-04-14T06:35:03.204Z"
   },
   {
    "duration": 17,
    "start_time": "2024-04-14T06:36:47.331Z"
   },
   {
    "duration": 1186,
    "start_time": "2024-04-14T06:37:08.941Z"
   },
   {
    "duration": 17,
    "start_time": "2024-04-14T06:38:39.214Z"
   },
   {
    "duration": 1388,
    "start_time": "2024-04-14T06:39:42.641Z"
   },
   {
    "duration": 4,
    "start_time": "2024-04-14T07:01:49.270Z"
   },
   {
    "duration": 36,
    "start_time": "2024-04-14T07:01:59.545Z"
   },
   {
    "duration": 78,
    "start_time": "2024-04-14T07:05:20.686Z"
   },
   {
    "duration": 337,
    "start_time": "2024-04-14T07:06:42.503Z"
   },
   {
    "duration": 3,
    "start_time": "2024-04-14T07:38:13.084Z"
   },
   {
    "duration": 133,
    "start_time": "2024-04-14T07:38:13.530Z"
   },
   {
    "duration": 3,
    "start_time": "2024-04-14T07:38:16.369Z"
   },
   {
    "duration": 138,
    "start_time": "2024-04-14T07:38:16.991Z"
   },
   {
    "duration": 24,
    "start_time": "2024-04-14T07:38:17.547Z"
   },
   {
    "duration": 11,
    "start_time": "2024-04-14T07:38:21.862Z"
   },
   {
    "duration": 6,
    "start_time": "2024-04-14T07:38:23.471Z"
   },
   {
    "duration": 38,
    "start_time": "2024-04-14T07:38:24.152Z"
   },
   {
    "duration": 20,
    "start_time": "2024-04-14T07:38:26.153Z"
   },
   {
    "duration": 13,
    "start_time": "2024-04-14T07:38:26.937Z"
   },
   {
    "duration": 6,
    "start_time": "2024-04-14T07:38:27.414Z"
   },
   {
    "duration": 1904,
    "start_time": "2024-04-14T07:38:27.902Z"
   },
   {
    "duration": 6,
    "start_time": "2024-04-14T07:38:29.808Z"
   },
   {
    "duration": 1779,
    "start_time": "2024-04-14T07:38:29.816Z"
   },
   {
    "duration": 16,
    "start_time": "2024-04-14T07:38:31.597Z"
   },
   {
    "duration": 62,
    "start_time": "2024-04-14T07:38:31.615Z"
   },
   {
    "duration": 104,
    "start_time": "2024-04-14T07:38:31.679Z"
   },
   {
    "duration": 9,
    "start_time": "2024-04-14T07:38:32.044Z"
   },
   {
    "duration": 4,
    "start_time": "2024-04-14T07:38:32.806Z"
   },
   {
    "duration": 8,
    "start_time": "2024-04-14T07:38:33.075Z"
   },
   {
    "duration": 8,
    "start_time": "2024-04-14T07:38:33.311Z"
   },
   {
    "duration": 11,
    "start_time": "2024-04-14T07:38:33.553Z"
   },
   {
    "duration": 4,
    "start_time": "2024-04-14T07:38:33.801Z"
   },
   {
    "duration": 5,
    "start_time": "2024-04-14T07:38:34.034Z"
   },
   {
    "duration": 9,
    "start_time": "2024-04-14T07:38:34.290Z"
   },
   {
    "duration": 49,
    "start_time": "2024-04-14T07:38:35.088Z"
   },
   {
    "duration": 26,
    "start_time": "2024-04-14T07:38:36.667Z"
   },
   {
    "duration": 190,
    "start_time": "2024-04-14T07:38:37.471Z"
   },
   {
    "duration": 18,
    "start_time": "2024-04-14T07:38:38.494Z"
   },
   {
    "duration": 29,
    "start_time": "2024-04-14T07:38:39.784Z"
   },
   {
    "duration": 4,
    "start_time": "2024-04-14T07:38:43.506Z"
   },
   {
    "duration": 41,
    "start_time": "2024-04-14T07:38:44.030Z"
   },
   {
    "duration": 213,
    "start_time": "2024-04-14T07:38:45.423Z"
   },
   {
    "duration": 249,
    "start_time": "2024-04-14T07:38:47.915Z"
   },
   {
    "duration": 5,
    "start_time": "2024-04-14T07:38:50.979Z"
   },
   {
    "duration": 163,
    "start_time": "2024-04-14T07:38:51.693Z"
   },
   {
    "duration": 19,
    "start_time": "2024-04-14T07:38:53.662Z"
   },
   {
    "duration": 169,
    "start_time": "2024-04-14T07:38:54.727Z"
   },
   {
    "duration": 21,
    "start_time": "2024-04-14T07:38:57.042Z"
   },
   {
    "duration": 1268,
    "start_time": "2024-04-14T07:38:59.380Z"
   },
   {
    "duration": 26,
    "start_time": "2024-04-14T07:39:09.515Z"
   },
   {
    "duration": 1444,
    "start_time": "2024-04-14T07:39:12.116Z"
   },
   {
    "duration": 5,
    "start_time": "2024-04-14T07:39:21.145Z"
   },
   {
    "duration": 4,
    "start_time": "2024-04-14T07:40:53.680Z"
   },
   {
    "duration": 80,
    "start_time": "2024-04-14T07:41:22.130Z"
   },
   {
    "duration": 37,
    "start_time": "2024-04-14T07:41:23.350Z"
   },
   {
    "duration": 341,
    "start_time": "2024-04-14T07:43:07.109Z"
   },
   {
    "duration": 231,
    "start_time": "2024-04-14T07:47:59.034Z"
   },
   {
    "duration": 274,
    "start_time": "2024-04-14T07:48:10.600Z"
   },
   {
    "duration": 79,
    "start_time": "2024-04-14T07:49:15.289Z"
   },
   {
    "duration": 82,
    "start_time": "2024-04-14T07:54:56.261Z"
   },
   {
    "duration": 299,
    "start_time": "2024-04-14T07:55:07.577Z"
   },
   {
    "duration": 107,
    "start_time": "2024-04-14T08:02:19.122Z"
   },
   {
    "duration": 3,
    "start_time": "2024-04-14T08:04:34.648Z"
   },
   {
    "duration": 267,
    "start_time": "2024-04-14T08:04:36.718Z"
   },
   {
    "duration": 266,
    "start_time": "2024-04-14T08:07:56.911Z"
   },
   {
    "duration": 26,
    "start_time": "2024-04-14T08:08:48.149Z"
   },
   {
    "duration": 24,
    "start_time": "2024-04-14T08:12:55.951Z"
   },
   {
    "duration": 233,
    "start_time": "2024-04-14T08:13:22.626Z"
   },
   {
    "duration": 235,
    "start_time": "2024-04-14T08:29:55.424Z"
   },
   {
    "duration": 22,
    "start_time": "2024-04-14T08:32:37.052Z"
   },
   {
    "duration": 253,
    "start_time": "2024-04-14T08:34:13.245Z"
   },
   {
    "duration": 5,
    "start_time": "2024-04-14T08:41:16.530Z"
   },
   {
    "duration": 138,
    "start_time": "2024-04-14T08:41:41.435Z"
   },
   {
    "duration": 140,
    "start_time": "2024-04-14T08:45:23.784Z"
   },
   {
    "duration": 5,
    "start_time": "2024-04-14T08:49:34.444Z"
   },
   {
    "duration": 220,
    "start_time": "2024-04-14T08:50:08.206Z"
   },
   {
    "duration": 256,
    "start_time": "2024-04-14T08:55:44.989Z"
   },
   {
    "duration": 86,
    "start_time": "2024-04-14T08:57:55.819Z"
   },
   {
    "duration": 261,
    "start_time": "2024-04-14T08:58:03.044Z"
   },
   {
    "duration": 241,
    "start_time": "2024-04-14T08:59:58.597Z"
   },
   {
    "duration": 261,
    "start_time": "2024-04-14T09:00:09.353Z"
   },
   {
    "duration": 236,
    "start_time": "2024-04-14T09:00:32.350Z"
   },
   {
    "duration": 240,
    "start_time": "2024-04-14T09:01:25.442Z"
   },
   {
    "duration": 25,
    "start_time": "2024-04-14T09:05:21.717Z"
   },
   {
    "duration": 8,
    "start_time": "2024-04-14T09:10:45.976Z"
   },
   {
    "duration": 18,
    "start_time": "2024-04-14T09:13:10.786Z"
   },
   {
    "duration": 19,
    "start_time": "2024-04-14T09:13:15.707Z"
   },
   {
    "duration": 22,
    "start_time": "2024-04-14T09:13:50.967Z"
   },
   {
    "duration": 259,
    "start_time": "2024-04-14T09:16:03.070Z"
   },
   {
    "duration": 249,
    "start_time": "2024-04-14T09:18:09.450Z"
   },
   {
    "duration": 92,
    "start_time": "2024-04-14T09:19:22.521Z"
   },
   {
    "duration": 290,
    "start_time": "2024-04-14T09:19:33.641Z"
   },
   {
    "duration": 273,
    "start_time": "2024-04-14T09:20:44.506Z"
   },
   {
    "duration": 340,
    "start_time": "2024-04-14T09:26:53.753Z"
   },
   {
    "duration": 79,
    "start_time": "2024-04-14T10:16:15.810Z"
   },
   {
    "duration": 1220,
    "start_time": "2024-04-14T10:16:21.676Z"
   },
   {
    "duration": 646,
    "start_time": "2024-04-14T10:17:55.016Z"
   },
   {
    "duration": 576,
    "start_time": "2024-04-14T10:19:52.474Z"
   },
   {
    "duration": 239,
    "start_time": "2024-04-14T10:26:42.174Z"
   },
   {
    "duration": 204,
    "start_time": "2024-04-14T10:27:23.821Z"
   },
   {
    "duration": 221,
    "start_time": "2024-04-14T10:28:35.002Z"
   },
   {
    "duration": 194,
    "start_time": "2024-04-14T10:29:45.558Z"
   },
   {
    "duration": 197,
    "start_time": "2024-04-14T10:34:29.248Z"
   },
   {
    "duration": 288,
    "start_time": "2024-04-14T10:34:45.287Z"
   },
   {
    "duration": 211,
    "start_time": "2024-04-14T10:35:15.929Z"
   },
   {
    "duration": 220,
    "start_time": "2024-04-14T10:35:22.264Z"
   },
   {
    "duration": 195,
    "start_time": "2024-04-14T10:35:38.042Z"
   },
   {
    "duration": 166,
    "start_time": "2024-04-14T10:35:53.720Z"
   },
   {
    "duration": 196,
    "start_time": "2024-04-14T10:36:22.614Z"
   },
   {
    "duration": 215,
    "start_time": "2024-04-14T10:39:00.098Z"
   },
   {
    "duration": 191,
    "start_time": "2024-04-14T10:39:48.497Z"
   },
   {
    "duration": 206,
    "start_time": "2024-04-14T10:39:57.531Z"
   },
   {
    "duration": 190,
    "start_time": "2024-04-14T10:40:05.446Z"
   },
   {
    "duration": 254,
    "start_time": "2024-04-14T10:40:11.673Z"
   },
   {
    "duration": 284,
    "start_time": "2024-04-14T10:43:27.084Z"
   },
   {
    "duration": 210,
    "start_time": "2024-04-14T10:43:39.022Z"
   },
   {
    "duration": 213,
    "start_time": "2024-04-14T10:45:23.183Z"
   },
   {
    "duration": 408,
    "start_time": "2024-04-14T10:46:19.614Z"
   },
   {
    "duration": 334,
    "start_time": "2024-04-14T10:47:38.453Z"
   },
   {
    "duration": 336,
    "start_time": "2024-04-14T10:47:51.698Z"
   },
   {
    "duration": 366,
    "start_time": "2024-04-14T10:48:02.407Z"
   },
   {
    "duration": 409,
    "start_time": "2024-04-14T10:48:11.325Z"
   },
   {
    "duration": 334,
    "start_time": "2024-04-14T10:48:19.176Z"
   },
   {
    "duration": 331,
    "start_time": "2024-04-14T10:48:28.774Z"
   },
   {
    "duration": 325,
    "start_time": "2024-04-14T10:48:39.605Z"
   },
   {
    "duration": 325,
    "start_time": "2024-04-14T10:48:51.225Z"
   },
   {
    "duration": 474,
    "start_time": "2024-04-14T10:49:51.101Z"
   },
   {
    "duration": 407,
    "start_time": "2024-04-14T10:50:48.088Z"
   },
   {
    "duration": 504,
    "start_time": "2024-04-14T10:51:03.105Z"
   },
   {
    "duration": 548,
    "start_time": "2024-04-14T10:51:14.335Z"
   },
   {
    "duration": 364,
    "start_time": "2024-04-14T10:52:02.747Z"
   },
   {
    "duration": 421,
    "start_time": "2024-04-14T10:52:16.304Z"
   },
   {
    "duration": 333,
    "start_time": "2024-04-14T10:53:29.171Z"
   },
   {
    "duration": 347,
    "start_time": "2024-04-14T10:54:00.952Z"
   },
   {
    "duration": 332,
    "start_time": "2024-04-14T10:54:18.936Z"
   },
   {
    "duration": 497,
    "start_time": "2024-04-14T10:54:59.062Z"
   },
   {
    "duration": 516,
    "start_time": "2024-04-14T10:55:39.647Z"
   },
   {
    "duration": 443,
    "start_time": "2024-04-14T10:56:04.728Z"
   },
   {
    "duration": 707,
    "start_time": "2024-04-14T10:57:33.019Z"
   },
   {
    "duration": 761,
    "start_time": "2024-04-14T10:59:47.184Z"
   },
   {
    "duration": 787,
    "start_time": "2024-04-14T11:04:45.567Z"
   },
   {
    "duration": 772,
    "start_time": "2024-04-14T11:13:39.188Z"
   },
   {
    "duration": 806,
    "start_time": "2024-04-14T11:17:00.033Z"
   },
   {
    "duration": 856,
    "start_time": "2024-04-14T11:17:19.943Z"
   },
   {
    "duration": 1306,
    "start_time": "2024-04-14T11:17:29.962Z"
   },
   {
    "duration": 1294,
    "start_time": "2024-04-14T11:17:45.182Z"
   },
   {
    "duration": 1499,
    "start_time": "2024-04-14T11:18:32.847Z"
   },
   {
    "duration": 1719,
    "start_time": "2024-04-14T11:20:30.891Z"
   },
   {
    "duration": 1616,
    "start_time": "2024-04-14T11:20:59.579Z"
   },
   {
    "duration": 1847,
    "start_time": "2024-04-14T11:21:10.692Z"
   },
   {
    "duration": 1284,
    "start_time": "2024-04-14T11:22:00.482Z"
   },
   {
    "duration": 1454,
    "start_time": "2024-04-14T11:22:18.353Z"
   },
   {
    "duration": 1314,
    "start_time": "2024-04-14T11:22:40.739Z"
   },
   {
    "duration": 1762,
    "start_time": "2024-04-14T11:23:11.753Z"
   },
   {
    "duration": 386,
    "start_time": "2024-04-14T11:24:34.300Z"
   },
   {
    "duration": 240,
    "start_time": "2024-04-14T11:24:41.874Z"
   },
   {
    "duration": 259,
    "start_time": "2024-04-14T11:25:06.193Z"
   },
   {
    "duration": 211,
    "start_time": "2024-04-14T11:25:26.636Z"
   },
   {
    "duration": 170,
    "start_time": "2024-04-14T11:25:43.906Z"
   },
   {
    "duration": 155,
    "start_time": "2024-04-14T11:25:51.070Z"
   },
   {
    "duration": 239,
    "start_time": "2024-04-14T11:25:57.614Z"
   },
   {
    "duration": 243,
    "start_time": "2024-04-14T11:26:35.123Z"
   },
   {
    "duration": 856,
    "start_time": "2024-04-15T10:39:29.650Z"
   },
   {
    "duration": 267,
    "start_time": "2024-04-15T10:39:30.509Z"
   },
   {
    "duration": 2,
    "start_time": "2024-04-15T10:39:32.599Z"
   },
   {
    "duration": 134,
    "start_time": "2024-04-15T10:39:33.105Z"
   },
   {
    "duration": 17,
    "start_time": "2024-04-15T10:39:33.814Z"
   },
   {
    "duration": 10,
    "start_time": "2024-04-15T10:39:35.703Z"
   },
   {
    "duration": 6,
    "start_time": "2024-04-15T10:39:37.246Z"
   },
   {
    "duration": 30,
    "start_time": "2024-04-15T10:39:37.893Z"
   },
   {
    "duration": 16,
    "start_time": "2024-04-15T10:39:44.036Z"
   },
   {
    "duration": 12,
    "start_time": "2024-04-15T10:39:48.488Z"
   },
   {
    "duration": 4,
    "start_time": "2024-04-15T10:39:49.509Z"
   },
   {
    "duration": 1716,
    "start_time": "2024-04-15T10:39:52.810Z"
   },
   {
    "duration": 5,
    "start_time": "2024-04-15T10:39:55.407Z"
   },
   {
    "duration": 1642,
    "start_time": "2024-04-15T10:39:57.619Z"
   },
   {
    "duration": 15,
    "start_time": "2024-04-15T10:39:59.364Z"
   },
   {
    "duration": 13,
    "start_time": "2024-04-15T10:40:27.810Z"
   },
   {
    "duration": 16,
    "start_time": "2024-04-15T10:40:34.264Z"
   },
   {
    "duration": 7,
    "start_time": "2024-04-15T10:40:44.658Z"
   },
   {
    "duration": 5,
    "start_time": "2024-04-15T10:40:50.942Z"
   },
   {
    "duration": 7,
    "start_time": "2024-04-15T10:40:51.654Z"
   },
   {
    "duration": 10,
    "start_time": "2024-04-15T10:40:53.700Z"
   },
   {
    "duration": 10,
    "start_time": "2024-04-15T10:40:54.207Z"
   },
   {
    "duration": 5,
    "start_time": "2024-04-15T10:40:54.740Z"
   },
   {
    "duration": 4,
    "start_time": "2024-04-15T10:40:58.914Z"
   },
   {
    "duration": 8,
    "start_time": "2024-04-15T10:41:04.502Z"
   },
   {
    "duration": 47,
    "start_time": "2024-04-15T10:41:18.397Z"
   },
   {
    "duration": 26,
    "start_time": "2024-04-15T10:41:33.630Z"
   },
   {
    "duration": 147,
    "start_time": "2024-04-15T10:41:50.381Z"
   },
   {
    "duration": 17,
    "start_time": "2024-04-15T10:42:12.767Z"
   },
   {
    "duration": 30,
    "start_time": "2024-04-15T10:42:22.851Z"
   },
   {
    "duration": 4,
    "start_time": "2024-04-15T10:42:45.712Z"
   },
   {
    "duration": 38,
    "start_time": "2024-04-15T10:42:47.886Z"
   },
   {
    "duration": 208,
    "start_time": "2024-04-15T10:42:55.454Z"
   },
   {
    "duration": 240,
    "start_time": "2024-04-15T10:43:16.585Z"
   },
   {
    "duration": 4,
    "start_time": "2024-04-15T10:43:25.748Z"
   },
   {
    "duration": 156,
    "start_time": "2024-04-15T10:43:35.971Z"
   },
   {
    "duration": 25,
    "start_time": "2024-04-15T10:43:47.062Z"
   },
   {
    "duration": 223,
    "start_time": "2024-04-15T10:43:52.407Z"
   },
   {
    "duration": 17,
    "start_time": "2024-04-15T10:44:04.272Z"
   },
   {
    "duration": 1346,
    "start_time": "2024-04-15T10:44:32.304Z"
   },
   {
    "duration": 18,
    "start_time": "2024-04-15T10:45:05.859Z"
   },
   {
    "duration": 1714,
    "start_time": "2024-04-15T10:45:36.211Z"
   },
   {
    "duration": 4,
    "start_time": "2024-04-15T10:46:04.125Z"
   },
   {
    "duration": 45,
    "start_time": "2024-04-15T10:46:06.059Z"
   },
   {
    "duration": 263,
    "start_time": "2024-04-15T10:46:22.591Z"
   },
   {
    "duration": 23,
    "start_time": "2024-04-15T10:47:26.722Z"
   },
   {
    "duration": 290,
    "start_time": "2024-04-15T10:47:36.373Z"
   },
   {
    "duration": 223,
    "start_time": "2024-04-15T10:48:09.301Z"
   },
   {
    "duration": 5,
    "start_time": "2024-04-15T10:48:44.492Z"
   },
   {
    "duration": 148,
    "start_time": "2024-04-15T10:48:45.717Z"
   },
   {
    "duration": 24,
    "start_time": "2024-04-15T10:49:04.062Z"
   },
   {
    "duration": 6,
    "start_time": "2024-04-15T10:51:30.750Z"
   },
   {
    "duration": 128,
    "start_time": "2024-04-15T10:51:33.281Z"
   },
   {
    "duration": 22,
    "start_time": "2024-04-15T10:53:08.816Z"
   },
   {
    "duration": 23,
    "start_time": "2024-04-15T10:53:47.372Z"
   },
   {
    "duration": 22,
    "start_time": "2024-04-15T10:53:57.262Z"
   },
   {
    "duration": 24,
    "start_time": "2024-04-15T10:54:03.898Z"
   },
   {
    "duration": 22,
    "start_time": "2024-04-15T10:54:18.437Z"
   },
   {
    "duration": 31,
    "start_time": "2024-04-15T10:57:57.125Z"
   },
   {
    "duration": 9,
    "start_time": "2024-04-15T10:58:28.387Z"
   },
   {
    "duration": 23,
    "start_time": "2024-04-15T10:58:33.367Z"
   },
   {
    "duration": 750,
    "start_time": "2024-04-15T10:58:41.037Z"
   },
   {
    "duration": 95,
    "start_time": "2024-04-15T13:37:15.501Z"
   },
   {
    "duration": 51,
    "start_time": "2024-04-15T15:11:08.099Z"
   },
   {
    "duration": 795,
    "start_time": "2024-04-15T15:11:14.280Z"
   },
   {
    "duration": 376,
    "start_time": "2024-04-15T15:11:15.077Z"
   },
   {
    "duration": 17,
    "start_time": "2024-04-15T15:11:17.272Z"
   },
   {
    "duration": 9,
    "start_time": "2024-04-15T15:11:19.881Z"
   },
   {
    "duration": 5,
    "start_time": "2024-04-15T15:11:26.530Z"
   },
   {
    "duration": 28,
    "start_time": "2024-04-15T15:11:27.124Z"
   },
   {
    "duration": 15,
    "start_time": "2024-04-15T15:11:31.741Z"
   },
   {
    "duration": 14,
    "start_time": "2024-04-15T15:14:31.383Z"
   },
   {
    "duration": 13,
    "start_time": "2024-04-15T15:15:29.110Z"
   },
   {
    "duration": 14,
    "start_time": "2024-04-15T15:15:35.666Z"
   },
   {
    "duration": 12,
    "start_time": "2024-04-15T15:15:39.003Z"
   },
   {
    "duration": 5,
    "start_time": "2024-04-15T15:15:41.047Z"
   },
   {
    "duration": 1653,
    "start_time": "2024-04-15T15:15:44.663Z"
   },
   {
    "duration": 4,
    "start_time": "2024-04-15T15:15:47.978Z"
   },
   {
    "duration": 1551,
    "start_time": "2024-04-15T15:15:48.809Z"
   },
   {
    "duration": 14,
    "start_time": "2024-04-15T15:15:51.522Z"
   },
   {
    "duration": 12,
    "start_time": "2024-04-15T15:45:42.673Z"
   },
   {
    "duration": 15,
    "start_time": "2024-04-15T15:45:46.602Z"
   },
   {
    "duration": 9,
    "start_time": "2024-04-15T15:47:32.914Z"
   },
   {
    "duration": 14,
    "start_time": "2024-04-15T15:47:34.867Z"
   },
   {
    "duration": 37,
    "start_time": "2024-04-15T15:52:27.046Z"
   },
   {
    "duration": 79,
    "start_time": "2024-04-15T15:52:47.858Z"
   },
   {
    "duration": 2,
    "start_time": "2024-04-15T15:54:18.018Z"
   },
   {
    "duration": 10,
    "start_time": "2024-04-15T15:57:46.925Z"
   },
   {
    "duration": 15,
    "start_time": "2024-04-15T15:57:52.007Z"
   },
   {
    "duration": 8,
    "start_time": "2024-04-15T15:58:00.628Z"
   },
   {
    "duration": 6,
    "start_time": "2024-04-15T15:58:05.002Z"
   },
   {
    "duration": 7,
    "start_time": "2024-04-15T15:58:05.529Z"
   },
   {
    "duration": 8,
    "start_time": "2024-04-15T15:58:06.370Z"
   },
   {
    "duration": 10,
    "start_time": "2024-04-15T15:58:06.984Z"
   },
   {
    "duration": 6,
    "start_time": "2024-04-15T15:58:08.557Z"
   },
   {
    "duration": 5,
    "start_time": "2024-04-15T15:58:09.172Z"
   },
   {
    "duration": 8,
    "start_time": "2024-04-15T15:58:10.347Z"
   },
   {
    "duration": 47,
    "start_time": "2024-04-15T15:58:14.999Z"
   },
   {
    "duration": 25,
    "start_time": "2024-04-15T15:58:32.205Z"
   },
   {
    "duration": 135,
    "start_time": "2024-04-15T15:58:40.491Z"
   },
   {
    "duration": 14,
    "start_time": "2024-04-15T15:58:44.290Z"
   },
   {
    "duration": 23,
    "start_time": "2024-04-15T15:58:48.238Z"
   },
   {
    "duration": 4,
    "start_time": "2024-04-15T15:59:15.271Z"
   },
   {
    "duration": 35,
    "start_time": "2024-04-15T15:59:16.320Z"
   },
   {
    "duration": 161,
    "start_time": "2024-04-15T15:59:20.818Z"
   },
   {
    "duration": 20,
    "start_time": "2024-04-15T16:03:19.452Z"
   },
   {
    "duration": 26,
    "start_time": "2024-04-15T16:03:22.036Z"
   },
   {
    "duration": 4,
    "start_time": "2024-04-15T16:03:28.001Z"
   },
   {
    "duration": 34,
    "start_time": "2024-04-15T16:03:29.228Z"
   },
   {
    "duration": 173,
    "start_time": "2024-04-15T16:03:32.147Z"
   },
   {
    "duration": 262,
    "start_time": "2024-04-15T16:03:51.926Z"
   },
   {
    "duration": 4,
    "start_time": "2024-04-15T16:03:55.557Z"
   },
   {
    "duration": 154,
    "start_time": "2024-04-15T16:03:57.376Z"
   },
   {
    "duration": 15,
    "start_time": "2024-04-15T16:04:03.006Z"
   },
   {
    "duration": 141,
    "start_time": "2024-04-15T16:04:09.109Z"
   },
   {
    "duration": 16,
    "start_time": "2024-04-15T16:04:15.247Z"
   },
   {
    "duration": 177,
    "start_time": "2024-04-15T16:05:53.918Z"
   },
   {
    "duration": 4,
    "start_time": "2024-04-15T16:09:20.159Z"
   },
   {
    "duration": 193,
    "start_time": "2024-04-15T16:09:28.684Z"
   },
   {
    "duration": 184,
    "start_time": "2024-04-15T16:09:47.571Z"
   },
   {
    "duration": 190,
    "start_time": "2024-04-15T16:09:52.981Z"
   },
   {
    "duration": 178,
    "start_time": "2024-04-15T16:09:58.107Z"
   },
   {
    "duration": 206,
    "start_time": "2024-04-15T16:10:05.407Z"
   },
   {
    "duration": 210,
    "start_time": "2024-04-15T16:10:11.086Z"
   },
   {
    "duration": 191,
    "start_time": "2024-04-15T16:10:34.104Z"
   },
   {
    "duration": 259,
    "start_time": "2024-04-15T16:10:52.191Z"
   },
   {
    "duration": 1240,
    "start_time": "2024-04-15T16:11:18.874Z"
   },
   {
    "duration": 18,
    "start_time": "2024-04-15T16:11:38.246Z"
   },
   {
    "duration": 1531,
    "start_time": "2024-04-15T16:11:40.864Z"
   },
   {
    "duration": 4,
    "start_time": "2024-04-15T16:12:00.341Z"
   },
   {
    "duration": 32,
    "start_time": "2024-04-15T16:12:02.174Z"
   },
   {
    "duration": 224,
    "start_time": "2024-04-15T16:12:07.774Z"
   },
   {
    "duration": 252,
    "start_time": "2024-04-15T16:12:14.540Z"
   },
   {
    "duration": 194,
    "start_time": "2024-04-15T16:12:19.819Z"
   },
   {
    "duration": 5,
    "start_time": "2024-04-15T16:12:30.819Z"
   },
   {
    "duration": 133,
    "start_time": "2024-04-15T16:13:39.764Z"
   },
   {
    "duration": 29,
    "start_time": "2024-04-15T16:13:52.830Z"
   },
   {
    "duration": 137,
    "start_time": "2024-04-15T16:14:01.466Z"
   },
   {
    "duration": 23,
    "start_time": "2024-04-15T16:14:03.061Z"
   },
   {
    "duration": 4,
    "start_time": "2024-04-15T16:14:06.527Z"
   },
   {
    "duration": 132,
    "start_time": "2024-04-15T16:14:19.455Z"
   },
   {
    "duration": 21,
    "start_time": "2024-04-15T16:15:30.471Z"
   },
   {
    "duration": 8,
    "start_time": "2024-04-15T16:15:33.288Z"
   },
   {
    "duration": 19,
    "start_time": "2024-04-15T16:15:38.147Z"
   },
   {
    "duration": 660,
    "start_time": "2024-04-15T16:15:43.332Z"
   },
   {
    "duration": 248,
    "start_time": "2024-04-15T16:18:45.141Z"
   },
   {
    "duration": 1111,
    "start_time": "2024-04-15T16:19:01.129Z"
   },
   {
    "duration": 377,
    "start_time": "2024-04-15T16:20:17.864Z"
   },
   {
    "duration": 393,
    "start_time": "2024-04-15T16:21:23.069Z"
   },
   {
    "duration": 394,
    "start_time": "2024-04-15T16:21:54.101Z"
   },
   {
    "duration": 451,
    "start_time": "2024-04-15T16:22:54.296Z"
   },
   {
    "duration": 89,
    "start_time": "2024-04-15T16:23:30.147Z"
   },
   {
    "duration": 247,
    "start_time": "2024-04-15T16:23:42.355Z"
   },
   {
    "duration": 925,
    "start_time": "2024-04-15T16:24:08.072Z"
   },
   {
    "duration": 385,
    "start_time": "2024-04-15T16:31:40.613Z"
   },
   {
    "duration": 396,
    "start_time": "2024-04-15T16:32:05.346Z"
   },
   {
    "duration": 915,
    "start_time": "2024-04-15T16:32:32.938Z"
   },
   {
    "duration": 999,
    "start_time": "2024-04-15T16:33:10.301Z"
   },
   {
    "duration": 929,
    "start_time": "2024-04-15T16:34:34.062Z"
   },
   {
    "duration": 923,
    "start_time": "2024-04-15T16:34:49.867Z"
   }
  ],
  "colab": {
   "name": "DA+. Сборный проект 1. Шаблон (1).ipynb",
   "provenance": []
  },
  "kernelspec": {
   "display_name": "Python 3 (ipykernel)",
   "language": "python",
   "name": "python3"
  },
  "language_info": {
   "codemirror_mode": {
    "name": "ipython",
    "version": 3
   },
   "file_extension": ".py",
   "mimetype": "text/x-python",
   "name": "python",
   "nbconvert_exporter": "python",
   "pygments_lexer": "ipython3",
   "version": "3.11.7"
  },
  "toc": {
   "base_numbering": 1,
   "nav_menu": {
    "height": "535px",
    "width": "324px"
   },
   "number_sections": true,
   "sideBar": true,
   "skip_h1_title": true,
   "title_cell": "Оглавление",
   "title_sidebar": "Contents",
   "toc_cell": true,
   "toc_position": {
    "height": "calc(100% - 180px)",
    "left": "10px",
    "top": "150px",
    "width": "165px"
   },
   "toc_section_display": true,
   "toc_window_display": false
  }
 },
 "nbformat": 4,
 "nbformat_minor": 4
}
